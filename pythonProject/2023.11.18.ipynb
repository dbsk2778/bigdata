{
 "cells": [
  {
   "cell_type": "code",
   "execution_count": 43,
   "metadata": {
    "collapsed": true,
    "ExecuteTime": {
     "end_time": "2023-11-18T02:42:08.072047Z",
     "start_time": "2023-11-18T02:42:08.027014Z"
    }
   },
   "outputs": [],
   "source": [
    "# 제 1유형 - mtcars dataset의 qsec 컬럼을 최소최대 척도 (Min-Max Scale)로 변환한 후 0.5보다 큰 값을 가지는 레코드 수를 구하시오."
   ]
  },
  {
   "cell_type": "code",
   "execution_count": 1,
   "outputs": [
    {
     "data": {
      "text/plain": "               model   mpg  cyl   disp   hp  drat     wt   qsec  vs  am  gear  \\\n0          Mazda RX4  21.0    6  160.0  110  3.90  2.620  16.46   0   1     4   \n1      Mazda RX4 Wag  21.0    6  160.0  110  3.90  2.875  17.02   0   1     4   \n2         Datsun 710  22.8    4  108.0   93  3.85  2.320  18.61   1   1     4   \n3     Hornet 4 Drive  21.4    6  258.0  110  3.08  3.215  19.44   1   0     3   \n4  Hornet Sportabout  18.7    8  360.0  175  3.15  3.440  17.02   0   0     3   \n\n   carb  \n0     4  \n1     4  \n2     1  \n3     1  \n4     2  ",
      "text/html": "<div>\n<style scoped>\n    .dataframe tbody tr th:only-of-type {\n        vertical-align: middle;\n    }\n\n    .dataframe tbody tr th {\n        vertical-align: top;\n    }\n\n    .dataframe thead th {\n        text-align: right;\n    }\n</style>\n<table border=\"1\" class=\"dataframe\">\n  <thead>\n    <tr style=\"text-align: right;\">\n      <th></th>\n      <th>model</th>\n      <th>mpg</th>\n      <th>cyl</th>\n      <th>disp</th>\n      <th>hp</th>\n      <th>drat</th>\n      <th>wt</th>\n      <th>qsec</th>\n      <th>vs</th>\n      <th>am</th>\n      <th>gear</th>\n      <th>carb</th>\n    </tr>\n  </thead>\n  <tbody>\n    <tr>\n      <th>0</th>\n      <td>Mazda RX4</td>\n      <td>21.0</td>\n      <td>6</td>\n      <td>160.0</td>\n      <td>110</td>\n      <td>3.90</td>\n      <td>2.620</td>\n      <td>16.46</td>\n      <td>0</td>\n      <td>1</td>\n      <td>4</td>\n      <td>4</td>\n    </tr>\n    <tr>\n      <th>1</th>\n      <td>Mazda RX4 Wag</td>\n      <td>21.0</td>\n      <td>6</td>\n      <td>160.0</td>\n      <td>110</td>\n      <td>3.90</td>\n      <td>2.875</td>\n      <td>17.02</td>\n      <td>0</td>\n      <td>1</td>\n      <td>4</td>\n      <td>4</td>\n    </tr>\n    <tr>\n      <th>2</th>\n      <td>Datsun 710</td>\n      <td>22.8</td>\n      <td>4</td>\n      <td>108.0</td>\n      <td>93</td>\n      <td>3.85</td>\n      <td>2.320</td>\n      <td>18.61</td>\n      <td>1</td>\n      <td>1</td>\n      <td>4</td>\n      <td>1</td>\n    </tr>\n    <tr>\n      <th>3</th>\n      <td>Hornet 4 Drive</td>\n      <td>21.4</td>\n      <td>6</td>\n      <td>258.0</td>\n      <td>110</td>\n      <td>3.08</td>\n      <td>3.215</td>\n      <td>19.44</td>\n      <td>1</td>\n      <td>0</td>\n      <td>3</td>\n      <td>1</td>\n    </tr>\n    <tr>\n      <th>4</th>\n      <td>Hornet Sportabout</td>\n      <td>18.7</td>\n      <td>8</td>\n      <td>360.0</td>\n      <td>175</td>\n      <td>3.15</td>\n      <td>3.440</td>\n      <td>17.02</td>\n      <td>0</td>\n      <td>0</td>\n      <td>3</td>\n      <td>2</td>\n    </tr>\n  </tbody>\n</table>\n</div>"
     },
     "execution_count": 1,
     "metadata": {},
     "output_type": "execute_result"
    }
   ],
   "source": [
    "import pandas as pd\n",
    "df = pd.read_csv('mtcars.csv')\n",
    "df.head()"
   ],
   "metadata": {
    "collapsed": false,
    "ExecuteTime": {
     "end_time": "2023-11-24T12:50:40.079972Z",
     "start_time": "2023-11-24T12:50:40.069228Z"
    }
   }
  },
  {
   "cell_type": "code",
   "execution_count": 2,
   "outputs": [
    {
     "data": {
      "text/plain": "               model   mpg  cyl   disp   hp  drat     wt      qsec  vs  am  \\\n0          Mazda RX4  21.0    6  160.0  110  3.90  2.620  0.233333   0   1   \n1      Mazda RX4 Wag  21.0    6  160.0  110  3.90  2.875  0.300000   0   1   \n2         Datsun 710  22.8    4  108.0   93  3.85  2.320  0.489286   1   1   \n3     Hornet 4 Drive  21.4    6  258.0  110  3.08  3.215  0.588095   1   0   \n4  Hornet Sportabout  18.7    8  360.0  175  3.15  3.440  0.300000   0   0   \n\n   gear  carb  \n0     4     4  \n1     4     4  \n2     4     1  \n3     3     1  \n4     3     2  ",
      "text/html": "<div>\n<style scoped>\n    .dataframe tbody tr th:only-of-type {\n        vertical-align: middle;\n    }\n\n    .dataframe tbody tr th {\n        vertical-align: top;\n    }\n\n    .dataframe thead th {\n        text-align: right;\n    }\n</style>\n<table border=\"1\" class=\"dataframe\">\n  <thead>\n    <tr style=\"text-align: right;\">\n      <th></th>\n      <th>model</th>\n      <th>mpg</th>\n      <th>cyl</th>\n      <th>disp</th>\n      <th>hp</th>\n      <th>drat</th>\n      <th>wt</th>\n      <th>qsec</th>\n      <th>vs</th>\n      <th>am</th>\n      <th>gear</th>\n      <th>carb</th>\n    </tr>\n  </thead>\n  <tbody>\n    <tr>\n      <th>0</th>\n      <td>Mazda RX4</td>\n      <td>21.0</td>\n      <td>6</td>\n      <td>160.0</td>\n      <td>110</td>\n      <td>3.90</td>\n      <td>2.620</td>\n      <td>0.233333</td>\n      <td>0</td>\n      <td>1</td>\n      <td>4</td>\n      <td>4</td>\n    </tr>\n    <tr>\n      <th>1</th>\n      <td>Mazda RX4 Wag</td>\n      <td>21.0</td>\n      <td>6</td>\n      <td>160.0</td>\n      <td>110</td>\n      <td>3.90</td>\n      <td>2.875</td>\n      <td>0.300000</td>\n      <td>0</td>\n      <td>1</td>\n      <td>4</td>\n      <td>4</td>\n    </tr>\n    <tr>\n      <th>2</th>\n      <td>Datsun 710</td>\n      <td>22.8</td>\n      <td>4</td>\n      <td>108.0</td>\n      <td>93</td>\n      <td>3.85</td>\n      <td>2.320</td>\n      <td>0.489286</td>\n      <td>1</td>\n      <td>1</td>\n      <td>4</td>\n      <td>1</td>\n    </tr>\n    <tr>\n      <th>3</th>\n      <td>Hornet 4 Drive</td>\n      <td>21.4</td>\n      <td>6</td>\n      <td>258.0</td>\n      <td>110</td>\n      <td>3.08</td>\n      <td>3.215</td>\n      <td>0.588095</td>\n      <td>1</td>\n      <td>0</td>\n      <td>3</td>\n      <td>1</td>\n    </tr>\n    <tr>\n      <th>4</th>\n      <td>Hornet Sportabout</td>\n      <td>18.7</td>\n      <td>8</td>\n      <td>360.0</td>\n      <td>175</td>\n      <td>3.15</td>\n      <td>3.440</td>\n      <td>0.300000</td>\n      <td>0</td>\n      <td>0</td>\n      <td>3</td>\n      <td>2</td>\n    </tr>\n  </tbody>\n</table>\n</div>"
     },
     "execution_count": 2,
     "metadata": {},
     "output_type": "execute_result"
    }
   ],
   "source": [
    "from sklearn.preprocessing import MinMaxScaler\n",
    "xscaler = MinMaxScaler()\n",
    "\n",
    "df['qsec'] = xscaler.fit_transform(df[['qsec']])\n",
    "df.head()"
   ],
   "metadata": {
    "collapsed": false,
    "ExecuteTime": {
     "end_time": "2023-11-24T12:50:41.540722Z",
     "start_time": "2023-11-24T12:50:41.495093Z"
    }
   }
  },
  {
   "cell_type": "code",
   "execution_count": 46,
   "outputs": [
    {
     "data": {
      "text/plain": "9"
     },
     "execution_count": 46,
     "metadata": {},
     "output_type": "execute_result"
    }
   ],
   "source": [
    "len(df[(df['qsec'] > 0.5)])"
   ],
   "metadata": {
    "collapsed": false,
    "ExecuteTime": {
     "end_time": "2023-11-18T02:42:08.100500Z",
     "start_time": "2023-11-18T02:42:08.048100Z"
    }
   }
  },
  {
   "cell_type": "code",
   "execution_count": 47,
   "outputs": [
    {
     "name": "stdout",
     "output_type": "stream",
     "text": [
      "9\n"
     ]
    }
   ],
   "source": [
    "# 정수 데이터 출력\n",
    "print(round(len(df[(df['qsec'] > 0.5)])))"
   ],
   "metadata": {
    "collapsed": false,
    "ExecuteTime": {
     "end_time": "2023-11-18T02:42:08.101045Z",
     "start_time": "2023-11-18T02:42:08.052708Z"
    }
   }
  },
  {
   "cell_type": "code",
   "execution_count": 48,
   "outputs": [],
   "source": [
    "# 제 1유형 문제 풀이 - 데이터 다루기 유형"
   ],
   "metadata": {
    "collapsed": false,
    "ExecuteTime": {
     "end_time": "2023-11-18T02:42:08.101116Z",
     "start_time": "2023-11-18T02:42:08.055389Z"
    }
   }
  },
  {
   "cell_type": "code",
   "execution_count": 58,
   "outputs": [
    {
     "name": "stdout",
     "output_type": "stream",
     "text": [
      "               model   mpg  cyl   disp   hp  drat     wt   qsec  vs  am  gear  \\\n",
      "0          Mazda RX4  21.0    6  160.0  110  3.90  2.620  16.46   0   1     4   \n",
      "1      Mazda RX4 Wag  21.0    6  160.0  110  3.90  2.875  17.02   0   1     4   \n",
      "2         Datsun 710  22.8    4  108.0   93  3.85  2.320  18.61   1   1     4   \n",
      "3     Hornet 4 Drive  21.4    6  258.0  110  3.08  3.215  19.44   1   0     3   \n",
      "4  Hornet Sportabout  18.7    8  360.0  175  3.15  3.440  17.02   0   0     3   \n",
      "\n",
      "   carb  \n",
      "0     4  \n",
      "1     4  \n",
      "2     1  \n",
      "3     1  \n",
      "4     2  \n"
     ]
    }
   ],
   "source": [
    "import pandas as pd\n",
    "import numpy as np\n",
    "\n",
    "df = pd.read_csv('mtcars.csv')\n",
    "print(df.head())"
   ],
   "metadata": {
    "collapsed": false,
    "ExecuteTime": {
     "end_time": "2023-11-18T02:42:15.723368Z",
     "start_time": "2023-11-18T02:42:15.715407Z"
    }
   }
  },
  {
   "cell_type": "code",
   "execution_count": 50,
   "outputs": [
    {
     "name": "stdout",
     "output_type": "stream",
     "text": [
      "15.4\n"
     ]
    }
   ],
   "source": [
    "## 문제 1 - mpg 변수의 제 1사분위수를 구하고 정수값으로 출력하시오.\n",
    "### round 반올림 = 정수 값 출력임\n",
    "# print(round(df['mpg'].quantile(0.25)))\n",
    "print(round(df['mpg'].quantile(0.25), 1))  # 소수점 한자리까지 구하기"
   ],
   "metadata": {
    "collapsed": false,
    "ExecuteTime": {
     "end_time": "2023-11-18T02:42:08.101584Z",
     "start_time": "2023-11-18T02:42:08.064133Z"
    }
   }
  },
  {
   "cell_type": "code",
   "execution_count": 51,
   "outputs": [
    {
     "data": {
      "text/plain": "5"
     },
     "execution_count": 51,
     "metadata": {},
     "output_type": "execute_result"
    }
   ],
   "source": [
    "## 문제 2 - mpg 값이 19 이상 21 이하인 데이터의 수를 구하시오.\n",
    "# cond1, cond2\n",
    "len(df[(df['mpg'] > 19) & (df['mpg'] <= 21)])"
   ],
   "metadata": {
    "collapsed": false,
    "ExecuteTime": {
     "end_time": "2023-11-18T02:42:08.101881Z",
     "start_time": "2023-11-18T02:42:08.067990Z"
    }
   }
  },
  {
   "cell_type": "code",
   "execution_count": 52,
   "outputs": [
    {
     "name": "stdout",
     "output_type": "stream",
     "text": [
      "5\n"
     ]
    }
   ],
   "source": [
    "cond1 = (df['mpg'] > 19)\n",
    "cond2 = (df['mpg'] <= 21)\n",
    "print(len(df[cond1 & cond2]))"
   ],
   "metadata": {
    "collapsed": false,
    "ExecuteTime": {
     "end_time": "2023-11-18T02:42:08.101992Z",
     "start_time": "2023-11-18T02:42:08.071603Z"
    }
   }
  },
  {
   "cell_type": "code",
   "execution_count": 53,
   "outputs": [
    {
     "name": "stdout",
     "output_type": "stream",
     "text": [
      "83.5\n"
     ]
    }
   ],
   "source": [
    "# 문제 3 - hp 변수의 IQR 값을 구하시오.\n",
    "# IQR = 1.5 * IQR이 이상치라고 했단말이지?\n",
    "# IQR은 그럼 Q3 - Q1이다.\n",
    "q3 = df['hp'].quantile(.75)\n",
    "q1 = df['hp'].quantile(.25)\n",
    "print(q3 - q1)  # IQR은 양수가 되어야 하기 때문에 큰 수에서 작은 수 빼야한다."
   ],
   "metadata": {
    "collapsed": false,
    "ExecuteTime": {
     "end_time": "2023-11-18T02:42:08.102141Z",
     "start_time": "2023-11-18T02:42:08.075404Z"
    }
   }
  },
  {
   "cell_type": "code",
   "execution_count": 69,
   "outputs": [
    {
     "data": {
      "text/plain": "42.424"
     },
     "execution_count": 69,
     "metadata": {},
     "output_type": "execute_result"
    }
   ],
   "source": [
    "# 문제 4 - wt 변수의 상위 10개 값의 총 합을 구하여 소수점을 버리고 정수로 출력하시오.\n",
    "df = pd.read_csv('mtcars.csv')\n",
    "# print(df.head())\n",
    "\n",
    "df2 = df.sort_values('wt', ascending=False)\n",
    "df2[0:10]['wt'].sum()"
   ],
   "metadata": {
    "collapsed": false,
    "ExecuteTime": {
     "end_time": "2023-11-18T02:44:30.265422Z",
     "start_time": "2023-11-18T02:44:30.259368Z"
    }
   }
  },
  {
   "cell_type": "code",
   "execution_count": 55,
   "outputs": [
    {
     "name": "stdout",
     "output_type": "stream",
     "text": [
      "42\n"
     ]
    }
   ],
   "source": [
    "# 위에는 나의 오답, 아래는 정답\n",
    "top_10 = df.sort_values('wt', ascending=False)\n",
    "sum_top_10 = top_10['wt'].head(10).sum()\n",
    "print(int(sum_top_10))\n",
    "# 소수점을 반올림 하는 게 아니라 버림하는것 - int() 써야"
   ],
   "metadata": {
    "collapsed": false,
    "ExecuteTime": {
     "end_time": "2023-11-18T02:42:08.102492Z",
     "start_time": "2023-11-18T02:42:08.083233Z"
    }
   }
  },
  {
   "cell_type": "code",
   "execution_count": 56,
   "outputs": [
    {
     "data": {
      "text/plain": "0.2"
     },
     "execution_count": 56,
     "metadata": {},
     "output_type": "execute_result"
    }
   ],
   "source": [
    "# 문제 5 - 전체 자동차에서 cyl이 6인 비율이 얼마인지 소수점 첫재짜리까지 출력하시오\n",
    "# 비율 : 조건의 개수 / 전체 개수\n",
    "round(len(df[df['cyl'] == 6]) / len(df), 1)"
   ],
   "metadata": {
    "collapsed": false,
    "ExecuteTime": {
     "end_time": "2023-11-18T02:42:08.102569Z",
     "start_time": "2023-11-18T02:42:08.088988Z"
    }
   }
  },
  {
   "cell_type": "code",
   "execution_count": 72,
   "outputs": [
    {
     "name": "stdout",
     "output_type": "stream",
     "text": [
      "20\n"
     ]
    }
   ],
   "source": [
    "# 문제 6 - 첫번째 행부터 순서대로 10개를 뽑은 후 mpg 열의 평균값을 반올림하여 정수로 출력하시오.\n",
    "df = pd.read_csv('mtcars.csv')\n",
    "df2 = df.head(10)  # df[:10] = df.loc[0:9]\n",
    "df3 = df[:10]\n",
    "mpg_mean = df2['mpg'].mean()\n",
    "print(round(mpg_mean))"
   ],
   "metadata": {
    "collapsed": false,
    "ExecuteTime": {
     "end_time": "2023-11-18T02:47:03.170241Z",
     "start_time": "2023-11-18T02:47:03.164791Z"
    }
   }
  },
  {
   "cell_type": "code",
   "execution_count": 77,
   "outputs": [
    {
     "data": {
      "text/plain": "3.44"
     },
     "execution_count": 77,
     "metadata": {},
     "output_type": "execute_result"
    }
   ],
   "source": [
    "# 문제 7 - 첫번째 행부터 순서대로 50%까지 데이터를 뽑아 wt 변수의 중앙값을 구하시오.\n",
    "# ** 50% 데이터에 해당하는 행의 수 (정수로 구하기) ** 이거 몰랐음\n",
    "p50 = int(len(df)*0.5)\n",
    "# df.head(p50)['wt'].median()\n",
    "df[:p50]['wt'].median()  # quantile(.50)"
   ],
   "metadata": {
    "collapsed": false,
    "ExecuteTime": {
     "end_time": "2023-11-18T03:00:07.166364Z",
     "start_time": "2023-11-18T03:00:07.157742Z"
    }
   }
  },
  {
   "cell_type": "code",
   "execution_count": 133,
   "outputs": [
    {
     "name": "stdout",
     "output_type": "stream",
     "text": [
      "5\n"
     ]
    }
   ],
   "source": [
    "# 문제 8 - 결측값이 있는 데이터의 수를 출력하시오.\n",
    "\n",
    "df = pd.DataFrame( {\n",
    "    '날짜': ['20230101', '20230101', '20230105', '20230105', '20230110', '20230110', '20230131', '20230131'],\n",
    "    '물품': ['A', None, 'A', 'B', 'A', None, 'B', 'B'],\n",
    "    '판매수': [11, 12, 34, 13, None, 16, 16, 17],\n",
    "    '개당수익': ['900', None, '11000', '1000', '200', None, '100', '1000']\n",
    "})\n",
    "isnull = df.isnull().sum()\n",
    "# 데이터의 수를 출력하는 거니까 sum() 한 번 더해줘야 함\n",
    "print(isnull.sum())"
   ],
   "metadata": {
    "collapsed": false,
    "ExecuteTime": {
     "end_time": "2023-11-18T03:41:18.204520Z",
     "start_time": "2023-11-18T03:41:18.198009Z"
    }
   }
  },
  {
   "cell_type": "code",
   "execution_count": 102,
   "outputs": [
    {
     "name": "stdout",
     "output_type": "stream",
     "text": [
      "17\n"
     ]
    }
   ],
   "source": [
    "# 문제 9 - '판매수' 컬럼의 결측값을 판매수의 중앙값으로 대체하고 판매수의 평균값을 정수로 출력하시오.\n",
    "median = df['판매수'].median()\n",
    "# print(median)\n",
    "df['판매수'] = df['판매수'].fillna(median)\n",
    "# print(df_null)\n",
    "mean = df['판매수'].mean()\n",
    "print(round(mean))  # 정수 출력?"
   ],
   "metadata": {
    "collapsed": false,
    "ExecuteTime": {
     "end_time": "2023-11-18T03:33:25.340319Z",
     "start_time": "2023-11-18T03:33:25.332979Z"
    }
   }
  },
  {
   "cell_type": "code",
   "execution_count": 138,
   "outputs": [
    {
     "name": "stdout",
     "output_type": "stream",
     "text": [
      "12\n"
     ]
    }
   ],
   "source": [
    "# 문제 10 - 판매수 컬럼에 결측치가 있는 행을 제거하고, 첫번째 행부터 순서대로 50%까지의 데이터를 추출하여 판매수 변수의 Q1 값을 정수로 출력하시오.\n",
    "\n",
    "df = pd.DataFrame( {\n",
    "    '날짜': ['20230101', '20230101', '20230105', '20230105', '20230110', '20230110', '20230131', '20230131'],\n",
    "    '물품': ['A', None, 'A', 'B', 'A', None, 'B', 'B'],\n",
    "    '판매수': [11, 12, 34, 13, None, 16, 16, 17],\n",
    "    '개당수익': ['900', None, '11000', '1000', '200', None, '100', '1000']\n",
    "})\n",
    "\n",
    "# 결측치 삭제 = 행기준 (default)\n",
    "df = df['판매수'].dropna()\n",
    "\n",
    "# 첫번째 행부터 순서대로 50%까지의 데이터 추출\n",
    "per50 = int(len(df)*0.5)\n",
    "df = df[:per50]\n",
    "\n",
    "print(round(df.quantile(0.25)))\n",
    "\n",
    "# 실수 할 것 같으면 df.copy()로 복사"
   ],
   "metadata": {
    "collapsed": false,
    "ExecuteTime": {
     "end_time": "2023-11-18T03:43:37.125919Z",
     "start_time": "2023-11-18T03:43:37.121498Z"
    }
   }
  },
  {
   "cell_type": "code",
   "execution_count": 157,
   "outputs": [
    {
     "data": {
      "text/plain": "               model   mpg  cyl   disp   hp  drat     wt   qsec  vs  am  gear  \\\n0          Mazda RX4  21.0    6  160.0  110  3.90  2.620  16.46   0   1     4   \n1      Mazda RX4 Wag  21.0    6  160.0  110  3.90  2.875  17.02   0   1     4   \n2         Datsun 710  22.8    4  108.0   93  3.85  2.320  18.61   1   1     4   \n3     Hornet 4 Drive  21.4    6  258.0  110  3.08  3.215  19.44   1   0     3   \n4  Hornet Sportabout  18.7    8  360.0  175  3.15  3.440  17.02   0   0     3   \n\n   carb  \n0     4  \n1     4  \n2     1  \n3     1  \n4     2  ",
      "text/html": "<div>\n<style scoped>\n    .dataframe tbody tr th:only-of-type {\n        vertical-align: middle;\n    }\n\n    .dataframe tbody tr th {\n        vertical-align: top;\n    }\n\n    .dataframe thead th {\n        text-align: right;\n    }\n</style>\n<table border=\"1\" class=\"dataframe\">\n  <thead>\n    <tr style=\"text-align: right;\">\n      <th></th>\n      <th>model</th>\n      <th>mpg</th>\n      <th>cyl</th>\n      <th>disp</th>\n      <th>hp</th>\n      <th>drat</th>\n      <th>wt</th>\n      <th>qsec</th>\n      <th>vs</th>\n      <th>am</th>\n      <th>gear</th>\n      <th>carb</th>\n    </tr>\n  </thead>\n  <tbody>\n    <tr>\n      <th>0</th>\n      <td>Mazda RX4</td>\n      <td>21.0</td>\n      <td>6</td>\n      <td>160.0</td>\n      <td>110</td>\n      <td>3.90</td>\n      <td>2.620</td>\n      <td>16.46</td>\n      <td>0</td>\n      <td>1</td>\n      <td>4</td>\n      <td>4</td>\n    </tr>\n    <tr>\n      <th>1</th>\n      <td>Mazda RX4 Wag</td>\n      <td>21.0</td>\n      <td>6</td>\n      <td>160.0</td>\n      <td>110</td>\n      <td>3.90</td>\n      <td>2.875</td>\n      <td>17.02</td>\n      <td>0</td>\n      <td>1</td>\n      <td>4</td>\n      <td>4</td>\n    </tr>\n    <tr>\n      <th>2</th>\n      <td>Datsun 710</td>\n      <td>22.8</td>\n      <td>4</td>\n      <td>108.0</td>\n      <td>93</td>\n      <td>3.85</td>\n      <td>2.320</td>\n      <td>18.61</td>\n      <td>1</td>\n      <td>1</td>\n      <td>4</td>\n      <td>1</td>\n    </tr>\n    <tr>\n      <th>3</th>\n      <td>Hornet 4 Drive</td>\n      <td>21.4</td>\n      <td>6</td>\n      <td>258.0</td>\n      <td>110</td>\n      <td>3.08</td>\n      <td>3.215</td>\n      <td>19.44</td>\n      <td>1</td>\n      <td>0</td>\n      <td>3</td>\n      <td>1</td>\n    </tr>\n    <tr>\n      <th>4</th>\n      <td>Hornet Sportabout</td>\n      <td>18.7</td>\n      <td>8</td>\n      <td>360.0</td>\n      <td>175</td>\n      <td>3.15</td>\n      <td>3.440</td>\n      <td>17.02</td>\n      <td>0</td>\n      <td>0</td>\n      <td>3</td>\n      <td>2</td>\n    </tr>\n  </tbody>\n</table>\n</div>"
     },
     "execution_count": 157,
     "metadata": {},
     "output_type": "execute_result"
    }
   ],
   "source": [
    "df = pd.read_csv('mtcars.csv')\n",
    "df.head()"
   ],
   "metadata": {
    "collapsed": false,
    "ExecuteTime": {
     "end_time": "2023-11-18T05:14:11.225459Z",
     "start_time": "2023-11-18T05:14:11.214786Z"
    }
   }
  },
  {
   "cell_type": "code",
   "execution_count": 156,
   "outputs": [
    {
     "name": "stdout",
     "output_type": "stream",
     "text": [
      "7\n"
     ]
    }
   ],
   "source": [
    "# 문제 11 - cyl가 4인 자동차와 6인 자동차 그룹의 mpg 평균값 차이를 절대값으로 정수로 출력하시오.\n",
    "cond1 = (df['cyl'] == 4)\n",
    "cond2 = (df['cyl'] == 6)\n",
    "df1 = df[cond1]\n",
    "df2 = df[cond2]\n",
    "\n",
    "df1_mean = df1['mpg'].mean()\n",
    "df2_mean = df2['mpg'].mean()\n",
    "print(round(abs(df1_mean - df2_mean)))"
   ],
   "metadata": {
    "collapsed": false,
    "ExecuteTime": {
     "end_time": "2023-11-18T05:11:06.551736Z",
     "start_time": "2023-11-18T05:11:06.546037Z"
    }
   }
  },
  {
   "cell_type": "code",
   "execution_count": 167,
   "outputs": [
    {
     "name": "stdout",
     "output_type": "stream",
     "text": [
      "2\n"
     ]
    }
   ],
   "source": [
    "# 문제 12 - hp 변수에 대해 데이터표준화(z-score)를 진행하고 이상치의 수를 구하시오.\n",
    "# (단, 이상치는 z 값이 1.5를 초과하거나 -1.5 미만인 값이다.)\n",
    "# (개별값 - mean) / std\n",
    "df = pd.read_csv('mtcars.csv')\n",
    "\n",
    "hp_mean = df['hp'].mean()\n",
    "hp_std = df['hp'].std()\n",
    "\n",
    "df['zscore'] = (df['hp']-hp_mean) / hp_std   # 새로운 변수 생성\n",
    "cond1 = (df['zscore'] < -1.5)\n",
    "cond2 = (df['zscore'] > 1.5)\n",
    "print(len(df[cond1]) +  len(df[cond2]))"
   ],
   "metadata": {
    "collapsed": false,
    "ExecuteTime": {
     "end_time": "2023-11-18T05:20:42.245592Z",
     "start_time": "2023-11-18T05:20:42.240799Z"
    }
   }
  },
  {
   "cell_type": "code",
   "execution_count": 169,
   "outputs": [
    {
     "data": {
      "text/plain": "5"
     },
     "execution_count": 169,
     "metadata": {},
     "output_type": "execute_result"
    }
   ],
   "source": [
    "# 문제 13 - mpg 컬럼을 최소최대 scaling을 진행한 후 0.7보다 큰 값을 가지는 레코드 수를 구하라.\n",
    "from sklearn.preprocessing import MinMaxScaler\n",
    "mscaler = MinMaxScaler()\n",
    "\n",
    "df = pd.read_csv('mtcars.csv')\n",
    "\n",
    "df['mpg'] = mscaler.fit_transform(df[['mpg']])\n",
    "\n",
    "len(df[df['mpg'] > 0.7])"
   ],
   "metadata": {
    "collapsed": false,
    "ExecuteTime": {
     "end_time": "2023-11-18T05:38:09.700637Z",
     "start_time": "2023-11-18T05:38:09.693717Z"
    }
   }
  },
  {
   "cell_type": "code",
   "execution_count": 170,
   "outputs": [
    {
     "data": {
      "text/plain": "5"
     },
     "execution_count": 170,
     "metadata": {},
     "output_type": "execute_result"
    }
   ],
   "source": [
    "# 위의 풀이가 나의 풀이\n",
    "# 아래의 풀이가 강의 풀이\n",
    "# 공식 : (변수-min)/(max+min)\n",
    "min_mpg = df['mpg'].min()\n",
    "max_mpg = df['mpg'].max()\n",
    "\n",
    "df['mpg'] = (df['mpg']-min_mpg) / (max_mpg - min_mpg) # 최대 - 최소 = range\n",
    "cond1 = (df['mpg']>0.7)\n",
    "len(df[cond1])"
   ],
   "metadata": {
    "collapsed": false,
    "ExecuteTime": {
     "end_time": "2023-11-18T05:42:02.146481Z",
     "start_time": "2023-11-18T05:42:02.134046Z"
    }
   }
  },
  {
   "cell_type": "code",
   "execution_count": 3,
   "outputs": [
    {
     "name": "stdout",
     "output_type": "stream",
     "text": [
      "3\n"
     ]
    }
   ],
   "source": [
    "# 문제 14 - wt 컬럼에 대해 상자그림 기준으로 이상치의 개수를 구하시오.\n",
    "# 이상치 : Q1, Q3으로부터 1.5*IQR을 넘어가는 값\n",
    "df = pd.read_csv('mtcars.csv')\n",
    "q1 = df['wt'].quantile(.25)\n",
    "q3 = df['wt'].quantile(.75)\n",
    "IQR = q3 - q1\n",
    "\n",
    "upper = q3 + 1.5 * IQR\n",
    "lower = q1 - 1.5 * IQR\n",
    "\n",
    "cond1 = (df['wt'] > upper)\n",
    "cond2 = (df['wt'] < lower)\n",
    "print(len(df[cond1 | cond2]))"
   ],
   "metadata": {
    "collapsed": false,
    "ExecuteTime": {
     "end_time": "2023-11-25T05:25:14.469230Z",
     "start_time": "2023-11-25T05:25:14.459631Z"
    }
   }
  },
  {
   "cell_type": "code",
   "execution_count": 57,
   "outputs": [],
   "source": [
    "# 문제 8번\n",
    "# df = pd.DataFrame( {\n",
    "#     '날짜': ['20220103','20220105', None,'20230127','20220203', '20220205','20230210','20230223','20230312','20230422','20220505','20230511'],\n",
    "#     '제품' : ['A','B', None, 'B', 'A', None,'A', 'B', 'A', 'B', 'A', 'A'],\n",
    "#     '판매수': [3, None, 5, 10, 10, 10, 15, 15, 20, None, 30, 40],\n",
    "#     '개당수익': [300, 400, 500, 600, 400, 500, 500, 600, 600, 700, 600, 600] })\n",
    "#\n",
    "# 문제 15번\n",
    "# # 데이터 생성 (수정금지)\n",
    "# df = pd.DataFrame( {\n",
    "#     '날짜': ['20220103','20220105', None,'20230127','20220203', '20220205','20230210','20230223','20230312','20230422','20220505','20230511'],\n",
    "#     '제품' : ['A','B', None, 'B', 'A', None,'A', 'B', 'A', 'B', 'A', 'A'],\n",
    "#     '판매수': [3, None, 5, 10, 10, 10, 15, 15, 20, None, 30, 40],\n",
    "#     '개당수익': [300, 400, 500, 600, 400, 500, 500, 600, 600, 700, 600, 600] })\n",
    "#\n",
    "# 문제 21번\n",
    "# df = pd.DataFrame( {\n",
    "#     '날짜': ['20220103','20220105', '20230105','20230127','20220203', '20220205','20230210','20230223','20230312','20230422','20220505','20230511'],\n",
    "#     '제품' : ['A','B', 'A', 'B', 'A', 'B','A', 'B', 'A', 'B', 'A', 'A'],\n",
    "#     '판매수': [3, 5, 5, 10, 10, 10, 15, 15, 20, 25, 30, 40],\n",
    "#     '개당수익': [300, 400, 500, 600, 400, 500, 500, 600, 600, 700, 600, 600] })\n",
    "#\n",
    "# 문제 25번\n",
    "# # 시간 데이터 만들기(수정금지)\n",
    "# df = pd.DataFrame( {\n",
    "#     '물품' : ['A', 'B', 'A', 'B', 'A', 'B', 'A'],\n",
    "#     '판매수': [5, 10, 15, 15, 20, 25, 40],\n",
    "#     '개당수익': [500, 600, 500, 600, 600, 700, 600] })\n",
    "# time = pd.date_range('2023-09-24 12:25:00','2023-09-25 14:45:30', periods= 7)\n",
    "# df['time']=time\n",
    "# df = df[ ['time','물품','판매수','개당수익']]\n",
    "#\n",
    "# 문제 26-27\n",
    "# # 시간 데이터 만들기(수정금지)\n",
    "# df = pd.DataFrame( {\n",
    "#     '물품' : ['A', 'B', 'A', 'B', 'A', 'B', 'A'],\n",
    "#     '판매수': [5, 10, 15, 15, 20, 25, 40],\n",
    "#     '개당수익': [500, 600, 500, 600, 600, 700, 600] } )\n",
    "# df['time'] = pd.date_range('2023-09-24 12:25:00','2023-09-25 14:45:30', periods= 7)\n",
    "# df = df[ ['time','물품','판매수','개당수익'] ]\n",
    "# df = df.set_index('time', drop=True)\n"
   ],
   "metadata": {
    "collapsed": false,
    "ExecuteTime": {
     "end_time": "2023-11-18T02:42:08.118781Z",
     "start_time": "2023-11-18T02:42:08.116921Z"
    }
   }
  },
  {
   "cell_type": "code",
   "execution_count": 192,
   "outputs": [],
   "source": [
    "# 문제 15 - 판매수 컬럼의 결측치를 최소값으로 대체하고\n",
    "# 결측치가 있을 때와 최솟값으로 대체했을 때 평균값의 차이를 절댓값으로 정수로 출력\n",
    "\n",
    "df = pd.DataFrame( {\n",
    "    '날짜': ['20220103','20220105', None,'20230127','20220203', '20220205','20230210','20230223','20230312','20230422','20220505','20230511'],\n",
    "    '제품' : ['A','B', None, 'B', 'A', None,'A', 'B', 'A', 'B', 'A', 'A'],\n",
    "    '판매수': [3, None, 5, 10, 10, 10, 15, 15, 20, None, 30, 40],\n",
    "    '개당수익': [300, 400, 500, 600, 400, 500, 500, 600, 600, 700, 600, 600] })"
   ],
   "metadata": {
    "collapsed": false,
    "ExecuteTime": {
     "end_time": "2023-11-18T06:05:11.827522Z",
     "start_time": "2023-11-18T06:05:11.822743Z"
    }
   }
  },
  {
   "cell_type": "code",
   "execution_count": 195,
   "outputs": [
    {
     "name": "stdout",
     "output_type": "stream",
     "text": [
      "2\n"
     ]
    }
   ],
   "source": [
    "## 데이터 복사!!!!\n",
    "df2 = df.copy()\n",
    "\n",
    "## 최솟값으로 결측치 대체\n",
    "min = df['판매수'].min()\n",
    "df2['판매수'] = df2['판매수'].fillna(min)\n",
    "\n",
    "null_mean = df['판매수'].mean()\n",
    "min_mean = df2['판매수'].mean()\n",
    "print(round(abs(min_mean - null_mean)))"
   ],
   "metadata": {
    "collapsed": false,
    "ExecuteTime": {
     "end_time": "2023-11-18T06:05:48.918482Z",
     "start_time": "2023-11-18T06:05:48.910110Z"
    }
   }
  },
  {
   "cell_type": "code",
   "execution_count": 209,
   "outputs": [],
   "source": [
    "# 문제 16 - vs 변수가 0이 아닌 차량 중에 mpg 값이 가장 큰 차량의 hp 값을 출력하시오.\n",
    "import pandas as pd\n",
    "df = pd.read_csv('mtcars.csv')"
   ],
   "metadata": {
    "collapsed": false,
    "ExecuteTime": {
     "end_time": "2023-11-19T11:40:29.545Z",
     "start_time": "2023-11-19T11:40:29.536204Z"
    }
   }
  },
  {
   "cell_type": "code",
   "execution_count": 208,
   "outputs": [
    {
     "data": {
      "text/plain": "19    65\nName: hp, dtype: int64"
     },
     "execution_count": 208,
     "metadata": {},
     "output_type": "execute_result"
    }
   ],
   "source": [
    "df = df[(df['vs'] != 0)]\n",
    "df[(df['mpg'] == df['mpg'].max())]['hp']  # 이건 나의 풀이"
   ],
   "metadata": {
    "collapsed": false,
    "ExecuteTime": {
     "end_time": "2023-11-19T11:40:27.060645Z",
     "start_time": "2023-11-19T11:40:27.049975Z"
    }
   }
  },
  {
   "cell_type": "code",
   "execution_count": 216,
   "outputs": [
    {
     "name": "stdout",
     "output_type": "stream",
     "text": [
      "65\n",
      "65\n"
     ]
    }
   ],
   "source": [
    "df = df.sort_values('mpg', ascending=False)  # 내림차순\n",
    "df['hp'].head(1)\n",
    "print(df['hp'].iloc[0])\n",
    "print(df['hp'].loc[19])  # 실제 행의 값을 넣어야 함 = loc"
   ],
   "metadata": {
    "collapsed": false,
    "ExecuteTime": {
     "end_time": "2023-11-19T11:44:55.362387Z",
     "start_time": "2023-11-19T11:44:55.342878Z"
    }
   }
  },
  {
   "cell_type": "code",
   "execution_count": 224,
   "outputs": [
    {
     "name": "stdout",
     "output_type": "stream",
     "text": [
      "21.8\n"
     ]
    }
   ],
   "source": [
    "# 문제 17 - gear 변수 값이 3, 4인 두 그룹의 hp 표준편차값의 차이를 절대값으로 소수 첫째자리로 출력하시오.\n",
    "\n",
    "df = pd.read_csv('mtcars.csv')\n",
    "# df1 = df.copy()\n",
    "# df2 = df.copy()\n",
    "#\n",
    "# df1 = df1[(df1['gear'] == 3)]\n",
    "# df2 = df2[(df2['gear'] == 4)]\n",
    "#\n",
    "# df1_std = df1['hp'].std()\n",
    "# df2_std = df2['hp'].std()\n",
    "\n",
    "gear3 = df[df['gear'] == 3]\n",
    "gear4 = df[df['gear'] == 4]\n",
    "\n",
    "df1_std = gear3['hp'].std()\n",
    "df2_std = gear4['hp'].std()\n",
    "\n",
    "print(round(abs(df1_std - df2_std), 1))"
   ],
   "metadata": {
    "collapsed": false,
    "ExecuteTime": {
     "end_time": "2023-11-19T11:54:16.558395Z",
     "start_time": "2023-11-19T11:54:16.548606Z"
    }
   }
  },
  {
   "cell_type": "code",
   "execution_count": 243,
   "outputs": [
    {
     "name": "stdout",
     "output_type": "stream",
     "text": [
      "            mpg\n",
      "gear           \n",
      "3     16.106667\n",
      "4     24.533333\n",
      "5     21.380000\n",
      "28.075\n"
     ]
    }
   ],
   "source": [
    "# 문제 18 - gear 변수의 값별로 그룹화하여 mpg 평균값을 산출하고, 평균값이 높은 그룹의 mpg 제 3사분위수 값을 구하시오.\n",
    "\n",
    "# gear와 mpg 변수만 필터링\n",
    "df = df.loc[:, ['mpg', 'gear']]\n",
    "print(df.groupby('gear').mean())\n",
    "\n",
    "gear4 = df[df['gear'] == 4]\n",
    "print(gear4['mpg'].quantile(.75))"
   ],
   "metadata": {
    "collapsed": false,
    "ExecuteTime": {
     "end_time": "2023-11-19T12:03:50.385160Z",
     "start_time": "2023-11-19T12:03:50.381510Z"
    }
   }
  },
  {
   "cell_type": "code",
   "execution_count": 251,
   "outputs": [
    {
     "name": "stdout",
     "output_type": "stream",
     "text": [
      "248\n"
     ]
    }
   ],
   "source": [
    "# 문제 19 - hp 항목의 상위 7번째 값으로 상위 7개 값을 변환한 후, hp가 150 이상인 데이터를 추출하여 hp 평균값을 반올림하여 정수로 출력하시오.\n",
    "\n",
    "## 틀렸음!!\n",
    "df = pd.read_csv('mtcars.csv')\n",
    "df2 = df.sort_values('hp', ascending=False).head(7)\n",
    "print(round(df2[df2['hp'] >= 150]['hp'].mean()))"
   ],
   "metadata": {
    "collapsed": false,
    "ExecuteTime": {
     "end_time": "2023-11-19T12:10:34.501291Z",
     "start_time": "2023-11-19T12:10:34.493575Z"
    }
   }
  },
  {
   "cell_type": "code",
   "execution_count": 7,
   "outputs": [
    {
     "name": "stdout",
     "output_type": "stream",
     "text": [
      "99\n"
     ]
    }
   ],
   "source": [
    "# 실제 강의 풀이\n",
    "df = pd.read_csv('mtcars.csv')\n",
    "df = df.sort_values('hp', ascending=False)\n",
    "\n",
    "# 인덱스 초기화 - 기존 인덱스 삭제 후 새로운 인덱스로 = sort_values의\n",
    "df = df.reset_index(drop=True)\n",
    "# drop=True는 기존 index 삭제, 이거 없으면 기존 인덱스는 변수로 생성됨!!\n",
    "\n",
    "# hp 상위 7번째 값 확인\n",
    "top7 = df['hp'].loc[6]  # top7 = 205\n",
    "\n",
    "# np.where 사용\n",
    "import numpy as np\n",
    "df['hp'] = np.where(df['hp']>205, top7, df['hp'])\n",
    "\n",
    "cond1 = df['hp'] <= 150\n",
    "df = df[cond1]\n",
    "print(round(df['hp'].mean()))"
   ],
   "metadata": {
    "collapsed": false,
    "ExecuteTime": {
     "end_time": "2023-11-25T05:58:01.819851Z",
     "start_time": "2023-11-25T05:58:01.807374Z"
    }
   }
  },
  {
   "cell_type": "code",
   "execution_count": 265,
   "outputs": [
    {
     "data": {
      "text/plain": "19"
     },
     "execution_count": 265,
     "metadata": {},
     "output_type": "execute_result"
    }
   ],
   "source": [
    "# 문제 20 - car 변수에 merc 문구가 포함된 자동차의 mpg 평균값을 정수로 출력하시오.\n",
    "# 문자열 추출 str.contains()\n",
    "df = pd.read_csv('mtcars.csv')\n",
    "int(df[df['model'].str.contains(\"Merc\")]['mpg'].mean())\n",
    "\n",
    "# 시험 환경에서 답 구하는 방법 - car라는 변수가 인덱스로 들어가 있음\n",
    "# df.reset_index(inplace=True)\n",
    "# df2 = df[df['index'].str.contains(\"Merc\")]\n",
    "# print(round(df2['mpg'].mean()))"
   ],
   "metadata": {
    "collapsed": false,
    "ExecuteTime": {
     "end_time": "2023-11-19T12:27:38.686428Z",
     "start_time": "2023-11-19T12:27:38.682311Z"
    }
   }
  },
  {
   "cell_type": "code",
   "execution_count": 8,
   "outputs": [
    {
     "name": "stdout",
     "output_type": "stream",
     "text": [
      "          날짜 제품  판매수  개당수익\n",
      "0   20220103  A    3   300\n",
      "1   20220105  B    5   400\n",
      "2   20230105  A    5   500\n",
      "3   20230127  B   10   600\n",
      "4   20220203  A   10   400\n",
      "5   20220205  B   10   500\n",
      "6   20230210  A   15   500\n",
      "7   20230223  B   15   600\n",
      "8   20230312  A   20   600\n",
      "9   20230422  B   25   700\n",
      "10  20220505  A   30   600\n",
      "11  20230511  A   40   600\n"
     ]
    }
   ],
   "source": [
    "# 문제 21\n",
    "# 22년 1분기 A제품의 매출액을 구하시오\n",
    "# 매출액 : 판매수 * 개당수익\n",
    "df = pd.DataFrame(\n",
    "     {\n",
    "    '날짜': ['20220103','20220105', '20230105','20230127','20220203', '20220205','20230210','20230223','20230312','20230422','20220505','20230511'],\n",
    "    '제품' : ['A','B', 'A', 'B', 'A', 'B','A', 'B', 'A', 'B', 'A', 'A'],\n",
    "    '판매수': [3, 5, 5, 10, 10, 10, 15, 15, 20, 25, 30, 40],\n",
    "    '개당수익': [300, 400, 500, 600, 400, 500, 500, 600, 600, 700, 600, 600]\n",
    "     }\n",
    " )\n",
    "\n",
    "print(df)"
   ],
   "metadata": {
    "collapsed": false,
    "ExecuteTime": {
     "end_time": "2023-11-25T06:12:55.357031Z",
     "start_time": "2023-11-25T06:12:55.347441Z"
    }
   }
  },
  {
   "cell_type": "code",
   "execution_count": 10,
   "outputs": [
    {
     "name": "stdout",
     "output_type": "stream",
     "text": [
      "4900\n"
     ]
    }
   ],
   "source": [
    "# 풀이 1\n",
    "# 데이터 타입을 datetime으로 변경\n",
    "df['날짜'] = pd.to_datetime(df['날짜'])\n",
    "\n",
    "# 년, 월, 일 변수(열) 추가하기\n",
    "df['year'] = df['날짜'].dt.year\n",
    "df['month'] = df['날짜'].dt.month\n",
    "df['day'] = df['날짜'].dt.day\n",
    "\n",
    "df['매출액'] = df['판매수'] * df['개당수익']\n",
    "\n",
    "df = df[df['year'] == 2022]\n",
    "df = df[(df['month'] == 1) | (df['month'] == 2) | (df['month'] == 3)]\n",
    "df = df[df['제품'] == 'A']\n",
    "\n",
    "print(df['매출액'].sum())"
   ],
   "metadata": {
    "collapsed": false,
    "ExecuteTime": {
     "end_time": "2023-11-25T06:13:27.081921Z",
     "start_time": "2023-11-25T06:13:27.064072Z"
    }
   }
  },
  {
   "cell_type": "code",
   "execution_count": 14,
   "outputs": [
    {
     "data": {
      "text/plain": "          날짜 제품  판매수  개당수익   매출액\n0 2022-01-03  A    3   300   900\n1 2022-01-05  B    5   400  2000\n4 2022-02-03  A   10   400  4000\n5 2022-02-05  B   10   500  5000",
      "text/html": "<div>\n<style scoped>\n    .dataframe tbody tr th:only-of-type {\n        vertical-align: middle;\n    }\n\n    .dataframe tbody tr th {\n        vertical-align: top;\n    }\n\n    .dataframe thead th {\n        text-align: right;\n    }\n</style>\n<table border=\"1\" class=\"dataframe\">\n  <thead>\n    <tr style=\"text-align: right;\">\n      <th></th>\n      <th>날짜</th>\n      <th>제품</th>\n      <th>판매수</th>\n      <th>개당수익</th>\n      <th>매출액</th>\n    </tr>\n  </thead>\n  <tbody>\n    <tr>\n      <th>0</th>\n      <td>2022-01-03</td>\n      <td>A</td>\n      <td>3</td>\n      <td>300</td>\n      <td>900</td>\n    </tr>\n    <tr>\n      <th>1</th>\n      <td>2022-01-05</td>\n      <td>B</td>\n      <td>5</td>\n      <td>400</td>\n      <td>2000</td>\n    </tr>\n    <tr>\n      <th>4</th>\n      <td>2022-02-03</td>\n      <td>A</td>\n      <td>10</td>\n      <td>400</td>\n      <td>4000</td>\n    </tr>\n    <tr>\n      <th>5</th>\n      <td>2022-02-05</td>\n      <td>B</td>\n      <td>10</td>\n      <td>500</td>\n      <td>5000</td>\n    </tr>\n  </tbody>\n</table>\n</div>"
     },
     "execution_count": 14,
     "metadata": {},
     "output_type": "execute_result"
    }
   ],
   "source": [
    "# 풀이 2\n",
    "df = pd.DataFrame(\n",
    "     {\n",
    "    '날짜': ['20220103','20220105', '20230105','20230127','20220203', '20220205','20230210','20230223','20230312','20230422','20220505','20230511'],\n",
    "    '제품' : ['A','B', 'A', 'B', 'A', 'B','A', 'B', 'A', 'B', 'A', 'A'],\n",
    "    '판매수': [3, 5, 5, 10, 10, 10, 15, 15, 20, 25, 30, 40],\n",
    "    '개당수익': [300, 400, 500, 600, 400, 500, 500, 600, 600, 700, 600, 600]\n",
    "     }\n",
    " )\n",
    "\n",
    "df['날짜'] = pd.to_datetime(df['날짜'])\n",
    "df['매출액'] = df['판매수'] * df['개당수익']\n",
    "\n",
    "# 날짜 자체를 필터링 4/1 미포함\n",
    "df_after = df [df['날짜'].between('2022-01-01', '2022-04-01')]\n",
    "# df_after\n",
    "# print(df_after['매출액'].sum())"
   ],
   "metadata": {
    "collapsed": false,
    "ExecuteTime": {
     "end_time": "2023-11-25T06:14:11.647804Z",
     "start_time": "2023-11-25T06:14:11.637299Z"
    }
   }
  },
  {
   "cell_type": "code",
   "execution_count": 305,
   "outputs": [
    {
     "data": {
      "text/plain": "11900"
     },
     "execution_count": 305,
     "metadata": {},
     "output_type": "execute_result"
    }
   ],
   "source": [
    "# 풀이 3\n",
    "df = pd.DataFrame(\n",
    "     {\n",
    "    '날짜': ['20220103','20220105', '20230105','20230127','20220203', '20220205','20230210','20230223','20230312','20230422','20220505','20230511'],\n",
    "    '제품' : ['A','B', 'A', 'B', 'A', 'B','A', 'B', 'A', 'B', 'A', 'A'],\n",
    "    '판매수': [3, 5, 5, 10, 10, 10, 15, 15, 20, 25, 30, 40],\n",
    "    '개당수익': [300, 400, 500, 600, 400, 500, 500, 600, 600, 700, 600, 600]\n",
    "     }\n",
    " )\n",
    "\n",
    "df['날짜'] = pd.to_datetime(df['날짜'])\n",
    "df['매출액'] = df['판매수'] * df['개당수익']\n",
    "\n",
    "# 날짜를 인덱스로 설정 후 loc 함수 사용\n",
    "df = df.set_index('날짜')\n",
    "df_after = df.loc[(df.index <= '2022-03-31') & (df.index>='2022-01-01')]\n",
    "df_after['매출액'].sum()"
   ],
   "metadata": {
    "collapsed": false,
    "ExecuteTime": {
     "end_time": "2023-11-19T13:05:03.262765Z",
     "start_time": "2023-11-19T13:05:03.257198Z"
    }
   }
  },
  {
   "cell_type": "code",
   "execution_count": 15,
   "outputs": [],
   "source": [
    "# 문제 22\n",
    "# 22년과 23년의 총 매출액 차이를 절대값으로 구하시오.\n",
    "\n",
    "df = pd.DataFrame(\n",
    "     {\n",
    "    '날짜': ['20220103','20220105', '20230105','20230127','20220203', '20220205','20230210','20230223','20230312','20230422','20220505','20230511'],\n",
    "    '제품' : ['A','B', 'A', 'B', 'A', 'B','A', 'B', 'A', 'B', 'A', 'A'],\n",
    "    '판매수': [3, 5, 5, 10, 10, 10, 15, 15, 20, 25, 30, 40],\n",
    "    '개당수익': [300, 400, 500, 600, 400, 500, 500, 600, 600, 700, 600, 600]\n",
    "     }\n",
    " )\n",
    "df['날짜'] = pd.to_datetime(df['날짜'])\n",
    "df['매출액'] = df['판매수'] * df['개당수익']\n",
    "df['year'] = df['날짜'].dt.year\n",
    "\n",
    "df = df.loc[:, ['매출액', 'year']]\n",
    "df_sum = df.groupby('year').sum()\n",
    "df_2022 = df_sum[df_sum.index == 2022]\n",
    "df_2023 = df_sum[df_sum.index == 2023]"
   ],
   "metadata": {
    "collapsed": false,
    "ExecuteTime": {
     "end_time": "2023-11-25T06:21:41.622399Z",
     "start_time": "2023-11-25T06:21:41.612567Z"
    }
   }
  },
  {
   "cell_type": "code",
   "execution_count": 16,
   "outputs": [
    {
     "name": "stdout",
     "output_type": "stream",
     "text": [
      "48600\n"
     ]
    }
   ],
   "source": [
    "df = pd.DataFrame(\n",
    "     {\n",
    "    '날짜': ['20220103','20220105', '20230105','20230127','20220203', '20220205','20230210','20230223','20230312','20230422','20220505','20230511'],\n",
    "    '제품' : ['A','B', 'A', 'B', 'A', 'B','A', 'B', 'A', 'B', 'A', 'A'],\n",
    "    '판매수': [3, 5, 5, 10, 10, 10, 15, 15, 20, 25, 30, 40],\n",
    "    '개당수익': [300, 400, 500, 600, 400, 500, 500, 600, 600, 700, 600, 600]\n",
    "     }\n",
    " )\n",
    "df['날짜'] = pd.to_datetime(df['날짜'])\n",
    "df['매출액'] = df['판매수'] * df['개당수익']\n",
    "\n",
    "df_2022 = df[df['날짜'].dt.year == 2022]['매출액'].sum()\n",
    "df_2023 = df[df['날짜'].dt.year == 2023]['매출액'].sum()\n",
    "print(abs(df_2022 - df_2023))"
   ],
   "metadata": {
    "collapsed": false,
    "ExecuteTime": {
     "end_time": "2023-11-25T06:21:47.073157Z",
     "start_time": "2023-11-25T06:21:47.061456Z"
    }
   }
  },
  {
   "cell_type": "code",
   "execution_count": 389,
   "outputs": [
    {
     "name": "stdout",
     "output_type": "stream",
     "text": [
      "46000 32500\n",
      "80\n"
     ]
    }
   ],
   "source": [
    "# 문제 23 - 23년 총 매출액이 '큰 제품'의 23년 판매수를 구하시오.\n",
    "df = pd.DataFrame(\n",
    "     {\n",
    "    '날짜': ['20220103','20220105', '20230105','20230127','20220203', '20220205','20230210','20230223','20230312','20230422','20220505','20230511'],\n",
    "    '제품' : ['A','B', 'A', 'B', 'A', 'B','A', 'B', 'A', 'B', 'A', 'A'],\n",
    "    '판매수': [3, 5, 5, 10, 10, 10, 15, 15, 20, 25, 30, 40],\n",
    "    '개당수익': [300, 400, 500, 600, 400, 500, 500, 600, 600, 700, 600, 600]\n",
    "     }\n",
    " )\n",
    "\n",
    "df['날짜'] = pd.to_datetime(df['날짜'])\n",
    "df['매출액'] = df['판매수'] * df['개당수익']\n",
    "df = df[df['날짜'].dt.year == 2023]\n",
    "df_a = df[df['제품'] == 'A']\n",
    "df_b = df[df['제품'] == 'B']\n",
    "a_sales = df_a['매출액'].sum()\n",
    "b_sales = df_b['매출액'].sum()\n",
    "# print(a_sales, b_sales)\n",
    "print(df_a['판매수'].sum())"
   ],
   "metadata": {
    "collapsed": false,
    "ExecuteTime": {
     "end_time": "2023-11-19T13:59:27.451336Z",
     "start_time": "2023-11-19T13:59:27.444191Z"
    }
   }
  },
  {
   "cell_type": "code",
   "execution_count": 399,
   "outputs": [
    {
     "name": "stdout",
     "output_type": "stream",
     "text": [
      "4\n"
     ]
    }
   ],
   "source": [
    "# 문제 24 - 매출액이 4000원 초과, 1만원 미만인 데이터의 수를 출력하시오.\n",
    "df = pd.DataFrame(\n",
    "     {\n",
    "    '날짜': ['20220103','20220105', '20230105','20230127','20220203', '20220205','20230210','20230223','20230312','20230422','20220505','20230511'],\n",
    "    '제품' : ['A','B', 'A', 'B', 'A', 'B','A', 'B', 'A', 'B', 'A', 'A'],\n",
    "    '판매수': [3, 5, 5, 10, 10, 10, 15, 15, 20, 25, 30, 40],\n",
    "    '개당수익': [300, 400, 500, 600, 400, 500, 500, 600, 600, 700, 600, 600]\n",
    "     }\n",
    " )\n",
    "df['매출액'] = df['판매수'] * df['개당수익']\n",
    "df\n",
    "# print(len(df[(df['매출액'].between(4000, 10000))])) # 이건 4000원 이상임!!\n",
    "cond1 = (df['매출액'] > 4000)\n",
    "cond2 = (df['매출액'] < 10000)\n",
    "print(len(df[cond1 & cond2]))"
   ],
   "metadata": {
    "collapsed": false,
    "ExecuteTime": {
     "end_time": "2023-11-19T14:05:25.517221Z",
     "start_time": "2023-11-19T14:05:25.508943Z"
    }
   }
  },
  {
   "cell_type": "code",
   "execution_count": 409,
   "outputs": [
    {
     "data": {
      "text/plain": "                 time 물품  판매수  개당수익\n0 2023-09-24 12:25:00  A    5   500\n1 2023-09-24 16:48:25  B   10   600\n2 2023-09-24 21:11:50  A   15   500\n3 2023-09-25 01:35:15  B   15   600\n4 2023-09-25 05:58:40  A   20   600\n5 2023-09-25 10:22:05  B   25   700\n6 2023-09-25 14:45:30  A   40   600",
      "text/html": "<div>\n<style scoped>\n    .dataframe tbody tr th:only-of-type {\n        vertical-align: middle;\n    }\n\n    .dataframe tbody tr th {\n        vertical-align: top;\n    }\n\n    .dataframe thead th {\n        text-align: right;\n    }\n</style>\n<table border=\"1\" class=\"dataframe\">\n  <thead>\n    <tr style=\"text-align: right;\">\n      <th></th>\n      <th>time</th>\n      <th>물품</th>\n      <th>판매수</th>\n      <th>개당수익</th>\n    </tr>\n  </thead>\n  <tbody>\n    <tr>\n      <th>0</th>\n      <td>2023-09-24 12:25:00</td>\n      <td>A</td>\n      <td>5</td>\n      <td>500</td>\n    </tr>\n    <tr>\n      <th>1</th>\n      <td>2023-09-24 16:48:25</td>\n      <td>B</td>\n      <td>10</td>\n      <td>600</td>\n    </tr>\n    <tr>\n      <th>2</th>\n      <td>2023-09-24 21:11:50</td>\n      <td>A</td>\n      <td>15</td>\n      <td>500</td>\n    </tr>\n    <tr>\n      <th>3</th>\n      <td>2023-09-25 01:35:15</td>\n      <td>B</td>\n      <td>15</td>\n      <td>600</td>\n    </tr>\n    <tr>\n      <th>4</th>\n      <td>2023-09-25 05:58:40</td>\n      <td>A</td>\n      <td>20</td>\n      <td>600</td>\n    </tr>\n    <tr>\n      <th>5</th>\n      <td>2023-09-25 10:22:05</td>\n      <td>B</td>\n      <td>25</td>\n      <td>700</td>\n    </tr>\n    <tr>\n      <th>6</th>\n      <td>2023-09-25 14:45:30</td>\n      <td>A</td>\n      <td>40</td>\n      <td>600</td>\n    </tr>\n  </tbody>\n</table>\n</div>"
     },
     "execution_count": 409,
     "metadata": {},
     "output_type": "execute_result"
    }
   ],
   "source": [
    "# 문제 25 - 23년 9월 24일 16:00 ~ 22:00 사이에 전체 제품의 판매수를 구하시오.\n",
    "df = pd.DataFrame( {\n",
    "    '물품' : ['A', 'B', 'A', 'B', 'A', 'B', 'A'],\n",
    "    '판매수': [5, 10, 15, 15, 20, 25, 40],\n",
    "    '개당수익': [500, 600, 500, 600, 600, 700, 600] })\n",
    "time = pd.date_range('2023-09-24 12:25:00','2023-09-25 14:45:30', periods= 7)\n",
    "df['time']=time\n",
    "df = df[ ['time','물품','판매수','개당수익']]\n",
    "df"
   ],
   "metadata": {
    "collapsed": false,
    "ExecuteTime": {
     "end_time": "2023-11-19T14:13:25.483922Z",
     "start_time": "2023-11-19T14:13:25.475436Z"
    }
   }
  },
  {
   "cell_type": "code",
   "execution_count": 403,
   "outputs": [
    {
     "name": "stdout",
     "output_type": "stream",
     "text": [
      "25\n"
     ]
    }
   ],
   "source": [
    "df = df[df['time'].between('2023-09-24 16:00:00', '2023-09-24 22:00:00')]\n",
    "print(df['판매수'].sum())"
   ],
   "metadata": {
    "collapsed": false,
    "ExecuteTime": {
     "end_time": "2023-11-19T14:08:26.027013Z",
     "start_time": "2023-11-19T14:08:26.019441Z"
    }
   }
  },
  {
   "cell_type": "code",
   "execution_count": 412,
   "outputs": [
    {
     "name": "stdout",
     "output_type": "stream",
     "text": [
      "25\n"
     ]
    }
   ],
   "source": [
    "# 컬럼과 인덱스에 둘 다 time 변수로 놓고 풀이\n",
    "# 데이터 타입 datetime으로 변경 (항상 df.info()로 데이터타입 확인할 것)\n",
    "df = pd.DataFrame( {\n",
    "    '물품' : ['A', 'B', 'A', 'B', 'A', 'B', 'A'],\n",
    "    '판매수': [5, 10, 15, 15, 20, 25, 40],\n",
    "    '개당수익': [500, 600, 500, 600, 600, 700, 600] })\n",
    "time = pd.date_range('2023-09-24 12:25:00','2023-09-25 14:45:30', periods= 7)\n",
    "df['time']=time\n",
    "df = df[ ['time','물품','판매수','개당수익']]\n",
    "\n",
    "df['time'] = pd.to_datetime(df['time'])\n",
    "\n",
    "# 인덱스 새로 지정\n",
    "df = df.set_index('time', drop=False)  # default는 True\n",
    "df.head()\n",
    "\n",
    "# 9월 24일 필터링\n",
    "df_after = df[df['time'].between('2023-09-24', '2023-09-25')] # 25일 미포함\n",
    "\n",
    "# 시간 필터링\n",
    "df = df_after.between_time(start_time='16:00', end_time='22:00')\n",
    "print(df['판매수'].sum())"
   ],
   "metadata": {
    "collapsed": false,
    "ExecuteTime": {
     "end_time": "2023-11-19T14:13:49.487040Z",
     "start_time": "2023-11-19T14:13:49.481732Z"
    }
   }
  },
  {
   "cell_type": "code",
   "execution_count": 415,
   "outputs": [
    {
     "name": "stdout",
     "output_type": "stream",
     "text": [
      "25\n"
     ]
    }
   ],
   "source": [
    "df = pd.DataFrame( {\n",
    "    '물품' : ['A', 'B', 'A', 'B', 'A', 'B', 'A'],\n",
    "    '판매수': [5, 10, 15, 15, 20, 25, 40],\n",
    "    '개당수익': [500, 600, 500, 600, 600, 700, 600] })\n",
    "time = pd.date_range('2023-09-24 12:25:00','2023-09-25 14:45:30', periods= 7)\n",
    "df['time']=time\n",
    "df = df[ ['time','물품','판매수','개당수익']]\n",
    "\n",
    "df['time'] = pd.to_datetime(df['time'])\n",
    "\n",
    "# index 새로 지정\n",
    "df = df.set_index('time')\n",
    "\n",
    "# loc 함수로 필터링 - date type이어야하고, index로 가있어야 loc 사용 가능\n",
    "df = df.loc[(df.index >= '2023-09-24 16:00:00') & (df.index <= '2023-09-24 22:00:00')]\n",
    "print(df['판매수'].sum())"
   ],
   "metadata": {
    "collapsed": false,
    "ExecuteTime": {
     "end_time": "2023-11-19T14:17:54.973962Z",
     "start_time": "2023-11-19T14:17:54.966860Z"
    }
   }
  },
  {
   "cell_type": "code",
   "execution_count": 428,
   "outputs": [
    {
     "name": "stdout",
     "output_type": "stream",
     "text": [
      "26500\n"
     ]
    }
   ],
   "source": [
    "# 문제 26 - 9월 25일 00:00~12:00 까지의 B 물품의 매출액 총합을 구하시오.\n",
    "df = pd.DataFrame( {\n",
    "    '물품' : ['A', 'B', 'A', 'B', 'A', 'B', 'A'],\n",
    "    '판매수': [5, 10, 15, 15, 20, 25, 40],\n",
    "    '개당수익': [500, 600, 500, 600, 600, 700, 600] })\n",
    "time = pd.date_range('2023-09-24 12:25:00','2023-09-25 14:45:30', periods= 7)\n",
    "df['time']=time\n",
    "df = df[ ['time','물품','판매수','개당수익']]\n",
    "df = df.set_index('time', drop=False)\n",
    "\n",
    "# 매출액 변수 추가\n",
    "df['매출액'] = df['판매수'] * df['개당수익']\n",
    "df = df.loc[(df.index > '2023-09-25 00:00:00')  & (df.index < '2023-09-25 12:00:00')]\n",
    "print(df[df['물품'] == 'B']['매출액'].sum())"
   ],
   "metadata": {
    "collapsed": false,
    "ExecuteTime": {
     "end_time": "2023-11-19T14:25:47.436803Z",
     "start_time": "2023-11-19T14:25:47.429028Z"
    }
   }
  },
  {
   "cell_type": "code",
   "execution_count": 438,
   "outputs": [
    {
     "name": "stdout",
     "output_type": "stream",
     "text": [
      "26500\n"
     ]
    }
   ],
   "source": [
    "df = pd.DataFrame( {\n",
    "    '물품' : ['A', 'B', 'A', 'B', 'A', 'B', 'A'],\n",
    "    '판매수': [5, 10, 15, 15, 20, 25, 40],\n",
    "    '개당수익': [500, 600, 500, 600, 600, 700, 600] })\n",
    "time = pd.date_range('2023-09-24 12:25:00','2023-09-25 14:45:30', periods= 7)\n",
    "df['time']=time\n",
    "df = df[ ['time','물품','판매수','개당수익']]\n",
    "df = df.set_index('time', drop=True)\n",
    "\n",
    "# 매출액 변수 추가\n",
    "df['매출액'] = df['판매수'] * df['개당수익']\n",
    "\n",
    "# time 변수 추가, index 초기화 (인덱스를 컬럼으로)\n",
    "df = df.reset_index()\n",
    "\n",
    "# 인덱스 새로 지정\n",
    "df = df.set_index('time', drop=False)\n",
    "\n",
    "# 데이터 타입 datetime으로 변경\n",
    "df['time'] = pd.to_datetime(df['time'])\n",
    "\n",
    "# 9월 25일 필터링 // df['변수'].between()  : 인덱스가 아닌 변수에 위치해야 between 사용 가능\n",
    "df_after = df[df['time'].between('2023-09-25', '2023-09-26')]\n",
    "\n",
    "# 시간 필터링 주의!! 시간이 index에 위치해야 함 = between_time의 시간은 index에 위치해야 사용 가능하다.\n",
    "df = df_after.between_time(start_time='00:00', end_time='12:00')\n",
    "\n",
    "df = df[df['물품']=='B']\n",
    "print(df['매출액'].sum())"
   ],
   "metadata": {
    "collapsed": false,
    "ExecuteTime": {
     "end_time": "2023-11-19T14:32:30.973559Z",
     "start_time": "2023-11-19T14:32:30.922413Z"
    }
   }
  },
  {
   "cell_type": "code",
   "execution_count": 17,
   "outputs": [
    {
     "name": "stdout",
     "output_type": "stream",
     "text": [
      "                                   time 물품  판매수  개당수익   매출액\n",
      "time                                                       \n",
      "2023-09-24 12:25:00 2023-09-24 12:25:00  A    5   500  2500\n",
      "2023-09-24 16:48:25 2023-09-24 16:48:25  B   10   600  6000\n",
      "2023-09-24 21:11:50 2023-09-24 21:11:50  A   15   500  7500\n",
      "10000\n"
     ]
    }
   ],
   "source": [
    "# 문제 27 - 9월 24일 12:00 ~ 24:00 까지의 A 물품들의 매출액 총합을 구하시오.\n",
    "df = pd.DataFrame( {\n",
    "    '물품' : ['A', 'B', 'A', 'B', 'A', 'B', 'A'],\n",
    "    '판매수': [5, 10, 15, 15, 20, 25, 40],\n",
    "    '개당수익': [500, 600, 500, 600, 600, 700, 600] })\n",
    "time = pd.date_range('2023-09-24 12:25:00','2023-09-25 14:45:30', periods= 7)\n",
    "df['time']=time\n",
    "df = df[ ['time','물품','판매수','개당수익']]\n",
    "df = df.set_index('time', drop=True)\n",
    "\n",
    "df['매출액'] = df['판매수'] * df['개당수익']\n",
    "\n",
    "df = df.reset_index()\n",
    "df['time'] = pd.to_datetime(df['time'])\n",
    "\n",
    "df = df.set_index('time', drop=False)\n",
    "\n",
    "df_after = df[df['time'].between('2023-09-24', '2023-09-25')]\n",
    "print(df_after)\n",
    "df = df_after.between_time(start_time ='12:00', end_time = '23:59')\n",
    "print(df[df['물품'] == 'A']['매출액'].sum())"
   ],
   "metadata": {
    "collapsed": false,
    "ExecuteTime": {
     "end_time": "2023-11-25T06:55:58.882268Z",
     "start_time": "2023-11-25T06:55:58.870576Z"
    }
   }
  },
  {
   "cell_type": "code",
   "execution_count": 470,
   "outputs": [
    {
     "data": {
      "text/plain": "10000"
     },
     "execution_count": 470,
     "metadata": {},
     "output_type": "execute_result"
    }
   ],
   "source": [
    "df = pd.DataFrame( {\n",
    "    '물품' : ['A', 'B', 'A', 'B', 'A', 'B', 'A'],\n",
    "    '판매수': [5, 10, 15, 15, 20, 25, 40],\n",
    "    '개당수익': [500, 600, 500, 600, 600, 700, 600] })\n",
    "time = pd.date_range('2023-09-24 12:25:00','2023-09-25 14:45:30', periods= 7)\n",
    "df['time']=time\n",
    "df = df[ ['time','물품','판매수','개당수익']]\n",
    "df = df.set_index('time', drop=True)\n",
    "\n",
    "df['매출액'] = df['판매수'] * df['개당수익']\n",
    "df = df.loc[(df.index >= '2023-09-24 12:00:00') & (df.index < '2023-09-25 00:00:00')]\n",
    "df[(df['물품'] == 'A')]['매출액'].sum()"
   ],
   "metadata": {
    "collapsed": false,
    "ExecuteTime": {
     "end_time": "2023-11-19T14:46:06.641835Z",
     "start_time": "2023-11-19T14:46:06.634602Z"
    }
   }
  },
  {
   "cell_type": "code",
   "execution_count": null,
   "outputs": [],
   "source": [],
   "metadata": {
    "collapsed": false
   }
  },
  {
   "cell_type": "code",
   "execution_count": null,
   "outputs": [],
   "source": [],
   "metadata": {
    "collapsed": false
   }
  },
  {
   "cell_type": "code",
   "execution_count": null,
   "outputs": [],
   "source": [],
   "metadata": {
    "collapsed": false
   }
  },
  {
   "cell_type": "code",
   "execution_count": null,
   "outputs": [],
   "source": [],
   "metadata": {
    "collapsed": false
   }
  }
 ],
 "metadata": {
  "kernelspec": {
   "display_name": "Python 3",
   "language": "python",
   "name": "python3"
  },
  "language_info": {
   "codemirror_mode": {
    "name": "ipython",
    "version": 2
   },
   "file_extension": ".py",
   "mimetype": "text/x-python",
   "name": "python",
   "nbconvert_exporter": "python",
   "pygments_lexer": "ipython2",
   "version": "2.7.6"
  }
 },
 "nbformat": 4,
 "nbformat_minor": 0
}
