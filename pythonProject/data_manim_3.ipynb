{
 "cells": [
  {
   "cell_type": "code",
   "execution_count": 2,
   "metadata": {
    "collapsed": true,
    "ExecuteTime": {
     "end_time": "2023-11-29T14:47:32.542672Z",
     "start_time": "2023-11-29T14:47:32.087378Z"
    }
   },
   "outputs": [
    {
     "data": {
      "text/plain": "        height\n0   160.237691\n1   164.747324\n2   165.401628\n3   168.801627\n4   153.199021\n..         ...\n95  168.556633\n96  172.935092\n97  171.913052\n98  181.381108\n99  161.891018\n\n[100 rows x 1 columns]",
      "text/html": "<div>\n<style scoped>\n    .dataframe tbody tr th:only-of-type {\n        vertical-align: middle;\n    }\n\n    .dataframe tbody tr th {\n        vertical-align: top;\n    }\n\n    .dataframe thead th {\n        text-align: right;\n    }\n</style>\n<table border=\"1\" class=\"dataframe\">\n  <thead>\n    <tr style=\"text-align: right;\">\n      <th></th>\n      <th>height</th>\n    </tr>\n  </thead>\n  <tbody>\n    <tr>\n      <th>0</th>\n      <td>160.237691</td>\n    </tr>\n    <tr>\n      <th>1</th>\n      <td>164.747324</td>\n    </tr>\n    <tr>\n      <th>2</th>\n      <td>165.401628</td>\n    </tr>\n    <tr>\n      <th>3</th>\n      <td>168.801627</td>\n    </tr>\n    <tr>\n      <th>4</th>\n      <td>153.199021</td>\n    </tr>\n    <tr>\n      <th>...</th>\n      <td>...</td>\n    </tr>\n    <tr>\n      <th>95</th>\n      <td>168.556633</td>\n    </tr>\n    <tr>\n      <th>96</th>\n      <td>172.935092</td>\n    </tr>\n    <tr>\n      <th>97</th>\n      <td>171.913052</td>\n    </tr>\n    <tr>\n      <th>98</th>\n      <td>181.381108</td>\n    </tr>\n    <tr>\n      <th>99</th>\n      <td>161.891018</td>\n    </tr>\n  </tbody>\n</table>\n<p>100 rows × 1 columns</p>\n</div>"
     },
     "execution_count": 2,
     "metadata": {},
     "output_type": "execute_result"
    }
   ],
   "source": [
    "import pandas as pd\n",
    "df = pd.read_csv('https://raw.githubusercontent.com/Datamanim/datarepo/main/scipy/height1.csv')\n",
    "df"
   ]
  },
  {
   "cell_type": "code",
   "execution_count": null,
   "outputs": [],
   "source": [
    "# H0: 평균 = 165\n",
    "# H1: 평균 != 165"
   ],
   "metadata": {
    "collapsed": false
   }
  },
  {
   "cell_type": "code",
   "execution_count": null,
   "outputs": [],
   "source": [
    "# 유의수준 5%"
   ],
   "metadata": {
    "collapsed": false
   }
  },
  {
   "cell_type": "code",
   "execution_count": 4,
   "outputs": [
    {
     "name": "stdout",
     "output_type": "stream",
     "text": [
      "0.9872668981552124 0.4558176100254059\n"
     ]
    }
   ],
   "source": [
    "# 정규성 검증\n",
    "import scipy.stats as stats\n",
    "\n",
    "statistic, pvalue = stats.shapiro(df)\n",
    "print(statistic, pvalue)  # 정규성 만족"
   ],
   "metadata": {
    "collapsed": false,
    "ExecuteTime": {
     "end_time": "2023-11-29T14:48:14.179223Z",
     "start_time": "2023-11-29T14:48:14.172978Z"
    }
   }
  },
  {
   "cell_type": "code",
   "execution_count": 5,
   "outputs": [
    {
     "name": "stdout",
     "output_type": "stream",
     "text": [
      "3.2017884987150644 0.00183671715480802\n"
     ]
    }
   ],
   "source": [
    "# 실제 t 검증\n",
    "statistic, pvalue = stats.ttest_1samp(df['height'], popmean=165)\n",
    "print(statistic, pvalue)"
   ],
   "metadata": {
    "collapsed": false,
    "ExecuteTime": {
     "end_time": "2023-11-29T14:50:01.710470Z",
     "start_time": "2023-11-29T14:50:01.703836Z"
    }
   }
  },
  {
   "cell_type": "code",
   "execution_count": 7,
   "outputs": [
    {
     "data": {
      "text/plain": "        height\n0   182.012475\n1   166.857081\n2   159.633265\n3   159.633265\n4   169.428478\n..         ...\n95  160.237691\n96  159.633265\n97  174.777363\n98  159.633265\n99  164.747324\n\n[100 rows x 1 columns]",
      "text/html": "<div>\n<style scoped>\n    .dataframe tbody tr th:only-of-type {\n        vertical-align: middle;\n    }\n\n    .dataframe tbody tr th {\n        vertical-align: top;\n    }\n\n    .dataframe thead th {\n        text-align: right;\n    }\n</style>\n<table border=\"1\" class=\"dataframe\">\n  <thead>\n    <tr style=\"text-align: right;\">\n      <th></th>\n      <th>height</th>\n    </tr>\n  </thead>\n  <tbody>\n    <tr>\n      <th>0</th>\n      <td>182.012475</td>\n    </tr>\n    <tr>\n      <th>1</th>\n      <td>166.857081</td>\n    </tr>\n    <tr>\n      <th>2</th>\n      <td>159.633265</td>\n    </tr>\n    <tr>\n      <th>3</th>\n      <td>159.633265</td>\n    </tr>\n    <tr>\n      <th>4</th>\n      <td>169.428478</td>\n    </tr>\n    <tr>\n      <th>...</th>\n      <td>...</td>\n    </tr>\n    <tr>\n      <th>95</th>\n      <td>160.237691</td>\n    </tr>\n    <tr>\n      <th>96</th>\n      <td>159.633265</td>\n    </tr>\n    <tr>\n      <th>97</th>\n      <td>174.777363</td>\n    </tr>\n    <tr>\n      <th>98</th>\n      <td>159.633265</td>\n    </tr>\n    <tr>\n      <th>99</th>\n      <td>164.747324</td>\n    </tr>\n  </tbody>\n</table>\n<p>100 rows × 1 columns</p>\n</div>"
     },
     "execution_count": 7,
     "metadata": {},
     "output_type": "execute_result"
    }
   ],
   "source": [
    "import pandas as pd\n",
    "df = pd.read_csv('https://raw.githubusercontent.com/Datamanim/datarepo/main/scipy/height2.csv')\n",
    "df"
   ],
   "metadata": {
    "collapsed": false,
    "ExecuteTime": {
     "end_time": "2023-11-29T14:50:51.788328Z",
     "start_time": "2023-11-29T14:50:51.641609Z"
    }
   }
  },
  {
   "cell_type": "code",
   "execution_count": null,
   "outputs": [],
   "source": [
    "# h0: 평균 = 165\n",
    "# h1: 평균 != 165\n",
    "\n",
    "# 유의수준 5%"
   ],
   "metadata": {
    "collapsed": false
   }
  },
  {
   "cell_type": "code",
   "execution_count": 8,
   "outputs": [
    {
     "name": "stdout",
     "output_type": "stream",
     "text": [
      "0.9672004580497742 0.013552033342421055\n"
     ]
    }
   ],
   "source": [
    "statistic, pvalue = stats.shapiro(df['height'])\n",
    "print(statistic, pvalue)  # 정규성 만족 안함"
   ],
   "metadata": {
    "collapsed": false,
    "ExecuteTime": {
     "end_time": "2023-11-29T14:52:46.925220Z",
     "start_time": "2023-11-29T14:52:46.919683Z"
    }
   }
  },
  {
   "cell_type": "code",
   "execution_count": 9,
   "outputs": [
    {
     "name": "stdout",
     "output_type": "stream",
     "text": [
      "1952.0 0.04880534424649582\n"
     ]
    }
   ],
   "source": [
    "statistic, pvalue = stats.wilcoxon(df['height']-165)\n",
    "print(statistic, pvalue)  # 귀무가설 기긱"
   ],
   "metadata": {
    "collapsed": false,
    "ExecuteTime": {
     "end_time": "2023-11-29T14:53:25.003555Z",
     "start_time": "2023-11-29T14:53:24.997094Z"
    }
   }
  },
  {
   "cell_type": "code",
   "execution_count": 18,
   "outputs": [
    {
     "data": {
      "text/plain": "    class  score\n0       A     84\n1       A     59\n2       A     49\n3       A     57\n4       A     82\n..    ...    ...\n475     B     72\n476     B     80\n477     B     84\n478     B     73\n479     B     92\n\n[480 rows x 2 columns]",
      "text/html": "<div>\n<style scoped>\n    .dataframe tbody tr th:only-of-type {\n        vertical-align: middle;\n    }\n\n    .dataframe tbody tr th {\n        vertical-align: top;\n    }\n\n    .dataframe thead th {\n        text-align: right;\n    }\n</style>\n<table border=\"1\" class=\"dataframe\">\n  <thead>\n    <tr style=\"text-align: right;\">\n      <th></th>\n      <th>class</th>\n      <th>score</th>\n    </tr>\n  </thead>\n  <tbody>\n    <tr>\n      <th>0</th>\n      <td>A</td>\n      <td>84</td>\n    </tr>\n    <tr>\n      <th>1</th>\n      <td>A</td>\n      <td>59</td>\n    </tr>\n    <tr>\n      <th>2</th>\n      <td>A</td>\n      <td>49</td>\n    </tr>\n    <tr>\n      <th>3</th>\n      <td>A</td>\n      <td>57</td>\n    </tr>\n    <tr>\n      <th>4</th>\n      <td>A</td>\n      <td>82</td>\n    </tr>\n    <tr>\n      <th>...</th>\n      <td>...</td>\n      <td>...</td>\n    </tr>\n    <tr>\n      <th>475</th>\n      <td>B</td>\n      <td>72</td>\n    </tr>\n    <tr>\n      <th>476</th>\n      <td>B</td>\n      <td>80</td>\n    </tr>\n    <tr>\n      <th>477</th>\n      <td>B</td>\n      <td>84</td>\n    </tr>\n    <tr>\n      <th>478</th>\n      <td>B</td>\n      <td>73</td>\n    </tr>\n    <tr>\n      <th>479</th>\n      <td>B</td>\n      <td>92</td>\n    </tr>\n  </tbody>\n</table>\n<p>480 rows × 2 columns</p>\n</div>"
     },
     "execution_count": 18,
     "metadata": {},
     "output_type": "execute_result"
    }
   ],
   "source": [
    "import pandas as pd\n",
    "df = pd.read_csv('https://raw.githubusercontent.com/Datamanim/datarepo/main/scipy/scipy2.csv')\n",
    "df"
   ],
   "metadata": {
    "collapsed": false,
    "ExecuteTime": {
     "end_time": "2023-11-29T14:57:05.235320Z",
     "start_time": "2023-11-29T14:57:05.084266Z"
    }
   }
  },
  {
   "cell_type": "code",
   "execution_count": 27,
   "outputs": [
    {
     "data": {
      "text/plain": "0      84\n1      59\n2      49\n3      57\n4      82\n       ..\n295    78\n296    58\n297    61\n298    41\n299    53\nName: score, Length: 300, dtype: int64"
     },
     "execution_count": 27,
     "metadata": {},
     "output_type": "execute_result"
    }
   ],
   "source": [
    "a = df [df['class'] == 'A']['score']\n",
    "b = df [df['class'] == 'B']['score']\n",
    "a"
   ],
   "metadata": {
    "collapsed": false,
    "ExecuteTime": {
     "end_time": "2023-11-29T14:59:08.333557Z",
     "start_time": "2023-11-29T14:59:08.321075Z"
    }
   }
  },
  {
   "cell_type": "code",
   "execution_count": null,
   "outputs": [],
   "source": [
    "# h0 : 같다.\n",
    "# h1 : 다르다.\n",
    "# 유의수준 5%"
   ],
   "metadata": {
    "collapsed": false
   }
  },
  {
   "cell_type": "code",
   "execution_count": 28,
   "outputs": [
    {
     "name": "stdout",
     "output_type": "stream",
     "text": [
      "0.9538978934288025 0.0\n"
     ]
    }
   ],
   "source": [
    "statistic, pvalue = stats.shapiro(a)\n",
    "print(statistic, round(pvalue, 4))"
   ],
   "metadata": {
    "collapsed": false,
    "ExecuteTime": {
     "end_time": "2023-11-29T14:59:12.658478Z",
     "start_time": "2023-11-29T14:59:12.655228Z"
    }
   }
  },
  {
   "cell_type": "code",
   "execution_count": 29,
   "outputs": [
    {
     "name": "stdout",
     "output_type": "stream",
     "text": [
      "0.9422045350074768 0.0\n"
     ]
    }
   ],
   "source": [
    "statistic, pvalue = stats.shapiro(b)\n",
    "print(statistic, round(pvalue, 4))"
   ],
   "metadata": {
    "collapsed": false,
    "ExecuteTime": {
     "end_time": "2023-11-29T14:59:18.409435Z",
     "start_time": "2023-11-29T14:59:18.402914Z"
    }
   }
  },
  {
   "cell_type": "code",
   "execution_count": 34,
   "outputs": [
    {
     "name": "stdout",
     "output_type": "stream",
     "text": [
      "0.26035880448930865 0.609873758447687\n"
     ]
    }
   ],
   "source": [
    "statistic, pvalue = stats.bartlett(a, b)\n",
    "print(statistic, pvalue)"
   ],
   "metadata": {
    "collapsed": false,
    "ExecuteTime": {
     "end_time": "2023-11-29T14:59:32.813200Z",
     "start_time": "2023-11-29T14:59:32.777636Z"
    }
   }
  },
  {
   "cell_type": "code",
   "execution_count": 35,
   "outputs": [
    {
     "data": {
      "text/plain": "    A   B\n0  44  36\n1  61  92\n2  76  41\n3  64  45\n4  65  35",
      "text/html": "<div>\n<style scoped>\n    .dataframe tbody tr th:only-of-type {\n        vertical-align: middle;\n    }\n\n    .dataframe tbody tr th {\n        vertical-align: top;\n    }\n\n    .dataframe thead th {\n        text-align: right;\n    }\n</style>\n<table border=\"1\" class=\"dataframe\">\n  <thead>\n    <tr style=\"text-align: right;\">\n      <th></th>\n      <th>A</th>\n      <th>B</th>\n    </tr>\n  </thead>\n  <tbody>\n    <tr>\n      <th>0</th>\n      <td>44</td>\n      <td>36</td>\n    </tr>\n    <tr>\n      <th>1</th>\n      <td>61</td>\n      <td>92</td>\n    </tr>\n    <tr>\n      <th>2</th>\n      <td>76</td>\n      <td>41</td>\n    </tr>\n    <tr>\n      <th>3</th>\n      <td>64</td>\n      <td>45</td>\n    </tr>\n    <tr>\n      <th>4</th>\n      <td>65</td>\n      <td>35</td>\n    </tr>\n  </tbody>\n</table>\n</div>"
     },
     "execution_count": 35,
     "metadata": {},
     "output_type": "execute_result"
    }
   ],
   "source": [
    "import pandas as pd\n",
    "df = pd.read_csv('https://raw.githubusercontent.com/Datamanim/datarepo/main/scipy/scipy6.csv')\n",
    "df.head()"
   ],
   "metadata": {
    "collapsed": false,
    "ExecuteTime": {
     "end_time": "2023-11-29T14:59:58.300087Z",
     "start_time": "2023-11-29T14:59:57.699454Z"
    }
   }
  },
  {
   "cell_type": "code",
   "execution_count": 37,
   "outputs": [
    {
     "name": "stdout",
     "output_type": "stream",
     "text": [
      "2.3832178811043527 0.12264468401745829\n"
     ]
    }
   ],
   "source": [
    "statistic, pvalue = stats.bartlett(df['A'], df['B'])\n",
    "print(statistic, pvalue)"
   ],
   "metadata": {
    "collapsed": false,
    "ExecuteTime": {
     "end_time": "2023-11-29T15:00:38.365260Z",
     "start_time": "2023-11-29T15:00:38.356473Z"
    }
   }
  },
  {
   "cell_type": "code",
   "execution_count": 38,
   "outputs": [],
   "source": [
    "import pandas as pd\n",
    "import matplotlib.pyplot as plt\n",
    "df1 = pd.read_csv('https://raw.githubusercontent.com/Datamanim/datarepo/main/scipy/ind1.csv')\n",
    "df2 = pd.read_csv('https://raw.githubusercontent.com/Datamanim/datarepo/main/scipy/ind2.csv')\n"
   ],
   "metadata": {
    "collapsed": false,
    "ExecuteTime": {
     "end_time": "2023-11-29T15:01:41.112526Z",
     "start_time": "2023-11-29T15:01:40.096400Z"
    }
   }
  },
  {
   "cell_type": "code",
   "execution_count": 39,
   "outputs": [
    {
     "data": {
      "text/plain": "          data\n0   105.408458\n1   108.722618\n2    84.398634\n3   100.510816\n4   100.965949\n..         ...\n95  104.158022\n96  100.090999\n97   91.636058\n98  101.853534\n99  102.079239\n\n[100 rows x 1 columns]",
      "text/html": "<div>\n<style scoped>\n    .dataframe tbody tr th:only-of-type {\n        vertical-align: middle;\n    }\n\n    .dataframe tbody tr th {\n        vertical-align: top;\n    }\n\n    .dataframe thead th {\n        text-align: right;\n    }\n</style>\n<table border=\"1\" class=\"dataframe\">\n  <thead>\n    <tr style=\"text-align: right;\">\n      <th></th>\n      <th>data</th>\n    </tr>\n  </thead>\n  <tbody>\n    <tr>\n      <th>0</th>\n      <td>105.408458</td>\n    </tr>\n    <tr>\n      <th>1</th>\n      <td>108.722618</td>\n    </tr>\n    <tr>\n      <th>2</th>\n      <td>84.398634</td>\n    </tr>\n    <tr>\n      <th>3</th>\n      <td>100.510816</td>\n    </tr>\n    <tr>\n      <th>4</th>\n      <td>100.965949</td>\n    </tr>\n    <tr>\n      <th>...</th>\n      <td>...</td>\n    </tr>\n    <tr>\n      <th>95</th>\n      <td>104.158022</td>\n    </tr>\n    <tr>\n      <th>96</th>\n      <td>100.090999</td>\n    </tr>\n    <tr>\n      <th>97</th>\n      <td>91.636058</td>\n    </tr>\n    <tr>\n      <th>98</th>\n      <td>101.853534</td>\n    </tr>\n    <tr>\n      <th>99</th>\n      <td>102.079239</td>\n    </tr>\n  </tbody>\n</table>\n<p>100 rows × 1 columns</p>\n</div>"
     },
     "execution_count": 39,
     "metadata": {},
     "output_type": "execute_result"
    }
   ],
   "source": [
    "df1"
   ],
   "metadata": {
    "collapsed": false,
    "ExecuteTime": {
     "end_time": "2023-11-29T15:01:45.595054Z",
     "start_time": "2023-11-29T15:01:45.588035Z"
    }
   }
  },
  {
   "cell_type": "code",
   "execution_count": null,
   "outputs": [],
   "source": [
    "# h0: 시험성적 동일\n",
    "# h1: 시험성적 동일하지 않음"
   ],
   "metadata": {
    "collapsed": false
   }
  },
  {
   "cell_type": "code",
   "execution_count": 45,
   "outputs": [
    {
     "name": "stdout",
     "output_type": "stream",
     "text": [
      "0.9860945343971252 0.3796645998954773\n"
     ]
    }
   ],
   "source": [
    "statistic, pvalue = stats.shapiro(df1['data'])\n",
    "print(statistic, pvalue)"
   ],
   "metadata": {
    "collapsed": false,
    "ExecuteTime": {
     "end_time": "2023-11-29T15:05:45.056136Z",
     "start_time": "2023-11-29T15:05:45.047382Z"
    }
   }
  },
  {
   "cell_type": "code",
   "execution_count": 46,
   "outputs": [
    {
     "name": "stdout",
     "output_type": "stream",
     "text": [
      "0.990182638168335 0.6793646216392517\n"
     ]
    }
   ],
   "source": [
    "statistic, pvalue = stats.shapiro(df2['data'])\n",
    "print(statistic, pvalue)"
   ],
   "metadata": {
    "collapsed": false,
    "ExecuteTime": {
     "end_time": "2023-11-29T15:05:46.912612Z",
     "start_time": "2023-11-29T15:05:46.904758Z"
    }
   }
  },
  {
   "cell_type": "code",
   "execution_count": 47,
   "outputs": [
    {
     "name": "stdout",
     "output_type": "stream",
     "text": [
      "4.170597307474754 0.04113129672708929\n"
     ]
    }
   ],
   "source": [
    "statistic, pvalue = stats.bartlett(df1['data'], df2['data'])\n",
    "print(statistic, pvalue)"
   ],
   "metadata": {
    "collapsed": false,
    "ExecuteTime": {
     "end_time": "2023-11-29T15:05:48.439884Z",
     "start_time": "2023-11-29T15:05:48.431376Z"
    }
   }
  },
  {
   "cell_type": "code",
   "execution_count": 52,
   "outputs": [
    {
     "name": "stdout",
     "output_type": "stream",
     "text": [
      "0.0 1.0\n"
     ]
    }
   ],
   "source": [
    "statistic, pvalue = stats.ttest_ind(df1['data'], df1['data'], equal_var=False, alternative=\"two-sided\")\n",
    "print(statistic, pvalue)"
   ],
   "metadata": {
    "collapsed": false,
    "ExecuteTime": {
     "end_time": "2023-11-29T15:08:06.179133Z",
     "start_time": "2023-11-29T15:08:06.173642Z"
    }
   }
  },
  {
   "cell_type": "code",
   "execution_count": null,
   "outputs": [],
   "source": [],
   "metadata": {
    "collapsed": false
   }
  },
  {
   "cell_type": "code",
   "execution_count": null,
   "outputs": [],
   "source": [],
   "metadata": {
    "collapsed": false
   }
  },
  {
   "cell_type": "code",
   "execution_count": null,
   "outputs": [],
   "source": [],
   "metadata": {
    "collapsed": false
   }
  },
  {
   "cell_type": "code",
   "execution_count": null,
   "outputs": [],
   "source": [],
   "metadata": {
    "collapsed": false
   }
  },
  {
   "cell_type": "code",
   "execution_count": null,
   "outputs": [],
   "source": [],
   "metadata": {
    "collapsed": false
   }
  },
  {
   "cell_type": "code",
   "execution_count": null,
   "outputs": [],
   "source": [],
   "metadata": {
    "collapsed": false
   }
  },
  {
   "cell_type": "code",
   "execution_count": null,
   "outputs": [],
   "source": [],
   "metadata": {
    "collapsed": false
   }
  },
  {
   "cell_type": "code",
   "execution_count": null,
   "outputs": [],
   "source": [],
   "metadata": {
    "collapsed": false
   }
  },
  {
   "cell_type": "code",
   "execution_count": null,
   "outputs": [],
   "source": [],
   "metadata": {
    "collapsed": false
   }
  },
  {
   "cell_type": "code",
   "execution_count": null,
   "outputs": [],
   "source": [],
   "metadata": {
    "collapsed": false
   }
  },
  {
   "cell_type": "code",
   "execution_count": null,
   "outputs": [],
   "source": [],
   "metadata": {
    "collapsed": false
   }
  },
  {
   "cell_type": "code",
   "execution_count": null,
   "outputs": [],
   "source": [],
   "metadata": {
    "collapsed": false
   }
  },
  {
   "cell_type": "code",
   "execution_count": null,
   "outputs": [],
   "source": [],
   "metadata": {
    "collapsed": false
   }
  },
  {
   "cell_type": "code",
   "execution_count": null,
   "outputs": [],
   "source": [],
   "metadata": {
    "collapsed": false
   }
  },
  {
   "cell_type": "code",
   "execution_count": null,
   "outputs": [],
   "source": [],
   "metadata": {
    "collapsed": false
   }
  }
 ],
 "metadata": {
  "kernelspec": {
   "display_name": "Python 3",
   "language": "python",
   "name": "python3"
  },
  "language_info": {
   "codemirror_mode": {
    "name": "ipython",
    "version": 2
   },
   "file_extension": ".py",
   "mimetype": "text/x-python",
   "name": "python",
   "nbconvert_exporter": "python",
   "pygments_lexer": "ipython2",
   "version": "2.7.6"
  }
 },
 "nbformat": 4,
 "nbformat_minor": 0
}
