{
 "cells": [
  {
   "cell_type": "markdown",
   "source": [
    "# 제 3유형 - 모집단 3개 이상"
   ],
   "metadata": {
    "collapsed": false
   }
  },
  {
   "cell_type": "markdown",
   "source": [
    "## 검정방법\n",
    "\n",
    "### 분산분석 (ANOVA) : A 집단 VS B 집단 VS C 집단 VS ...\n",
    "#### - (정규성 O) ANOVA 분석\n",
    "#### - (정규성 X) 크루스칼-왈리스 검정(Kruskal-wallis test)"
   ],
   "metadata": {
    "collapsed": false
   }
  },
  {
   "cell_type": "markdown",
   "source": [
    "### 가설 검정 순서 (중요 !!)\n",
    "\n",
    "#### 1. 가설 설정\n",
    "#### 2. 유의수준 확인\n",
    "#### 3. 정규성 검정  ** (주의) 집단 모두 정규성을 따를 경우\n",
    "#### 4. 등분산 검정  (등분산 / 이분산 주어질 가능성 높음)\n",
    "#### 5. 검정실시 (통계량, pvalue 확인)  ** (주의) 등분산여부 확인\n",
    "#### 6. 귀무가설 기각여부 결정 (채택 / 기각)"
   ],
   "metadata": {
    "collapsed": false
   }
  },
  {
   "cell_type": "markdown",
   "source": [
    "### 예제 문제\n",
    "\n",
    "다음은 A, B, C 그룹 인원 성적 데이터이다.\n",
    "세 그룹의 성적 평균이 같다고 할 수 있는지 ANOVA 분석을 실시하시오.\n",
    "\n",
    "(유의수준 5%)\n",
    "- 등분산 검정\n",
    "- A, B, C : 각 그룹 인원의 성적\n",
    "- H0(귀무가설) : A(평균) = B(평균) = C(평균)\n",
    "- H1(대립가설) : Not H0 (적어도 하나는 같지 않다)"
   ],
   "metadata": {
    "collapsed": false
   }
  },
  {
   "cell_type": "code",
   "execution_count": 1,
   "outputs": [
    {
     "name": "stdout",
     "output_type": "stream",
     "text": [
      "     A    B    C\n",
      "0  120  110  130\n",
      "1  135  132  120\n",
      "2  122  123  115\n"
     ]
    }
   ],
   "source": [
    "import pandas as pd\n",
    "import numpy as np\n",
    "import scipy.stats as stats\n",
    "\n",
    "df = pd.DataFrame( {\n",
    "    'A': [120, 135, 122, 124, 135, 122, 145, 160, 155, 142, 144, 135, 167],\n",
    "    'B' : [110, 132, 123, 119, 123, 115, 140, 162, 142, 138, 135, 142, 160],\n",
    "    'C' : [130, 120, 115, 122, 133, 144, 122, 120, 110, 134, 125, 122, 122]})\n",
    "print(df.head(3))"
   ],
   "metadata": {
    "collapsed": false,
    "ExecuteTime": {
     "end_time": "2023-11-27T02:02:18.684855Z",
     "start_time": "2023-11-27T02:02:18.681562Z"
    }
   }
  },
  {
   "cell_type": "code",
   "execution_count": null,
   "outputs": [],
   "source": [
    "# 1. 가설설정\n",
    "# H0: A, B, C 그룹의 성적의 평균이 같아\n",
    "# H1: 적어도 하나는 같지 않다."
   ],
   "metadata": {
    "collapsed": false
   }
  },
  {
   "cell_type": "code",
   "execution_count": null,
   "outputs": [],
   "source": [
    "# 2. 유의수준 확인 : 5%"
   ],
   "metadata": {
    "collapsed": false
   }
  },
  {
   "cell_type": "code",
   "execution_count": 2,
   "outputs": [
    {
     "name": "stdout",
     "output_type": "stream",
     "text": [
      "0.9314 0.3559\n",
      "0.9498 0.5956\n",
      "0.9397 0.4526\n"
     ]
    }
   ],
   "source": [
    "# 3. 정규성 검정 - 아노바 분석을 하라고 이미 나와있으니 정규성 검정은 끝난거.\n",
    "statisticA, pvalueA = stats.shapiro(df['A'])\n",
    "print(round(statisticA, 4), round(pvalueA, 4))\n",
    "\n",
    "statisticB, pvalueB = stats.shapiro(df['B'])\n",
    "print(round(statisticB, 4), round(pvalueB, 4))\n",
    "\n",
    "statisticC, pvalueC = stats.shapiro(df['C'])\n",
    "print(round(statisticC, 4), round(pvalueC, 4))\n",
    "\n",
    "# pvalue 값이 모두 0.05 유의수준을 넘기 때문에 정규분포임을 알 수 있음\n",
    "# 만약 하나라도 정규분포를 따르지 않는다면 비모수 검정방법을 써야함 (크루스칼-왈리스 검정)"
   ],
   "metadata": {
    "collapsed": false,
    "ExecuteTime": {
     "end_time": "2023-11-27T02:04:23.255438Z",
     "start_time": "2023-11-27T02:04:23.247973Z"
    }
   }
  },
  {
   "cell_type": "code",
   "execution_count": 3,
   "outputs": [
    {
     "name": "stdout",
     "output_type": "stream",
     "text": [
      "4.2222 0.1211\n"
     ]
    }
   ],
   "source": [
    "# 4. 등분산 검정 - 이미 등분산 검증 되어있음\n",
    "statistic, pvalue = stats.bartlett(df['A'], df['B'], df['C'])\n",
    "print(round(statistic, 4), round(pvalue, 4))"
   ],
   "metadata": {
    "collapsed": false,
    "ExecuteTime": {
     "end_time": "2023-11-27T02:20:13.454459Z",
     "start_time": "2023-11-27T02:20:13.446976Z"
    }
   }
  },
  {
   "cell_type": "code",
   "execution_count": 4,
   "outputs": [
    {
     "name": "stdout",
     "output_type": "stream",
     "text": [
      "3.6971 0.0346\n"
     ]
    }
   ],
   "source": [
    "# 5.1 정규성 검증, 등분산 검증 O - 분산분석 (F_oneway)\n",
    "# 주의 : 데이터가 각각 들어가야 함(밑에 예제와 비교해볼 것)\n",
    "statistic, pvalue = stats.f_oneway(df['A'], df['B'], df['C'])\n",
    "print(round(statistic, 4), round(pvalue, 4))\n",
    "\n",
    "# 귀무가설 기각"
   ],
   "metadata": {
    "collapsed": false,
    "ExecuteTime": {
     "end_time": "2023-11-27T02:40:23.090567Z",
     "start_time": "2023-11-27T02:40:23.084124Z"
    }
   }
  },
  {
   "cell_type": "code",
   "execution_count": null,
   "outputs": [],
   "source": [
    "# 5.2 정규성 O, 등분산성 X - Welch-ANOVA 분석 - 패키지 미지원"
   ],
   "metadata": {
    "collapsed": false
   }
  },
  {
   "cell_type": "code",
   "execution_count": 5,
   "outputs": [
    {
     "name": "stdout",
     "output_type": "stream",
     "text": [
      "6.897 0.0318\n"
     ]
    }
   ],
   "source": [
    "# 5.3 정규성 X - 크루스칼 왈리스 검정\n",
    "import scipy.stats as stats\n",
    "statistic, pvalue = stats.kruskal(df['A'], df['B'], df['C'])\n",
    "print(round(statistic, 4), round(pvalue, 4))"
   ],
   "metadata": {
    "collapsed": false,
    "ExecuteTime": {
     "end_time": "2023-11-27T04:05:26.528649Z",
     "start_time": "2023-11-27T04:05:26.522714Z"
    }
   }
  },
  {
   "cell_type": "markdown",
   "source": [],
   "metadata": {
    "collapsed": false
   }
  },
  {
   "cell_type": "code",
   "execution_count": null,
   "outputs": [],
   "source": [
    "# 6. 귀무가설 기각 여부 결정 (채택 / 기각)\n",
    "# p-value 값이 0.05보다 작기 때문에 귀무가설을 기각한다. = 대립가설 채택\n",
    "# 즉, A, B, C 그룹의 성적 평균이 같다고 할 수 없다.\n",
    "\n",
    "# 답 : 기각"
   ],
   "metadata": {
    "collapsed": false
   }
  },
  {
   "cell_type": "markdown",
   "source": [
    "### 문제 1-2 데이터 형태가 다를 경우"
   ],
   "metadata": {
    "collapsed": false
   }
  },
  {
   "cell_type": "code",
   "execution_count": 13,
   "outputs": [
    {
     "name": "stdout",
     "output_type": "stream",
     "text": [
      "  항목  value\n",
      "0  A    120\n",
      "1  A    135\n",
      "2  A    122\n"
     ]
    }
   ],
   "source": [
    "# 데이터 만들기\n",
    "df2 = pd.DataFrame( {\n",
    "    '항목': ['A','A','A','A','A','A','A','A','A','A','A','A','A',\n",
    "           'B','B','B','B','B','B','B','B','B','B','B','B','B',\n",
    "           'C','C','C','C','C','C','C','C','C','C','C','C','C',],\n",
    "    'value': [120, 135, 122, 124, 135, 122, 145, 160, 155, 142, 144, 135, 167,\n",
    "             110, 132, 123, 119, 123, 115, 140, 162, 142, 138, 135, 142, 160,\n",
    "             130, 120, 115, 122, 133, 144, 122, 120, 110, 134, 125, 122, 122]\n",
    "})\n",
    "print(df2.head(3))"
   ],
   "metadata": {
    "collapsed": false,
    "ExecuteTime": {
     "end_time": "2023-11-27T04:16:45.686139Z",
     "start_time": "2023-11-27T04:16:45.680262Z"
    }
   }
  },
  {
   "cell_type": "markdown",
   "source": [],
   "metadata": {
    "collapsed": false
   }
  },
  {
   "cell_type": "code",
   "execution_count": 15,
   "outputs": [
    {
     "name": "stdout",
     "output_type": "stream",
     "text": [
      "0     120\n",
      "1     135\n",
      "2     122\n",
      "3     124\n",
      "4     135\n",
      "5     122\n",
      "6     145\n",
      "7     160\n",
      "8     155\n",
      "9     142\n",
      "10    144\n",
      "11    135\n",
      "12    167\n",
      "Name: value, dtype: int64\n"
     ]
    }
   ],
   "source": [
    "# 각각 필터링해서 변수명에 저장하고 분석 진행\n",
    "a = df2[df2['항목']=='A']['value']\n",
    "b = df2[df2['항목']=='B']['value']\n",
    "c = df2[df2['항목']=='C']['value']\n",
    "print(a)"
   ],
   "metadata": {
    "collapsed": false,
    "ExecuteTime": {
     "end_time": "2023-11-27T04:17:09.560442Z",
     "start_time": "2023-11-27T04:17:09.551206Z"
    }
   }
  },
  {
   "cell_type": "code",
   "execution_count": 16,
   "outputs": [
    {
     "name": "stdout",
     "output_type": "stream",
     "text": [
      "3.6971 0.0346\n"
     ]
    }
   ],
   "source": [
    "# 분산 분석(F_oneway)\n",
    "import scipy.stats as stats\n",
    "statistic, pvalue = stats.f_oneway(a, b, c)\n",
    "print(round(statistic, 4), round(pvalue, 4))"
   ],
   "metadata": {
    "collapsed": false,
    "ExecuteTime": {
     "end_time": "2023-11-27T04:17:13.337923Z",
     "start_time": "2023-11-27T04:17:13.328554Z"
    }
   }
  },
  {
   "cell_type": "markdown",
   "source": [
    "## 제 3유형 - 카이제곱 검정"
   ],
   "metadata": {
    "collapsed": false
   }
  },
  {
   "cell_type": "markdown",
   "source": [
    "### 분석 Case\n",
    "#### Case 1. 적합도 검정 - 각 범주에 속할 확률이 같은지?\n",
    "#### Case 2. 독립성 검정 - 두 개의 범주형 변수가 서로 독립인지?"
   ],
   "metadata": {
    "collapsed": false
   }
  },
  {
   "cell_type": "markdown",
   "source": [
    "### 가설 검정 순서 ** (중요 !!)\n",
    "#### 1. 가설 설정\n",
    "#### 2. 유의수준 확인\n",
    "#### 3. 검정 실시 (통계량, pvalue, 기대값 확인)\n",
    "#### 4. 귀무가설 채택여부 결졍 (채택 / 기각)"
   ],
   "metadata": {
    "collapsed": false
   }
  },
  {
   "cell_type": "markdown",
   "source": [
    "## 예제문제\n",
    "### Case 1. 적합도 검정 - 각 범주에 속할 확률이 같은지?\n",
    "\n",
    "\n",
    "### 문제 1-1\n",
    "랜덤 박스에 상품 A, B, C, D가 들어있다.\n",
    "다음은 랜덤 박스에서 100번 상품을 꺼냈을 때의 상품 데이터라고 할 때 상품이 동일한 비율로 들어있다고 할 수 있는지 검정해보시오."
   ],
   "metadata": {
    "collapsed": false
   }
  },
  {
   "cell_type": "code",
   "execution_count": 18,
   "outputs": [
    {
     "data": {
      "text/plain": "    A   B   C   D\n0  30  20  15  35",
      "text/html": "<div>\n<style scoped>\n    .dataframe tbody tr th:only-of-type {\n        vertical-align: middle;\n    }\n\n    .dataframe tbody tr th {\n        vertical-align: top;\n    }\n\n    .dataframe thead th {\n        text-align: right;\n    }\n</style>\n<table border=\"1\" class=\"dataframe\">\n  <thead>\n    <tr style=\"text-align: right;\">\n      <th></th>\n      <th>A</th>\n      <th>B</th>\n      <th>C</th>\n      <th>D</th>\n    </tr>\n  </thead>\n  <tbody>\n    <tr>\n      <th>0</th>\n      <td>30</td>\n      <td>20</td>\n      <td>15</td>\n      <td>35</td>\n    </tr>\n  </tbody>\n</table>\n</div>"
     },
     "execution_count": 18,
     "metadata": {},
     "output_type": "execute_result"
    }
   ],
   "source": [
    "import pandas as pd\n",
    "import numpy as np\n",
    "\n",
    "# 데이터 생성\n",
    "row1 = [30, 20, 15, 35]\n",
    "df = pd.DataFrame([row1], columns=['A','B','C', 'D'])\n",
    "df"
   ],
   "metadata": {
    "collapsed": false,
    "ExecuteTime": {
     "end_time": "2023-11-27T04:26:28.296129Z",
     "start_time": "2023-11-27T04:26:28.286162Z"
    }
   }
  },
  {
   "cell_type": "code",
   "execution_count": null,
   "outputs": [],
   "source": [
    "# 1. 가설 설정 - 적합성 검정의 H0과 H1은 동일\n",
    "# H0: 상품이 동일한 비율로 들어있다.\n",
    "# H1: 상품이 동일한 비율로 들어있지 않다."
   ],
   "metadata": {
    "collapsed": false
   }
  },
  {
   "cell_type": "code",
   "execution_count": null,
   "outputs": [],
   "source": [
    "# 2. 유의수준 확인 : 5%"
   ],
   "metadata": {
    "collapsed": false
   }
  },
  {
   "cell_type": "code",
   "execution_count": 19,
   "outputs": [
    {
     "name": "stdout",
     "output_type": "stream",
     "text": [
      "10.0 0.01856613546304325\n"
     ]
    }
   ],
   "source": [
    "# 3. 검정 실시 (통계량, pvalue)\n",
    "# chisquare(f_obs=f_obs, f_exp=f_exp) # 관측값, 기댓값\n",
    "f_obs = [30, 20, 15, 35]\n",
    "f_exp = [25, 25, 25, 25]\n",
    "statistic, pvalue = stats.chisquare(f_obs=f_obs, f_exp=f_exp)\n",
    "print(statistic, pvalue)"
   ],
   "metadata": {
    "collapsed": false,
    "ExecuteTime": {
     "end_time": "2023-11-27T04:31:21.795471Z",
     "start_time": "2023-11-27T04:31:21.787128Z"
    }
   }
  },
  {
   "cell_type": "code",
   "execution_count": null,
   "outputs": [],
   "source": [
    "# 4. 귀무가설 기각 여부 결정 (채택/기각)\n",
    "# pvalue 값이 0.05 미만이므로 귀무가설 기각\n",
    "# 즉, 같은 비율로 들어있지 않다.\n",
    "\n",
    "# 정답: 기각"
   ],
   "metadata": {
    "collapsed": false
   }
  },
  {
   "cell_type": "markdown",
   "source": [
    "### 문제 1-2\n",
    "랜덤 박스에 상품 A, B, C, D가 들어있다.\n",
    "다음은 랜덤 박스에서 150번째 상품을 꺼냈을 때의 상품 데이터라고 할 때 상품별로 A 30%, B 15%, C 55% 비율로 들어있다고 할 수 있는지 검정해보시오."
   ],
   "metadata": {
    "collapsed": false
   }
  },
  {
   "cell_type": "code",
   "execution_count": 20,
   "outputs": [
    {
     "data": {
      "text/plain": "    A   B   C\n0  50  25  75",
      "text/html": "<div>\n<style scoped>\n    .dataframe tbody tr th:only-of-type {\n        vertical-align: middle;\n    }\n\n    .dataframe tbody tr th {\n        vertical-align: top;\n    }\n\n    .dataframe thead th {\n        text-align: right;\n    }\n</style>\n<table border=\"1\" class=\"dataframe\">\n  <thead>\n    <tr style=\"text-align: right;\">\n      <th></th>\n      <th>A</th>\n      <th>B</th>\n      <th>C</th>\n    </tr>\n  </thead>\n  <tbody>\n    <tr>\n      <th>0</th>\n      <td>50</td>\n      <td>25</td>\n      <td>75</td>\n    </tr>\n  </tbody>\n</table>\n</div>"
     },
     "execution_count": 20,
     "metadata": {},
     "output_type": "execute_result"
    }
   ],
   "source": [
    "# 데이터 생성\n",
    "row1 = [50,25,75]\n",
    "df = pd.DataFrame([row1], columns=['A','B','C'])\n",
    "df"
   ],
   "metadata": {
    "collapsed": false,
    "ExecuteTime": {
     "end_time": "2023-11-27T04:35:04.831268Z",
     "start_time": "2023-11-27T04:35:04.817460Z"
    }
   }
  },
  {
   "cell_type": "code",
   "execution_count": null,
   "outputs": [],
   "source": [
    "# 1. 가설 설정\n",
    "# H0 : A 30%, B 15%, C 55% 비율로 들어있다.\n",
    "# H1 : A 30%, B 15%, C 55% 비율로 들어있자 않다."
   ],
   "metadata": {
    "collapsed": false
   }
  },
  {
   "cell_type": "code",
   "execution_count": null,
   "outputs": [],
   "source": [
    "# 2. 유의수준 확인 : 0.05%"
   ],
   "metadata": {
    "collapsed": false
   }
  },
  {
   "cell_type": "code",
   "execution_count": 28,
   "outputs": [
    {
     "name": "stdout",
     "output_type": "stream",
     "text": [
      "1.5151515151515151 0.46880153914023537\n"
     ]
    }
   ],
   "source": [
    "# 3. 검증\n",
    "import scipy.stats as stats\n",
    "from scipy.stats import chisquare\n",
    "# chisquare(f_obs=f_obs, f_exp=f_exp)\n",
    "\n",
    "# 비율아 같아야 함\n",
    "f_obs = [50, 25, 75]\n",
    "# 150 * 0.3 , 150 * 0.15, 150 * 0.55 도 동일\n",
    "f_exp = [30 * 1.5, 15 * 1.5, 55 * 1.5]\n",
    "\n",
    "statistic, pvalue = stats.chisquare(f_obs=f_obs, f_exp=f_exp)\n",
    "print(statistic, pvalue)"
   ],
   "metadata": {
    "collapsed": false,
    "ExecuteTime": {
     "end_time": "2023-11-27T04:42:36.247930Z",
     "start_time": "2023-11-27T04:42:36.238032Z"
    }
   }
  },
  {
   "cell_type": "code",
   "execution_count": null,
   "outputs": [],
   "source": [
    "# 4. 귀무가설 기각 여부 확인 (채택/기각)\n",
    "# 정답: 채택"
   ],
   "metadata": {
    "collapsed": false
   }
  },
  {
   "cell_type": "markdown",
   "source": [
    "## 예제문제\n",
    "### Case 2. 독립성 검정 - 두 개의 범주형 변수가 서로 독립인지?\n",
    "\n",
    "\n",
    "### 문제 2-1\n",
    "연령대에 따라 먹는 아이스크림의 차이가 있는지 독립성 검정을 실시하시오."
   ],
   "metadata": {
    "collapsed": false
   }
  },
  {
   "cell_type": "code",
   "execution_count": 30,
   "outputs": [],
   "source": [
    "import pandas as pd\n",
    "import numpy as np"
   ],
   "metadata": {
    "collapsed": false,
    "ExecuteTime": {
     "end_time": "2023-11-27T04:46:17.373878Z",
     "start_time": "2023-11-27T04:46:17.369023Z"
    }
   }
  },
  {
   "cell_type": "code",
   "execution_count": 36,
   "outputs": [
    {
     "data": {
      "text/plain": "      딸기   초코  바닐라\n10대  200  190  250\n20대  220  250  300",
      "text/html": "<div>\n<style scoped>\n    .dataframe tbody tr th:only-of-type {\n        vertical-align: middle;\n    }\n\n    .dataframe tbody tr th {\n        vertical-align: top;\n    }\n\n    .dataframe thead th {\n        text-align: right;\n    }\n</style>\n<table border=\"1\" class=\"dataframe\">\n  <thead>\n    <tr style=\"text-align: right;\">\n      <th></th>\n      <th>딸기</th>\n      <th>초코</th>\n      <th>바닐라</th>\n    </tr>\n  </thead>\n  <tbody>\n    <tr>\n      <th>10대</th>\n      <td>200</td>\n      <td>190</td>\n      <td>250</td>\n    </tr>\n    <tr>\n      <th>20대</th>\n      <td>220</td>\n      <td>250</td>\n      <td>300</td>\n    </tr>\n  </tbody>\n</table>\n</div>"
     },
     "execution_count": 36,
     "metadata": {},
     "output_type": "execute_result"
    }
   ],
   "source": [
    "# 데이터 생성\n",
    "row1, row2 = [200, 190, 250], [220, 250, 300]\n",
    "df = pd.DataFrame([row1, row2], columns=['딸기','초코','바닐라'], index=['10대', '20대'])\n",
    "df"
   ],
   "metadata": {
    "collapsed": false,
    "ExecuteTime": {
     "end_time": "2023-11-27T05:02:46.986165Z",
     "start_time": "2023-11-27T05:02:46.977211Z"
    }
   }
  },
  {
   "cell_type": "code",
   "execution_count": null,
   "outputs": [],
   "source": [
    "# 1. 가설설정\n",
    "# H0: 연령대와 먹는 아이스크림의 종류는 서로 관련이 없다. (두 변수는 서로 독립이다.)\n",
    "# H1: 연령대와 먹는 아이스크림의 종류는 서로 관련이 있다. (두 변수는 서로 독립이 아니다.)"
   ],
   "metadata": {
    "collapsed": false
   }
  },
  {
   "cell_type": "code",
   "execution_count": null,
   "outputs": [],
   "source": [
    "# 2. 유의수준 확인 - 5%"
   ],
   "metadata": {
    "collapsed": false
   }
  },
  {
   "cell_type": "code",
   "execution_count": 46,
   "outputs": [
    {
     "name": "stdout",
     "output_type": "stream",
     "text": [
      "1.708360126075226 0.4256320394874311\n",
      "2\n",
      "[[190.64 199.72 249.65]\n",
      " [229.36 240.28 300.35]]\n"
     ]
    }
   ],
   "source": [
    "# 3. 가설 검정 (통계량, pvalue, 기댓값 확인)\n",
    "import scipy.stats as stats\n",
    "\n",
    "# 데이터 프레임 형태에서 인덱싱하여 풀이  # 카이제곱 언더바 컨틴전시\n",
    "statistic, pvalue, dof, expected = stats.chi2_contingency(df)\n",
    "# 공식 문서 상에 statistic(통계량), pvalue, dof(자유도), expected_freq(기대값)\n",
    "\n",
    "# statistic, pvalue, dof, expected = stats.chi2_contingency([row1, row2])\n",
    "# statistic, pvalue, dof, expected = stats.chi2_contingency([df.iloc[0], df.iloc[1]])\n",
    "\n",
    "print(statistic, pvalue)\n",
    "print(dof)\n",
    "print(np.round(expected, 2))  # 그냥 round 히면 안되고, np.round() 써주기"
   ],
   "metadata": {
    "collapsed": false,
    "ExecuteTime": {
     "end_time": "2023-11-27T07:45:18.344149Z",
     "start_time": "2023-11-27T07:45:18.334800Z"
    }
   }
  },
  {
   "cell_type": "code",
   "execution_count": null,
   "outputs": [],
   "source": [
    "# 귀무가설 기각 여부 결정 (채택 / 기각)\n",
    "# p-value 값이 0.05보다 크기 때문에 귀무가설 채택"
   ],
   "metadata": {
    "collapsed": false
   }
  },
  {
   "cell_type": "markdown",
   "source": [
    "### (추가) 만약 데이터 형태가 다를경우?"
   ],
   "metadata": {
    "collapsed": false
   }
  },
  {
   "cell_type": "code",
   "execution_count": 47,
   "outputs": [
    {
     "data": {
      "text/plain": "  아이스크림   연령   인원\n0    딸기  10대  200\n1    초코  10대  190\n2   바닐라  10대  250\n3    딸기  20대  220\n4    초코  20대  250\n5   바닐라  20대  300",
      "text/html": "<div>\n<style scoped>\n    .dataframe tbody tr th:only-of-type {\n        vertical-align: middle;\n    }\n\n    .dataframe tbody tr th {\n        vertical-align: top;\n    }\n\n    .dataframe thead th {\n        text-align: right;\n    }\n</style>\n<table border=\"1\" class=\"dataframe\">\n  <thead>\n    <tr style=\"text-align: right;\">\n      <th></th>\n      <th>아이스크림</th>\n      <th>연령</th>\n      <th>인원</th>\n    </tr>\n  </thead>\n  <tbody>\n    <tr>\n      <th>0</th>\n      <td>딸기</td>\n      <td>10대</td>\n      <td>200</td>\n    </tr>\n    <tr>\n      <th>1</th>\n      <td>초코</td>\n      <td>10대</td>\n      <td>190</td>\n    </tr>\n    <tr>\n      <th>2</th>\n      <td>바닐라</td>\n      <td>10대</td>\n      <td>250</td>\n    </tr>\n    <tr>\n      <th>3</th>\n      <td>딸기</td>\n      <td>20대</td>\n      <td>220</td>\n    </tr>\n    <tr>\n      <th>4</th>\n      <td>초코</td>\n      <td>20대</td>\n      <td>250</td>\n    </tr>\n    <tr>\n      <th>5</th>\n      <td>바닐라</td>\n      <td>20대</td>\n      <td>300</td>\n    </tr>\n  </tbody>\n</table>\n</div>"
     },
     "execution_count": 47,
     "metadata": {},
     "output_type": "execute_result"
    }
   ],
   "source": [
    "# ** tip: pd.crosstab() 사용법\n",
    "# (Case 1) 만약 데이터가 아래와 같이 주어진다면?\n",
    "df = pd.DataFrame({\n",
    "'아이스크림' : ['딸기','초코','바닐라','딸기','초코','바닐라'], '연령' : ['10대','10대','10대','20대','20대','20대'],\n",
    "'인원' : [200,190,250,220,250,300]\n",
    "})\n",
    "df"
   ],
   "metadata": {
    "collapsed": false,
    "ExecuteTime": {
     "end_time": "2023-11-27T07:50:03.125980Z",
     "start_time": "2023-11-27T07:50:03.117657Z"
    }
   }
  },
  {
   "cell_type": "code",
   "execution_count": 57,
   "outputs": [
    {
     "name": "stderr",
     "output_type": "stream",
     "text": [
      "/var/folders/pv/sl3vjv5143z0z4cgqn536n400000gn/T/ipykernel_1736/1534203094.py:6: FutureWarning: The provided callable <built-in function sum> is currently using DataFrameGroupBy.sum. In a future version of pandas, the provided callable will be used directly. To keep current behavior pass the string \"sum\" instead.\n",
      "  table = pd.crosstab(index=df['연령'], columns=df['아이스크림'], values=df['인원'], aggfunc=sum)\n"
     ]
    },
    {
     "data": {
      "text/plain": "아이스크림   딸기  바닐라   초코\n연령                  \n10대    200  250  190\n20대    220  300  250",
      "text/html": "<div>\n<style scoped>\n    .dataframe tbody tr th:only-of-type {\n        vertical-align: middle;\n    }\n\n    .dataframe tbody tr th {\n        vertical-align: top;\n    }\n\n    .dataframe thead th {\n        text-align: right;\n    }\n</style>\n<table border=\"1\" class=\"dataframe\">\n  <thead>\n    <tr style=\"text-align: right;\">\n      <th>아이스크림</th>\n      <th>딸기</th>\n      <th>바닐라</th>\n      <th>초코</th>\n    </tr>\n    <tr>\n      <th>연령</th>\n      <th></th>\n      <th></th>\n      <th></th>\n    </tr>\n  </thead>\n  <tbody>\n    <tr>\n      <th>10대</th>\n      <td>200</td>\n      <td>250</td>\n      <td>190</td>\n    </tr>\n    <tr>\n      <th>20대</th>\n      <td>220</td>\n      <td>300</td>\n      <td>250</td>\n    </tr>\n  </tbody>\n</table>\n</div>"
     },
     "execution_count": 57,
     "metadata": {},
     "output_type": "execute_result"
    }
   ],
   "source": [
    "# 위처럼 데이터 나올경우 그냥 df 새로 만들어도 되고,\n",
    "# row1 = ['딸기', '초코']\n",
    "\n",
    "# pd.crosstab(index=, columns=, values=, aggfunc=sum)\n",
    "# 주의 : index, columns\n",
    "table = pd.crosstab(index=df['연령'], columns=df['아이스크림'], values=df['인원'], aggfunc=sum)\n",
    "table"
   ],
   "metadata": {
    "collapsed": false,
    "ExecuteTime": {
     "end_time": "2023-11-27T08:01:09.014824Z",
     "start_time": "2023-11-27T08:01:09.007588Z"
    }
   }
  },
  {
   "cell_type": "code",
   "execution_count": 58,
   "outputs": [
    {
     "name": "stdout",
     "output_type": "stream",
     "text": [
      "1.708360126075226\n",
      "0.4256320394874311\n",
      "2\n",
      "[[190.64 249.65 199.72]\n",
      " [229.36 300.35 240.28]]\n"
     ]
    }
   ],
   "source": [
    "# 검정 통계 실시\n",
    "import scipy.stats as stats\n",
    "statistic, pvalue, dof, expected = stats.chi2_contingency(table)\n",
    "print(statistic)\n",
    "print(pvalue)\n",
    "print(dof)\n",
    "print(np.round(expected, 2))"
   ],
   "metadata": {
    "collapsed": false,
    "ExecuteTime": {
     "end_time": "2023-11-27T08:01:36.116850Z",
     "start_time": "2023-11-27T08:01:36.108811Z"
    }
   }
  },
  {
   "cell_type": "code",
   "execution_count": 60,
   "outputs": [
    {
     "data": {
      "text/plain": "  아이스크림   연령\n0    딸기  10대\n1    초코  10대\n2   바닐라  10대\n3    딸기  20대\n4    초코  20대\n5   바닐라  20대",
      "text/html": "<div>\n<style scoped>\n    .dataframe tbody tr th:only-of-type {\n        vertical-align: middle;\n    }\n\n    .dataframe tbody tr th {\n        vertical-align: top;\n    }\n\n    .dataframe thead th {\n        text-align: right;\n    }\n</style>\n<table border=\"1\" class=\"dataframe\">\n  <thead>\n    <tr style=\"text-align: right;\">\n      <th></th>\n      <th>아이스크림</th>\n      <th>연령</th>\n    </tr>\n  </thead>\n  <tbody>\n    <tr>\n      <th>0</th>\n      <td>딸기</td>\n      <td>10대</td>\n    </tr>\n    <tr>\n      <th>1</th>\n      <td>초코</td>\n      <td>10대</td>\n    </tr>\n    <tr>\n      <th>2</th>\n      <td>바닐라</td>\n      <td>10대</td>\n    </tr>\n    <tr>\n      <th>3</th>\n      <td>딸기</td>\n      <td>20대</td>\n    </tr>\n    <tr>\n      <th>4</th>\n      <td>초코</td>\n      <td>20대</td>\n    </tr>\n    <tr>\n      <th>5</th>\n      <td>바닐라</td>\n      <td>20대</td>\n    </tr>\n  </tbody>\n</table>\n</div>"
     },
     "execution_count": 60,
     "metadata": {},
     "output_type": "execute_result"
    }
   ],
   "source": [
    "# (Case2) 만약 데이터가 아래와 같이 주어진다면? # (이해를 위한 참고용입니다, 빈도수 카운팅)\n",
    "#  이렇게 나오는 경우가 많음, 값이 정확히 주어지지 않았을 경우, crosstab 함수 써서 (index, columns) 이 두개 값만 입력해주면 됨\n",
    "df = pd.DataFrame({\n",
    "'아이스크림' : ['딸기','초코','바닐라','딸기','초코','바닐라'],\n",
    "'연령' : ['10대','10대','10대','20대','20대','20대'],\n",
    "    })\n",
    "df"
   ],
   "metadata": {
    "collapsed": false,
    "ExecuteTime": {
     "end_time": "2023-11-27T08:04:29.921966Z",
     "start_time": "2023-11-27T08:04:29.914182Z"
    }
   }
  },
  {
   "cell_type": "code",
   "execution_count": 61,
   "outputs": [
    {
     "data": {
      "text/plain": "아이스크림  딸기  바닐라  초코\n연령                \n10대     1    1   1\n20대     1    1   1",
      "text/html": "<div>\n<style scoped>\n    .dataframe tbody tr th:only-of-type {\n        vertical-align: middle;\n    }\n\n    .dataframe tbody tr th {\n        vertical-align: top;\n    }\n\n    .dataframe thead th {\n        text-align: right;\n    }\n</style>\n<table border=\"1\" class=\"dataframe\">\n  <thead>\n    <tr style=\"text-align: right;\">\n      <th>아이스크림</th>\n      <th>딸기</th>\n      <th>바닐라</th>\n      <th>초코</th>\n    </tr>\n    <tr>\n      <th>연령</th>\n      <th></th>\n      <th></th>\n      <th></th>\n    </tr>\n  </thead>\n  <tbody>\n    <tr>\n      <th>10대</th>\n      <td>1</td>\n      <td>1</td>\n      <td>1</td>\n    </tr>\n    <tr>\n      <th>20대</th>\n      <td>1</td>\n      <td>1</td>\n      <td>1</td>\n    </tr>\n  </tbody>\n</table>\n</div>"
     },
     "execution_count": 61,
     "metadata": {},
     "output_type": "execute_result"
    }
   ],
   "source": [
    "table = pd.crosstab(df['연령'], df['아이스크림'])\n",
    "table"
   ],
   "metadata": {
    "collapsed": false,
    "ExecuteTime": {
     "end_time": "2023-11-27T08:05:05.034536Z",
     "start_time": "2023-11-27T08:05:05.030196Z"
    }
   }
  },
  {
   "cell_type": "markdown",
   "source": [
    "### 문제 2-2\n",
    "#### - 타이타닉 데이터에서 성별(sex)과 생존여부(survived) 변수간 독립성 검정을 실시하시오."
   ],
   "metadata": {
    "collapsed": false
   }
  },
  {
   "cell_type": "code",
   "execution_count": null,
   "outputs": [],
   "source": [
    "# 1. 가설 설정\n",
    "# H0 : 두 변수는 독립적이다.\n",
    "# H1 : 두 변수는 독립적이지 않댜.\n",
    "\n",
    "# 행 : 연령, 열 : 생존여부, 숫자 : 빈도"
   ],
   "metadata": {
    "collapsed": false
   }
  },
  {
   "cell_type": "code",
   "execution_count": 65,
   "outputs": [
    {
     "data": {
      "text/plain": "     survived  pclass     sex   age  sibsp  parch     fare embarked   class  \\\n0           0       3    male  22.0      1      0   7.2500        S   Third   \n1           1       1  female  38.0      1      0  71.2833        C   First   \n2           1       3  female  26.0      0      0   7.9250        S   Third   \n3           1       1  female  35.0      1      0  53.1000        S   First   \n4           0       3    male  35.0      0      0   8.0500        S   Third   \n..        ...     ...     ...   ...    ...    ...      ...      ...     ...   \n886         0       2    male  27.0      0      0  13.0000        S  Second   \n887         1       1  female  19.0      0      0  30.0000        S   First   \n888         0       3  female   NaN      1      2  23.4500        S   Third   \n889         1       1    male  26.0      0      0  30.0000        C   First   \n890         0       3    male  32.0      0      0   7.7500        Q   Third   \n\n       who  adult_male deck  embark_town alive  alone  \n0      man        True  NaN  Southampton    no  False  \n1    woman       False    C    Cherbourg   yes  False  \n2    woman       False  NaN  Southampton   yes   True  \n3    woman       False    C  Southampton   yes  False  \n4      man        True  NaN  Southampton    no   True  \n..     ...         ...  ...          ...   ...    ...  \n886    man        True  NaN  Southampton    no   True  \n887  woman       False    B  Southampton   yes   True  \n888  woman       False  NaN  Southampton    no  False  \n889    man        True    C    Cherbourg   yes   True  \n890    man        True  NaN   Queenstown    no   True  \n\n[891 rows x 15 columns]",
      "text/html": "<div>\n<style scoped>\n    .dataframe tbody tr th:only-of-type {\n        vertical-align: middle;\n    }\n\n    .dataframe tbody tr th {\n        vertical-align: top;\n    }\n\n    .dataframe thead th {\n        text-align: right;\n    }\n</style>\n<table border=\"1\" class=\"dataframe\">\n  <thead>\n    <tr style=\"text-align: right;\">\n      <th></th>\n      <th>survived</th>\n      <th>pclass</th>\n      <th>sex</th>\n      <th>age</th>\n      <th>sibsp</th>\n      <th>parch</th>\n      <th>fare</th>\n      <th>embarked</th>\n      <th>class</th>\n      <th>who</th>\n      <th>adult_male</th>\n      <th>deck</th>\n      <th>embark_town</th>\n      <th>alive</th>\n      <th>alone</th>\n    </tr>\n  </thead>\n  <tbody>\n    <tr>\n      <th>0</th>\n      <td>0</td>\n      <td>3</td>\n      <td>male</td>\n      <td>22.0</td>\n      <td>1</td>\n      <td>0</td>\n      <td>7.2500</td>\n      <td>S</td>\n      <td>Third</td>\n      <td>man</td>\n      <td>True</td>\n      <td>NaN</td>\n      <td>Southampton</td>\n      <td>no</td>\n      <td>False</td>\n    </tr>\n    <tr>\n      <th>1</th>\n      <td>1</td>\n      <td>1</td>\n      <td>female</td>\n      <td>38.0</td>\n      <td>1</td>\n      <td>0</td>\n      <td>71.2833</td>\n      <td>C</td>\n      <td>First</td>\n      <td>woman</td>\n      <td>False</td>\n      <td>C</td>\n      <td>Cherbourg</td>\n      <td>yes</td>\n      <td>False</td>\n    </tr>\n    <tr>\n      <th>2</th>\n      <td>1</td>\n      <td>3</td>\n      <td>female</td>\n      <td>26.0</td>\n      <td>0</td>\n      <td>0</td>\n      <td>7.9250</td>\n      <td>S</td>\n      <td>Third</td>\n      <td>woman</td>\n      <td>False</td>\n      <td>NaN</td>\n      <td>Southampton</td>\n      <td>yes</td>\n      <td>True</td>\n    </tr>\n    <tr>\n      <th>3</th>\n      <td>1</td>\n      <td>1</td>\n      <td>female</td>\n      <td>35.0</td>\n      <td>1</td>\n      <td>0</td>\n      <td>53.1000</td>\n      <td>S</td>\n      <td>First</td>\n      <td>woman</td>\n      <td>False</td>\n      <td>C</td>\n      <td>Southampton</td>\n      <td>yes</td>\n      <td>False</td>\n    </tr>\n    <tr>\n      <th>4</th>\n      <td>0</td>\n      <td>3</td>\n      <td>male</td>\n      <td>35.0</td>\n      <td>0</td>\n      <td>0</td>\n      <td>8.0500</td>\n      <td>S</td>\n      <td>Third</td>\n      <td>man</td>\n      <td>True</td>\n      <td>NaN</td>\n      <td>Southampton</td>\n      <td>no</td>\n      <td>True</td>\n    </tr>\n    <tr>\n      <th>...</th>\n      <td>...</td>\n      <td>...</td>\n      <td>...</td>\n      <td>...</td>\n      <td>...</td>\n      <td>...</td>\n      <td>...</td>\n      <td>...</td>\n      <td>...</td>\n      <td>...</td>\n      <td>...</td>\n      <td>...</td>\n      <td>...</td>\n      <td>...</td>\n      <td>...</td>\n    </tr>\n    <tr>\n      <th>886</th>\n      <td>0</td>\n      <td>2</td>\n      <td>male</td>\n      <td>27.0</td>\n      <td>0</td>\n      <td>0</td>\n      <td>13.0000</td>\n      <td>S</td>\n      <td>Second</td>\n      <td>man</td>\n      <td>True</td>\n      <td>NaN</td>\n      <td>Southampton</td>\n      <td>no</td>\n      <td>True</td>\n    </tr>\n    <tr>\n      <th>887</th>\n      <td>1</td>\n      <td>1</td>\n      <td>female</td>\n      <td>19.0</td>\n      <td>0</td>\n      <td>0</td>\n      <td>30.0000</td>\n      <td>S</td>\n      <td>First</td>\n      <td>woman</td>\n      <td>False</td>\n      <td>B</td>\n      <td>Southampton</td>\n      <td>yes</td>\n      <td>True</td>\n    </tr>\n    <tr>\n      <th>888</th>\n      <td>0</td>\n      <td>3</td>\n      <td>female</td>\n      <td>NaN</td>\n      <td>1</td>\n      <td>2</td>\n      <td>23.4500</td>\n      <td>S</td>\n      <td>Third</td>\n      <td>woman</td>\n      <td>False</td>\n      <td>NaN</td>\n      <td>Southampton</td>\n      <td>no</td>\n      <td>False</td>\n    </tr>\n    <tr>\n      <th>889</th>\n      <td>1</td>\n      <td>1</td>\n      <td>male</td>\n      <td>26.0</td>\n      <td>0</td>\n      <td>0</td>\n      <td>30.0000</td>\n      <td>C</td>\n      <td>First</td>\n      <td>man</td>\n      <td>True</td>\n      <td>C</td>\n      <td>Cherbourg</td>\n      <td>yes</td>\n      <td>True</td>\n    </tr>\n    <tr>\n      <th>890</th>\n      <td>0</td>\n      <td>3</td>\n      <td>male</td>\n      <td>32.0</td>\n      <td>0</td>\n      <td>0</td>\n      <td>7.7500</td>\n      <td>Q</td>\n      <td>Third</td>\n      <td>man</td>\n      <td>True</td>\n      <td>NaN</td>\n      <td>Queenstown</td>\n      <td>no</td>\n      <td>True</td>\n    </tr>\n  </tbody>\n</table>\n<p>891 rows × 15 columns</p>\n</div>"
     },
     "execution_count": 65,
     "metadata": {},
     "output_type": "execute_result"
    }
   ],
   "source": [
    "import seaborn as sns\n",
    "df = sns.load_dataset('titanic')\n",
    "df"
   ],
   "metadata": {
    "collapsed": false,
    "ExecuteTime": {
     "end_time": "2023-11-27T08:08:09.730160Z",
     "start_time": "2023-11-27T08:08:09.688534Z"
    }
   }
  },
  {
   "cell_type": "code",
   "execution_count": 66,
   "outputs": [
    {
     "data": {
      "text/plain": "survived    0    1\nsex               \nfemale     81  233\nmale      468  109",
      "text/html": "<div>\n<style scoped>\n    .dataframe tbody tr th:only-of-type {\n        vertical-align: middle;\n    }\n\n    .dataframe tbody tr th {\n        vertical-align: top;\n    }\n\n    .dataframe thead th {\n        text-align: right;\n    }\n</style>\n<table border=\"1\" class=\"dataframe\">\n  <thead>\n    <tr style=\"text-align: right;\">\n      <th>survived</th>\n      <th>0</th>\n      <th>1</th>\n    </tr>\n    <tr>\n      <th>sex</th>\n      <th></th>\n      <th></th>\n    </tr>\n  </thead>\n  <tbody>\n    <tr>\n      <th>female</th>\n      <td>81</td>\n      <td>233</td>\n    </tr>\n    <tr>\n      <th>male</th>\n      <td>468</td>\n      <td>109</td>\n    </tr>\n  </tbody>\n</table>\n</div>"
     },
     "execution_count": 66,
     "metadata": {},
     "output_type": "execute_result"
    }
   ],
   "source": [
    "table = pd.crosstab(index=df['sex'], columns=df['survived'])\n",
    "table"
   ],
   "metadata": {
    "collapsed": false,
    "ExecuteTime": {
     "end_time": "2023-11-27T08:09:30.392892Z",
     "start_time": "2023-11-27T08:09:30.380370Z"
    }
   }
  },
  {
   "cell_type": "code",
   "execution_count": 72,
   "outputs": [
    {
     "name": "stdout",
     "output_type": "stream",
     "text": [
      "260.717 0.0\n",
      "1\n",
      "[[193.47 120.53]\n",
      " [355.53 221.47]]\n"
     ]
    }
   ],
   "source": [
    "statistic, pvalue, dof, expected = stats.chi2_contingency(table)\n",
    "print(round(statistic, 4), round(pvalue, 10))  # 거의 0에 가깝다.\n",
    "print(dof)\n",
    "print(np.round(expected,2))"
   ],
   "metadata": {
    "collapsed": false,
    "ExecuteTime": {
     "end_time": "2023-11-27T08:16:04.746118Z",
     "start_time": "2023-11-27T08:16:04.736909Z"
    }
   }
  },
  {
   "cell_type": "code",
   "execution_count": null,
   "outputs": [],
   "source": [
    "# 4. 귀무가설 기각 여부 결정 (채택 / 기각)\n",
    "# p-value 값이 0.05보다 작기 때문에 귀무가설을 기각한다.\n",
    "# 즉, 성별과 생존 여부는 서로 관련이 있다고 할 수 있다.\n",
    "\n",
    "# 답: 기각"
   ],
   "metadata": {
    "collapsed": false
   }
  },
  {
   "cell_type": "markdown",
   "source": [
    "#### 데이터를 변경해보면서 이해하기"
   ],
   "metadata": {
    "collapsed": false
   }
  },
  {
   "cell_type": "code",
   "execution_count": 73,
   "outputs": [
    {
     "name": "stdout",
     "output_type": "stream",
     "text": [
      "          0    1\n",
      "female  160  160\n",
      "male    250  220\n"
     ]
    }
   ],
   "source": [
    "# 임의 데이터 생성\n",
    "sex, survived = [160, 160], [250, 220]\n",
    "table = pd.DataFrame([sex, survived], columns=['0', '1'], index= ['female', 'male'])\n",
    "print(table)"
   ],
   "metadata": {
    "collapsed": false,
    "ExecuteTime": {
     "end_time": "2023-11-27T08:21:54.829307Z",
     "start_time": "2023-11-27T08:21:54.822355Z"
    }
   }
  },
  {
   "cell_type": "markdown",
   "source": [],
   "metadata": {
    "collapsed": false
   }
  },
  {
   "cell_type": "code",
   "execution_count": 74,
   "outputs": [
    {
     "name": "stdout",
     "output_type": "stream",
     "text": [
      "0.6542 0.4186187633\n",
      "1\n",
      "[[166.08 153.92]\n",
      " [243.92 226.08]]\n"
     ]
    }
   ],
   "source": [
    "# 검정 실시\n",
    "import scipy.stats as stats\n",
    "statistic, pvalue, dof, expected = stats.chi2_contingency(table)\n",
    "\n",
    "print(round(statistic, 4), round(pvalue, 10))  # 거의 0에 가깝다.\n",
    "print(dof)\n",
    "print(np.round(expected,2))\n",
    "\n",
    "# pvalue 값이 유의수준보다 크기 때문에 귀무가설 채택"
   ],
   "metadata": {
    "collapsed": false,
    "ExecuteTime": {
     "end_time": "2023-11-27T08:26:09.058662Z",
     "start_time": "2023-11-27T08:26:09.053618Z"
    }
   }
  },
  {
   "cell_type": "markdown",
   "source": [
    "## 제 3유형 - 다중회귀분석 및 상관분석"
   ],
   "metadata": {
    "collapsed": false
   }
  },
  {
   "cell_type": "markdown",
   "source": [
    "### * 다중회귀분석"
   ],
   "metadata": {
    "collapsed": false
   }
  },
  {
   "cell_type": "code",
   "execution_count": 76,
   "outputs": [],
   "source": [
    "import pandas as pd\n",
    "import numpy as np"
   ],
   "metadata": {
    "collapsed": false,
    "ExecuteTime": {
     "end_time": "2023-11-27T08:42:08.050083Z",
     "start_time": "2023-11-27T08:42:08.043511Z"
    }
   }
  },
  {
   "cell_type": "markdown",
   "source": [
    "### 당뇨병 환자의 질병 진행 정도 데이터셋"
   ],
   "metadata": {
    "collapsed": false
   }
  },
  {
   "cell_type": "code",
   "execution_count": 77,
   "outputs": [
    {
     "name": "stdout",
     "output_type": "stream",
     "text": [
      "          age       sex       bmi        bp        s1        s2        s3  \\\n",
      "0    0.038076  0.050680  0.061696  0.021872 -0.044223 -0.034821 -0.043401   \n",
      "1   -0.001882 -0.044642 -0.051474 -0.026328 -0.008449 -0.019163  0.074412   \n",
      "2    0.085299  0.050680  0.044451 -0.005670 -0.045599 -0.034194 -0.032356   \n",
      "3   -0.089063 -0.044642 -0.011595 -0.036656  0.012191  0.024991 -0.036038   \n",
      "4    0.005383 -0.044642 -0.036385  0.021872  0.003935  0.015596  0.008142   \n",
      "..        ...       ...       ...       ...       ...       ...       ...   \n",
      "437  0.041708  0.050680  0.019662  0.059744 -0.005697 -0.002566 -0.028674   \n",
      "438 -0.005515  0.050680 -0.015906 -0.067642  0.049341  0.079165 -0.028674   \n",
      "439  0.041708  0.050680 -0.015906  0.017293 -0.037344 -0.013840 -0.024993   \n",
      "440 -0.045472 -0.044642  0.039062  0.001215  0.016318  0.015283 -0.028674   \n",
      "441 -0.045472 -0.044642 -0.073030 -0.081413  0.083740  0.027809  0.173816   \n",
      "\n",
      "           s4        s5        s6  \n",
      "0   -0.002592  0.019907 -0.017646  \n",
      "1   -0.039493 -0.068332 -0.092204  \n",
      "2   -0.002592  0.002861 -0.025930  \n",
      "3    0.034309  0.022688 -0.009362  \n",
      "4   -0.002592 -0.031988 -0.046641  \n",
      "..        ...       ...       ...  \n",
      "437 -0.002592  0.031193  0.007207  \n",
      "438  0.034309 -0.018114  0.044485  \n",
      "439 -0.011080 -0.046883  0.015491  \n",
      "440  0.026560  0.044529 -0.025930  \n",
      "441 -0.039493 -0.004222  0.003064  \n",
      "\n",
      "[442 rows x 10 columns]\n",
      "     target\n",
      "0     151.0\n",
      "1      75.0\n",
      "2     141.0\n",
      "3     206.0\n",
      "4     135.0\n",
      "..      ...\n",
      "437   178.0\n",
      "438   104.0\n",
      "439   132.0\n",
      "440   220.0\n",
      "441    57.0\n",
      "\n",
      "[442 rows x 1 columns]\n"
     ]
    }
   ],
   "source": [
    "############### 실기환경 복사 영역 ############### # 데이터 불러오기\n",
    "import pandas as pd\n",
    "import numpy as np\n",
    "# 실기 시험 데이터셋으로 셋팅하기 (수정금지)\n",
    "from sklearn.datasets import load_diabetes\n",
    "# diabetes 데이터셋 로드\n",
    "diabetes = load_diabetes()\n",
    "x = pd.DataFrame(diabetes.data, columns=diabetes.feature_names)\n",
    "y = pd.DataFrame(diabetes.target)\n",
    "y.columns = ['target']\n",
    "############### 실기환경 복사 영역 ###############\n",
    "print(x)\n",
    "print(y)"
   ],
   "metadata": {
    "collapsed": false,
    "ExecuteTime": {
     "end_time": "2023-11-27T08:44:37.480322Z",
     "start_time": "2023-11-27T08:44:37.441164Z"
    }
   }
  },
  {
   "cell_type": "markdown",
   "source": [
    "### 1. sklearn 라이브러리 활용"
   ],
   "metadata": {
    "collapsed": false
   }
  },
  {
   "cell_type": "code",
   "execution_count": 79,
   "outputs": [],
   "source": [
    "import pandas as pd\n",
    "import numpy as np\n",
    "from sklearn.linear_model import LinearRegression  # 다중회귀분석"
   ],
   "metadata": {
    "collapsed": false,
    "ExecuteTime": {
     "end_time": "2023-11-27T08:47:00.183474Z",
     "start_time": "2023-11-27T08:46:59.763364Z"
    }
   }
  },
  {
   "cell_type": "code",
   "execution_count": 81,
   "outputs": [
    {
     "name": "stdout",
     "output_type": "stream",
     "text": [
      "        age       sex       bmi\n",
      "0  0.038076  0.050680  0.061696\n",
      "1 -0.001882 -0.044642 -0.051474\n",
      "2  0.085299  0.050680  0.044451\n",
      "3 -0.089063 -0.044642 -0.011595\n",
      "4  0.005383 -0.044642 -0.036385\n",
      "   target\n",
      "0   151.0\n",
      "1    75.0\n",
      "2   141.0\n",
      "3   206.0\n",
      "4   135.0\n"
     ]
    }
   ],
   "source": [
    "# 독립변수와 종속변수 설정\n",
    "x = x[['age', 'sex', 'bmi']]   # or loc 함수\n",
    "print(x.head())\n",
    "print(y.head())"
   ],
   "metadata": {
    "collapsed": false,
    "ExecuteTime": {
     "end_time": "2023-11-27T08:48:16.365071Z",
     "start_time": "2023-11-27T08:48:16.358483Z"
    }
   }
  },
  {
   "cell_type": "markdown",
   "source": [
    "#### ** 회귀식 : y = b0 + (b1 * x1) + (b1 * x2) + (b3 * x3)\n",
    "#### (x1 = age, x2 = sex, x3 = bmi)"
   ],
   "metadata": {
    "collapsed": false
   }
  },
  {
   "cell_type": "code",
   "execution_count": 82,
   "outputs": [
    {
     "data": {
      "text/plain": "LinearRegression()",
      "text/html": "<style>#sk-container-id-1 {color: black;}#sk-container-id-1 pre{padding: 0;}#sk-container-id-1 div.sk-toggleable {background-color: white;}#sk-container-id-1 label.sk-toggleable__label {cursor: pointer;display: block;width: 100%;margin-bottom: 0;padding: 0.3em;box-sizing: border-box;text-align: center;}#sk-container-id-1 label.sk-toggleable__label-arrow:before {content: \"▸\";float: left;margin-right: 0.25em;color: #696969;}#sk-container-id-1 label.sk-toggleable__label-arrow:hover:before {color: black;}#sk-container-id-1 div.sk-estimator:hover label.sk-toggleable__label-arrow:before {color: black;}#sk-container-id-1 div.sk-toggleable__content {max-height: 0;max-width: 0;overflow: hidden;text-align: left;background-color: #f0f8ff;}#sk-container-id-1 div.sk-toggleable__content pre {margin: 0.2em;color: black;border-radius: 0.25em;background-color: #f0f8ff;}#sk-container-id-1 input.sk-toggleable__control:checked~div.sk-toggleable__content {max-height: 200px;max-width: 100%;overflow: auto;}#sk-container-id-1 input.sk-toggleable__control:checked~label.sk-toggleable__label-arrow:before {content: \"▾\";}#sk-container-id-1 div.sk-estimator input.sk-toggleable__control:checked~label.sk-toggleable__label {background-color: #d4ebff;}#sk-container-id-1 div.sk-label input.sk-toggleable__control:checked~label.sk-toggleable__label {background-color: #d4ebff;}#sk-container-id-1 input.sk-hidden--visually {border: 0;clip: rect(1px 1px 1px 1px);clip: rect(1px, 1px, 1px, 1px);height: 1px;margin: -1px;overflow: hidden;padding: 0;position: absolute;width: 1px;}#sk-container-id-1 div.sk-estimator {font-family: monospace;background-color: #f0f8ff;border: 1px dotted black;border-radius: 0.25em;box-sizing: border-box;margin-bottom: 0.5em;}#sk-container-id-1 div.sk-estimator:hover {background-color: #d4ebff;}#sk-container-id-1 div.sk-parallel-item::after {content: \"\";width: 100%;border-bottom: 1px solid gray;flex-grow: 1;}#sk-container-id-1 div.sk-label:hover label.sk-toggleable__label {background-color: #d4ebff;}#sk-container-id-1 div.sk-serial::before {content: \"\";position: absolute;border-left: 1px solid gray;box-sizing: border-box;top: 0;bottom: 0;left: 50%;z-index: 0;}#sk-container-id-1 div.sk-serial {display: flex;flex-direction: column;align-items: center;background-color: white;padding-right: 0.2em;padding-left: 0.2em;position: relative;}#sk-container-id-1 div.sk-item {position: relative;z-index: 1;}#sk-container-id-1 div.sk-parallel {display: flex;align-items: stretch;justify-content: center;background-color: white;position: relative;}#sk-container-id-1 div.sk-item::before, #sk-container-id-1 div.sk-parallel-item::before {content: \"\";position: absolute;border-left: 1px solid gray;box-sizing: border-box;top: 0;bottom: 0;left: 50%;z-index: -1;}#sk-container-id-1 div.sk-parallel-item {display: flex;flex-direction: column;z-index: 1;position: relative;background-color: white;}#sk-container-id-1 div.sk-parallel-item:first-child::after {align-self: flex-end;width: 50%;}#sk-container-id-1 div.sk-parallel-item:last-child::after {align-self: flex-start;width: 50%;}#sk-container-id-1 div.sk-parallel-item:only-child::after {width: 0;}#sk-container-id-1 div.sk-dashed-wrapped {border: 1px dashed gray;margin: 0 0.4em 0.5em 0.4em;box-sizing: border-box;padding-bottom: 0.4em;background-color: white;}#sk-container-id-1 div.sk-label label {font-family: monospace;font-weight: bold;display: inline-block;line-height: 1.2em;}#sk-container-id-1 div.sk-label-container {text-align: center;}#sk-container-id-1 div.sk-container {/* jupyter's `normalize.less` sets `[hidden] { display: none; }` but bootstrap.min.css set `[hidden] { display: none !important; }` so we also need the `!important` here to be able to override the default hidden behavior on the sphinx rendered scikit-learn.org. See: https://github.com/scikit-learn/scikit-learn/issues/21755 */display: inline-block !important;position: relative;}#sk-container-id-1 div.sk-text-repr-fallback {display: none;}</style><div id=\"sk-container-id-1\" class=\"sk-top-container\"><div class=\"sk-text-repr-fallback\"><pre>LinearRegression()</pre><b>In a Jupyter environment, please rerun this cell to show the HTML representation or trust the notebook. <br />On GitHub, the HTML representation is unable to render, please try loading this page with nbviewer.org.</b></div><div class=\"sk-container\" hidden><div class=\"sk-item\"><div class=\"sk-estimator sk-toggleable\"><input class=\"sk-toggleable__control sk-hidden--visually\" id=\"sk-estimator-id-1\" type=\"checkbox\" checked><label for=\"sk-estimator-id-1\" class=\"sk-toggleable__label sk-toggleable__label-arrow\">LinearRegression</label><div class=\"sk-toggleable__content\"><pre>LinearRegression()</pre></div></div></div></div></div>"
     },
     "execution_count": 82,
     "metadata": {},
     "output_type": "execute_result"
    }
   ],
   "source": [
    "# 모델링\n",
    "from sklearn.linear_model import LinearRegression\n",
    "model = LinearRegression()\n",
    "model.fit(x, y)"
   ],
   "metadata": {
    "collapsed": false,
    "ExecuteTime": {
     "end_time": "2023-11-27T08:53:52.394995Z",
     "start_time": "2023-11-27T08:53:52.391913Z"
    }
   }
  },
  {
   "cell_type": "code",
   "execution_count": 83,
   "outputs": [
    {
     "name": "stdout",
     "output_type": "stream",
     "text": [
      "0.35\n"
     ]
    }
   ],
   "source": [
    "# 회귀분석 관련 지표 출력\n",
    "\n",
    "# 1. Rsq(결정계수) : model.score(x, y) - rsquare 모델 성능 (0 ~ 1 까지의 값)\n",
    "model.score(x, y)\n",
    "print(round(model.score(x, y), 2))"
   ],
   "metadata": {
    "collapsed": false,
    "ExecuteTime": {
     "end_time": "2023-11-27T08:56:03.362239Z",
     "start_time": "2023-11-27T08:56:03.359260Z"
    }
   }
  },
  {
   "cell_type": "code",
   "execution_count": 84,
   "outputs": [
    {
     "name": "stdout",
     "output_type": "stream",
     "text": [
      "[[138.9  -36.14 926.91]]\n",
      "138.9\n",
      "-36.14\n",
      "926.91\n"
     ]
    }
   ],
   "source": [
    "# 2. 회귀 계수 출력 : model.coef_ (독립변수 각각에 대한 회귀계수 출력)\n",
    "print(np.round(model.coef_, 2))  # 전체 회귀계수, array 형태로 나오기 때문에 np.round 써줘야 함\n",
    "print(np.round(model.coef_[0,0], 2))  # x1의 회귀계수, 0번 행의 0번 열\n",
    "print(np.round(model.coef_[0,1], 2))  # x2 회귀계수, 0번 행의 1번 열\n",
    "print(np.round(model.coef_[0,2], 2))  # x3 회귀계수, 0번 행의 2번 열"
   ],
   "metadata": {
    "collapsed": false,
    "ExecuteTime": {
     "end_time": "2023-11-27T09:00:04.886306Z",
     "start_time": "2023-11-27T09:00:04.874398Z"
    }
   }
  },
  {
   "cell_type": "code",
   "execution_count": 1,
   "outputs": [
    {
     "ename": "NameError",
     "evalue": "name 'np' is not defined",
     "output_type": "error",
     "traceback": [
      "\u001B[0;31m---------------------------------------------------------------------------\u001B[0m",
      "\u001B[0;31mNameError\u001B[0m                                 Traceback (most recent call last)",
      "Cell \u001B[0;32mIn[1], line 2\u001B[0m\n\u001B[1;32m      1\u001B[0m \u001B[38;5;66;03m# 3. 회귀계수(절편) : model.intercept_ : b0 출력\u001B[39;00m\n\u001B[0;32m----> 2\u001B[0m \u001B[38;5;28mprint\u001B[39m(\u001B[43mnp\u001B[49m\u001B[38;5;241m.\u001B[39mround(model\u001B[38;5;241m.\u001B[39mintercept_, \u001B[38;5;241m2\u001B[39m))\n",
      "\u001B[0;31mNameError\u001B[0m: name 'np' is not defined"
     ]
    }
   ],
   "source": [
    "# 3. 회귀계수(절편) : model.intercept_ : b0 출력\n",
    "print(np.round(model.intercept_, 2))"
   ],
   "metadata": {
    "collapsed": false,
    "ExecuteTime": {
     "end_time": "2023-11-28T12:13:08.485073Z",
     "start_time": "2023-11-28T12:13:08.249229Z"
    }
   }
  },
  {
   "cell_type": "markdown",
   "source": [
    "#### - 회귀식 : y = b0 + b1x1 + b2x2 + b3x3 (x1=age, x2=sex, x3=bmi)\n",
    "\n",
    "#### - 결과 : y = 152.13 + 138.9age - 36.14sex + 926.91bmi"
   ],
   "metadata": {
    "collapsed": false
   }
  },
  {
   "cell_type": "markdown",
   "source": [
    "### 2. statsmodels 라이브러리 사용\n",
    "\n",
    "####  - sklearn 보다 statsmodels 라이브러리가 더 많은 결과값을 줌, 할 수 있다면 statsmodels 라이브러리 사용하기"
   ],
   "metadata": {
    "collapsed": false
   }
  },
  {
   "cell_type": "code",
   "execution_count": 86,
   "outputs": [],
   "source": [
    "############### 실기환경 복사 영역 ############### # 데이터 불러오기\n",
    "import pandas as pd\n",
    "import numpy as np\n",
    "# 실기 시험 데이터셋으로 셋팅하기 (수정금지)\n",
    "from sklearn.datasets import load_diabetes\n",
    "# diabetes 데이터셋 로드\n",
    "diabetes = load_diabetes()\n",
    "x = pd.DataFrame(diabetes.data, columns=diabetes.feature_names)\n",
    "y = pd.DataFrame(diabetes.target)\n",
    "y.columns = ['target']\n",
    "############### 실기환경 복사 영역 ###############"
   ],
   "metadata": {
    "collapsed": false,
    "ExecuteTime": {
     "end_time": "2023-11-27T09:17:51.986217Z",
     "start_time": "2023-11-27T09:17:51.979820Z"
    }
   }
  },
  {
   "cell_type": "code",
   "execution_count": 88,
   "outputs": [
    {
     "name": "stdout",
     "output_type": "stream",
     "text": [
      "        age       sex       bmi\n",
      "0  0.038076  0.050680  0.061696\n",
      "1 -0.001882 -0.044642 -0.051474\n",
      "2  0.085299  0.050680  0.044451\n",
      "3 -0.089063 -0.044642 -0.011595\n",
      "4  0.005383 -0.044642 -0.036385\n",
      "0    151.0\n",
      "1     75.0\n",
      "2    141.0\n",
      "3    206.0\n",
      "4    135.0\n",
      "Name: target, dtype: float64\n"
     ]
    }
   ],
   "source": [
    "# statsmodel.formula 활용\n",
    "import statsmodels.api as sm\n",
    "# 독립변수와 종속변수 설정\n",
    "x = x[['age', 'sex', 'bmi']]\n",
    "y = y['target']\n",
    "\n",
    "print(x.head())\n",
    "print(y.head())"
   ],
   "metadata": {
    "collapsed": false,
    "ExecuteTime": {
     "end_time": "2023-11-27T09:21:34.104667Z",
     "start_time": "2023-11-27T09:21:33.927460Z"
    }
   }
  },
  {
   "cell_type": "code",
   "execution_count": 89,
   "outputs": [
    {
     "name": "stdout",
     "output_type": "stream",
     "text": [
      "                            OLS Regression Results                            \n",
      "==============================================================================\n",
      "Dep. Variable:                 target   R-squared:                       0.351\n",
      "Model:                            OLS   Adj. R-squared:                  0.346\n",
      "Method:                 Least Squares   F-statistic:                     78.94\n",
      "Date:                Mon, 27 Nov 2023   Prob (F-statistic):           7.77e-41\n",
      "Time:                        18:24:48   Log-Likelihood:                -2451.6\n",
      "No. Observations:                 442   AIC:                             4911.\n",
      "Df Residuals:                     438   BIC:                             4928.\n",
      "Df Model:                           3                                         \n",
      "Covariance Type:            nonrobust                                         \n",
      "==============================================================================\n",
      "                 coef    std err          t      P>|t|      [0.025      0.975]\n",
      "------------------------------------------------------------------------------\n",
      "const        152.1335      2.964     51.321      0.000     146.307     157.960\n",
      "age          138.9039     64.254      2.162      0.031      12.618     265.189\n",
      "sex          -36.1353     63.391     -0.570      0.569    -160.724      88.453\n",
      "bmi          926.9120     63.525     14.591      0.000     802.061    1051.763\n",
      "==============================================================================\n",
      "Omnibus:                       14.687   Durbin-Watson:                   1.851\n",
      "Prob(Omnibus):                  0.001   Jarque-Bera (JB):                8.290\n",
      "Skew:                           0.150   Prob(JB):                       0.0158\n",
      "Kurtosis:                       2.400   Cond. No.                         23.7\n",
      "==============================================================================\n",
      "\n",
      "Notes:\n",
      "[1] Standard Errors assume that the covariance matrix of the errors is correctly specified.\n"
     ]
    }
   ],
   "source": [
    "# 모델링\n",
    "import statsmodels.api as sm\n",
    "\n",
    "x = sm.add_constant(x)   # 주의 : 상수항 추가해줘야 함 = 이걸 추가해주지 않으면 b0가 없는 상태로 회귀식을 추정하게 됨\n",
    "model = sm.OLS(y, x).fit()  # 왼쪽이 y인거 주의 !!\n",
    "# y_pred = model.predict(x)\n",
    "summary = model.summary()  # 학습이 된 걸 summary에 담아서 print - rsquare값 구해줌, pvalue가 거의 0에 가까움을 알 수 있음\n",
    "print(summary)"
   ],
   "metadata": {
    "collapsed": false,
    "ExecuteTime": {
     "end_time": "2023-11-27T09:24:48.057794Z",
     "start_time": "2023-11-27T09:24:48.047521Z"
    }
   }
  },
  {
   "cell_type": "code",
   "execution_count": null,
   "outputs": [],
   "source": [
    "# 1. Rsq(결정계수) # r2 = 0.351\n",
    "# 2. 회귀계수\n",
    "# age = 138.9039 # sex = -36.1353 # bmi = 926.9120\n",
    "# 3. 회귀계수(절편) # const = 152.1335\n",
    "# 4. 회귀식 p-value # pvalue = 7.77e-41"
   ],
   "metadata": {
    "collapsed": false
   }
  },
  {
   "cell_type": "markdown",
   "source": [
    "### (결과 비교해보기) 두 라이브러리 모두 같은 결과값을 출력\n",
    "#### 회귀식 : y = b0 + b1x1 + b2x2 + b3x3  (x1=age, x2=sex, x3=bmi)\n",
    "\n",
    "#### 1. sklearn : y = 152.13 + 138.9age - 36.14sex + 926.91bmi\n",
    "#### 2. statsmodel : y = 152.13 + 138.9age - 36.14sex + 926.91bmi"
   ],
   "metadata": {
    "collapsed": false
   }
  },
  {
   "cell_type": "markdown",
   "source": [
    "### * 상관분석"
   ],
   "metadata": {
    "collapsed": false
   }
  },
  {
   "cell_type": "code",
   "execution_count": 91,
   "outputs": [],
   "source": [
    "############### 실기환경 복사 영역 ############### # 데이터 불러오기\n",
    "import pandas as pd\n",
    "import numpy as np\n",
    "# 실기 시험 데이터셋으로 셋팅하기 (수정금지)\n",
    "from sklearn.datasets import load_diabetes\n",
    "# diabetes 데이터셋 로드\n",
    "diabetes = load_diabetes()\n",
    "x = pd.DataFrame(diabetes.data, columns=diabetes.feature_names)\n",
    "y = pd.DataFrame(diabetes.target)\n",
    "y.columns = ['target']\n",
    "############### 실기환경 복사 영역 ###############"
   ],
   "metadata": {
    "collapsed": false,
    "ExecuteTime": {
     "end_time": "2023-11-27T11:00:03.533298Z",
     "start_time": "2023-11-27T11:00:03.512103Z"
    }
   }
  },
  {
   "cell_type": "code",
   "execution_count": 92,
   "outputs": [
    {
     "name": "stdout",
     "output_type": "stream",
     "text": [
      "0    0.061696\n",
      "1   -0.051474\n",
      "2    0.044451\n",
      "3   -0.011595\n",
      "4   -0.036385\n",
      "Name: bmi, dtype: float64\n",
      "0    151.0\n",
      "1     75.0\n",
      "2    141.0\n",
      "3    206.0\n",
      "4    135.0\n",
      "Name: target, dtype: float64\n"
     ]
    }
   ],
   "source": [
    "# 상관분석을 할 2가지 변수 설정 (x, y)\n",
    "x = x['bmi']\n",
    "y = y['target']\n",
    "\n",
    "print(x.head())\n",
    "print(y.head())"
   ],
   "metadata": {
    "collapsed": false,
    "ExecuteTime": {
     "end_time": "2023-11-27T11:00:46.976376Z",
     "start_time": "2023-11-27T11:00:46.966533Z"
    }
   }
  },
  {
   "cell_type": "code",
   "execution_count": 95,
   "outputs": [
    {
     "name": "stdout",
     "output_type": "stream",
     "text": [
      "0.59\n",
      "0.0\n",
      "15.19\n"
     ]
    }
   ],
   "source": [
    "# 라이브러리 불러옥\n",
    "from scipy.stats import pearsonr\n",
    "\n",
    "# 상관계수에 대한 검정 실시\n",
    "r, pvalue = pearsonr(x, y)\n",
    "\n",
    "# 가설 설정\n",
    "# H0 : 두 변수간 선형 관계가 존재하지 않는다.\n",
    "# H1 : 두 변수간 선형 관계가 존재한다.\n",
    "\n",
    "# 1. 상관계수\n",
    "print(round(r, 2))\n",
    "\n",
    "# 2. pvalue\n",
    "print(round(pvalue, 2))\n",
    "\n",
    "# 3. 검정 통계량 - 자유도가 n-1인 t 분포를 따름\n",
    "# - 통계량은 별도로 구해야 함(T = r * root(n-2) / root(1-r2)\n",
    "# r = 상관계수 , n = 데이터의 개수\n",
    "n = len(x)  # 데이터 수\n",
    "r2 = r**2  # 상관계수의 제곱\n",
    "statistic = (r * (n-2)**0.5 ) / (1-r2)**0.5\n",
    "print(round(statistic, 2))\n",
    "\n",
    "# 통계량이 크면 pvalue는 작아진다.\n",
    "# pvalue 값이 0.05보다 작기 때문에 귀무가설을 기각한다. (대립가설 채택)\n",
    "# 즉, 두 변수간 선형관계가 존재한다고 할 수 있다. (상관계수가 0이 아니다)\n",
    "# 답: 기각"
   ],
   "metadata": {
    "collapsed": false,
    "ExecuteTime": {
     "end_time": "2023-11-27T11:11:05.222309Z",
     "start_time": "2023-11-27T11:11:05.215521Z"
    }
   }
  },
  {
   "cell_type": "markdown",
   "source": [
    "## 제 3유형 - 로지스틱 회귀분석\n",
    "\n",
    "#### y값이 1일 확률을 예측하고 싶은것! = 로지스틱 회귀분석의 목표"
   ],
   "metadata": {
    "collapsed": false
   }
  },
  {
   "cell_type": "markdown",
   "source": [
    "### - 타이타닉 데이터 불러오기 (생존자 예측 데이터)"
   ],
   "metadata": {
    "collapsed": false
   }
  },
  {
   "cell_type": "code",
   "execution_count": 96,
   "outputs": [],
   "source": [
    "import pandas as pd\n",
    "import numpy as np\n",
    "\n",
    "import seaborn as sns\n",
    "df = sns.load_dataset('titanic')"
   ],
   "metadata": {
    "collapsed": false,
    "ExecuteTime": {
     "end_time": "2023-11-27T11:23:18.314609Z",
     "start_time": "2023-11-27T11:23:18.304635Z"
    }
   }
  },
  {
   "cell_type": "code",
   "execution_count": 97,
   "outputs": [
    {
     "name": "stdout",
     "output_type": "stream",
     "text": [
      "   survived  pclass     sex   age  sibsp  parch     fare embarked  class  \\\n",
      "0         0       3    male  22.0      1      0   7.2500        S  Third   \n",
      "1         1       1  female  38.0      1      0  71.2833        C  First   \n",
      "2         1       3  female  26.0      0      0   7.9250        S  Third   \n",
      "3         1       1  female  35.0      1      0  53.1000        S  First   \n",
      "4         0       3    male  35.0      0      0   8.0500        S  Third   \n",
      "\n",
      "     who  adult_male deck  embark_town alive  alone  \n",
      "0    man        True  NaN  Southampton    no  False  \n",
      "1  woman       False    C    Cherbourg   yes  False  \n",
      "2  woman       False  NaN  Southampton   yes   True  \n",
      "3  woman       False    C  Southampton   yes  False  \n",
      "4    man        True  NaN  Southampton    no   True  \n"
     ]
    }
   ],
   "source": [
    "print(df.head())"
   ],
   "metadata": {
    "collapsed": false,
    "ExecuteTime": {
     "end_time": "2023-11-27T11:23:24.698242Z",
     "start_time": "2023-11-27T11:23:24.690430Z"
    }
   }
  },
  {
   "cell_type": "code",
   "execution_count": 98,
   "outputs": [
    {
     "name": "stdout",
     "output_type": "stream",
     "text": [
      "   survived     sex  sibsp     fare\n",
      "0         0    male      1   7.2500\n",
      "1         1  female      1  71.2833\n",
      "2         1  female      0   7.9250\n",
      "3         1  female      1  53.1000\n",
      "4         0    male      0   8.0500\n"
     ]
    }
   ],
   "source": [
    "# 분석 데이터 설정 - 종속변수(survived) / 독립변수(나머지) 설정\n",
    "df = df[['survived', 'sex', 'sibsp', 'fare']]  # 대괄호 두번 써서 특정 열들만 가지고 올 수 있음\n",
    "\n",
    "print(df.head())"
   ],
   "metadata": {
    "collapsed": false,
    "ExecuteTime": {
     "end_time": "2023-11-27T11:24:46.440444Z",
     "start_time": "2023-11-27T11:24:46.434876Z"
    }
   }
  },
  {
   "cell_type": "markdown",
   "source": [
    "### 🥵 회귀식 : P (1일 확률) = 1 / ( 1 + exp * (-f(x)) )\n",
    "\n",
    "#### f(x) = b0 + b1x1 + b2x2 + b3x3\n",
    "#### In( P / 1-P ) = b0 + b1x1 + b2x2 + b3x3\n",
    "\n",
    "##### - ( P / 1-P ) = odd (성공확률 / 실패확률)\n",
    "##### - odd에 자연로그 씌운 것 In( P / 1-P) = 로짓\n",
    "\n",
    "#### P = 생존한 확률, x1 = sex, x2 = sibsp, x3 = fare"
   ],
   "metadata": {
    "collapsed": false
   }
  },
  {
   "cell_type": "code",
   "execution_count": 99,
   "outputs": [
    {
     "name": "stdout",
     "output_type": "stream",
     "text": [
      "   survived  sex  sibsp     fare\n",
      "0         0    0      1   7.2500\n",
      "1         1    1      1  71.2833\n",
      "2         1    1      0   7.9250\n",
      "3         1    1      1  53.1000\n",
      "4         0    0      0   8.0500\n"
     ]
    }
   ],
   "source": [
    "# 데이터 전처리\n",
    "# 변수 처리\n",
    "# 문자형 타입의 데이터의 경우 숫자로 변경해준다.\n",
    "# ** 실제 시험에서 지시사항을 따를 것\n",
    "\n",
    "# 성별을 map 함수로 활용해서 각각 1과 0에 할당한다 (여성 1, 남성 0)\n",
    "# - 현재 male, female로 되어있으며 머신러닝의 경우 문자 데이터 처리 못하므로 숫자로 바꿔줘야 함\n",
    "# 지시 사항에서 어떻게 바꿀지 주어짐  = np.where도 사용 가능\n",
    "df['sex'] = df['sex'].map({'female': 1, 'male': 0})\n",
    "print(df.head())"
   ],
   "metadata": {
    "collapsed": false,
    "ExecuteTime": {
     "end_time": "2023-11-27T11:37:21.639688Z",
     "start_time": "2023-11-27T11:37:21.636378Z"
    }
   }
  },
  {
   "cell_type": "code",
   "execution_count": 100,
   "outputs": [
    {
     "name": "stdout",
     "output_type": "stream",
     "text": [
      "<class 'pandas.core.frame.DataFrame'>\n",
      "RangeIndex: 891 entries, 0 to 890\n",
      "Data columns (total 4 columns):\n",
      " #   Column    Non-Null Count  Dtype  \n",
      "---  ------    --------------  -----  \n",
      " 0   survived  891 non-null    int64  \n",
      " 1   sex       891 non-null    int64  \n",
      " 2   sibsp     891 non-null    int64  \n",
      " 3   fare      891 non-null    float64\n",
      "dtypes: float64(1), int64(3)\n",
      "memory usage: 28.0 KB\n",
      "None\n"
     ]
    }
   ],
   "source": [
    "print(df.info())"
   ],
   "metadata": {
    "collapsed": false,
    "ExecuteTime": {
     "end_time": "2023-11-27T11:38:31.840194Z",
     "start_time": "2023-11-27T11:38:31.834358Z"
    }
   }
  },
  {
   "cell_type": "markdown",
   "source": [
    "### 1. sklearn 라이브러리 사용"
   ],
   "metadata": {
    "collapsed": false
   }
  },
  {
   "cell_type": "code",
   "execution_count": 101,
   "outputs": [],
   "source": [
    "# 독립변수와 종속변수 설정\n",
    "x = df.drop(['survived'], axis=1)\n",
    "y = df['survived']"
   ],
   "metadata": {
    "collapsed": false,
    "ExecuteTime": {
     "end_time": "2023-11-27T11:51:37.895287Z",
     "start_time": "2023-11-27T11:51:37.889369Z"
    }
   }
  },
  {
   "cell_type": "markdown",
   "source": [
    "##### ** (주의) LogisticRegression() 객체안에 반드시 penalty=None으로 입력해야 함"
   ],
   "metadata": {
    "collapsed": false
   }
  },
  {
   "cell_type": "code",
   "execution_count": 102,
   "outputs": [
    {
     "data": {
      "text/plain": "LogisticRegression(penalty=None)",
      "text/html": "<style>#sk-container-id-2 {color: black;}#sk-container-id-2 pre{padding: 0;}#sk-container-id-2 div.sk-toggleable {background-color: white;}#sk-container-id-2 label.sk-toggleable__label {cursor: pointer;display: block;width: 100%;margin-bottom: 0;padding: 0.3em;box-sizing: border-box;text-align: center;}#sk-container-id-2 label.sk-toggleable__label-arrow:before {content: \"▸\";float: left;margin-right: 0.25em;color: #696969;}#sk-container-id-2 label.sk-toggleable__label-arrow:hover:before {color: black;}#sk-container-id-2 div.sk-estimator:hover label.sk-toggleable__label-arrow:before {color: black;}#sk-container-id-2 div.sk-toggleable__content {max-height: 0;max-width: 0;overflow: hidden;text-align: left;background-color: #f0f8ff;}#sk-container-id-2 div.sk-toggleable__content pre {margin: 0.2em;color: black;border-radius: 0.25em;background-color: #f0f8ff;}#sk-container-id-2 input.sk-toggleable__control:checked~div.sk-toggleable__content {max-height: 200px;max-width: 100%;overflow: auto;}#sk-container-id-2 input.sk-toggleable__control:checked~label.sk-toggleable__label-arrow:before {content: \"▾\";}#sk-container-id-2 div.sk-estimator input.sk-toggleable__control:checked~label.sk-toggleable__label {background-color: #d4ebff;}#sk-container-id-2 div.sk-label input.sk-toggleable__control:checked~label.sk-toggleable__label {background-color: #d4ebff;}#sk-container-id-2 input.sk-hidden--visually {border: 0;clip: rect(1px 1px 1px 1px);clip: rect(1px, 1px, 1px, 1px);height: 1px;margin: -1px;overflow: hidden;padding: 0;position: absolute;width: 1px;}#sk-container-id-2 div.sk-estimator {font-family: monospace;background-color: #f0f8ff;border: 1px dotted black;border-radius: 0.25em;box-sizing: border-box;margin-bottom: 0.5em;}#sk-container-id-2 div.sk-estimator:hover {background-color: #d4ebff;}#sk-container-id-2 div.sk-parallel-item::after {content: \"\";width: 100%;border-bottom: 1px solid gray;flex-grow: 1;}#sk-container-id-2 div.sk-label:hover label.sk-toggleable__label {background-color: #d4ebff;}#sk-container-id-2 div.sk-serial::before {content: \"\";position: absolute;border-left: 1px solid gray;box-sizing: border-box;top: 0;bottom: 0;left: 50%;z-index: 0;}#sk-container-id-2 div.sk-serial {display: flex;flex-direction: column;align-items: center;background-color: white;padding-right: 0.2em;padding-left: 0.2em;position: relative;}#sk-container-id-2 div.sk-item {position: relative;z-index: 1;}#sk-container-id-2 div.sk-parallel {display: flex;align-items: stretch;justify-content: center;background-color: white;position: relative;}#sk-container-id-2 div.sk-item::before, #sk-container-id-2 div.sk-parallel-item::before {content: \"\";position: absolute;border-left: 1px solid gray;box-sizing: border-box;top: 0;bottom: 0;left: 50%;z-index: -1;}#sk-container-id-2 div.sk-parallel-item {display: flex;flex-direction: column;z-index: 1;position: relative;background-color: white;}#sk-container-id-2 div.sk-parallel-item:first-child::after {align-self: flex-end;width: 50%;}#sk-container-id-2 div.sk-parallel-item:last-child::after {align-self: flex-start;width: 50%;}#sk-container-id-2 div.sk-parallel-item:only-child::after {width: 0;}#sk-container-id-2 div.sk-dashed-wrapped {border: 1px dashed gray;margin: 0 0.4em 0.5em 0.4em;box-sizing: border-box;padding-bottom: 0.4em;background-color: white;}#sk-container-id-2 div.sk-label label {font-family: monospace;font-weight: bold;display: inline-block;line-height: 1.2em;}#sk-container-id-2 div.sk-label-container {text-align: center;}#sk-container-id-2 div.sk-container {/* jupyter's `normalize.less` sets `[hidden] { display: none; }` but bootstrap.min.css set `[hidden] { display: none !important; }` so we also need the `!important` here to be able to override the default hidden behavior on the sphinx rendered scikit-learn.org. See: https://github.com/scikit-learn/scikit-learn/issues/21755 */display: inline-block !important;position: relative;}#sk-container-id-2 div.sk-text-repr-fallback {display: none;}</style><div id=\"sk-container-id-2\" class=\"sk-top-container\"><div class=\"sk-text-repr-fallback\"><pre>LogisticRegression(penalty=None)</pre><b>In a Jupyter environment, please rerun this cell to show the HTML representation or trust the notebook. <br />On GitHub, the HTML representation is unable to render, please try loading this page with nbviewer.org.</b></div><div class=\"sk-container\" hidden><div class=\"sk-item\"><div class=\"sk-estimator sk-toggleable\"><input class=\"sk-toggleable__control sk-hidden--visually\" id=\"sk-estimator-id-2\" type=\"checkbox\" checked><label for=\"sk-estimator-id-2\" class=\"sk-toggleable__label sk-toggleable__label-arrow\">LogisticRegression</label><div class=\"sk-toggleable__content\"><pre>LogisticRegression(penalty=None)</pre></div></div></div></div></div>"
     },
     "execution_count": 102,
     "metadata": {},
     "output_type": "execute_result"
    }
   ],
   "source": [
    "# 모델링\n",
    "from sklearn.linear_model import LogisticRegression  # 회귀는 LinearRegression\n",
    "model1 = LogisticRegression(penalty=None)\n",
    "model1.fit(x, y)"
   ],
   "metadata": {
    "collapsed": false,
    "ExecuteTime": {
     "end_time": "2023-11-27T11:53:47.072916Z",
     "start_time": "2023-11-27T11:53:47.044110Z"
    }
   }
  },
  {
   "cell_type": "code",
   "execution_count": 103,
   "outputs": [
    {
     "name": "stdout",
     "output_type": "stream",
     "text": [
      "[[ 2.5668 -0.4017  0.0138]]\n",
      "2.5668\n",
      "-0.4017\n",
      "0.0138\n",
      "[-1.6964]\n"
     ]
    }
   ],
   "source": [
    "# 로지스틱 회귀 분석 관련 지표 출력\n",
    "\n",
    "# 1. 회귀계수 출력 : model.coef_\n",
    "print(np.round(model1.coef_, 4))  # 전체 회귀계수\n",
    "print(np.round(model1.coef_[0,0], 4))  # x1 회귀계수\n",
    "print(np.round(model1.coef_[0,1], 4))  # x2 회귀계수\n",
    "print(np.round(model1.coef_[0,2], 4))  # x3 회귀계수\n",
    "\n",
    "# 2. 회귀계수(절편) : model.intercept_\n",
    "print(np.round(model1.intercept_, 4))  # b0"
   ],
   "metadata": {
    "collapsed": false,
    "ExecuteTime": {
     "end_time": "2023-11-27T11:57:13.417825Z",
     "start_time": "2023-11-27T11:57:13.408387Z"
    }
   }
  },
  {
   "cell_type": "markdown",
   "source": [
    "### 🥵 회귀식 : P (1일 확률) = 1 / ( 1 + exp * (-f(x)) )\n",
    "\n",
    "#### f(x) = b0 + b1x1 + b2x2 + b3x3\n",
    "#### In( P / 1-P ) = b0 + b1x1 + b2x2 + b3x3\n",
    "\n",
    "##### - ( P / 1-P ) = odd (성공확률 / 실패확률)\n",
    "##### - odd에 자연로그 씌운 것 In( P / 1-P) = 로짓\n",
    "\n",
    "#### P = 생존한 확률, x1 = sex, x2 = sibsp, x3 = fare"
   ],
   "metadata": {
    "collapsed": false
   }
  },
  {
   "cell_type": "markdown",
   "source": [
    "#### 결과 : In(P/1-P) = -1.6964 + 2.5668sex - 0.4017sibsp + 0.0138fare"
   ],
   "metadata": {
    "collapsed": false
   }
  },
  {
   "cell_type": "markdown",
   "source": [
    "##### 3-1. 로지스틱 회귀 모형에서 sibsp 변수가 한 단위 증가할 때 생존할 오즈가 몇 배 중가하는지 반올림하여 소수점 셋째 자리까지 구하시오."
   ],
   "metadata": {
    "collapsed": false
   }
  },
  {
   "cell_type": "code",
   "execution_count": 105,
   "outputs": [
    {
     "name": "stdout",
     "output_type": "stream",
     "text": [
      "0.669\n"
     ]
    }
   ],
   "source": [
    "#### 오즈의 변화량\n",
    "# exp(b2)를 구하면 됨\n",
    "result = np.exp(model1.coef_[0][1])  # 인덱싱 주의하기\n",
    "print(round(result, 3))\n",
    "\n",
    "# 해석 : sibsp 변수가 한 단위 증가할 때 생존할 오즈가 0.669배 증가한다.\n",
    "# 생존할 오즈가 33% 감소한다 (생존할 확률이 감소한다) - 회귀계수가 음수이기 때문에 감소함."
   ],
   "metadata": {
    "collapsed": false,
    "ExecuteTime": {
     "end_time": "2023-11-27T12:23:31.746490Z",
     "start_time": "2023-11-27T12:23:31.738721Z"
    }
   }
  },
  {
   "cell_type": "markdown",
   "source": [
    "##### 3-2. 로지스틱 회귀 모형에서 여성일 경우, 남성에 비해 오즈가 몇 배 증가하는지 반올림하여 소수점 셋째 자리까지 구하시오."
   ],
   "metadata": {
    "collapsed": false
   }
  },
  {
   "cell_type": "code",
   "execution_count": 106,
   "outputs": [
    {
     "name": "stdout",
     "output_type": "stream",
     "text": [
      "13.024\n"
     ]
    }
   ],
   "source": [
    "# exp(b1)을 구하면 됨\n",
    "# 기준이 달라지면 (여성 - 남성) 결과값 달라지므로 제대로 확인하기.\n",
    "result2 = np.exp(model1.coef_[0][0])   # 인덱싱 주의\n",
    "print(round(result2, 3))\n",
    "\n",
    "# 해석 : 여성일 경우 남성에 비해 생존할 오즈가 13.024배 증가한다.\n",
    "# 생존할 오즈가 13배 증가한다. (생존할 확률이 증가한다)"
   ],
   "metadata": {
    "collapsed": false,
    "ExecuteTime": {
     "end_time": "2023-11-27T12:33:40.306704Z",
     "start_time": "2023-11-27T12:33:40.295804Z"
    }
   }
  },
  {
   "cell_type": "markdown",
   "source": [
    "### 2. statsmodels 라이브러리 사용\n",
    "\n",
    "##### (주의) 실제 오즈가 몇 배 증가했는지 계산하는 문제가 나온다면, sklearn 라이브러리를 사용하여 회귀계수를 직접 구해서 계산할 것 (소수점이 결과값에 영향을 줄 수 있음)"
   ],
   "metadata": {
    "collapsed": false
   }
  },
  {
   "cell_type": "code",
   "execution_count": 107,
   "outputs": [
    {
     "name": "stdout",
     "output_type": "stream",
     "text": [
      "Optimization terminated successfully.\n",
      "         Current function value: 0.483846\n",
      "         Iterations 6\n",
      "                           Logit Regression Results                           \n",
      "==============================================================================\n",
      "Dep. Variable:               survived   No. Observations:                  891\n",
      "Model:                          Logit   Df Residuals:                      887\n",
      "Method:                           MLE   Df Model:                            3\n",
      "Date:                Mon, 27 Nov 2023   Pseudo R-squ.:                  0.2734\n",
      "Time:                        21:37:41   Log-Likelihood:                -431.11\n",
      "converged:                       True   LL-Null:                       -593.33\n",
      "Covariance Type:            nonrobust   LLR p-value:                 5.094e-70\n",
      "==============================================================================\n",
      "                 coef    std err          z      P>|z|      [0.025      0.975]\n",
      "------------------------------------------------------------------------------\n",
      "const         -1.6964      0.129    -13.134      0.000      -1.950      -1.443\n",
      "sex            2.5668      0.179     14.321      0.000       2.216       2.918\n",
      "sibsp         -0.4017      0.095     -4.222      0.000      -0.588      -0.215\n",
      "fare           0.0138      0.003      5.367      0.000       0.009       0.019\n",
      "==============================================================================\n"
     ]
    }
   ],
   "source": [
    "# 모델링\n",
    "import statsmodels.api as sm\n",
    "\n",
    "x = sm.add_constant(x)   # (주의) 상수항 추가해줘야 함\n",
    "model2 = sm.Logit(y, x).fit()  # 주의할 것 : y, x 순으로 입력해야 함\n",
    "summary = model2.summary()\n",
    "print(summary)"
   ],
   "metadata": {
    "collapsed": false,
    "ExecuteTime": {
     "end_time": "2023-11-27T12:37:41.663925Z",
     "start_time": "2023-11-27T12:37:41.597677Z"
    }
   }
  },
  {
   "cell_type": "markdown",
   "source": [
    "#### (결과 비교해보기)\n",
    "\n",
    "#### sklearn.linear_model\n",
    "##### - In(P/1-P) = -1.6964 + 2.5668sex - 0.4017sibsp + 0.0138fare\n",
    "\n",
    "#### statsmodel.api\n",
    "##### - In(P/1-P) = -1.6964 + 2.5668sex - 0.4017sibsp + 0.0138fare"
   ],
   "metadata": {
    "collapsed": false
   }
  },
  {
   "cell_type": "code",
   "execution_count": null,
   "outputs": [],
   "source": [],
   "metadata": {
    "collapsed": false
   }
  },
  {
   "cell_type": "code",
   "execution_count": null,
   "outputs": [],
   "source": [],
   "metadata": {
    "collapsed": false
   }
  },
  {
   "cell_type": "code",
   "execution_count": null,
   "outputs": [],
   "source": [],
   "metadata": {
    "collapsed": false
   }
  },
  {
   "cell_type": "code",
   "execution_count": null,
   "outputs": [],
   "source": [],
   "metadata": {
    "collapsed": false
   }
  },
  {
   "cell_type": "code",
   "execution_count": null,
   "outputs": [],
   "source": [],
   "metadata": {
    "collapsed": false
   }
  }
 ],
 "metadata": {
  "kernelspec": {
   "display_name": "Python 3",
   "language": "python",
   "name": "python3"
  },
  "language_info": {
   "codemirror_mode": {
    "name": "ipython",
    "version": 2
   },
   "file_extension": ".py",
   "mimetype": "text/x-python",
   "name": "python",
   "nbconvert_exporter": "python",
   "pygments_lexer": "ipython2",
   "version": "2.7.6"
  }
 },
 "nbformat": 4,
 "nbformat_minor": 0
}
