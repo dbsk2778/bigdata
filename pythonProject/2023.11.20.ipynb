{
 "cells": [
  {
   "cell_type": "code",
   "execution_count": null,
   "metadata": {
    "collapsed": true
   },
   "outputs": [],
   "source": [
    "# 2유형 = 모델링 및 평가\n",
    "# 회귀분석 (y 값 = 종속변수가 연속형 변수) = regression\n",
    "# 분류분석 (y 값 = 종속변수가 이산형 변수) = classification\n",
    "\n",
    "# 전처리는 결측치, 이상치 등을 처리해줘야함\n",
    "# 데이터 split = train dataset (80%), test dataset (20%) : 성능평가의 용도로만 쓰이는 데이터(test data)\n",
    "# train data는 train 60(모델 학습), validation 20(검증, 1차 성능평가), test 20(실제 test data를 모델에 넣어서, 모델이 예측한 값과(예측 y값) 실제 y값 비교 = test data의 실제 y값과 모델이 예측해준 예측 y값 비교\n",
    "\n",
    "# 테스트 데이터에는 독립변수만 넣는것 !! 종속변수 넣는 게 아님 = 이 test data를 실제 y값과 비교"
   ]
  },
  {
   "cell_type": "code",
   "execution_count": null,
   "outputs": [],
   "source": [
    "# 지금까지 지도학습만 나왔음\n",
    "# macro F1 score\n",
    "# RMSE\n",
    "# Accuracy\n",
    "# AUC\n",
    "\n",
    "# 해당 함수를 치면 성능을 구해줌"
   ],
   "metadata": {
    "collapsed": false
   }
  },
  {
   "cell_type": "code",
   "execution_count": null,
   "outputs": [],
   "source": [
    "# 2유형의 목표 : 적절한 예측값(y)를 제출하는 것 : 성능평가는 출제기관에서 진행\n",
    "# 적절한 예측값을 제출하기 위해서는 train / validation set으로 나누고, validation set을 가지고 성능 평가를 해봐야한다.\n",
    "\n",
    "# 실기 시험에서 주어지는 데이터 set\n",
    "## 1. X_test = pd.read_csv(\"data/X_test.csv\")\n",
    "## 2. X_train = pd.read_csv(\"data/X_train.csv\")\n",
    "## 3. y_train = pd.read_csv(\"daya/Y_train/csv\")\n",
    "\n",
    "### Y_test는 존재안함."
   ],
   "metadata": {
    "collapsed": false
   }
  },
  {
   "cell_type": "code",
   "execution_count": null,
   "outputs": [],
   "source": [
    "# 시험에서 제공되는 데이터 : Train data (X, Y) / Test data (X)\n",
    "\n",
    "# Train data (X, Y) 로 모델이 학습되면 train된 model에 validation x 데이터를 넣음\n",
    "# validation x만 train model에 넣음!! 여기서 나온 예측값과 실제 값을 비교해야하는데, 실제 값은 validation y값 : 성능이 제대로 나오는지 확인해야함\n",
    "# 학습된 모델에 (최종) x-test 값을 넣어서 예측 y값을 시험에서 원하는 형태로 제공해야 함"
   ],
   "metadata": {
    "collapsed": false
   }
  },
  {
   "cell_type": "code",
   "execution_count": null,
   "outputs": [],
   "source": [
    "# 분류(Classification)분석 시 주의사항\n",
    "# Y(종속변수) 분리할 대 train_test_split 함수에서 \"stratify 옵션\"을 꼭 해줘야 함(층화 샘플링) = 강의 15분 28초 이미지 참조\n",
    "# 종속변수의 class가 불균형할 경우 startify 옵션을 안줄경우, 랜덤으로 배정되기 때문에 class 소수 값이 train_set에 들어오지 않을 수도 있기 때문에 아예 소수값을 train 못할수도 있음  : class 값이 동일한 비율로 있지 않기 때문에 validation_ set으로 검즐할 때 꼭 stratify 옵션 줘야함"
   ],
   "metadata": {
    "collapsed": false
   }
  },
  {
   "cell_type": "code",
   "execution_count": null,
   "outputs": [],
   "source": [
    "# 모델이 학습되면(trained data) : test data set을 넣어 성능 평가를 해야하는데 (test data의 x를 trained model에 넣으면 예측값을 내뱉어줌(y값 예측))\n",
    "# 성능평가는 실제 y값(test에 있는 y값), 예측 y값 비교하는 것 = 성능지표들로\n",
    "\n",
    "\n",
    "# 분석 평가 모형 - 회귀 성능 지표 : 실제값과 예측값의 차이를 계산함 모든 지표들이!!\n",
    "# 실제 값(y)과 예측값(y`) 값의 차이를 계산하여 성능을 측정\n",
    "## 1. MSE(Mean Squared Error) : 평균 제곱 오차\n",
    "## 2. RMSE(Root MSE) : 평균 제곱근 오차\n",
    "## 3. MAE(Mean Absolute Error): 평균 절대 오차\n",
    "## 4. MAPE(Mean Absolute Percentage Error) : 평균 절대 백분율 오차\n",
    "## 5. R2(결정계수) : 회귀 모형의 설명력 (0-1 사이의 값을 가지며 값이 클수록 성능이 좋음)"
   ],
   "metadata": {
    "collapsed": false
   }
  },
  {
   "cell_type": "code",
   "execution_count": null,
   "outputs": [],
   "source": [
    "# 분석모형 평가 - 분류 성능 지표\n",
    "## 혼동행렬 : 이진분류(0, 1)에서 나올 수 있는 경우의 수 4가지 = 2가지 범주의 y값 !!\n",
    "## 20분 9초 이미지 참조 : 정확도, 민감도(재현율), 특이도, F1 Score\n",
    "\n",
    "## Tips\n",
    "## 1. 예측 / 실제, Postive / Nagative 위치 확인\n",
    "## 2. 예측 기준으로 4가지 (TP, TN, FP, FN) 항목 위치 표기\n",
    "##### TP : True Positive (예측 Positive, 실제 Positive)\n",
    "##### FP : False Positive (예측 Positive, 실제 Nagative)\n",
    "##### TN : True Nagative (예측 Nagative, 실제 Nagative)\n",
    "##### FN : False Nagative (예측 Nagative, 실제 Positive)\n",
    "## 3. 각각의 지표 정의 그대로 계산하기\n",
    "\n",
    "## 여러가지 지표들 정의를 암기할 것 !\n",
    "### 1. 정확도(Accuracy): 전체 중에 잘 분류한 비율 (TP + TN / 전체)\n",
    "### 2. 민감도(Sensitivity): 실제 Positive 중에 잘 분류한 비율 = 재현율(Recall) (TP / TP + FN) : * FN : 예측을 N으로 했는데 실제 P이다\n",
    "### 3. 특이도(Specificity): 실제 Nagative 중에 잘 분류한 비욜 (TN / TN + FP)\n",
    "### 4. 정밀도(Precision): 예측 Positive 중에 잘 분류한 비율 (TP / TP + FP)\n",
    "### 5. F1 Score = (2 * 정밀도 * 재현율) / (정밀도 + 재현율)"
   ],
   "metadata": {
    "collapsed": false
   }
  },
  {
   "cell_type": "code",
   "execution_count": null,
   "outputs": [],
   "source": [
    "# 분석 모형 평가 - 분류 성능 지표\n",
    "## ROC Curve\n",
    "## AUC (Area Under the Curve): ROC Curve의 아래쪽 면적을 뜻함, 0.5~1.0 값을 가지며 1로 갈수록 분류 성능이 좋음\n",
    "### 0.9 ~ 1.0 뛰어남 (Excellent)\n",
    "### 0.8 ~ 0.9 우수함 (Good)\n",
    "### 0.7 ~ 0.8 보통 (Fair)\n",
    "### 0.6 ~ 0.7 불량 (Poor)\n",
    "### 0.5 ~ 0.6 실패 (Fail)\n",
    "\n",
    "## ROC Curve의 y축은 재현율(TPR) , x축은 (1-특이도) = FPR"
   ],
   "metadata": {
    "collapsed": false
   }
  },
  {
   "cell_type": "code",
   "execution_count": null,
   "outputs": [],
   "source": [
    "# 데이터 전처리\n",
    "## 1. 데이터 탐색\n",
    "## 2. 결측값 / 이상값 처리\n",
    "## 3. 변수 처리\n",
    "\n",
    "# 전처리 데이터를 가지고 모델링 및 성능 평가"
   ],
   "metadata": {
    "collapsed": false
   }
  },
  {
   "cell_type": "code",
   "execution_count": null,
   "outputs": [],
   "source": [
    "# 데이터 전처리\n",
    "## 데이터 탐색 (EDA)\n",
    "### 1. 행/열 확인: df.shape\n",
    "### 2. 초기 데이터 확인: df.head()\n",
    "### 3. 데이터 정보 확인: df.info() - 변수명, 데이터 수, 결측치 수, 데이터 타입 등\n",
    "### 4. 기초 통계량 확인: df.describe() - 연속형 변수\n",
    "### 5. 범주형 변수 빈도: df.value_counts() - 범주형 변수\n",
    "\n",
    "## 결측값 확인 및 처리\n",
    "### 1. 결측치 확인: df.isnull().sum()\n",
    "### 2. 결측치 삭제(행 기준): df.dropna() - 실기 시험에서 전체 데이터 수에 비해 결측값이나 이상값 비율이 작다면 삭제, 정보 손실이 발생하기 때문에 감안해야 함 (조금 더 모델의 성능을 올리고 싶다면, 결측치 삭제가 아니라 결측치를 대체해줘야 함)\n",
    "### 3. 결측치 대체: df['A'].median(), df['A'].mean(), df['A'].mode() - 연속형 데이터(중앙값이나 평균값으로 대체, 중앙값이 이상치에 민감하지 않기 때문에 보완되므로 중앙값으로 하는 걸 추천함) / 범주형 데이터(최빈값으로 대체)\n",
    "\n",
    "## 이상값 확인 및 처리\n",
    "### 1. 이상값 확인: df.describe() - train / test 데이터 분포 형태를 확인해서 이상치 여부 확인, 논리적으로 설명할 수 없는 데이터 (보통 min / max 값에서 확인) (ex. 중고차 생산년도 2060년, 나이 -20, 성별 T 등)\n",
    "### 2. 이상값 처리 (train / test data set 분포를 둘 다 살펴보기 - 두 데이터에 섞여 있으면, train data에서 이상값을 학습하는 게 더 낫다.)\n",
    "# - 대체 (연속형 데이터 - 극단값은 최소값이거나, 최대값으로 대체)\n",
    "# - 대체 (범주형 데이터는 최빈값으로 대체)\n",
    "\n",
    "# ** 해당 데이터를 처리해줬을 때의 성능과 처리하지 않았을 경우의 성능을 비교해서 더 나은 성능을 가진 것을 사용하기 (차이가 있으면 좋은쪽으로 선택하고, 차이가 없으면 그대로 둬도 됨)\n",
    "\n",
    "## 분석 변수 처리\n",
    "### 1. 불필요한 변수 삭제\n",
    "#### df = df.drop(columns = ['변수1', '변수2'])\n",
    "#### df = df.drop(['변수1', '변수2'], axis=1) - 열 기준 삭제\n",
    "### 2. 필요시 파생변수 생성 - 권하지는 않음 !! (개인의 선택일 뿐)\n",
    "### 3. 원핫인코딩 (문자형 데이터 처리하기) - 머신러닝 모델이 문자형 데이터 처리 못하니까 원핫인코딩 해줘야\n",
    "#### x_train = pd.get_dummies(x_train)\n",
    "#### x_test = pd.get_dummies(x_test)"
   ],
   "metadata": {
    "collapsed": false
   }
  },
  {
   "cell_type": "code",
   "execution_count": null,
   "outputs": [],
   "source": [
    "# 모델 선정 - RandomForest\n",
    "# 랜덤 포레스트를 사용하는 이유\n",
    "## 1. 분류/회귀 문제에 모두 사용 가능\n",
    "## 2. 모형 자체가 앙상블 모형이라 성능이 좋음\n",
    "## 3. 이상치에 민감하지 않고, 분석 속도도 적절함\n",
    "\n",
    "# 다수의 의사결정 나무를 만든다음에, 새로운 데이터가 들어왔을 때 각각의 의사결정 나무에 넣어서 나온 결과들을 투표를 해서 최종 결과값을 내는 것! (다수결의 원칙)\n",
    "# 이진분류라면 모델이 3개 있다고 할 때 A / B / B로 분류했다고 할 때 최종 클래스는 B가 되는 것."
   ],
   "metadata": {
    "collapsed": false
   }
  },
  {
   "cell_type": "code",
   "execution_count": null,
   "outputs": [],
   "source": [
    "# 2유형 summary\n",
    "# 2유형 분석 순서\n",
    "## 1. 라이브러리 및 데이터 확인\n",
    "## 2. 데이터 탐색(EDA) - 데이터 타입, 결측치, 기초 통계량 등\n",
    "## 3. 데이터 전처리 및 분리\n",
    "### 결측치/이상치 : 대체 or 삭제\n",
    "### 변수처리: 변수 선택/추가, 원핫인코딩\n",
    "## 4. 모델링 및 성능 평가\n",
    "### 분류 - randomForestClassifier - Accuracy, F1 Score\n",
    "### 회귀 - randomForestRegressor - R2, MSE, RMSE\n",
    "## 5. 예측값 제출"
   ],
   "metadata": {
    "collapsed": false
   }
  },
  {
   "cell_type": "code",
   "execution_count": null,
   "outputs": [],
   "source": [
    "## 가능하면 30초 이내에 분석이 끝나야 함!! 기준은 1분이긴 함."
   ],
   "metadata": {
    "collapsed": false
   }
  },
  {
   "cell_type": "code",
   "execution_count": null,
   "outputs": [],
   "source": [
    "# 제 2유형 - 연습하기 - 와인 종류 분석 (회귀, 분류 둘 다 똑같음)\n",
    "# 데이터 분석 순서\n",
    "# 1. 라이브러리 및 데이터 확인\n",
    "# 2. 데이터 탐색 (EDA)\n",
    "# 3. 데이터 전처리 및 분리\n",
    "# 4. 모델링 및 성능평가\n",
    "# 5. 예측값 제출"
   ],
   "metadata": {
    "collapsed": false
   }
  },
  {
   "cell_type": "code",
   "execution_count": null,
   "outputs": [],
   "source": [],
   "metadata": {
    "collapsed": false
   }
  },
  {
   "cell_type": "markdown",
   "source": [
    "# 1. 라이브러리 및 데이터 확인"
   ],
   "metadata": {
    "collapsed": false
   }
  },
  {
   "cell_type": "code",
   "execution_count": 18,
   "outputs": [],
   "source": [
    "## 기초 라이브러리 - pandas, numpy\n",
    "import pandas as pd\n",
    "import numpy as np"
   ],
   "metadata": {
    "collapsed": false,
    "ExecuteTime": {
     "end_time": "2023-11-21T14:35:58.674614Z",
     "start_time": "2023-11-21T14:35:58.666978Z"
    }
   }
  },
  {
   "cell_type": "code",
   "execution_count": 19,
   "outputs": [],
   "source": [
    "########## 실기환경 복사 영역 ##################\n",
    "###### 실기 환경에서 sklearn library 사용 가능하기 때문에 이거 잘 활용하기 ######\n",
    "from sklearn.datasets import load_wine\n",
    "# 와인 datasets load\n",
    "wine = load_wine()\n",
    "x = pd.DataFrame(wine.data, columns=wine.feature_names)\n",
    "y = pd.DataFrame(wine.target)\n",
    "\n",
    "# 실기 시험 데이터셋으로 셋팅하기 (수정 금지)\n",
    "from sklearn.model_selection import train_test_split\n",
    "x_train, x_test, y_train, y_test = train_test_split(x, y, test_size=0.2, stratify=y, random_state=2023)\n",
    "\n",
    "x_test = pd.DataFrame(x_test)\n",
    "x_train = pd.DataFrame(x_train)\n",
    "y_train = pd.DataFrame(y_train)\n",
    "\n",
    "x_test.reset_index()\n",
    "y_train.columns = ['target']\n",
    "########## 실기환경 복사 영역 ##################"
   ],
   "metadata": {
    "collapsed": false,
    "ExecuteTime": {
     "end_time": "2023-11-21T14:35:59.654024Z",
     "start_time": "2023-11-21T14:35:59.647357Z"
    }
   }
  },
  {
   "cell_type": "code",
   "execution_count": null,
   "outputs": [],
   "source": [
    "## 참고사항 ##\n",
    "# y_test는 실기 문제상에 주어지지 않음\n",
    "# TIP: X를 대문자로 쓰지 말고, 소문자  x로 쓰세요. 시험에서 실수하기 쉽습니다.\n",
    "# 보통 X는 2차원 배열이라 대문자로쓰고, y는 1차원 배열이라 소문자인데, 아래 X라고 대문자로 세팅되어있지만, 소문자 x로 바꾸기!!\n",
    "# 실기시험 데이터 형식 (실제 시험장에서는 다르 수 있으니 반드시 체크)\n",
    "# X_test = pd.read_csv('data/X_test.csv')\n",
    "# X_train = pd.read_csv('data/X_train.csv')\n",
    "# y_train = pd.read_csv('data/y_train.csv')\n",
    "\n",
    "## ** 문제 풀기 전에 소문자 x로 바꾸고, x data set !!\n",
    "## ** 그리고 실제 시험 data set의 train set이 나눠져있지 않고 붙어 있을수도 있다 !!"
   ],
   "metadata": {
    "collapsed": false
   }
  },
  {
   "cell_type": "code",
   "execution_count": null,
   "outputs": [],
   "source": [
    "# 실제 시험에서 문제 정확히 읽는 게 중요함 !!\n",
    "\n",
    "# 와인의 종류를 분류해보자\n",
    "# - 데이터의 결측치, 이상치에 대해 처리하고, 분류 모델을 사용하여 정확도 / f1 score / auc 값을 산출하시오.\n",
    "# - 제출은 result 변수에 담아 양식에 맞게 제출하시오."
   ],
   "metadata": {
    "collapsed": false
   }
  },
  {
   "cell_type": "code",
   "execution_count": 20,
   "outputs": [
    {
     "name": "stdout",
     "output_type": "stream",
     "text": [
      ".. _wine_dataset:\n",
      "\n",
      "Wine recognition dataset\n",
      "------------------------\n",
      "\n",
      "**Data Set Characteristics:**\n",
      "\n",
      "    :Number of Instances: 178\n",
      "    :Number of Attributes: 13 numeric, predictive attributes and the class\n",
      "    :Attribute Information:\n",
      " \t\t- Alcohol\n",
      " \t\t- Malic acid\n",
      " \t\t- Ash\n",
      "\t\t- Alcalinity of ash  \n",
      " \t\t- Magnesium\n",
      "\t\t- Total phenols\n",
      " \t\t- Flavanoids\n",
      " \t\t- Nonflavanoid phenols\n",
      " \t\t- Proanthocyanins\n",
      "\t\t- Color intensity\n",
      " \t\t- Hue\n",
      " \t\t- OD280/OD315 of diluted wines\n",
      " \t\t- Proline\n",
      "\n",
      "    - class:\n",
      "            - class_0\n",
      "            - class_1\n",
      "            - class_2\n",
      "\t\t\n",
      "    :Summary Statistics:\n",
      "    \n",
      "    ============================= ==== ===== ======= =====\n",
      "                                   Min   Max   Mean     SD\n",
      "    ============================= ==== ===== ======= =====\n",
      "    Alcohol:                      11.0  14.8    13.0   0.8\n",
      "    Malic Acid:                   0.74  5.80    2.34  1.12\n",
      "    Ash:                          1.36  3.23    2.36  0.27\n",
      "    Alcalinity of Ash:            10.6  30.0    19.5   3.3\n",
      "    Magnesium:                    70.0 162.0    99.7  14.3\n",
      "    Total Phenols:                0.98  3.88    2.29  0.63\n",
      "    Flavanoids:                   0.34  5.08    2.03  1.00\n",
      "    Nonflavanoid Phenols:         0.13  0.66    0.36  0.12\n",
      "    Proanthocyanins:              0.41  3.58    1.59  0.57\n",
      "    Colour Intensity:              1.3  13.0     5.1   2.3\n",
      "    Hue:                          0.48  1.71    0.96  0.23\n",
      "    OD280/OD315 of diluted wines: 1.27  4.00    2.61  0.71\n",
      "    Proline:                       278  1680     746   315\n",
      "    ============================= ==== ===== ======= =====\n",
      "\n",
      "    :Missing Attribute Values: None\n",
      "    :Class Distribution: class_0 (59), class_1 (71), class_2 (48)\n",
      "    :Creator: R.A. Fisher\n",
      "    :Donor: Michael Marshall (MARSHALL%PLU@io.arc.nasa.gov)\n",
      "    :Date: July, 1988\n",
      "\n",
      "This is a copy of UCI ML Wine recognition datasets.\n",
      "https://archive.ics.uci.edu/ml/machine-learning-databases/wine/wine.data\n",
      "\n",
      "The data is the results of a chemical analysis of wines grown in the same\n",
      "region in Italy by three different cultivators. There are thirteen different\n",
      "measurements taken for different constituents found in the three types of\n",
      "wine.\n",
      "\n",
      "Original Owners: \n",
      "\n",
      "Forina, M. et al, PARVUS - \n",
      "An Extendible Package for Data Exploration, Classification and Correlation. \n",
      "Institute of Pharmaceutical and Food Analysis and Technologies,\n",
      "Via Brigata Salerno, 16147 Genoa, Italy.\n",
      "\n",
      "Citation:\n",
      "\n",
      "Lichman, M. (2013). UCI Machine Learning Repository\n",
      "[https://archive.ics.uci.edu/ml]. Irvine, CA: University of California,\n",
      "School of Information and Computer Science. \n",
      "\n",
      "|details-start|\n",
      "**References**\n",
      "|details-split|\n",
      "\n",
      "(1) S. Aeberhard, D. Coomans and O. de Vel, \n",
      "Comparison of Classifiers in High Dimensional Settings, \n",
      "Tech. Rep. no. 92-02, (1992), Dept. of Computer Science and Dept. of  \n",
      "Mathematics and Statistics, James Cook University of North Queensland. \n",
      "(Also submitted to Technometrics). \n",
      "\n",
      "The data was used with many others for comparing various \n",
      "classifiers. The classes are separable, though only RDA \n",
      "has achieved 100% correct classification. \n",
      "(RDA : 100%, QDA 99.4%, LDA 98.9%, 1NN 96.1% (z-transformed data)) \n",
      "(All results using the leave-one-out technique) \n",
      "\n",
      "(2) S. Aeberhard, D. Coomans and O. de Vel, \n",
      "\"THE CLASSIFICATION PERFORMANCE OF RDA\" \n",
      "Tech. Rep. no. 92-01, (1992), Dept. of Computer Science and Dept. of \n",
      "Mathematics and Statistics, James Cook University of North Queensland. \n",
      "(Also submitted to Journal of Chemometrics).\n",
      "\n",
      "|details-end|\n"
     ]
    }
   ],
   "source": [
    "# 데이터 설명\n",
    "print(wine.DESCR)"
   ],
   "metadata": {
    "collapsed": false,
    "ExecuteTime": {
     "end_time": "2023-11-21T14:36:01.948961Z",
     "start_time": "2023-11-21T14:36:01.944254Z"
    }
   }
  },
  {
   "cell_type": "markdown",
   "source": [
    "# 2. 데이터 탐색"
   ],
   "metadata": {
    "collapsed": false
   }
  },
  {
   "cell_type": "code",
   "execution_count": 21,
   "outputs": [
    {
     "name": "stdout",
     "output_type": "stream",
     "text": [
      "(142, 13)\n",
      "(36, 13)\n",
      "(142, 1)\n"
     ]
    }
   ],
   "source": [
    "## 데이터의 행/열 확인 - shape\n",
    "print(x_train.shape)\n",
    "print(x_test.shape)\n",
    "print(y_train.shape)"
   ],
   "metadata": {
    "collapsed": false,
    "ExecuteTime": {
     "end_time": "2023-11-21T14:36:04.489949Z",
     "start_time": "2023-11-21T14:36:04.487001Z"
    }
   }
  },
  {
   "cell_type": "code",
   "execution_count": 22,
   "outputs": [
    {
     "name": "stdout",
     "output_type": "stream",
     "text": [
      "     alcohol  malic_acid   ash  alcalinity_of_ash  magnesium  total_phenols  \\\n",
      "52     13.82        1.75  2.42               14.0      111.0           3.88   \n",
      "146    13.88        5.04  2.23               20.0       80.0           0.98   \n",
      "44     13.05        1.77  2.10               17.0      107.0           3.00   \n",
      "\n",
      "     flavanoids  nonflavanoid_phenols  proanthocyanins  color_intensity   hue  \\\n",
      "52         3.74                  0.32             1.87             7.05  1.01   \n",
      "146        0.34                  0.40             0.68             4.90  0.58   \n",
      "44         3.00                  0.28             2.03             5.04  0.88   \n",
      "\n",
      "     od280/od315_of_diluted_wines  proline  \n",
      "52                           3.26   1190.0  \n",
      "146                          1.33    415.0  \n",
      "44                           3.35    885.0  \n",
      "     alcohol  malic_acid   ash  alcalinity_of_ash  magnesium  total_phenols  \\\n",
      "168    13.58        2.58  2.69               24.5      105.0           1.55   \n",
      "144    12.25        3.88  2.20               18.5      112.0           1.38   \n",
      "151    12.79        2.67  2.48               22.0      112.0           1.48   \n",
      "\n",
      "     flavanoids  nonflavanoid_phenols  proanthocyanins  color_intensity   hue  \\\n",
      "168        0.84                  0.39             1.54             8.66  0.74   \n",
      "144        0.78                  0.29             1.14             8.21  0.65   \n",
      "151        1.36                  0.24             1.26            10.80  0.48   \n",
      "\n",
      "     od280/od315_of_diluted_wines  proline  \n",
      "168                          1.80    750.0  \n",
      "144                          2.00    855.0  \n",
      "151                          1.47    480.0  \n",
      "     target\n",
      "52        0\n",
      "146       2\n",
      "44        0\n"
     ]
    }
   ],
   "source": [
    "## 초기 데이터 확인\n",
    "print(x_train.head(3))\n",
    "print(x_test.head(3))\n",
    "print(y_train.head(3))"
   ],
   "metadata": {
    "collapsed": false,
    "ExecuteTime": {
     "end_time": "2023-11-21T14:36:06.078031Z",
     "start_time": "2023-11-21T14:36:06.074658Z"
    }
   }
  },
  {
   "cell_type": "markdown",
   "source": [],
   "metadata": {
    "collapsed": false
   }
  },
  {
   "cell_type": "markdown",
   "source": [],
   "metadata": {
    "collapsed": false
   }
  },
  {
   "cell_type": "code",
   "execution_count": 23,
   "outputs": [
    {
     "name": "stdout",
     "output_type": "stream",
     "text": [
      "<class 'pandas.core.frame.DataFrame'>\n",
      "Index: 142 entries, 52 to 115\n",
      "Data columns (total 13 columns):\n",
      " #   Column                        Non-Null Count  Dtype  \n",
      "---  ------                        --------------  -----  \n",
      " 0   alcohol                       142 non-null    float64\n",
      " 1   malic_acid                    142 non-null    float64\n",
      " 2   ash                           142 non-null    float64\n",
      " 3   alcalinity_of_ash             142 non-null    float64\n",
      " 4   magnesium                     142 non-null    float64\n",
      " 5   total_phenols                 142 non-null    float64\n",
      " 6   flavanoids                    142 non-null    float64\n",
      " 7   nonflavanoid_phenols          142 non-null    float64\n",
      " 8   proanthocyanins               142 non-null    float64\n",
      " 9   color_intensity               142 non-null    float64\n",
      " 10  hue                           142 non-null    float64\n",
      " 11  od280/od315_of_diluted_wines  142 non-null    float64\n",
      " 12  proline                       142 non-null    float64\n",
      "dtypes: float64(13)\n",
      "memory usage: 15.5 KB\n",
      "None\n",
      "<class 'pandas.core.frame.DataFrame'>\n",
      "Index: 36 entries, 168 to 55\n",
      "Data columns (total 13 columns):\n",
      " #   Column                        Non-Null Count  Dtype  \n",
      "---  ------                        --------------  -----  \n",
      " 0   alcohol                       36 non-null     float64\n",
      " 1   malic_acid                    36 non-null     float64\n",
      " 2   ash                           36 non-null     float64\n",
      " 3   alcalinity_of_ash             36 non-null     float64\n",
      " 4   magnesium                     36 non-null     float64\n",
      " 5   total_phenols                 36 non-null     float64\n",
      " 6   flavanoids                    36 non-null     float64\n",
      " 7   nonflavanoid_phenols          36 non-null     float64\n",
      " 8   proanthocyanins               36 non-null     float64\n",
      " 9   color_intensity               36 non-null     float64\n",
      " 10  hue                           36 non-null     float64\n",
      " 11  od280/od315_of_diluted_wines  36 non-null     float64\n",
      " 12  proline                       36 non-null     float64\n",
      "dtypes: float64(13)\n",
      "memory usage: 3.9 KB\n",
      "None\n",
      "<class 'pandas.core.frame.DataFrame'>\n",
      "Index: 142 entries, 52 to 115\n",
      "Data columns (total 1 columns):\n",
      " #   Column  Non-Null Count  Dtype\n",
      "---  ------  --------------  -----\n",
      " 0   target  142 non-null    int64\n",
      "dtypes: int64(1)\n",
      "memory usage: 2.2 KB\n",
      "None\n"
     ]
    }
   ],
   "source": [
    "# 변수명과 데이터 타입이 매칭이 되는지, 결측치가 있는지 확인\n",
    "## info() 함수로 볼 수 있는건 142개의 데이터가 있고 13개의 열이 있다는 것\n",
    "print(x_train.info())\n",
    "print(x_test.info())\n",
    "print(y_train.info())\n",
    "\n",
    "# ** 만약 info 했을 때 float, int 아니라 object 있다면 원핫인코딩 해줘야 함"
   ],
   "metadata": {
    "collapsed": false,
    "ExecuteTime": {
     "end_time": "2023-11-21T14:36:07.911245Z",
     "start_time": "2023-11-21T14:36:07.903117Z"
    }
   }
  },
  {
   "cell_type": "code",
   "execution_count": 24,
   "outputs": [
    {
     "name": "stdout",
     "output_type": "stream",
     "text": [
      "          alcohol  malic_acid         ash  alcalinity_of_ash   magnesium  \\\n",
      "count  142.000000  142.000000  142.000000         142.000000  142.000000   \n",
      "mean    13.025915    2.354296    2.340211          19.354225   98.732394   \n",
      "std      0.812423    1.142722    0.279910           3.476825   13.581859   \n",
      "min     11.030000    0.740000    1.360000          10.600000   70.000000   \n",
      "25%     12.370000    1.610000    2.190000          16.800000   88.000000   \n",
      "50%     13.050000    1.820000    2.320000          19.300000   97.000000   \n",
      "75%     13.685000    3.115000    2.510000          21.500000  106.750000   \n",
      "max     14.830000    5.800000    3.230000          30.000000  151.000000   \n",
      "\n",
      "       total_phenols  flavanoids  nonflavanoid_phenols  proanthocyanins  \\\n",
      "count     142.000000  142.000000            142.000000       142.000000   \n",
      "mean        2.303592    2.043592              0.361479         1.575070   \n",
      "std         0.633955    1.033597              0.124627         0.576798   \n",
      "min         0.980000    0.340000              0.140000         0.410000   \n",
      "25%         1.757500    1.227500              0.270000         1.242500   \n",
      "50%         2.335000    2.100000              0.325000         1.555000   \n",
      "75%         2.800000    2.917500              0.437500         1.950000   \n",
      "max         3.880000    5.080000              0.630000         3.580000   \n",
      "\n",
      "       color_intensity         hue  od280/od315_of_diluted_wines      proline  \n",
      "count       142.000000  142.000000                    142.000000   142.000000  \n",
      "mean          5.005070    0.950394                      2.603592   742.112676  \n",
      "std           2.150186    0.220736                      0.709751   317.057395  \n",
      "min           1.280000    0.540000                      1.270000   290.000000  \n",
      "25%           3.300000    0.782500                      1.922500   496.250000  \n",
      "50%           4.850000    0.960000                      2.780000   660.000000  \n",
      "75%           6.122500    1.097500                      3.170000   981.250000  \n",
      "max          13.000000    1.710000                      3.920000  1680.000000  \n",
      "         alcohol  malic_acid        ash  alcalinity_of_ash   magnesium  \\\n",
      "count  36.000000   36.000000  36.000000           36.00000   36.000000   \n",
      "mean   12.900833    2.265556   2.470278           20.05000  103.722222   \n",
      "std     0.813112    1.021943   0.226066            2.70275   16.371772   \n",
      "min    11.640000    0.890000   2.000000           14.60000   84.000000   \n",
      "25%    12.230000    1.592500   2.300000           18.00000   91.500000   \n",
      "50%    12.835000    1.885000   2.470000           19.50000  101.000000   \n",
      "75%    13.635000    2.792500   2.605000           21.70000  112.000000   \n",
      "max    14.390000    4.950000   3.220000           26.50000  162.000000   \n",
      "\n",
      "       total_phenols  flavanoids  nonflavanoid_phenols  proanthocyanins  \\\n",
      "count      36.000000   36.000000             36.000000        36.000000   \n",
      "mean        2.261667    1.972778              0.363333         1.653333   \n",
      "std         0.600259    0.858882              0.125516         0.558012   \n",
      "min         1.350000    0.660000              0.130000         0.840000   \n",
      "25%         1.715000    1.175000              0.267500         1.320000   \n",
      "50%         2.420000    2.175000              0.395000         1.550000   \n",
      "75%         2.602500    2.682500              0.435000         1.972500   \n",
      "max         3.850000    3.490000              0.660000         3.280000   \n",
      "\n",
      "       color_intensity        hue  od280/od315_of_diluted_wines     proline  \n",
      "count        36.000000  36.000000                     36.000000    36.00000  \n",
      "mean          5.267222   0.985278                      2.643611   765.75000  \n",
      "std           2.915076   0.258694                      0.720100   309.94851  \n",
      "min           2.080000   0.480000                      1.290000   278.00000  \n",
      "25%           2.875000   0.787500                      2.037500   542.50000  \n",
      "50%           4.325000   0.985000                      2.790000   682.50000  \n",
      "75%           6.900000   1.167500                      3.192500   996.25000  \n",
      "max          11.750000   1.450000                      4.000000  1480.00000  \n",
      "           target\n",
      "count  142.000000\n",
      "mean     0.936620\n",
      "std      0.773816\n",
      "min      0.000000\n",
      "25%      0.000000\n",
      "50%      1.000000\n",
      "75%      2.000000\n",
      "max      2.000000\n"
     ]
    }
   ],
   "source": [
    "# x_train과 x_test 데이터의 기초 통계량을 잘 비교해보기\n",
    "## 잘 비교해보라는 게 어떤 의미냐면, train data와 test data의 분포가 비슷해야한다. 예를 들면 알코올에 대한 train data의 평균값은 13, test data의 평균값은 12.9 이렇게 train data와 test data의 분포가 비슷해야 한다!!\n",
    "## 이상치가 있으며 train data와 test data의 min / max 값의 차이가 많이 난다 !! - 이거 주의\n",
    "\n",
    "## describe에서는 분포 확인\n",
    "print(x_train.describe())  # x_train.describe().T 편한 거 사용하기\n",
    "print(x_test.describe())\n",
    "print(y_train.describe())"
   ],
   "metadata": {
    "collapsed": false,
    "ExecuteTime": {
     "end_time": "2023-11-21T14:36:10.112765Z",
     "start_time": "2023-11-21T14:36:10.082598Z"
    }
   }
  },
  {
   "cell_type": "code",
   "execution_count": 12,
   "outputs": [
    {
     "name": "stdout",
     "output_type": "stream",
     "text": [
      "                              count        mean         std     min       25%  \\\n",
      "alcohol                       142.0   13.025915    0.812423   11.03   12.3700   \n",
      "malic_acid                    142.0    2.354296    1.142722    0.74    1.6100   \n",
      "ash                           142.0    2.340211    0.279910    1.36    2.1900   \n",
      "alcalinity_of_ash             142.0   19.354225    3.476825   10.60   16.8000   \n",
      "magnesium                     142.0   98.732394   13.581859   70.00   88.0000   \n",
      "total_phenols                 142.0    2.303592    0.633955    0.98    1.7575   \n",
      "flavanoids                    142.0    2.043592    1.033597    0.34    1.2275   \n",
      "nonflavanoid_phenols          142.0    0.361479    0.124627    0.14    0.2700   \n",
      "proanthocyanins               142.0    1.575070    0.576798    0.41    1.2425   \n",
      "color_intensity               142.0    5.005070    2.150186    1.28    3.3000   \n",
      "hue                           142.0    0.950394    0.220736    0.54    0.7825   \n",
      "od280/od315_of_diluted_wines  142.0    2.603592    0.709751    1.27    1.9225   \n",
      "proline                       142.0  742.112676  317.057395  290.00  496.2500   \n",
      "\n",
      "                                  50%       75%      max  \n",
      "alcohol                        13.050   13.6850    14.83  \n",
      "malic_acid                      1.820    3.1150     5.80  \n",
      "ash                             2.320    2.5100     3.23  \n",
      "alcalinity_of_ash              19.300   21.5000    30.00  \n",
      "magnesium                      97.000  106.7500   151.00  \n",
      "total_phenols                   2.335    2.8000     3.88  \n",
      "flavanoids                      2.100    2.9175     5.08  \n",
      "nonflavanoid_phenols            0.325    0.4375     0.63  \n",
      "proanthocyanins                 1.555    1.9500     3.58  \n",
      "color_intensity                 4.850    6.1225    13.00  \n",
      "hue                             0.960    1.0975     1.71  \n",
      "od280/od315_of_diluted_wines    2.780    3.1700     3.92  \n",
      "proline                       660.000  981.2500  1680.00  \n"
     ]
    }
   ],
   "source": [
    "print(x_train.describe().T)  ## 행 / 열 전환"
   ],
   "metadata": {
    "collapsed": false,
    "ExecuteTime": {
     "end_time": "2023-11-21T13:53:40.485328Z",
     "start_time": "2023-11-21T13:53:40.463243Z"
    }
   }
  },
  {
   "cell_type": "code",
   "execution_count": 25,
   "outputs": [
    {
     "name": "stdout",
     "output_type": "stream",
     "text": [
      "     target\n",
      "52        0\n",
      "146       2\n",
      "44        0\n",
      "67        1\n",
      "43        0\n",
      "target\n",
      "1         57\n",
      "0         47\n",
      "2         38\n",
      "Name: count, dtype: int64\n"
     ]
    }
   ],
   "source": [
    "# y 데이터도 구체적으로 살펴보기\n",
    "print(y_train.head())\n",
    "print(y_train.value_counts())"
   ],
   "metadata": {
    "collapsed": false,
    "ExecuteTime": {
     "end_time": "2023-11-21T14:36:12.546946Z",
     "start_time": "2023-11-21T14:36:12.543935Z"
    }
   }
  },
  {
   "cell_type": "code",
   "execution_count": 26,
   "outputs": [
    {
     "name": "stdout",
     "output_type": "stream",
     "text": [
      "alcohol                         0\n",
      "malic_acid                      0\n",
      "ash                             0\n",
      "alcalinity_of_ash               0\n",
      "magnesium                       0\n",
      "total_phenols                   0\n",
      "flavanoids                      0\n",
      "nonflavanoid_phenols            0\n",
      "proanthocyanins                 0\n",
      "color_intensity                 0\n",
      "hue                             0\n",
      "od280/od315_of_diluted_wines    0\n",
      "proline                         0\n",
      "dtype: int64\n",
      "alcohol                         0\n",
      "malic_acid                      0\n",
      "ash                             0\n",
      "alcalinity_of_ash               0\n",
      "magnesium                       0\n",
      "total_phenols                   0\n",
      "flavanoids                      0\n",
      "nonflavanoid_phenols            0\n",
      "proanthocyanins                 0\n",
      "color_intensity                 0\n",
      "hue                             0\n",
      "od280/od315_of_diluted_wines    0\n",
      "proline                         0\n",
      "dtype: int64\n",
      "target    0\n",
      "dtype: int64\n"
     ]
    }
   ],
   "source": [
    "# 3. 데이터 전처리 및 분리\n",
    "## 1) 결측치\n",
    "print(x_train.isnull().sum())\n",
    "print(x_test.isnull().sum())\n",
    "print(y_train.isnull().sum())"
   ],
   "metadata": {
    "collapsed": false,
    "ExecuteTime": {
     "end_time": "2023-11-21T14:36:14.819018Z",
     "start_time": "2023-11-21T14:36:14.814685Z"
    }
   }
  },
  {
   "cell_type": "code",
   "execution_count": null,
   "outputs": [],
   "source": [
    "## 결측치 제거\n",
    "## df = df.dropna()  # 행 기준 결측치 제거 !!\n",
    "## print(df)\n",
    "\n",
    "# 참고사항\n",
    "# print(df.dropna().shape)  # shape 찍어보면 행 기준으로 얼마나 삭제됐는지 알 수 있음"
   ],
   "metadata": {
    "collapsed": false
   }
  },
  {
   "cell_type": "code",
   "execution_count": null,
   "outputs": [],
   "source": [
    "## 결측치 대체 (평균값, 중앙값, 최빈값)\n",
    "# - 연속형 변수 : 중앙값, 평균값 : 중앙값을 더 추천함 (이상치, 극단값의 영향을 덜 받기 때문에)\n",
    "## df['변수명'].median()\n",
    "## df['변수명'].mean()\n",
    "# - 범주형 변수 : 최빈값  df['변수명'].mode()\n",
    "\n",
    "## 결측치 대체\n",
    "# df['변수명'] = df['변수명'].fillna(대체할 값)"
   ],
   "metadata": {
    "collapsed": false
   }
  },
  {
   "cell_type": "code",
   "execution_count": null,
   "outputs": [],
   "source": [
    "## 2) 이상치 대체 (예시)\n",
    "# df['변수명'] = np.where(df['변수명'] >=5, 대체할 값, df['변수명'])"
   ],
   "metadata": {
    "collapsed": false
   }
  },
  {
   "cell_type": "code",
   "execution_count": null,
   "outputs": [],
   "source": [
    "## 3) 변수 처리하기 - 불필요한 변수 제거, 필요한 변수만 사용하기 -> 원핫인코딩(변수가 숫자 형태로 되어있어야 하는데, 문자형으로 되어있으면 빅데이터 분석이 되지 않기 때문에 원핫인코딩 해줘야함)\n",
    "\n",
    "# 불필요한 변수 제거\n",
    "# df = df.drop(columns = ['변수1', '변수2'])\n",
    "# df = df.drop(['변수1', '변수2'], axis = 1) #  열 기준 삭제\n",
    "\n",
    "# 필요시 변수 추가 (파생변수 생성)\n",
    "# df['파생변수명'] = df['A'] * df['B']  # 파생변수 생성 수식\n",
    "\n",
    "# 원핫인코딩 (가변수 처리)\n",
    "# x_train = pd.get_dummies(x_train)\n",
    "# x_test = pd.get_dummies(x_test)\n",
    "# print(x_train.info())\n",
    "# print(x_test.info())"
   ],
   "metadata": {
    "collapsed": false
   }
  },
  {
   "cell_type": "markdown",
   "source": [
    "# 3. 데이터 분리"
   ],
   "metadata": {
    "collapsed": false
   }
  },
  {
   "cell_type": "code",
   "execution_count": 27,
   "outputs": [
    {
     "name": "stdout",
     "output_type": "stream",
     "text": [
      "(113, 13)\n",
      "(29, 13)\n",
      "(113,)\n",
      "(29,)\n"
     ]
    }
   ],
   "source": [
    "# 데이터를 훈련 세트와 검증용 세트로 분할(80% 훈련, 20% 검증용) - train data를 train / validation으로 나눠야함\n",
    "from sklearn.model_selection import train_test_split\n",
    "x_train, x_val, y_train, y_val = train_test_split(\n",
    "    x_train,  # x와 y가 이미 들어와야하고,\n",
    "    y_train['target'],\n",
    "    test_size=0.2,  # test size는 어떻게 할건지\n",
    "    stratify=y_train['target'],  # y값에 대해 반드시 stratify 지정해줘야 함\n",
    "    random_state=2023)  # random state를 지정하면 랜덤이지만 고정이됨\n",
    "\n",
    "print(x_train.shape)\n",
    "print(x_val.shape)\n",
    "print(y_train.shape)\n",
    "print(y_val.shape)"
   ],
   "metadata": {
    "collapsed": false,
    "ExecuteTime": {
     "end_time": "2023-11-21T14:36:18.331816Z",
     "start_time": "2023-11-21T14:36:18.326893Z"
    }
   }
  },
  {
   "cell_type": "markdown",
   "source": [
    "# 4. 모델링 및 성능 평가"
   ],
   "metadata": {
    "collapsed": false
   }
  },
  {
   "cell_type": "code",
   "execution_count": 28,
   "outputs": [
    {
     "data": {
      "text/plain": "RandomForestClassifier()",
      "text/html": "<style>#sk-container-id-1 {color: black;}#sk-container-id-1 pre{padding: 0;}#sk-container-id-1 div.sk-toggleable {background-color: white;}#sk-container-id-1 label.sk-toggleable__label {cursor: pointer;display: block;width: 100%;margin-bottom: 0;padding: 0.3em;box-sizing: border-box;text-align: center;}#sk-container-id-1 label.sk-toggleable__label-arrow:before {content: \"▸\";float: left;margin-right: 0.25em;color: #696969;}#sk-container-id-1 label.sk-toggleable__label-arrow:hover:before {color: black;}#sk-container-id-1 div.sk-estimator:hover label.sk-toggleable__label-arrow:before {color: black;}#sk-container-id-1 div.sk-toggleable__content {max-height: 0;max-width: 0;overflow: hidden;text-align: left;background-color: #f0f8ff;}#sk-container-id-1 div.sk-toggleable__content pre {margin: 0.2em;color: black;border-radius: 0.25em;background-color: #f0f8ff;}#sk-container-id-1 input.sk-toggleable__control:checked~div.sk-toggleable__content {max-height: 200px;max-width: 100%;overflow: auto;}#sk-container-id-1 input.sk-toggleable__control:checked~label.sk-toggleable__label-arrow:before {content: \"▾\";}#sk-container-id-1 div.sk-estimator input.sk-toggleable__control:checked~label.sk-toggleable__label {background-color: #d4ebff;}#sk-container-id-1 div.sk-label input.sk-toggleable__control:checked~label.sk-toggleable__label {background-color: #d4ebff;}#sk-container-id-1 input.sk-hidden--visually {border: 0;clip: rect(1px 1px 1px 1px);clip: rect(1px, 1px, 1px, 1px);height: 1px;margin: -1px;overflow: hidden;padding: 0;position: absolute;width: 1px;}#sk-container-id-1 div.sk-estimator {font-family: monospace;background-color: #f0f8ff;border: 1px dotted black;border-radius: 0.25em;box-sizing: border-box;margin-bottom: 0.5em;}#sk-container-id-1 div.sk-estimator:hover {background-color: #d4ebff;}#sk-container-id-1 div.sk-parallel-item::after {content: \"\";width: 100%;border-bottom: 1px solid gray;flex-grow: 1;}#sk-container-id-1 div.sk-label:hover label.sk-toggleable__label {background-color: #d4ebff;}#sk-container-id-1 div.sk-serial::before {content: \"\";position: absolute;border-left: 1px solid gray;box-sizing: border-box;top: 0;bottom: 0;left: 50%;z-index: 0;}#sk-container-id-1 div.sk-serial {display: flex;flex-direction: column;align-items: center;background-color: white;padding-right: 0.2em;padding-left: 0.2em;position: relative;}#sk-container-id-1 div.sk-item {position: relative;z-index: 1;}#sk-container-id-1 div.sk-parallel {display: flex;align-items: stretch;justify-content: center;background-color: white;position: relative;}#sk-container-id-1 div.sk-item::before, #sk-container-id-1 div.sk-parallel-item::before {content: \"\";position: absolute;border-left: 1px solid gray;box-sizing: border-box;top: 0;bottom: 0;left: 50%;z-index: -1;}#sk-container-id-1 div.sk-parallel-item {display: flex;flex-direction: column;z-index: 1;position: relative;background-color: white;}#sk-container-id-1 div.sk-parallel-item:first-child::after {align-self: flex-end;width: 50%;}#sk-container-id-1 div.sk-parallel-item:last-child::after {align-self: flex-start;width: 50%;}#sk-container-id-1 div.sk-parallel-item:only-child::after {width: 0;}#sk-container-id-1 div.sk-dashed-wrapped {border: 1px dashed gray;margin: 0 0.4em 0.5em 0.4em;box-sizing: border-box;padding-bottom: 0.4em;background-color: white;}#sk-container-id-1 div.sk-label label {font-family: monospace;font-weight: bold;display: inline-block;line-height: 1.2em;}#sk-container-id-1 div.sk-label-container {text-align: center;}#sk-container-id-1 div.sk-container {/* jupyter's `normalize.less` sets `[hidden] { display: none; }` but bootstrap.min.css set `[hidden] { display: none !important; }` so we also need the `!important` here to be able to override the default hidden behavior on the sphinx rendered scikit-learn.org. See: https://github.com/scikit-learn/scikit-learn/issues/21755 */display: inline-block !important;position: relative;}#sk-container-id-1 div.sk-text-repr-fallback {display: none;}</style><div id=\"sk-container-id-1\" class=\"sk-top-container\"><div class=\"sk-text-repr-fallback\"><pre>RandomForestClassifier()</pre><b>In a Jupyter environment, please rerun this cell to show the HTML representation or trust the notebook. <br />On GitHub, the HTML representation is unable to render, please try loading this page with nbviewer.org.</b></div><div class=\"sk-container\" hidden><div class=\"sk-item\"><div class=\"sk-estimator sk-toggleable\"><input class=\"sk-toggleable__control sk-hidden--visually\" id=\"sk-estimator-id-1\" type=\"checkbox\" checked><label for=\"sk-estimator-id-1\" class=\"sk-toggleable__label sk-toggleable__label-arrow\">RandomForestClassifier</label><div class=\"sk-toggleable__content\"><pre>RandomForestClassifier()</pre></div></div></div></div></div>"
     },
     "execution_count": 28,
     "metadata": {},
     "output_type": "execute_result"
    }
   ],
   "source": [
    "# 랜덤포레스트 모델 사용 (참고: 회귀 모델은 RandomForestRegressor\n",
    "from sklearn.ensemble import RandomForestClassifier\n",
    "model = RandomForestClassifier()\n",
    "model.fit(x_train, y_train)  # 학습 - train data를 넣어야 함 (x_train, y_train)"
   ],
   "metadata": {
    "collapsed": false,
    "ExecuteTime": {
     "end_time": "2023-11-21T14:41:35.566841Z",
     "start_time": "2023-11-21T14:41:35.029486Z"
    }
   }
  },
  {
   "cell_type": "code",
   "execution_count": 29,
   "outputs": [],
   "source": [
    "# 모델을 사용하여 테스트 데이터 예측\n",
    "y_pred = model.predict(x_val)"
   ],
   "metadata": {
    "collapsed": false,
    "ExecuteTime": {
     "end_time": "2023-11-21T14:47:17.619640Z",
     "start_time": "2023-11-21T14:47:17.615895Z"
    }
   }
  },
  {
   "cell_type": "code",
   "execution_count": 30,
   "outputs": [],
   "source": [
    "# 모델 성능 평가 (정확도, F1 Score, 민감도, 특이도 등)\n",
    "from sklearn.metrics import accuracy_score, f1_score, recall_score,precision_score, roc_auc_score\n",
    "\n",
    "acc = accuracy_score(y_val, y_pred)  # 실제값, 예측값\n",
    "f1 = f1_score(y_val, y_pred, average = 'macro')  # 실제값, 예측값\n",
    "# auc = roc_auc_score(y_val, y_pred)  # 실제값, 예측값, * AUC는 이진분류만 구할 수 있음 - 다중분류에서는 불가능 !! (지금은 와인 종류 3가지로 분류하고 있기 때문에 삼중분류임)"
   ],
   "metadata": {
    "collapsed": false,
    "ExecuteTime": {
     "end_time": "2023-11-21T14:51:31.518143Z",
     "start_time": "2023-11-21T14:51:31.510850Z"
    }
   }
  },
  {
   "cell_type": "code",
   "execution_count": 31,
   "outputs": [
    {
     "name": "stdout",
     "output_type": "stream",
     "text": [
      "0.9655172413793104\n"
     ]
    }
   ],
   "source": [
    "print(acc)"
   ],
   "metadata": {
    "collapsed": false,
    "ExecuteTime": {
     "end_time": "2023-11-21T14:52:21.004757Z",
     "start_time": "2023-11-21T14:52:20.995701Z"
    }
   }
  },
  {
   "cell_type": "code",
   "execution_count": 32,
   "outputs": [
    {
     "name": "stdout",
     "output_type": "stream",
     "text": [
      "0.9670588235294119\n"
     ]
    }
   ],
   "source": [
    "print(f1)  # macro f1 score"
   ],
   "metadata": {
    "collapsed": false,
    "ExecuteTime": {
     "end_time": "2023-11-21T14:52:46.910711Z",
     "start_time": "2023-11-21T14:52:46.902356Z"
    }
   }
  },
  {
   "cell_type": "markdown",
   "source": [
    "# 5. 예측값 제출\n",
    "- 주의 !! test set을 모델에 넣어 나온 예측값을 제출해야 함 !!"
   ],
   "metadata": {
    "collapsed": false
   }
  },
  {
   "cell_type": "code",
   "execution_count": 34,
   "outputs": [
    {
     "name": "stdout",
     "output_type": "stream",
     "text": [
      "[2 2 2 0 1]\n",
      "[[0.01 0.05 0.94]\n",
      " [0.06 0.13 0.81]\n",
      " [0.01 0.06 0.93]\n",
      " [0.97 0.03 0.  ]\n",
      " [0.05 0.86 0.09]]\n",
      "   result  prob_0  prob_1  prob_2\n",
      "0       2    0.01    0.05    0.94\n",
      "1       2    0.06    0.13    0.81\n",
      "2       2    0.01    0.06    0.93\n",
      "3       0    0.97    0.03    0.00\n",
      "4       1    0.05    0.86    0.09\n"
     ]
    }
   ],
   "source": [
    "# (실기시험 안내사항)\n",
    "# 아래 코드 예측 변수와 수험번호를 개인별로 변경하여 활용\n",
    "# pd.DataFrame({'result': y_result}).to_csv('수험번호.csv', index= False)\n",
    "\n",
    "# 모델을 사용하여 테스트 데이터 예측\n",
    "\n",
    "# 1. 특정 클래스로 분류할 경우 (predict)\n",
    "y_result = model.predict(x_test)\n",
    "print(y_result[:5])\n",
    "\n",
    "# 2. 특정 클래스로 분류될 확률을 구할 경우 (predict_proba)\n",
    "y_result_prob = model.predict_proba(x_test)\n",
    "print(y_result_prob[:5])\n",
    "\n",
    "# 이해해보기\n",
    "result_prob = pd.DataFrame({\n",
    "    'result': y_result,\n",
    "    'prob_0': y_result_prob[:, 0],  # 모든 행, 0번째 열\n",
    "    'prob_1': y_result_prob[:, 1],  # 모든 행, 1번째 열\n",
    "    'prob_2': y_result_prob[:, 2]   # 모든 행, 2반쩨 얄\n",
    "})\n",
    "# class가 0일 확률: y_result_prob[:,0]\n",
    "# class가 1일 확률: y_result_prob[:,1]\n",
    "# class가 2일 확률: y_result_prob[:,2]\n",
    "\n",
    "print(result_prob[:5])"
   ],
   "metadata": {
    "collapsed": false,
    "ExecuteTime": {
     "end_time": "2023-11-21T15:06:28.807308Z",
     "start_time": "2023-11-21T15:06:28.787658Z"
    }
   }
  },
  {
   "cell_type": "code",
   "execution_count": null,
   "outputs": [],
   "source": [
    "# ** tip: 데이터를 저장한 다음 불러와서 제대로 제출했는지 확인하기\n"
   ],
   "metadata": {
    "collapsed": false
   }
  },
  {
   "cell_type": "code",
   "execution_count": null,
   "outputs": [],
   "source": [],
   "metadata": {
    "collapsed": false
   }
  },
  {
   "cell_type": "code",
   "execution_count": null,
   "outputs": [],
   "source": [],
   "metadata": {
    "collapsed": false
   }
  },
  {
   "cell_type": "code",
   "execution_count": null,
   "outputs": [],
   "source": [],
   "metadata": {
    "collapsed": false
   }
  },
  {
   "cell_type": "code",
   "execution_count": null,
   "outputs": [],
   "source": [],
   "metadata": {
    "collapsed": false
   }
  },
  {
   "cell_type": "code",
   "execution_count": null,
   "outputs": [],
   "source": [],
   "metadata": {
    "collapsed": false
   }
  },
  {
   "cell_type": "code",
   "execution_count": null,
   "outputs": [],
   "source": [],
   "metadata": {
    "collapsed": false
   }
  }
 ],
 "metadata": {
  "kernelspec": {
   "display_name": "Python 3",
   "language": "python",
   "name": "python3"
  },
  "language_info": {
   "codemirror_mode": {
    "name": "ipython",
    "version": 2
   },
   "file_extension": ".py",
   "mimetype": "text/x-python",
   "name": "python",
   "nbconvert_exporter": "python",
   "pygments_lexer": "ipython2",
   "version": "2.7.6"
  }
 },
 "nbformat": 4,
 "nbformat_minor": 0
}
