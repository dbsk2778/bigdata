{
 "cells": [
  {
   "cell_type": "markdown",
   "source": [
    "## 2유형 - 모델링 및 평가\n",
    "\n",
    "### 회귀분석 (y값 = 종속변수가 연속형 변수) = Regression\n",
    "### 분류분석 (y값 = 종속변수가 범주형 변수) = Classifier"
   ],
   "metadata": {
    "collapsed": false
   }
  },
  {
   "cell_type": "markdown",
   "source": [
    "### 현재까지 지도학습만 나옴\n",
    "#### - macro f1 score\n",
    "#### - RMSE\n",
    "#### - MSE\n",
    "#### - accuracy_score\n",
    "#### - AUC"
   ],
   "metadata": {
    "collapsed": false
   }
  },
  {
   "cell_type": "markdown",
   "source": [
    "##### 2유형의 가장 중요한 부분은 적절한 예측값을 제출하는 것 : 성능평가는 출제기관에서 진행\n",
    "##### 적절한 예측값을 제출하기 위해서는 train / validataion set으로 나오고, validataion set을 가지고 성능평가를 해봐야 함\n",
    "##### from sklearn.model_selection import train_test_split"
   ],
   "metadata": {
    "collapsed": false
   }
  },
  {
   "cell_type": "markdown",
   "source": [
    "### 분석 순서\n",
    "#### x_train / y_train 으로 모델 학습\n",
    "#### x_val로 y_pred 구하기\n",
    "#### y_val로 실제 예측값 구하고 y_pred와 값 비교"
   ],
   "metadata": {
    "collapsed": false
   }
  },
  {
   "cell_type": "markdown",
   "source": [
    "### 2유형 summary\n",
    "### 2유형 분석 순서\n",
    "#### 1. 라이브러리 및 데이터 확인\n",
    "#### 2. 데이터 탐색(EDA) - shape, info(), value_counts(), describe()\n",
    "#### 3. 데이터 전처리 및 분리\n",
    "##### - 결측치(대체 or 삭제), 이상치(대체 or 삭제), 변수 처리(범주형 변수의 경우 원핫인코딩 필요, pd.get_dummies()\n",
    "#### 4. 모델링 및 성능 평가\n",
    "#### 5. 예측값 제출"
   ],
   "metadata": {
    "collapsed": false
   }
  },
  {
   "cell_type": "code",
   "execution_count": 1,
   "outputs": [],
   "source": [
    "import pandas as pd\n",
    "import numpy as np\n",
    "from sklearn.model_selection import train_test_split\n",
    "from sklearn.ensemble import RandomForestClassifier\n",
    "from sklearn.ensemble import RandomForestRegressor"
   ],
   "metadata": {
    "collapsed": false,
    "ExecuteTime": {
     "end_time": "2023-11-28T12:41:22.122468Z",
     "start_time": "2023-11-28T12:41:21.658358Z"
    }
   }
  },
  {
   "cell_type": "code",
   "execution_count": 21,
   "outputs": [],
   "source": [
    "from sklearn.datasets import load_wine\n",
    "# 와인 datasets load\n",
    "wine = load_wine()\n",
    "x = pd.DataFrame(wine.data, columns=wine.feature_names)\n",
    "y = pd.DataFrame(wine.target)\n",
    "\n",
    "# 실기 시험 데이터셋으로 셋팅하기 (수정 금지)\n",
    "from sklearn.model_selection import train_test_split\n",
    "x_train, x_test, y_train, y_test = train_test_split(x, y, test_size=0.2, stratify=y, random_state=2023)\n",
    "\n",
    "x_test = pd.DataFrame(x_test)\n",
    "x_train = pd.DataFrame(x_train)\n",
    "y_train = pd.DataFrame(y_train)\n",
    "\n",
    "x_test.reset_index()\n",
    "y_train.columns = ['target']"
   ],
   "metadata": {
    "collapsed": false,
    "ExecuteTime": {
     "end_time": "2023-11-28T12:52:03.340019Z",
     "start_time": "2023-11-28T12:52:03.328892Z"
    }
   }
  },
  {
   "cell_type": "code",
   "execution_count": 6,
   "outputs": [
    {
     "name": "stdout",
     "output_type": "stream",
     "text": [
      "     alcohol  malic_acid   ash  alcalinity_of_ash  magnesium  total_phenols  \\\n",
      "52     13.82        1.75  2.42               14.0      111.0           3.88   \n",
      "146    13.88        5.04  2.23               20.0       80.0           0.98   \n",
      "44     13.05        1.77  2.10               17.0      107.0           3.00   \n",
      "\n",
      "     flavanoids  nonflavanoid_phenols  proanthocyanins  color_intensity   hue  \\\n",
      "52         3.74                  0.32             1.87             7.05  1.01   \n",
      "146        0.34                  0.40             0.68             4.90  0.58   \n",
      "44         3.00                  0.28             2.03             5.04  0.88   \n",
      "\n",
      "     od280/od315_of_diluted_wines  proline  \n",
      "52                           3.26   1190.0  \n",
      "146                          1.33    415.0  \n",
      "44                           3.35    885.0  \n",
      "     alcohol  malic_acid   ash  alcalinity_of_ash  magnesium  total_phenols  \\\n",
      "168    13.58        2.58  2.69               24.5      105.0           1.55   \n",
      "144    12.25        3.88  2.20               18.5      112.0           1.38   \n",
      "151    12.79        2.67  2.48               22.0      112.0           1.48   \n",
      "\n",
      "     flavanoids  nonflavanoid_phenols  proanthocyanins  color_intensity   hue  \\\n",
      "168        0.84                  0.39             1.54             8.66  0.74   \n",
      "144        0.78                  0.29             1.14             8.21  0.65   \n",
      "151        1.36                  0.24             1.26            10.80  0.48   \n",
      "\n",
      "     od280/od315_of_diluted_wines  proline  \n",
      "168                          1.80    750.0  \n",
      "144                          2.00    855.0  \n",
      "151                          1.47    480.0  \n",
      "     target\n",
      "52        0\n",
      "146       2\n",
      "44        0\n"
     ]
    }
   ],
   "source": [
    "print(x_train.head(3))\n",
    "print(x_test.head(3))\n",
    "print(y_train.head(3))"
   ],
   "metadata": {
    "collapsed": false,
    "ExecuteTime": {
     "end_time": "2023-11-28T12:43:44.621930Z",
     "start_time": "2023-11-28T12:43:44.616006Z"
    }
   }
  },
  {
   "cell_type": "code",
   "execution_count": 4,
   "outputs": [
    {
     "name": "stdout",
     "output_type": "stream",
     "text": [
      "(142, 13)\n",
      "(142, 1)\n",
      "(36, 13)\n"
     ]
    }
   ],
   "source": [
    "print(x_train.shape)\n",
    "print(y_train.shape)\n",
    "print(x_test.shape)"
   ],
   "metadata": {
    "collapsed": false,
    "ExecuteTime": {
     "end_time": "2023-11-28T12:42:10.595502Z",
     "start_time": "2023-11-28T12:42:10.581119Z"
    }
   }
  },
  {
   "cell_type": "code",
   "execution_count": 5,
   "outputs": [
    {
     "name": "stdout",
     "output_type": "stream",
     "text": [
      "<class 'pandas.core.frame.DataFrame'>\n",
      "Index: 142 entries, 52 to 115\n",
      "Data columns (total 13 columns):\n",
      " #   Column                        Non-Null Count  Dtype  \n",
      "---  ------                        --------------  -----  \n",
      " 0   alcohol                       142 non-null    float64\n",
      " 1   malic_acid                    142 non-null    float64\n",
      " 2   ash                           142 non-null    float64\n",
      " 3   alcalinity_of_ash             142 non-null    float64\n",
      " 4   magnesium                     142 non-null    float64\n",
      " 5   total_phenols                 142 non-null    float64\n",
      " 6   flavanoids                    142 non-null    float64\n",
      " 7   nonflavanoid_phenols          142 non-null    float64\n",
      " 8   proanthocyanins               142 non-null    float64\n",
      " 9   color_intensity               142 non-null    float64\n",
      " 10  hue                           142 non-null    float64\n",
      " 11  od280/od315_of_diluted_wines  142 non-null    float64\n",
      " 12  proline                       142 non-null    float64\n",
      "dtypes: float64(13)\n",
      "memory usage: 15.5 KB\n",
      "None\n",
      "<class 'pandas.core.frame.DataFrame'>\n",
      "Index: 36 entries, 168 to 55\n",
      "Data columns (total 13 columns):\n",
      " #   Column                        Non-Null Count  Dtype  \n",
      "---  ------                        --------------  -----  \n",
      " 0   alcohol                       36 non-null     float64\n",
      " 1   malic_acid                    36 non-null     float64\n",
      " 2   ash                           36 non-null     float64\n",
      " 3   alcalinity_of_ash             36 non-null     float64\n",
      " 4   magnesium                     36 non-null     float64\n",
      " 5   total_phenols                 36 non-null     float64\n",
      " 6   flavanoids                    36 non-null     float64\n",
      " 7   nonflavanoid_phenols          36 non-null     float64\n",
      " 8   proanthocyanins               36 non-null     float64\n",
      " 9   color_intensity               36 non-null     float64\n",
      " 10  hue                           36 non-null     float64\n",
      " 11  od280/od315_of_diluted_wines  36 non-null     float64\n",
      " 12  proline                       36 non-null     float64\n",
      "dtypes: float64(13)\n",
      "memory usage: 3.9 KB\n",
      "None\n",
      "<class 'pandas.core.frame.DataFrame'>\n",
      "Index: 142 entries, 52 to 115\n",
      "Data columns (total 1 columns):\n",
      " #   Column  Non-Null Count  Dtype\n",
      "---  ------  --------------  -----\n",
      " 0   target  142 non-null    int64\n",
      "dtypes: int64(1)\n",
      "memory usage: 2.2 KB\n",
      "None\n"
     ]
    }
   ],
   "source": [
    "print(x_train.info())\n",
    "print(x_test.info())\n",
    "print(y_train.info())"
   ],
   "metadata": {
    "collapsed": false,
    "ExecuteTime": {
     "end_time": "2023-11-28T12:42:39.563565Z",
     "start_time": "2023-11-28T12:42:39.551726Z"
    }
   }
  },
  {
   "cell_type": "code",
   "execution_count": 15,
   "outputs": [
    {
     "name": "stdout",
     "output_type": "stream",
     "text": [
      "          alcohol  malic_acid         ash  alcalinity_of_ash   magnesium  \\\n",
      "count  142.000000  142.000000  142.000000         142.000000  142.000000   \n",
      "mean    13.025915    2.354296    2.340211          19.354225   98.732394   \n",
      "std      0.812423    1.142722    0.279910           3.476825   13.581859   \n",
      "min     11.030000    0.740000    1.360000          10.600000   70.000000   \n",
      "25%     12.370000    1.610000    2.190000          16.800000   88.000000   \n",
      "50%     13.050000    1.820000    2.320000          19.300000   97.000000   \n",
      "75%     13.685000    3.115000    2.510000          21.500000  106.750000   \n",
      "max     14.830000    5.800000    3.230000          30.000000  151.000000   \n",
      "\n",
      "       total_phenols  flavanoids  nonflavanoid_phenols  proanthocyanins  \\\n",
      "count     142.000000  142.000000            142.000000       142.000000   \n",
      "mean        2.303592    2.043592              0.361479         1.575070   \n",
      "std         0.633955    1.033597              0.124627         0.576798   \n",
      "min         0.980000    0.340000              0.140000         0.410000   \n",
      "25%         1.757500    1.227500              0.270000         1.242500   \n",
      "50%         2.335000    2.100000              0.325000         1.555000   \n",
      "75%         2.800000    2.917500              0.437500         1.950000   \n",
      "max         3.880000    5.080000              0.630000         3.580000   \n",
      "\n",
      "       color_intensity         hue  od280/od315_of_diluted_wines      proline  \n",
      "count       142.000000  142.000000                    142.000000   142.000000  \n",
      "mean          5.005070    0.950394                      2.603592   742.112676  \n",
      "std           2.150186    0.220736                      0.709751   317.057395  \n",
      "min           1.280000    0.540000                      1.270000   290.000000  \n",
      "25%           3.300000    0.782500                      1.922500   496.250000  \n",
      "50%           4.850000    0.960000                      2.780000   660.000000  \n",
      "75%           6.122500    1.097500                      3.170000   981.250000  \n",
      "max          13.000000    1.710000                      3.920000  1680.000000  \n",
      "         alcohol  malic_acid        ash  alcalinity_of_ash   magnesium  \\\n",
      "count  36.000000   36.000000  36.000000           36.00000   36.000000   \n",
      "mean   12.900833    2.265556   2.470278           20.05000  103.722222   \n",
      "std     0.813112    1.021943   0.226066            2.70275   16.371772   \n",
      "min    11.640000    0.890000   2.000000           14.60000   84.000000   \n",
      "25%    12.230000    1.592500   2.300000           18.00000   91.500000   \n",
      "50%    12.835000    1.885000   2.470000           19.50000  101.000000   \n",
      "75%    13.635000    2.792500   2.605000           21.70000  112.000000   \n",
      "max    14.390000    4.950000   3.220000           26.50000  162.000000   \n",
      "\n",
      "       total_phenols  flavanoids  nonflavanoid_phenols  proanthocyanins  \\\n",
      "count      36.000000   36.000000             36.000000        36.000000   \n",
      "mean        2.261667    1.972778              0.363333         1.653333   \n",
      "std         0.600259    0.858882              0.125516         0.558012   \n",
      "min         1.350000    0.660000              0.130000         0.840000   \n",
      "25%         1.715000    1.175000              0.267500         1.320000   \n",
      "50%         2.420000    2.175000              0.395000         1.550000   \n",
      "75%         2.602500    2.682500              0.435000         1.972500   \n",
      "max         3.850000    3.490000              0.660000         3.280000   \n",
      "\n",
      "       color_intensity        hue  od280/od315_of_diluted_wines     proline  \n",
      "count        36.000000  36.000000                     36.000000    36.00000  \n",
      "mean          5.267222   0.985278                      2.643611   765.75000  \n",
      "std           2.915076   0.258694                      0.720100   309.94851  \n",
      "min           2.080000   0.480000                      1.290000   278.00000  \n",
      "25%           2.875000   0.787500                      2.037500   542.50000  \n",
      "50%           4.325000   0.985000                      2.790000   682.50000  \n",
      "75%           6.900000   1.167500                      3.192500   996.25000  \n",
      "max          11.750000   1.450000                      4.000000  1480.00000  \n",
      "           target\n",
      "count  142.000000\n",
      "mean     0.936620\n",
      "std      0.773816\n",
      "min      0.000000\n",
      "25%      0.000000\n",
      "50%      1.000000\n",
      "75%      2.000000\n",
      "max      2.000000\n"
     ]
    }
   ],
   "source": [
    "print(x_train.describe())\n",
    "print(x_test.describe())\n",
    "print(y_train.describe())"
   ],
   "metadata": {
    "collapsed": false,
    "ExecuteTime": {
     "end_time": "2023-11-28T12:46:25.792390Z",
     "start_time": "2023-11-28T12:46:25.766152Z"
    }
   }
  },
  {
   "cell_type": "code",
   "execution_count": 16,
   "outputs": [
    {
     "name": "stdout",
     "output_type": "stream",
     "text": [
      "     target\n",
      "52        0\n",
      "146       2\n",
      "44        0\n",
      "67        1\n",
      "43        0\n",
      "target\n",
      "1         57\n",
      "0         47\n",
      "2         38\n",
      "Name: count, dtype: int64\n"
     ]
    }
   ],
   "source": [
    "print(y_train.head())\n",
    "print(y_train.value_counts())"
   ],
   "metadata": {
    "collapsed": false,
    "ExecuteTime": {
     "end_time": "2023-11-28T12:47:46.380545Z",
     "start_time": "2023-11-28T12:47:46.378184Z"
    }
   }
  },
  {
   "cell_type": "code",
   "execution_count": 17,
   "outputs": [
    {
     "name": "stdout",
     "output_type": "stream",
     "text": [
      "alcohol                         0\n",
      "malic_acid                      0\n",
      "ash                             0\n",
      "alcalinity_of_ash               0\n",
      "magnesium                       0\n",
      "total_phenols                   0\n",
      "flavanoids                      0\n",
      "nonflavanoid_phenols            0\n",
      "proanthocyanins                 0\n",
      "color_intensity                 0\n",
      "hue                             0\n",
      "od280/od315_of_diluted_wines    0\n",
      "proline                         0\n",
      "dtype: int64\n",
      "alcohol                         0\n",
      "malic_acid                      0\n",
      "ash                             0\n",
      "alcalinity_of_ash               0\n",
      "magnesium                       0\n",
      "total_phenols                   0\n",
      "flavanoids                      0\n",
      "nonflavanoid_phenols            0\n",
      "proanthocyanins                 0\n",
      "color_intensity                 0\n",
      "hue                             0\n",
      "od280/od315_of_diluted_wines    0\n",
      "proline                         0\n",
      "dtype: int64\n",
      "target    0\n",
      "dtype: int64\n"
     ]
    }
   ],
   "source": [
    "# 데이터 결측치, 이상치, 변수\n",
    "print(x_train.isnull().sum())\n",
    "print(x_test.isnull().sum())\n",
    "print(y_train.isnull().sum())"
   ],
   "metadata": {
    "collapsed": false,
    "ExecuteTime": {
     "end_time": "2023-11-28T12:48:58.390771Z",
     "start_time": "2023-11-28T12:48:58.381130Z"
    }
   }
  },
  {
   "cell_type": "code",
   "execution_count": 22,
   "outputs": [
    {
     "name": "stdout",
     "output_type": "stream",
     "text": [
      "(113, 13)\n",
      "(29, 13)\n",
      "(113,)\n",
      "(29,)\n"
     ]
    }
   ],
   "source": [
    "from sklearn.model_selection import train_test_split\n",
    "x_train, x_val, y_train, y_val = train_test_split(x_train, y_train['target'], test_size=0.2, stratify=y_train['target'], random_state=2023)\n",
    "\n",
    "print(x_train.shape)\n",
    "print(x_val.shape)\n",
    "print(y_train.shape)\n",
    "print(y_val.shape)"
   ],
   "metadata": {
    "collapsed": false,
    "ExecuteTime": {
     "end_time": "2023-11-28T12:52:09.154228Z",
     "start_time": "2023-11-28T12:52:09.142918Z"
    }
   }
  },
  {
   "cell_type": "code",
   "execution_count": 23,
   "outputs": [
    {
     "data": {
      "text/plain": "RandomForestClassifier()",
      "text/html": "<style>#sk-container-id-1 {color: black;}#sk-container-id-1 pre{padding: 0;}#sk-container-id-1 div.sk-toggleable {background-color: white;}#sk-container-id-1 label.sk-toggleable__label {cursor: pointer;display: block;width: 100%;margin-bottom: 0;padding: 0.3em;box-sizing: border-box;text-align: center;}#sk-container-id-1 label.sk-toggleable__label-arrow:before {content: \"▸\";float: left;margin-right: 0.25em;color: #696969;}#sk-container-id-1 label.sk-toggleable__label-arrow:hover:before {color: black;}#sk-container-id-1 div.sk-estimator:hover label.sk-toggleable__label-arrow:before {color: black;}#sk-container-id-1 div.sk-toggleable__content {max-height: 0;max-width: 0;overflow: hidden;text-align: left;background-color: #f0f8ff;}#sk-container-id-1 div.sk-toggleable__content pre {margin: 0.2em;color: black;border-radius: 0.25em;background-color: #f0f8ff;}#sk-container-id-1 input.sk-toggleable__control:checked~div.sk-toggleable__content {max-height: 200px;max-width: 100%;overflow: auto;}#sk-container-id-1 input.sk-toggleable__control:checked~label.sk-toggleable__label-arrow:before {content: \"▾\";}#sk-container-id-1 div.sk-estimator input.sk-toggleable__control:checked~label.sk-toggleable__label {background-color: #d4ebff;}#sk-container-id-1 div.sk-label input.sk-toggleable__control:checked~label.sk-toggleable__label {background-color: #d4ebff;}#sk-container-id-1 input.sk-hidden--visually {border: 0;clip: rect(1px 1px 1px 1px);clip: rect(1px, 1px, 1px, 1px);height: 1px;margin: -1px;overflow: hidden;padding: 0;position: absolute;width: 1px;}#sk-container-id-1 div.sk-estimator {font-family: monospace;background-color: #f0f8ff;border: 1px dotted black;border-radius: 0.25em;box-sizing: border-box;margin-bottom: 0.5em;}#sk-container-id-1 div.sk-estimator:hover {background-color: #d4ebff;}#sk-container-id-1 div.sk-parallel-item::after {content: \"\";width: 100%;border-bottom: 1px solid gray;flex-grow: 1;}#sk-container-id-1 div.sk-label:hover label.sk-toggleable__label {background-color: #d4ebff;}#sk-container-id-1 div.sk-serial::before {content: \"\";position: absolute;border-left: 1px solid gray;box-sizing: border-box;top: 0;bottom: 0;left: 50%;z-index: 0;}#sk-container-id-1 div.sk-serial {display: flex;flex-direction: column;align-items: center;background-color: white;padding-right: 0.2em;padding-left: 0.2em;position: relative;}#sk-container-id-1 div.sk-item {position: relative;z-index: 1;}#sk-container-id-1 div.sk-parallel {display: flex;align-items: stretch;justify-content: center;background-color: white;position: relative;}#sk-container-id-1 div.sk-item::before, #sk-container-id-1 div.sk-parallel-item::before {content: \"\";position: absolute;border-left: 1px solid gray;box-sizing: border-box;top: 0;bottom: 0;left: 50%;z-index: -1;}#sk-container-id-1 div.sk-parallel-item {display: flex;flex-direction: column;z-index: 1;position: relative;background-color: white;}#sk-container-id-1 div.sk-parallel-item:first-child::after {align-self: flex-end;width: 50%;}#sk-container-id-1 div.sk-parallel-item:last-child::after {align-self: flex-start;width: 50%;}#sk-container-id-1 div.sk-parallel-item:only-child::after {width: 0;}#sk-container-id-1 div.sk-dashed-wrapped {border: 1px dashed gray;margin: 0 0.4em 0.5em 0.4em;box-sizing: border-box;padding-bottom: 0.4em;background-color: white;}#sk-container-id-1 div.sk-label label {font-family: monospace;font-weight: bold;display: inline-block;line-height: 1.2em;}#sk-container-id-1 div.sk-label-container {text-align: center;}#sk-container-id-1 div.sk-container {/* jupyter's `normalize.less` sets `[hidden] { display: none; }` but bootstrap.min.css set `[hidden] { display: none !important; }` so we also need the `!important` here to be able to override the default hidden behavior on the sphinx rendered scikit-learn.org. See: https://github.com/scikit-learn/scikit-learn/issues/21755 */display: inline-block !important;position: relative;}#sk-container-id-1 div.sk-text-repr-fallback {display: none;}</style><div id=\"sk-container-id-1\" class=\"sk-top-container\"><div class=\"sk-text-repr-fallback\"><pre>RandomForestClassifier()</pre><b>In a Jupyter environment, please rerun this cell to show the HTML representation or trust the notebook. <br />On GitHub, the HTML representation is unable to render, please try loading this page with nbviewer.org.</b></div><div class=\"sk-container\" hidden><div class=\"sk-item\"><div class=\"sk-estimator sk-toggleable\"><input class=\"sk-toggleable__control sk-hidden--visually\" id=\"sk-estimator-id-1\" type=\"checkbox\" checked><label for=\"sk-estimator-id-1\" class=\"sk-toggleable__label sk-toggleable__label-arrow\">RandomForestClassifier</label><div class=\"sk-toggleable__content\"><pre>RandomForestClassifier()</pre></div></div></div></div></div>"
     },
     "execution_count": 23,
     "metadata": {},
     "output_type": "execute_result"
    }
   ],
   "source": [
    "from sklearn.ensemble import RandomForestClassifier\n",
    "model = RandomForestClassifier()\n",
    "model.fit(x_train, y_train)"
   ],
   "metadata": {
    "collapsed": false,
    "ExecuteTime": {
     "end_time": "2023-11-28T12:52:56.128650Z",
     "start_time": "2023-11-28T12:52:56.072053Z"
    }
   }
  },
  {
   "cell_type": "code",
   "execution_count": 24,
   "outputs": [
    {
     "name": "stdout",
     "output_type": "stream",
     "text": [
      "[2 2 1 0 0 2 0 1 2 0 0 0 1 1 2 2 1 1 1 0 1 1 1 2 1 1 2 0 0]\n"
     ]
    }
   ],
   "source": [
    "y_pred = model.predict(x_val)\n",
    "print(y_pred)"
   ],
   "metadata": {
    "collapsed": false,
    "ExecuteTime": {
     "end_time": "2023-11-28T12:53:29.651640Z",
     "start_time": "2023-11-28T12:53:29.635561Z"
    }
   }
  },
  {
   "cell_type": "code",
   "execution_count": 25,
   "outputs": [],
   "source": [
    "from sklearn.metrics import accuracy_score, f1_score, recall_score, precision_score, roc_auc_score\n",
    "\n",
    "acc = accuracy_score(y_val, y_pred)\n",
    "f1 = f1_score(y_val, y_pred, average='macro')"
   ],
   "metadata": {
    "collapsed": false,
    "ExecuteTime": {
     "end_time": "2023-11-28T12:55:28.687926Z",
     "start_time": "2023-11-28T12:55:28.677384Z"
    }
   }
  },
  {
   "cell_type": "code",
   "execution_count": 28,
   "outputs": [
    {
     "name": "stdout",
     "output_type": "stream",
     "text": [
      "[2 2 2 0 1]\n",
      "[[0.01 0.   0.99]\n",
      " [0.13 0.13 0.74]\n",
      " [0.02 0.1  0.88]\n",
      " [0.98 0.02 0.  ]\n",
      " [0.06 0.82 0.12]]\n",
      "    result  prob_0  prob_1  prob_2\n",
      "0        2    0.01    0.00    0.99\n",
      "1        2    0.13    0.13    0.74\n",
      "2        2    0.02    0.10    0.88\n",
      "3        0    0.98    0.02    0.00\n",
      "4        1    0.06    0.82    0.12\n",
      "5        0    0.54    0.42    0.04\n",
      "6        1    0.03    0.73    0.24\n",
      "7        0    0.76    0.18    0.06\n",
      "8        2    0.03    0.27    0.70\n",
      "9        1    0.01    0.99    0.00\n",
      "10       2    0.06    0.00    0.94\n",
      "11       0    0.91    0.04    0.05\n",
      "12       2    0.02    0.05    0.93\n",
      "13       1    0.03    0.97    0.00\n",
      "14       1    0.00    0.86    0.14\n",
      "15       1    0.29    0.64    0.07\n",
      "16       1    0.02    0.87    0.11\n",
      "17       2    0.01    0.00    0.99\n",
      "18       1    0.00    0.99    0.01\n",
      "19       0    0.65    0.33    0.02\n",
      "20       1    0.00    0.88    0.12\n",
      "21       0    0.89    0.06    0.05\n",
      "22       1    0.00    0.92    0.08\n",
      "23       0    0.97    0.02    0.01\n",
      "24       0    0.86    0.14    0.00\n",
      "25       1    0.00    0.94    0.06\n",
      "26       0    0.87    0.13    0.00\n",
      "27       2    0.01    0.06    0.93\n",
      "28       1    0.01    0.98    0.01\n",
      "29       1    0.21    0.76    0.03\n",
      "30       1    0.26    0.74    0.00\n",
      "31       2    0.04    0.12    0.84\n",
      "32       0    0.98    0.00    0.02\n",
      "33       0    0.98    0.02    0.00\n",
      "34       2    0.01    0.04    0.95\n",
      "35       0    0.96    0.01    0.03\n"
     ]
    }
   ],
   "source": [
    "y_result = model.predict(x_test)\n",
    "print(y_result[:5])\n",
    "\n",
    "y_result_prob = model.predict_proba(x_test)\n",
    "print(y_result_prob[:5])\n",
    "\n",
    "result_prob = pd.DataFrame({\n",
    "    'result': y_result,\n",
    "    'prob_0': y_result_prob[:, 0],\n",
    "    'prob_1': y_result_prob[:, 1],\n",
    "    'prob_2': y_result_prob[:, 2],\n",
    "})\n",
    "\n",
    "print(result_prob)"
   ],
   "metadata": {
    "collapsed": false,
    "ExecuteTime": {
     "end_time": "2023-11-28T12:57:45.149298Z",
     "start_time": "2023-11-28T12:57:45.131400Z"
    }
   }
  },
  {
   "cell_type": "code",
   "execution_count": 67,
   "outputs": [],
   "source": [
    "import pandas as pd\n",
    "import numpy as np\n",
    "\n",
    "from sklearn.datasets import load_diabetes\n",
    "\n",
    "# diabetes 데이터셋 로드\n",
    "diabetes = load_diabetes()\n",
    "\n",
    "x = pd.DataFrame(diabetes.data, columns=diabetes.feature_names)\n",
    "y = pd.DataFrame(diabetes.target)\n",
    "\n",
    "# 실기시험 데이터 셋으로 세팅하기\n",
    "from sklearn.model_selection import train_test_split\n",
    "x_train, x_test, y_train, y_test = train_test_split(x, y, test_size=0.2, random_state=2023)\n",
    "\n",
    "x_test = pd.DataFrame(x_test.reset_index())\n",
    "x_train = pd.DataFrame(x_train.reset_index())\n",
    "y_train = pd.DataFrame(y_train.reset_index())\n",
    "\n",
    "# index 컬럼의 이름을 index에서 cust_id로 바꾼거\n",
    "x_test.rename(columns={'index': 'cust_id'}, inplace=True)\n",
    "x_train.rename(columns={'index': 'cust_id'}, inplace=True)\n",
    "# 지금 열 두개 있는데, 열 두개의 이름을 각각 cust_id, target으로 바꿈\n",
    "y_train.columns = ['cust_id', 'target']"
   ],
   "metadata": {
    "collapsed": false,
    "ExecuteTime": {
     "end_time": "2023-11-28T14:11:31.043557Z",
     "start_time": "2023-11-28T14:11:31.032693Z"
    }
   }
  },
  {
   "cell_type": "code",
   "execution_count": 68,
   "outputs": [
    {
     "name": "stdout",
     "output_type": "stream",
     "text": [
      "(353, 11)\n",
      "(89, 11)\n",
      "(353, 2)\n"
     ]
    }
   ],
   "source": [
    "print(x_train.shape)\n",
    "print(x_test.shape)\n",
    "print(y_train.shape)"
   ],
   "metadata": {
    "collapsed": false,
    "ExecuteTime": {
     "end_time": "2023-11-28T14:11:33.045059Z",
     "start_time": "2023-11-28T14:11:33.033349Z"
    }
   }
  },
  {
   "cell_type": "code",
   "execution_count": 69,
   "outputs": [
    {
     "name": "stdout",
     "output_type": "stream",
     "text": [
      "   cust_id       age       sex       bmi        bp        s1        s2  \\\n",
      "0        4  0.005383 -0.044642 -0.036385  0.021872  0.003935  0.015596   \n",
      "1      318  0.088931 -0.044642  0.006728  0.025315  0.030078  0.008707   \n",
      "2      301 -0.001882  0.050680 -0.024529  0.052858  0.027326  0.030001   \n",
      "3      189 -0.001882 -0.044642 -0.066563  0.001215 -0.002945  0.003070   \n",
      "4      288  0.070769  0.050680 -0.016984  0.021872  0.043837  0.056305   \n",
      "\n",
      "         s3        s4        s5        s6  \n",
      "0  0.008142 -0.002592 -0.031988 -0.046641  \n",
      "1  0.063367 -0.039493  0.009434  0.032059  \n",
      "2  0.030232 -0.002592 -0.021395  0.036201  \n",
      "3  0.011824 -0.002592 -0.020292 -0.025930  \n",
      "4  0.037595 -0.002592 -0.070209 -0.017646  \n",
      "   cust_id       age       sex       bmi        bp        s1        s2  \\\n",
      "0      280  0.009016  0.050680  0.018584  0.039087  0.017694  0.010586   \n",
      "1      412  0.074401 -0.044642  0.085408  0.063187  0.014942  0.013091   \n",
      "2       68  0.038076  0.050680 -0.029918 -0.040099 -0.033216 -0.024174   \n",
      "3      324  0.030811 -0.044642  0.005650  0.011544  0.078236  0.077913   \n",
      "4      101  0.016281  0.050680 -0.045007  0.063187  0.010815 -0.000374   \n",
      "\n",
      "         s3        s4        s5        s6  \n",
      "0  0.019187 -0.002592  0.016307 -0.017646  \n",
      "1  0.015505 -0.002592  0.006207  0.085907  \n",
      "2 -0.010266 -0.002592 -0.012909  0.003064  \n",
      "3 -0.043401  0.108111  0.066051  0.019633  \n",
      "4  0.063367 -0.039493 -0.030748  0.036201  \n",
      "   cust_id  target\n",
      "0        4   135.0\n",
      "1      318   109.0\n",
      "2      301    65.0\n",
      "3      189    79.0\n",
      "4      288    80.0\n"
     ]
    }
   ],
   "source": [
    "print(x_train.head())\n",
    "print(x_test.head())\n",
    "print(y_train.head())"
   ],
   "metadata": {
    "collapsed": false,
    "ExecuteTime": {
     "end_time": "2023-11-28T14:11:35.259644Z",
     "start_time": "2023-11-28T14:11:35.254919Z"
    }
   }
  },
  {
   "cell_type": "code",
   "execution_count": 70,
   "outputs": [
    {
     "name": "stdout",
     "output_type": "stream",
     "text": [
      "<class 'pandas.core.frame.DataFrame'>\n",
      "RangeIndex: 353 entries, 0 to 352\n",
      "Data columns (total 11 columns):\n",
      " #   Column   Non-Null Count  Dtype  \n",
      "---  ------   --------------  -----  \n",
      " 0   cust_id  353 non-null    int64  \n",
      " 1   age      353 non-null    float64\n",
      " 2   sex      353 non-null    float64\n",
      " 3   bmi      353 non-null    float64\n",
      " 4   bp       353 non-null    float64\n",
      " 5   s1       353 non-null    float64\n",
      " 6   s2       353 non-null    float64\n",
      " 7   s3       353 non-null    float64\n",
      " 8   s4       353 non-null    float64\n",
      " 9   s5       353 non-null    float64\n",
      " 10  s6       353 non-null    float64\n",
      "dtypes: float64(10), int64(1)\n",
      "memory usage: 30.5 KB\n",
      "None\n",
      "<class 'pandas.core.frame.DataFrame'>\n",
      "RangeIndex: 89 entries, 0 to 88\n",
      "Data columns (total 11 columns):\n",
      " #   Column   Non-Null Count  Dtype  \n",
      "---  ------   --------------  -----  \n",
      " 0   cust_id  89 non-null     int64  \n",
      " 1   age      89 non-null     float64\n",
      " 2   sex      89 non-null     float64\n",
      " 3   bmi      89 non-null     float64\n",
      " 4   bp       89 non-null     float64\n",
      " 5   s1       89 non-null     float64\n",
      " 6   s2       89 non-null     float64\n",
      " 7   s3       89 non-null     float64\n",
      " 8   s4       89 non-null     float64\n",
      " 9   s5       89 non-null     float64\n",
      " 10  s6       89 non-null     float64\n",
      "dtypes: float64(10), int64(1)\n",
      "memory usage: 7.8 KB\n",
      "None\n",
      "<class 'pandas.core.frame.DataFrame'>\n",
      "RangeIndex: 353 entries, 0 to 352\n",
      "Data columns (total 2 columns):\n",
      " #   Column   Non-Null Count  Dtype  \n",
      "---  ------   --------------  -----  \n",
      " 0   cust_id  353 non-null    int64  \n",
      " 1   target   353 non-null    float64\n",
      "dtypes: float64(1), int64(1)\n",
      "memory usage: 5.6 KB\n",
      "None\n"
     ]
    }
   ],
   "source": [
    "print(x_train.info())\n",
    "print(x_test.info())\n",
    "print(y_train.info())"
   ],
   "metadata": {
    "collapsed": false,
    "ExecuteTime": {
     "end_time": "2023-11-28T14:11:40.509200Z",
     "start_time": "2023-11-28T14:11:40.505590Z"
    }
   }
  },
  {
   "cell_type": "code",
   "execution_count": 71,
   "outputs": [
    {
     "name": "stdout",
     "output_type": "stream",
     "text": [
      "          cust_id         age         sex         bmi          bp          s1  \\\n",
      "count  353.000000  353.000000  353.000000  353.000000  353.000000  353.000000   \n",
      "mean   212.634561    0.000804    0.000724    0.000640   -0.000326    0.001179   \n",
      "std    126.668903    0.047617    0.047673    0.048141    0.046585    0.047891   \n",
      "min      0.000000   -0.107226   -0.044642   -0.084886   -0.112399   -0.126781   \n",
      "25%    105.000000   -0.038207   -0.044642   -0.035307   -0.033213   -0.033216   \n",
      "50%    210.000000    0.005383   -0.044642   -0.006206   -0.005670   -0.002945   \n",
      "75%    322.000000    0.038076    0.050680    0.030440    0.032201    0.027326   \n",
      "max    441.000000    0.110727    0.050680    0.170555    0.125158    0.153914   \n",
      "\n",
      "               s2          s3          s4          s5          s6  \n",
      "count  353.000000  353.000000  353.000000  353.000000  353.000000  \n",
      "mean     0.001110   -0.000452    0.000901    0.001446    0.000589  \n",
      "std      0.048248    0.048600    0.048045    0.047160    0.048122  \n",
      "min     -0.115613   -0.102307   -0.076395   -0.126097   -0.137767  \n",
      "25%     -0.029184   -0.039719   -0.039493   -0.033246   -0.034215  \n",
      "50%     -0.001314   -0.006584   -0.002592    0.000272    0.003064  \n",
      "75%      0.031567    0.030232    0.034309    0.033654    0.032059  \n",
      "max      0.198788    0.181179    0.185234    0.133597    0.135612  \n",
      "------------------\n",
      "          cust_id        age        sex        bmi         bp         s1  \\\n",
      "count   89.000000  89.000000  89.000000  89.000000  89.000000  89.000000   \n",
      "mean   251.696629  -0.003188  -0.002871  -0.002537   0.001292  -0.004676   \n",
      "std    127.901365   0.047761   0.047563   0.045665   0.051777   0.046493   \n",
      "min      9.000000  -0.099961  -0.044642  -0.090275  -0.108956  -0.091006   \n",
      "25%    148.000000  -0.034575  -0.044642  -0.030996  -0.036656  -0.037344   \n",
      "50%    280.000000  -0.001882  -0.044642  -0.009439  -0.005670  -0.009825   \n",
      "75%    366.000000   0.030811   0.050680   0.034751   0.042529   0.031454   \n",
      "max    436.000000   0.096197   0.050680   0.137143   0.132044   0.119515   \n",
      "\n",
      "              s2         s3         s4         s5         s6  \n",
      "count  89.000000  89.000000  89.000000  89.000000  89.000000  \n",
      "mean   -0.004401   0.001792  -0.003575  -0.005737  -0.002334  \n",
      "std     0.045030   0.043723   0.045980   0.049252   0.045757  \n",
      "min    -0.089935  -0.080217  -0.076395  -0.104366  -0.129483  \n",
      "25%    -0.030437  -0.028674  -0.039493  -0.038460  -0.030072  \n",
      "50%    -0.014153  -0.002903  -0.002592  -0.014960  -0.005220  \n",
      "75%     0.020607   0.022869   0.003312   0.024055   0.019633  \n",
      "max     0.130208   0.122273   0.141322   0.133597   0.135612  \n"
     ]
    }
   ],
   "source": [
    "print(x_train.describe())\n",
    "print(\"------------------\")\n",
    "print(x_test.describe())"
   ],
   "metadata": {
    "collapsed": false,
    "ExecuteTime": {
     "end_time": "2023-11-28T14:11:43.506590Z",
     "start_time": "2023-11-28T14:11:43.464945Z"
    }
   }
  },
  {
   "cell_type": "code",
   "execution_count": 72,
   "outputs": [
    {
     "name": "stdout",
     "output_type": "stream",
     "text": [
      "          cust_id      target\n",
      "count  353.000000  353.000000\n",
      "mean   212.634561  152.943343\n",
      "std    126.668903   75.324692\n",
      "min      0.000000   37.000000\n",
      "25%    105.000000   90.000000\n",
      "50%    210.000000  141.000000\n",
      "75%    322.000000  208.000000\n",
      "max    441.000000  346.000000\n"
     ]
    }
   ],
   "source": [
    "print(y_train.describe())  # 연속형 변수 - 회귀분석"
   ],
   "metadata": {
    "collapsed": false,
    "ExecuteTime": {
     "end_time": "2023-11-28T14:11:48.457767Z",
     "start_time": "2023-11-28T14:11:48.437243Z"
    }
   }
  },
  {
   "cell_type": "code",
   "execution_count": 73,
   "outputs": [
    {
     "name": "stdout",
     "output_type": "stream",
     "text": [
      "cust_id    0\n",
      "age        0\n",
      "sex        0\n",
      "bmi        0\n",
      "bp         0\n",
      "s1         0\n",
      "s2         0\n",
      "s3         0\n",
      "s4         0\n",
      "s5         0\n",
      "s6         0\n",
      "dtype: int64\n",
      "cust_id    0\n",
      "age        0\n",
      "sex        0\n",
      "bmi        0\n",
      "bp         0\n",
      "s1         0\n",
      "s2         0\n",
      "s3         0\n",
      "s4         0\n",
      "s5         0\n",
      "s6         0\n",
      "dtype: int64\n",
      "cust_id    0\n",
      "target     0\n",
      "dtype: int64\n"
     ]
    }
   ],
   "source": [
    "# 결측치, 이상치 확인\n",
    "print(x_train.isnull().sum())\n",
    "print(x_test.isnull().sum())\n",
    "print(y_train.isnull().sum())"
   ],
   "metadata": {
    "collapsed": false,
    "ExecuteTime": {
     "end_time": "2023-11-28T14:11:55.052015Z",
     "start_time": "2023-11-28T14:11:55.016268Z"
    }
   }
  },
  {
   "cell_type": "code",
   "execution_count": 74,
   "outputs": [],
   "source": [
    "cust_id = x_test['cust_id'].copy()\n",
    "\n",
    "x_train = x_train.drop(columns=['cust_id'])\n",
    "x_test = x_test.drop(columns=['cust_id'])"
   ],
   "metadata": {
    "collapsed": false,
    "ExecuteTime": {
     "end_time": "2023-11-28T14:12:08.967778Z",
     "start_time": "2023-11-28T14:12:08.959432Z"
    }
   }
  },
  {
   "cell_type": "code",
   "execution_count": 76,
   "outputs": [
    {
     "ename": "KeyError",
     "evalue": "'target'",
     "output_type": "error",
     "traceback": [
      "\u001B[0;31m---------------------------------------------------------------------------\u001B[0m",
      "\u001B[0;31mKeyError\u001B[0m                                  Traceback (most recent call last)",
      "File \u001B[0;32m~/PycharmProjects/pythonProject/venv/lib/python3.9/site-packages/pandas/core/indexes/base.py:3790\u001B[0m, in \u001B[0;36mIndex.get_loc\u001B[0;34m(self, key)\u001B[0m\n\u001B[1;32m   3789\u001B[0m \u001B[38;5;28;01mtry\u001B[39;00m:\n\u001B[0;32m-> 3790\u001B[0m     \u001B[38;5;28;01mreturn\u001B[39;00m \u001B[38;5;28;43mself\u001B[39;49m\u001B[38;5;241;43m.\u001B[39;49m\u001B[43m_engine\u001B[49m\u001B[38;5;241;43m.\u001B[39;49m\u001B[43mget_loc\u001B[49m\u001B[43m(\u001B[49m\u001B[43mcasted_key\u001B[49m\u001B[43m)\u001B[49m\n\u001B[1;32m   3791\u001B[0m \u001B[38;5;28;01mexcept\u001B[39;00m \u001B[38;5;167;01mKeyError\u001B[39;00m \u001B[38;5;28;01mas\u001B[39;00m err:\n",
      "File \u001B[0;32mindex.pyx:152\u001B[0m, in \u001B[0;36mpandas._libs.index.IndexEngine.get_loc\u001B[0;34m()\u001B[0m\n",
      "File \u001B[0;32mindex.pyx:160\u001B[0m, in \u001B[0;36mpandas._libs.index.IndexEngine.get_loc\u001B[0;34m()\u001B[0m\n",
      "File \u001B[0;32mpandas/_libs/index_class_helper.pxi:70\u001B[0m, in \u001B[0;36mpandas._libs.index.Int64Engine._check_type\u001B[0;34m()\u001B[0m\n",
      "\u001B[0;31mKeyError\u001B[0m: 'target'",
      "\nThe above exception was the direct cause of the following exception:\n",
      "\u001B[0;31mKeyError\u001B[0m                                  Traceback (most recent call last)",
      "Cell \u001B[0;32mIn[76], line 4\u001B[0m\n\u001B[1;32m      1\u001B[0m \u001B[38;5;28;01mfrom\u001B[39;00m \u001B[38;5;21;01msklearn\u001B[39;00m\u001B[38;5;21;01m.\u001B[39;00m\u001B[38;5;21;01mmodel_selection\u001B[39;00m \u001B[38;5;28;01mimport\u001B[39;00m train_test_split\n\u001B[1;32m      2\u001B[0m x_train, x_val, y_train, y_val \u001B[38;5;241m=\u001B[39m train_test_split(\n\u001B[1;32m      3\u001B[0m     x_train,\n\u001B[0;32m----> 4\u001B[0m     \u001B[43my_train\u001B[49m\u001B[43m[\u001B[49m\u001B[38;5;124;43m'\u001B[39;49m\u001B[38;5;124;43mtarget\u001B[39;49m\u001B[38;5;124;43m'\u001B[39;49m\u001B[43m]\u001B[49m,\n\u001B[1;32m      5\u001B[0m     test_size\u001B[38;5;241m=\u001B[39m\u001B[38;5;241m0.2\u001B[39m,\n\u001B[1;32m      6\u001B[0m     random_state\u001B[38;5;241m=\u001B[39m\u001B[38;5;241m23\u001B[39m\n\u001B[1;32m      7\u001B[0m )\n\u001B[1;32m      9\u001B[0m \u001B[38;5;28mprint\u001B[39m(x_train\u001B[38;5;241m.\u001B[39mshape)\n\u001B[1;32m     10\u001B[0m \u001B[38;5;28mprint\u001B[39m(x_val\u001B[38;5;241m.\u001B[39mshape)\n",
      "File \u001B[0;32m~/PycharmProjects/pythonProject/venv/lib/python3.9/site-packages/pandas/core/series.py:1040\u001B[0m, in \u001B[0;36mSeries.__getitem__\u001B[0;34m(self, key)\u001B[0m\n\u001B[1;32m   1037\u001B[0m     \u001B[38;5;28;01mreturn\u001B[39;00m \u001B[38;5;28mself\u001B[39m\u001B[38;5;241m.\u001B[39m_values[key]\n\u001B[1;32m   1039\u001B[0m \u001B[38;5;28;01melif\u001B[39;00m key_is_scalar:\n\u001B[0;32m-> 1040\u001B[0m     \u001B[38;5;28;01mreturn\u001B[39;00m \u001B[38;5;28;43mself\u001B[39;49m\u001B[38;5;241;43m.\u001B[39;49m\u001B[43m_get_value\u001B[49m\u001B[43m(\u001B[49m\u001B[43mkey\u001B[49m\u001B[43m)\u001B[49m\n\u001B[1;32m   1042\u001B[0m \u001B[38;5;66;03m# Convert generator to list before going through hashable part\u001B[39;00m\n\u001B[1;32m   1043\u001B[0m \u001B[38;5;66;03m# (We will iterate through the generator there to check for slices)\u001B[39;00m\n\u001B[1;32m   1044\u001B[0m \u001B[38;5;28;01mif\u001B[39;00m is_iterator(key):\n",
      "File \u001B[0;32m~/PycharmProjects/pythonProject/venv/lib/python3.9/site-packages/pandas/core/series.py:1156\u001B[0m, in \u001B[0;36mSeries._get_value\u001B[0;34m(self, label, takeable)\u001B[0m\n\u001B[1;32m   1153\u001B[0m     \u001B[38;5;28;01mreturn\u001B[39;00m \u001B[38;5;28mself\u001B[39m\u001B[38;5;241m.\u001B[39m_values[label]\n\u001B[1;32m   1155\u001B[0m \u001B[38;5;66;03m# Similar to Index.get_value, but we do not fall back to positional\u001B[39;00m\n\u001B[0;32m-> 1156\u001B[0m loc \u001B[38;5;241m=\u001B[39m \u001B[38;5;28;43mself\u001B[39;49m\u001B[38;5;241;43m.\u001B[39;49m\u001B[43mindex\u001B[49m\u001B[38;5;241;43m.\u001B[39;49m\u001B[43mget_loc\u001B[49m\u001B[43m(\u001B[49m\u001B[43mlabel\u001B[49m\u001B[43m)\u001B[49m\n\u001B[1;32m   1158\u001B[0m \u001B[38;5;28;01mif\u001B[39;00m is_integer(loc):\n\u001B[1;32m   1159\u001B[0m     \u001B[38;5;28;01mreturn\u001B[39;00m \u001B[38;5;28mself\u001B[39m\u001B[38;5;241m.\u001B[39m_values[loc]\n",
      "File \u001B[0;32m~/PycharmProjects/pythonProject/venv/lib/python3.9/site-packages/pandas/core/indexes/base.py:3797\u001B[0m, in \u001B[0;36mIndex.get_loc\u001B[0;34m(self, key)\u001B[0m\n\u001B[1;32m   3792\u001B[0m     \u001B[38;5;28;01mif\u001B[39;00m \u001B[38;5;28misinstance\u001B[39m(casted_key, \u001B[38;5;28mslice\u001B[39m) \u001B[38;5;129;01mor\u001B[39;00m (\n\u001B[1;32m   3793\u001B[0m         \u001B[38;5;28misinstance\u001B[39m(casted_key, abc\u001B[38;5;241m.\u001B[39mIterable)\n\u001B[1;32m   3794\u001B[0m         \u001B[38;5;129;01mand\u001B[39;00m \u001B[38;5;28many\u001B[39m(\u001B[38;5;28misinstance\u001B[39m(x, \u001B[38;5;28mslice\u001B[39m) \u001B[38;5;28;01mfor\u001B[39;00m x \u001B[38;5;129;01min\u001B[39;00m casted_key)\n\u001B[1;32m   3795\u001B[0m     ):\n\u001B[1;32m   3796\u001B[0m         \u001B[38;5;28;01mraise\u001B[39;00m InvalidIndexError(key)\n\u001B[0;32m-> 3797\u001B[0m     \u001B[38;5;28;01mraise\u001B[39;00m \u001B[38;5;167;01mKeyError\u001B[39;00m(key) \u001B[38;5;28;01mfrom\u001B[39;00m \u001B[38;5;21;01merr\u001B[39;00m\n\u001B[1;32m   3798\u001B[0m \u001B[38;5;28;01mexcept\u001B[39;00m \u001B[38;5;167;01mTypeError\u001B[39;00m:\n\u001B[1;32m   3799\u001B[0m     \u001B[38;5;66;03m# If we have a listlike key, _check_indexing_error will raise\u001B[39;00m\n\u001B[1;32m   3800\u001B[0m     \u001B[38;5;66;03m#  InvalidIndexError. Otherwise we fall through and re-raise\u001B[39;00m\n\u001B[1;32m   3801\u001B[0m     \u001B[38;5;66;03m#  the TypeError.\u001B[39;00m\n\u001B[1;32m   3802\u001B[0m     \u001B[38;5;28mself\u001B[39m\u001B[38;5;241m.\u001B[39m_check_indexing_error(key)\n",
      "\u001B[0;31mKeyError\u001B[0m: 'target'"
     ]
    }
   ],
   "source": [
    "from sklearn.model_selection import train_test_split\n",
    "x_train, x_val, y_train, y_val = train_test_split(\n",
    "    x_train,\n",
    "    y_train['target'],\n",
    "    test_size=0.2,\n",
    "    random_state=23\n",
    ")\n",
    "\n",
    "print(x_train.shape)\n",
    "print(x_val.shape)\n",
    "print(y_train.shape)\n",
    "print(y_val.shape)"
   ],
   "metadata": {
    "collapsed": false,
    "ExecuteTime": {
     "end_time": "2023-11-28T14:12:34.028107Z",
     "start_time": "2023-11-28T14:12:33.994453Z"
    }
   }
  },
  {
   "cell_type": "code",
   "execution_count": 77,
   "outputs": [
    {
     "data": {
      "text/plain": "RandomForestRegressor(random_state=2023)",
      "text/html": "<style>#sk-container-id-8 {color: black;}#sk-container-id-8 pre{padding: 0;}#sk-container-id-8 div.sk-toggleable {background-color: white;}#sk-container-id-8 label.sk-toggleable__label {cursor: pointer;display: block;width: 100%;margin-bottom: 0;padding: 0.3em;box-sizing: border-box;text-align: center;}#sk-container-id-8 label.sk-toggleable__label-arrow:before {content: \"▸\";float: left;margin-right: 0.25em;color: #696969;}#sk-container-id-8 label.sk-toggleable__label-arrow:hover:before {color: black;}#sk-container-id-8 div.sk-estimator:hover label.sk-toggleable__label-arrow:before {color: black;}#sk-container-id-8 div.sk-toggleable__content {max-height: 0;max-width: 0;overflow: hidden;text-align: left;background-color: #f0f8ff;}#sk-container-id-8 div.sk-toggleable__content pre {margin: 0.2em;color: black;border-radius: 0.25em;background-color: #f0f8ff;}#sk-container-id-8 input.sk-toggleable__control:checked~div.sk-toggleable__content {max-height: 200px;max-width: 100%;overflow: auto;}#sk-container-id-8 input.sk-toggleable__control:checked~label.sk-toggleable__label-arrow:before {content: \"▾\";}#sk-container-id-8 div.sk-estimator input.sk-toggleable__control:checked~label.sk-toggleable__label {background-color: #d4ebff;}#sk-container-id-8 div.sk-label input.sk-toggleable__control:checked~label.sk-toggleable__label {background-color: #d4ebff;}#sk-container-id-8 input.sk-hidden--visually {border: 0;clip: rect(1px 1px 1px 1px);clip: rect(1px, 1px, 1px, 1px);height: 1px;margin: -1px;overflow: hidden;padding: 0;position: absolute;width: 1px;}#sk-container-id-8 div.sk-estimator {font-family: monospace;background-color: #f0f8ff;border: 1px dotted black;border-radius: 0.25em;box-sizing: border-box;margin-bottom: 0.5em;}#sk-container-id-8 div.sk-estimator:hover {background-color: #d4ebff;}#sk-container-id-8 div.sk-parallel-item::after {content: \"\";width: 100%;border-bottom: 1px solid gray;flex-grow: 1;}#sk-container-id-8 div.sk-label:hover label.sk-toggleable__label {background-color: #d4ebff;}#sk-container-id-8 div.sk-serial::before {content: \"\";position: absolute;border-left: 1px solid gray;box-sizing: border-box;top: 0;bottom: 0;left: 50%;z-index: 0;}#sk-container-id-8 div.sk-serial {display: flex;flex-direction: column;align-items: center;background-color: white;padding-right: 0.2em;padding-left: 0.2em;position: relative;}#sk-container-id-8 div.sk-item {position: relative;z-index: 1;}#sk-container-id-8 div.sk-parallel {display: flex;align-items: stretch;justify-content: center;background-color: white;position: relative;}#sk-container-id-8 div.sk-item::before, #sk-container-id-8 div.sk-parallel-item::before {content: \"\";position: absolute;border-left: 1px solid gray;box-sizing: border-box;top: 0;bottom: 0;left: 50%;z-index: -1;}#sk-container-id-8 div.sk-parallel-item {display: flex;flex-direction: column;z-index: 1;position: relative;background-color: white;}#sk-container-id-8 div.sk-parallel-item:first-child::after {align-self: flex-end;width: 50%;}#sk-container-id-8 div.sk-parallel-item:last-child::after {align-self: flex-start;width: 50%;}#sk-container-id-8 div.sk-parallel-item:only-child::after {width: 0;}#sk-container-id-8 div.sk-dashed-wrapped {border: 1px dashed gray;margin: 0 0.4em 0.5em 0.4em;box-sizing: border-box;padding-bottom: 0.4em;background-color: white;}#sk-container-id-8 div.sk-label label {font-family: monospace;font-weight: bold;display: inline-block;line-height: 1.2em;}#sk-container-id-8 div.sk-label-container {text-align: center;}#sk-container-id-8 div.sk-container {/* jupyter's `normalize.less` sets `[hidden] { display: none; }` but bootstrap.min.css set `[hidden] { display: none !important; }` so we also need the `!important` here to be able to override the default hidden behavior on the sphinx rendered scikit-learn.org. See: https://github.com/scikit-learn/scikit-learn/issues/21755 */display: inline-block !important;position: relative;}#sk-container-id-8 div.sk-text-repr-fallback {display: none;}</style><div id=\"sk-container-id-8\" class=\"sk-top-container\"><div class=\"sk-text-repr-fallback\"><pre>RandomForestRegressor(random_state=2023)</pre><b>In a Jupyter environment, please rerun this cell to show the HTML representation or trust the notebook. <br />On GitHub, the HTML representation is unable to render, please try loading this page with nbviewer.org.</b></div><div class=\"sk-container\" hidden><div class=\"sk-item\"><div class=\"sk-estimator sk-toggleable\"><input class=\"sk-toggleable__control sk-hidden--visually\" id=\"sk-estimator-id-8\" type=\"checkbox\" checked><label for=\"sk-estimator-id-8\" class=\"sk-toggleable__label sk-toggleable__label-arrow\">RandomForestRegressor</label><div class=\"sk-toggleable__content\"><pre>RandomForestRegressor(random_state=2023)</pre></div></div></div></div></div>"
     },
     "execution_count": 77,
     "metadata": {},
     "output_type": "execute_result"
    }
   ],
   "source": [
    "from sklearn.ensemble import RandomForestRegressor\n",
    "model = RandomForestRegressor(random_state=2023)\n",
    "model.fit(x_train, y_train)"
   ],
   "metadata": {
    "collapsed": false,
    "ExecuteTime": {
     "end_time": "2023-11-28T14:12:40.982579Z",
     "start_time": "2023-11-28T14:12:40.882533Z"
    }
   }
  },
  {
   "cell_type": "code",
   "execution_count": 78,
   "outputs": [],
   "source": [
    "y_pred = model.predict(x_val)"
   ],
   "metadata": {
    "collapsed": false,
    "ExecuteTime": {
     "end_time": "2023-11-28T14:12:46.038834Z",
     "start_time": "2023-11-28T14:12:46.003607Z"
    }
   }
  },
  {
   "cell_type": "code",
   "execution_count": 79,
   "outputs": [],
   "source": [
    "from sklearn.metrics import mean_squared_error, r2_score\n",
    "\n",
    "mse = mean_squared_error(y_val, y_pred)\n",
    "r2 = r2_score(y_val, y_pred)"
   ],
   "metadata": {
    "collapsed": false,
    "ExecuteTime": {
     "end_time": "2023-11-28T14:12:48.832040Z",
     "start_time": "2023-11-28T14:12:48.821283Z"
    }
   }
  },
  {
   "cell_type": "code",
   "execution_count": 80,
   "outputs": [
    {
     "name": "stdout",
     "output_type": "stream",
     "text": [
      "2563.5036816901406\n",
      "0.5250663004710372\n"
     ]
    }
   ],
   "source": [
    "print(mse)\n",
    "print(r2)"
   ],
   "metadata": {
    "collapsed": false,
    "ExecuteTime": {
     "end_time": "2023-11-28T14:12:51.204132Z",
     "start_time": "2023-11-28T14:12:51.189254Z"
    }
   }
  },
  {
   "cell_type": "code",
   "execution_count": 81,
   "outputs": [
    {
     "name": "stdout",
     "output_type": "stream",
     "text": [
      "50.631054518843875\n"
     ]
    }
   ],
   "source": [
    "rmse = mse ** 0.5\n",
    "print(rmse)"
   ],
   "metadata": {
    "collapsed": false,
    "ExecuteTime": {
     "end_time": "2023-11-28T14:13:07.489541Z",
     "start_time": "2023-11-28T14:13:07.474312Z"
    }
   }
  },
  {
   "cell_type": "code",
   "execution_count": 82,
   "outputs": [
    {
     "name": "stdout",
     "output_type": "stream",
     "text": [
      "[186.51 255.92  77.97 185.64 111.14 173.41  89.45 144.33 159.48 191.07\n",
      " 101.27 129.02  64.59 143.45 135.01  94.2  139.72 114.85 206.35 153.26\n",
      "  71.56 200.02 115.56 172.34  85.92 175.72 163.62  89.75 196.8  100.58\n",
      " 100.14 159.16 177.56 186.74 186.92 238.49 231.2  168.   170.88 198.7\n",
      "  86.86 116.71  96.43 233.38 250.74  92.37  93.85  77.11 230.5  172.38\n",
      "  98.95  96.71 145.78 171.48 179.94 146.28 220.67  95.5  232.82 163.01\n",
      " 104.48  83.    92.8   91.78 111.89 116.8  156.7  209.79 247.64 131.45\n",
      " 169.17 231.46 161.63  78.58 122.61 129.37  68.08 130.35 123.51  73.26\n",
      " 136.15 156.83 103.81 194.06 192.59 172.71  97.2   86.18 118.42]\n"
     ]
    }
   ],
   "source": [
    "y_result = model.predict(x_test)\n",
    "print(y_result)"
   ],
   "metadata": {
    "collapsed": false,
    "ExecuteTime": {
     "end_time": "2023-11-28T14:13:27.275499Z",
     "start_time": "2023-11-28T14:13:27.262253Z"
    }
   }
  },
  {
   "cell_type": "code",
   "execution_count": 84,
   "outputs": [
    {
     "name": "stdout",
     "output_type": "stream",
     "text": [
      "   cust_id  target\n",
      "0      280  186.51\n",
      "1      412  255.92\n",
      "2       68   77.97\n",
      "3      324  185.64\n",
      "4      101  111.14\n"
     ]
    }
   ],
   "source": [
    "result = pd.DataFrame({'cust_id': cust_id, 'target': y_result})\n",
    "print(result[:5])"
   ],
   "metadata": {
    "collapsed": false,
    "ExecuteTime": {
     "end_time": "2023-11-28T14:14:21.687608Z",
     "start_time": "2023-11-28T14:14:21.675219Z"
    }
   }
  },
  {
   "cell_type": "code",
   "execution_count": 85,
   "outputs": [],
   "source": [
    "# 실기 시험 데이터셋으로 세팅하기\n",
    "\n",
    "import seaborn as sns\n",
    "df = sns.load_dataset('tips')\n",
    "\n",
    "x = df.drop(['tip'], axis=1)\n",
    "y = df['tip']\n",
    "\n",
    "from sklearn.model_selection import train_test_split\n",
    "x_train, x_test, y_train, y_test = train_test_split(x, y, test_size=0.2, random_state=2023)\n",
    "\n",
    "x_train = pd.DataFrame(x_train.reset_index())\n",
    "x_test = pd.DataFrame(x_test.reset_index())\n",
    "y_train = pd.DataFrame(y_train.reset_index())"
   ],
   "metadata": {
    "collapsed": false,
    "ExecuteTime": {
     "end_time": "2023-11-28T14:14:49.449637Z",
     "start_time": "2023-11-28T14:14:49.438101Z"
    }
   }
  },
  {
   "cell_type": "code",
   "execution_count": null,
   "outputs": [],
   "source": [],
   "metadata": {
    "collapsed": false
   }
  },
  {
   "cell_type": "code",
   "execution_count": null,
   "outputs": [],
   "source": [],
   "metadata": {
    "collapsed": false
   }
  },
  {
   "cell_type": "code",
   "execution_count": null,
   "outputs": [],
   "source": [],
   "metadata": {
    "collapsed": false
   }
  },
  {
   "cell_type": "code",
   "execution_count": null,
   "outputs": [],
   "source": [],
   "metadata": {
    "collapsed": false
   }
  },
  {
   "cell_type": "code",
   "execution_count": null,
   "outputs": [],
   "source": [],
   "metadata": {
    "collapsed": false
   }
  },
  {
   "cell_type": "code",
   "execution_count": null,
   "outputs": [],
   "source": [],
   "metadata": {
    "collapsed": false
   }
  },
  {
   "cell_type": "code",
   "execution_count": null,
   "outputs": [],
   "source": [],
   "metadata": {
    "collapsed": false
   }
  }
 ],
 "metadata": {
  "kernelspec": {
   "display_name": "Python 3",
   "language": "python",
   "name": "python3"
  },
  "language_info": {
   "codemirror_mode": {
    "name": "ipython",
    "version": 2
   },
   "file_extension": ".py",
   "mimetype": "text/x-python",
   "name": "python",
   "nbconvert_exporter": "python",
   "pygments_lexer": "ipython2",
   "version": "2.7.6"
  }
 },
 "nbformat": 4,
 "nbformat_minor": 0
}
