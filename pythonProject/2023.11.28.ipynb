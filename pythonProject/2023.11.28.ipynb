{
 "cells": [
  {
   "cell_type": "markdown",
   "source": [
    "## 검정방법\n",
    "\n",
    "### 분산분석 (ANOVA) : A 집단 VS B 집단 VS C 집단 VS ...\n",
    "#### - (정규성 O) ANOVA 분석\n",
    "#### - (정규성 X) 크루스칼-왈리스 검정(Kruskal-wallis test)"
   ],
   "metadata": {
    "collapsed": false
   }
  },
  {
   "cell_type": "markdown",
   "source": [
    "### 가설 검정 순서 (중요 !!)\n",
    "\n",
    "#### 1. 가설 설정\n",
    "#### 2. 유의수준 확인\n",
    "#### 3. 정규성 검정  ** (주의) 집단 모두 정규성을 따를 경우\n",
    "#### 4. 등분산 검정  (등분산 / 이분산 주어질 가능성 높음)\n",
    "#### 5. 검정실시 (통계량, pvalue 확인)  ** (주의) 등분산여부 확인\n",
    "#### 6. 귀무가설 기각여부 결정 (채택 / 기각)"
   ],
   "metadata": {
    "collapsed": false
   }
  },
  {
   "cell_type": "markdown",
   "source": [
    "### 예제 문제\n",
    "\n",
    "다음은 A, B, C 그룹 인원 성적 데이터이다.\n",
    "세 그룹의 성적 평균이 같다고 할 수 있는지 ANOVA 분석을 실시하시오.\n",
    "\n",
    "(유의수준 5%)\n",
    "- 등분산 검정\n",
    "- A, B, C : 각 그룹 인원의 성적\n",
    "- H0(귀무가설) : A(평균) = B(평균) = C(평균)\n",
    "- H1(대립가설) : Not H0 (적어도 하나는 같지 않다)"
   ],
   "metadata": {
    "collapsed": false
   }
  },
  {
   "cell_type": "markdown",
   "source": [
    "* 3모수 검정\n",
    "* 정규성 / 등분산성 모두 만족 = 분산 분석 = f_oneway()\n",
    "* 정규성 만족 X = 크루스칼 왈리스 검정\n",
    "\n",
    "- 정규성 검증 방법 stats.shapiro()\n",
    "- 등분산성 검증 방법 stats.bartlett()"
   ],
   "metadata": {
    "collapsed": false
   }
  },
  {
   "cell_type": "code",
   "execution_count": 1,
   "metadata": {
    "collapsed": true,
    "ExecuteTime": {
     "end_time": "2023-11-28T05:49:43.254567Z",
     "start_time": "2023-11-28T05:49:43.250023Z"
    }
   },
   "outputs": [
    {
     "name": "stdout",
     "output_type": "stream",
     "text": [
      "     A    B    C\n",
      "0  120  110  130\n",
      "1  135  132  120\n",
      "2  122  123  115\n"
     ]
    }
   ],
   "source": [
    "import pandas as pd\n",
    "import numpy as np\n",
    "\n",
    "df = pd.DataFrame( {\n",
    "    'A': [120, 135, 122, 124, 135, 122, 145, 160, 155, 142, 144, 135, 167],\n",
    "    'B' : [110, 132, 123, 119, 123, 115, 140, 162, 142, 138, 135, 142, 160],\n",
    "    'C' : [130, 120, 115, 122, 133, 144, 122, 120, 110, 134, 125, 122, 122]})\n",
    "print(df.head(3))"
   ]
  },
  {
   "cell_type": "markdown",
   "source": [
    "가설 검정 순서\n",
    "- 가설 설정 - H0, H1\n",
    "- 유의수준 확인\n",
    "- 정규성 검증\n",
    "- 등분산 검증\n",
    "- 검증\n",
    "- 채택/기각 선택"
   ],
   "metadata": {
    "collapsed": false
   }
  },
  {
   "cell_type": "code",
   "execution_count": 25,
   "outputs": [
    {
     "name": "stdout",
     "output_type": "stream",
     "text": [
      "0.9314374327659607 0.3558504581451416\n",
      "0.9498199224472046 0.5955632925033569\n",
      "0.9396705031394958 0.4526498317718506\n"
     ]
    },
    {
     "data": {
      "text/plain": "0     120\n1     135\n2     122\n3     124\n4     135\n5     122\n6     145\n7     160\n8     155\n9     142\n10    144\n11    135\n12    167\nName: A, dtype: int64"
     },
     "execution_count": 25,
     "metadata": {},
     "output_type": "execute_result"
    }
   ],
   "source": [
    "import scipy.stats as stats\n",
    "\n",
    "statisticA, pvalueA = stats.shapiro(df['A'])\n",
    "statisticB, pvalueB = stats.shapiro(df['B'])\n",
    "statisticC, pvalueC = stats.shapiro(df['C'])\n",
    "\n",
    "print(statisticA, pvalueA)\n",
    "print(statisticB, pvalueB)\n",
    "print(statisticC, pvalueC)\n",
    "\n",
    "df['A']\n",
    "\n",
    "# pvalue의 값이 모두 유의수준인 0.05 이상임 - 모두 정규성 만족"
   ],
   "metadata": {
    "collapsed": false,
    "ExecuteTime": {
     "end_time": "2023-11-28T06:16:34.728094Z",
     "start_time": "2023-11-28T06:16:34.725238Z"
    }
   }
  },
  {
   "cell_type": "code",
   "execution_count": 3,
   "outputs": [
    {
     "name": "stdout",
     "output_type": "stream",
     "text": [
      "4.222248448848066 0.12110174433684852\n"
     ]
    }
   ],
   "source": [
    "statistic, pvalue = stats.bartlett(df['A'], df['B'], df['C'])\n",
    "print(statistic, pvalue)\n",
    "\n",
    "# 등분산 검정 유의수준인 0.05 이상 - 등분산성 만족"
   ],
   "metadata": {
    "collapsed": false,
    "ExecuteTime": {
     "end_time": "2023-11-28T06:00:09.494144Z",
     "start_time": "2023-11-28T06:00:09.491290Z"
    }
   }
  },
  {
   "cell_type": "code",
   "execution_count": 4,
   "outputs": [
    {
     "name": "stdout",
     "output_type": "stream",
     "text": [
      "3.6970511827172867 0.0346491232068625\n"
     ]
    }
   ],
   "source": [
    "statistic, pvalue = stats.f_oneway(df['A'], df['B'], df['C'])\n",
    "print(statistic, pvalue)\n",
    "\n",
    "# 유의수준 0.05보다 pvalue가 더 작음 . 귀무가설 기각 - 하나라도 같지 않다."
   ],
   "metadata": {
    "collapsed": false,
    "ExecuteTime": {
     "end_time": "2023-11-28T06:01:03.018742Z",
     "start_time": "2023-11-28T06:01:03.014751Z"
    }
   }
  },
  {
   "cell_type": "code",
   "execution_count": 8,
   "outputs": [
    {
     "name": "stdout",
     "output_type": "stream",
     "text": [
      "6.896997321554428 0.03179333314266727\n"
     ]
    }
   ],
   "source": [
    "statistic, pvalue = stats.kruskal(df['A'], df['B'], df['C'])\n",
    "print(statistic, pvalue)"
   ],
   "metadata": {
    "collapsed": false,
    "ExecuteTime": {
     "end_time": "2023-11-28T06:05:18.017675Z",
     "start_time": "2023-11-28T06:05:18.003821Z"
    }
   }
  },
  {
   "cell_type": "code",
   "execution_count": 9,
   "outputs": [
    {
     "name": "stdout",
     "output_type": "stream",
     "text": [
      "  항목  value\n",
      "0  A    120\n",
      "1  A    135\n",
      "2  A    122\n"
     ]
    }
   ],
   "source": [
    "# 데이터 만들기\n",
    "df2 = pd.DataFrame( {\n",
    "    '항목': ['A','A','A','A','A','A','A','A','A','A','A','A','A',\n",
    "           'B','B','B','B','B','B','B','B','B','B','B','B','B',\n",
    "           'C','C','C','C','C','C','C','C','C','C','C','C','C',],\n",
    "    'value': [120, 135, 122, 124, 135, 122, 145, 160, 155, 142, 144, 135, 167,\n",
    "             110, 132, 123, 119, 123, 115, 140, 162, 142, 138, 135, 142, 160,\n",
    "             130, 120, 115, 122, 133, 144, 122, 120, 110, 134, 125, 122, 122]\n",
    "})\n",
    "print(df2.head(3))"
   ],
   "metadata": {
    "collapsed": false,
    "ExecuteTime": {
     "end_time": "2023-11-28T06:07:23.626726Z",
     "start_time": "2023-11-28T06:07:23.622043Z"
    }
   }
  },
  {
   "cell_type": "code",
   "execution_count": 17,
   "outputs": [],
   "source": [
    "# 각각 변수 독립적인 데이터프레임으로 저장해서 검증\n",
    "\n",
    "df_a = df2[df2['항목'] == 'A']['value']\n",
    "df_b = df2[df2['항목'] == 'B']['value']\n",
    "df_c = df2[df2['항목'] == 'C']['value']"
   ],
   "metadata": {
    "collapsed": false,
    "ExecuteTime": {
     "end_time": "2023-11-28T06:13:57.218629Z",
     "start_time": "2023-11-28T06:13:57.213447Z"
    }
   }
  },
  {
   "cell_type": "code",
   "execution_count": 19,
   "outputs": [
    {
     "name": "stdout",
     "output_type": "stream",
     "text": [
      "0.9314374327659607 0.3558504581451416\n"
     ]
    }
   ],
   "source": [
    "import scipy.stats as stats\n",
    "\n",
    "statistic, pvalue = stats.shapiro(df_a)\n",
    "print(statistic, pvalue)"
   ],
   "metadata": {
    "collapsed": false,
    "ExecuteTime": {
     "end_time": "2023-11-28T06:14:43.092004Z",
     "start_time": "2023-11-28T06:14:43.084910Z"
    }
   }
  },
  {
   "cell_type": "code",
   "execution_count": 20,
   "outputs": [
    {
     "name": "stdout",
     "output_type": "stream",
     "text": [
      "0.9498199224472046 0.5955632925033569\n"
     ]
    }
   ],
   "source": [
    "statistic, pvalue = stats.shapiro(df_b)\n",
    "print(statistic, pvalue)"
   ],
   "metadata": {
    "collapsed": false,
    "ExecuteTime": {
     "end_time": "2023-11-28T06:14:48.857763Z",
     "start_time": "2023-11-28T06:14:48.852460Z"
    }
   }
  },
  {
   "cell_type": "code",
   "execution_count": 21,
   "outputs": [
    {
     "name": "stdout",
     "output_type": "stream",
     "text": [
      "0.9396705031394958 0.4526498317718506\n"
     ]
    }
   ],
   "source": [
    "statistic, pvalue = stats.shapiro(df_c)\n",
    "print(statistic, pvalue)"
   ],
   "metadata": {
    "collapsed": false,
    "ExecuteTime": {
     "end_time": "2023-11-28T06:15:06.914444Z",
     "start_time": "2023-11-28T06:15:06.907210Z"
    }
   }
  },
  {
   "cell_type": "code",
   "execution_count": 22,
   "outputs": [
    {
     "name": "stdout",
     "output_type": "stream",
     "text": [
      "4.222248448848066 0.12110174433684852\n"
     ]
    }
   ],
   "source": [
    "# 등분산성 검증\n",
    "statistic, pvalue = stats.bartlett(df_a, df_b, df_c)\n",
    "print(statistic, pvalue)"
   ],
   "metadata": {
    "collapsed": false,
    "ExecuteTime": {
     "end_time": "2023-11-28T06:15:51.568588Z",
     "start_time": "2023-11-28T06:15:51.564175Z"
    }
   }
  },
  {
   "cell_type": "code",
   "execution_count": 23,
   "outputs": [
    {
     "name": "stdout",
     "output_type": "stream",
     "text": [
      "3.6970511827172867 0.0346491232068625\n"
     ]
    }
   ],
   "source": [
    "statistic, pvalue = stats.f_oneway(df_a, df_b, df_c)\n",
    "print(statistic, pvalue)"
   ],
   "metadata": {
    "collapsed": false,
    "ExecuteTime": {
     "end_time": "2023-11-28T06:16:16.510098Z",
     "start_time": "2023-11-28T06:16:16.505607Z"
    }
   }
  },
  {
   "cell_type": "markdown",
   "source": [
    "### 문제 1-1\n",
    "랜덤 박스에 상품 A, B, C, D가 들어있다.\n",
    "다음은 랜덤 박스에서 100번 상품을 꺼냈을 때의 상품 데이터라고 할 때 상품이 동일한 비율로 들어있다고 할 수 있는지 검정해보시오."
   ],
   "metadata": {
    "collapsed": false
   }
  },
  {
   "cell_type": "code",
   "execution_count": null,
   "outputs": [],
   "source": [
    "# 각 범주에 속할 확률이 같은지에 대한 검정을 하는 건 카이제곱검정의 적합도 검정,"
   ],
   "metadata": {
    "collapsed": false
   }
  },
  {
   "cell_type": "code",
   "execution_count": 26,
   "outputs": [
    {
     "data": {
      "text/plain": "    A   B   C   D\n0  30  20  15  35",
      "text/html": "<div>\n<style scoped>\n    .dataframe tbody tr th:only-of-type {\n        vertical-align: middle;\n    }\n\n    .dataframe tbody tr th {\n        vertical-align: top;\n    }\n\n    .dataframe thead th {\n        text-align: right;\n    }\n</style>\n<table border=\"1\" class=\"dataframe\">\n  <thead>\n    <tr style=\"text-align: right;\">\n      <th></th>\n      <th>A</th>\n      <th>B</th>\n      <th>C</th>\n      <th>D</th>\n    </tr>\n  </thead>\n  <tbody>\n    <tr>\n      <th>0</th>\n      <td>30</td>\n      <td>20</td>\n      <td>15</td>\n      <td>35</td>\n    </tr>\n  </tbody>\n</table>\n</div>"
     },
     "execution_count": 26,
     "metadata": {},
     "output_type": "execute_result"
    }
   ],
   "source": [
    "import pandas as pd\n",
    "import numpy as np\n",
    "import scipy.stats as stats\n",
    "\n",
    "row1 = [30, 20, 15, 35]\n",
    "df = pd.DataFrame([row1], columns=['A','B','C', 'D'])\n",
    "df"
   ],
   "metadata": {
    "collapsed": false,
    "ExecuteTime": {
     "end_time": "2023-11-28T11:10:49.180846Z",
     "start_time": "2023-11-28T11:10:49.175699Z"
    }
   }
  },
  {
   "cell_type": "code",
   "execution_count": null,
   "outputs": [],
   "source": [
    "# H0: A, B, C, D 가 동일한 비율로 들어있다.\n",
    "# H1: A, B, C, D 중 하나라도 동일한 비율로 들어있지 않다.\n",
    "# 유의수준 5%"
   ],
   "metadata": {
    "collapsed": false
   }
  },
  {
   "cell_type": "code",
   "execution_count": 27,
   "outputs": [
    {
     "name": "stdout",
     "output_type": "stream",
     "text": [
      "10.0 0.0186\n"
     ]
    }
   ],
   "source": [
    "f_exp = [25, 25, 25, 25]\n",
    "statistic, pvalue = stats.chisquare(f_obs=row1, f_exp=f_exp)\n",
    "print(round(statistic, 4), round(pvalue, 4))"
   ],
   "metadata": {
    "collapsed": false,
    "ExecuteTime": {
     "end_time": "2023-11-28T11:14:33.530046Z",
     "start_time": "2023-11-28T11:14:33.523819Z"
    }
   }
  },
  {
   "cell_type": "markdown",
   "source": [
    "### 문제 1-2\n",
    "랜덤 박스에 상품 A, B, C, D가 들어있다.\n",
    "다음은 랜덤 박스에서 150번째 상품을 꺼냈을 때의 상품 데이터라고 할 때 상품별로 A 30%, B 15%, C 55% 비율로 들어있다고 할 수 있는지 검정해보시오."
   ],
   "metadata": {
    "collapsed": false
   }
  },
  {
   "cell_type": "code",
   "execution_count": 28,
   "outputs": [
    {
     "data": {
      "text/plain": "    A   B   C\n0  50  25  75",
      "text/html": "<div>\n<style scoped>\n    .dataframe tbody tr th:only-of-type {\n        vertical-align: middle;\n    }\n\n    .dataframe tbody tr th {\n        vertical-align: top;\n    }\n\n    .dataframe thead th {\n        text-align: right;\n    }\n</style>\n<table border=\"1\" class=\"dataframe\">\n  <thead>\n    <tr style=\"text-align: right;\">\n      <th></th>\n      <th>A</th>\n      <th>B</th>\n      <th>C</th>\n    </tr>\n  </thead>\n  <tbody>\n    <tr>\n      <th>0</th>\n      <td>50</td>\n      <td>25</td>\n      <td>75</td>\n    </tr>\n  </tbody>\n</table>\n</div>"
     },
     "execution_count": 28,
     "metadata": {},
     "output_type": "execute_result"
    }
   ],
   "source": [
    "# 데이터 생성\n",
    "row1 = [50,25,75]\n",
    "df = pd.DataFrame([row1], columns=['A','B','C'])\n",
    "df"
   ],
   "metadata": {
    "collapsed": false,
    "ExecuteTime": {
     "end_time": "2023-11-28T11:16:16.479978Z",
     "start_time": "2023-11-28T11:16:16.472565Z"
    }
   }
  },
  {
   "cell_type": "code",
   "execution_count": 31,
   "outputs": [
    {
     "name": "stdout",
     "output_type": "stream",
     "text": [
      "1.5151515151515151 0.46880153914023537\n"
     ]
    }
   ],
   "source": [
    "f_obs = [50, 25, 75] # 150\n",
    "f_exp = [30 * 1.5, 15 * 1.5, 55 * 1.5]  # 100\n",
    "\n",
    "statistic, pvalue = stats.chisquare(f_obs=f_obs, f_exp=f_exp)\n",
    "print(statistic, pvalue)"
   ],
   "metadata": {
    "collapsed": false,
    "ExecuteTime": {
     "end_time": "2023-11-28T11:21:10.166685Z",
     "start_time": "2023-11-28T11:21:10.159583Z"
    }
   }
  },
  {
   "cell_type": "markdown",
   "source": [
    "## 예제문제\n",
    "### Case 2. 독립성 검정 - 두 개의 범주형 변수가 서로 독립인지?\n",
    "\n",
    "\n",
    "### 문제 2-1\n",
    "연령대에 따라 먹는 아이스크림의 차이가 있는지 독립성 검정을 실시하시오."
   ],
   "metadata": {
    "collapsed": false
   }
  },
  {
   "cell_type": "code",
   "execution_count": 32,
   "outputs": [
    {
     "data": {
      "text/plain": "      딸기   초코  바닐라\n10대  200  190  250\n20대  220  250  300",
      "text/html": "<div>\n<style scoped>\n    .dataframe tbody tr th:only-of-type {\n        vertical-align: middle;\n    }\n\n    .dataframe tbody tr th {\n        vertical-align: top;\n    }\n\n    .dataframe thead th {\n        text-align: right;\n    }\n</style>\n<table border=\"1\" class=\"dataframe\">\n  <thead>\n    <tr style=\"text-align: right;\">\n      <th></th>\n      <th>딸기</th>\n      <th>초코</th>\n      <th>바닐라</th>\n    </tr>\n  </thead>\n  <tbody>\n    <tr>\n      <th>10대</th>\n      <td>200</td>\n      <td>190</td>\n      <td>250</td>\n    </tr>\n    <tr>\n      <th>20대</th>\n      <td>220</td>\n      <td>250</td>\n      <td>300</td>\n    </tr>\n  </tbody>\n</table>\n</div>"
     },
     "execution_count": 32,
     "metadata": {},
     "output_type": "execute_result"
    }
   ],
   "source": [
    "import pandas as pd\n",
    "import numpy as np\n",
    "import scipy.stats as stats\n",
    "\n",
    "row1 = [200, 190, 250]\n",
    "row2 = [220, 250, 300]\n",
    "\n",
    "df = pd.DataFrame([row1, row2], columns=['딸기', '초코', '바닐라'], index=['10대', '20대'])\n",
    "df"
   ],
   "metadata": {
    "collapsed": false,
    "ExecuteTime": {
     "end_time": "2023-11-28T11:30:38.737898Z",
     "start_time": "2023-11-28T11:30:38.733458Z"
    }
   }
  },
  {
   "cell_type": "code",
   "execution_count": null,
   "outputs": [],
   "source": [
    "# H0: 연령대와 먹는 아이스크림의 종류는 관련이 없다. = 독립적이다.\n",
    "# H1: 연령대와 먹는 아이스크림의 종류는 관련이 있다. = 독립적이지 않다.\n",
    "# 유의수준 : 5%"
   ],
   "metadata": {
    "collapsed": false
   }
  },
  {
   "cell_type": "code",
   "execution_count": 33,
   "outputs": [
    {
     "name": "stdout",
     "output_type": "stream",
     "text": [
      "1.708360126075226 0.4256320394874311 2 [[190.63829787 199.71631206 249.64539007]\n",
      " [229.36170213 240.28368794 300.35460993]]\n"
     ]
    }
   ],
   "source": [
    "statistic, pvalue, dof, expected = stats.chi2_contingency(df)\n",
    "print(statistic, pvalue, dof, expected)"
   ],
   "metadata": {
    "collapsed": false,
    "ExecuteTime": {
     "end_time": "2023-11-28T11:32:04.761394Z",
     "start_time": "2023-11-28T11:32:04.754601Z"
    }
   }
  },
  {
   "cell_type": "code",
   "execution_count": 34,
   "outputs": [
    {
     "data": {
      "text/plain": "  아이스크림   연령   인원\n0    딸기  10대  200\n1    초코  10대  190\n2   바닐라  10대  250\n3    딸기  20대  220\n4    초코  20대  250\n5   바닐라  20대  300",
      "text/html": "<div>\n<style scoped>\n    .dataframe tbody tr th:only-of-type {\n        vertical-align: middle;\n    }\n\n    .dataframe tbody tr th {\n        vertical-align: top;\n    }\n\n    .dataframe thead th {\n        text-align: right;\n    }\n</style>\n<table border=\"1\" class=\"dataframe\">\n  <thead>\n    <tr style=\"text-align: right;\">\n      <th></th>\n      <th>아이스크림</th>\n      <th>연령</th>\n      <th>인원</th>\n    </tr>\n  </thead>\n  <tbody>\n    <tr>\n      <th>0</th>\n      <td>딸기</td>\n      <td>10대</td>\n      <td>200</td>\n    </tr>\n    <tr>\n      <th>1</th>\n      <td>초코</td>\n      <td>10대</td>\n      <td>190</td>\n    </tr>\n    <tr>\n      <th>2</th>\n      <td>바닐라</td>\n      <td>10대</td>\n      <td>250</td>\n    </tr>\n    <tr>\n      <th>3</th>\n      <td>딸기</td>\n      <td>20대</td>\n      <td>220</td>\n    </tr>\n    <tr>\n      <th>4</th>\n      <td>초코</td>\n      <td>20대</td>\n      <td>250</td>\n    </tr>\n    <tr>\n      <th>5</th>\n      <td>바닐라</td>\n      <td>20대</td>\n      <td>300</td>\n    </tr>\n  </tbody>\n</table>\n</div>"
     },
     "execution_count": 34,
     "metadata": {},
     "output_type": "execute_result"
    }
   ],
   "source": [
    "# ** tip: pd.crosstab() 사용법\n",
    "# (Case 1) 만약 데이터가 아래와 같이 주어진다면?\n",
    "df = pd.DataFrame({\n",
    "'아이스크림' : ['딸기','초코','바닐라','딸기','초코','바닐라'], '연령' : ['10대','10대','10대','20대','20대','20대'],\n",
    "'인원' : [200,190,250,220,250,300]\n",
    "})\n",
    "df"
   ],
   "metadata": {
    "collapsed": false,
    "ExecuteTime": {
     "end_time": "2023-11-28T11:35:20.989095Z",
     "start_time": "2023-11-28T11:35:20.983437Z"
    }
   }
  },
  {
   "cell_type": "code",
   "execution_count": 38,
   "outputs": [
    {
     "name": "stderr",
     "output_type": "stream",
     "text": [
      "/var/folders/pv/sl3vjv5143z0z4cgqn536n400000gn/T/ipykernel_3269/3828685963.py:1: FutureWarning: The provided callable <built-in function sum> is currently using DataFrameGroupBy.sum. In a future version of pandas, the provided callable will be used directly. To keep current behavior pass the string \"sum\" instead.\n",
      "  table = pd.crosstab(index=df['연령'], columns=df['아이스크림'], values=df['인원'], aggfunc=sum)\n"
     ]
    },
    {
     "data": {
      "text/plain": "아이스크림   딸기  바닐라   초코\n연령                  \n10대    200  250  190\n20대    220  300  250",
      "text/html": "<div>\n<style scoped>\n    .dataframe tbody tr th:only-of-type {\n        vertical-align: middle;\n    }\n\n    .dataframe tbody tr th {\n        vertical-align: top;\n    }\n\n    .dataframe thead th {\n        text-align: right;\n    }\n</style>\n<table border=\"1\" class=\"dataframe\">\n  <thead>\n    <tr style=\"text-align: right;\">\n      <th>아이스크림</th>\n      <th>딸기</th>\n      <th>바닐라</th>\n      <th>초코</th>\n    </tr>\n    <tr>\n      <th>연령</th>\n      <th></th>\n      <th></th>\n      <th></th>\n    </tr>\n  </thead>\n  <tbody>\n    <tr>\n      <th>10대</th>\n      <td>200</td>\n      <td>250</td>\n      <td>190</td>\n    </tr>\n    <tr>\n      <th>20대</th>\n      <td>220</td>\n      <td>300</td>\n      <td>250</td>\n    </tr>\n  </tbody>\n</table>\n</div>"
     },
     "execution_count": 38,
     "metadata": {},
     "output_type": "execute_result"
    }
   ],
   "source": [
    "table = pd.crosstab(index=df['연령'], columns=df['아이스크림'], values=df['인원'], aggfunc=sum)\n",
    "table"
   ],
   "metadata": {
    "collapsed": false,
    "ExecuteTime": {
     "end_time": "2023-11-28T11:38:16.094051Z",
     "start_time": "2023-11-28T11:38:16.085370Z"
    }
   }
  },
  {
   "cell_type": "code",
   "execution_count": 39,
   "outputs": [
    {
     "name": "stdout",
     "output_type": "stream",
     "text": [
      "1.708360126075226 0.4256320394874311 2\n",
      "[[190.63829787 249.64539007 199.71631206]\n",
      " [229.36170213 300.35460993 240.28368794]]\n"
     ]
    }
   ],
   "source": [
    "import scipy.stats as stats\n",
    "\n",
    "statistic, pvalue, dof, expected = stats.chi2_contingency(table)\n",
    "print(statistic, pvalue, dof)\n",
    "print(expected)"
   ],
   "metadata": {
    "collapsed": false,
    "ExecuteTime": {
     "end_time": "2023-11-28T11:39:10.129798Z",
     "start_time": "2023-11-28T11:39:10.120534Z"
    }
   }
  },
  {
   "cell_type": "code",
   "execution_count": 40,
   "outputs": [
    {
     "data": {
      "text/plain": "  아이스크림   연령\n0    딸기  10대\n1    초코  10대\n2   바닐라  10대\n3    딸기  20대\n4    초코  20대\n5   바닐라  20대",
      "text/html": "<div>\n<style scoped>\n    .dataframe tbody tr th:only-of-type {\n        vertical-align: middle;\n    }\n\n    .dataframe tbody tr th {\n        vertical-align: top;\n    }\n\n    .dataframe thead th {\n        text-align: right;\n    }\n</style>\n<table border=\"1\" class=\"dataframe\">\n  <thead>\n    <tr style=\"text-align: right;\">\n      <th></th>\n      <th>아이스크림</th>\n      <th>연령</th>\n    </tr>\n  </thead>\n  <tbody>\n    <tr>\n      <th>0</th>\n      <td>딸기</td>\n      <td>10대</td>\n    </tr>\n    <tr>\n      <th>1</th>\n      <td>초코</td>\n      <td>10대</td>\n    </tr>\n    <tr>\n      <th>2</th>\n      <td>바닐라</td>\n      <td>10대</td>\n    </tr>\n    <tr>\n      <th>3</th>\n      <td>딸기</td>\n      <td>20대</td>\n    </tr>\n    <tr>\n      <th>4</th>\n      <td>초코</td>\n      <td>20대</td>\n    </tr>\n    <tr>\n      <th>5</th>\n      <td>바닐라</td>\n      <td>20대</td>\n    </tr>\n  </tbody>\n</table>\n</div>"
     },
     "execution_count": 40,
     "metadata": {},
     "output_type": "execute_result"
    }
   ],
   "source": [
    "# (Case2) 만약 데이터가 아래와 같이 주어진다면? # (이해를 위한 참고용입니다, 빈도수 카운팅)\n",
    "#  이렇게 나오는 경우가 많음, 값이 정확히 주어지지 않았을 경우, crosstab 함수 써서 (index, columns) 이 두개 값만 입력해주면 됨\n",
    "df = pd.DataFrame({\n",
    "'아이스크림' : ['딸기','초코','바닐라','딸기','초코','바닐라'],\n",
    "'연령' : ['10대','10대','10대','20대','20대','20대'],\n",
    "    })\n",
    "df"
   ],
   "metadata": {
    "collapsed": false,
    "ExecuteTime": {
     "end_time": "2023-11-28T11:40:33.630017Z",
     "start_time": "2023-11-28T11:40:33.626535Z"
    }
   }
  },
  {
   "cell_type": "code",
   "execution_count": 42,
   "outputs": [
    {
     "data": {
      "text/plain": "아이스크림  딸기  바닐라  초코\n연령                \n10대     1    1   1\n20대     1    1   1",
      "text/html": "<div>\n<style scoped>\n    .dataframe tbody tr th:only-of-type {\n        vertical-align: middle;\n    }\n\n    .dataframe tbody tr th {\n        vertical-align: top;\n    }\n\n    .dataframe thead th {\n        text-align: right;\n    }\n</style>\n<table border=\"1\" class=\"dataframe\">\n  <thead>\n    <tr style=\"text-align: right;\">\n      <th>아이스크림</th>\n      <th>딸기</th>\n      <th>바닐라</th>\n      <th>초코</th>\n    </tr>\n    <tr>\n      <th>연령</th>\n      <th></th>\n      <th></th>\n      <th></th>\n    </tr>\n  </thead>\n  <tbody>\n    <tr>\n      <th>10대</th>\n      <td>1</td>\n      <td>1</td>\n      <td>1</td>\n    </tr>\n    <tr>\n      <th>20대</th>\n      <td>1</td>\n      <td>1</td>\n      <td>1</td>\n    </tr>\n  </tbody>\n</table>\n</div>"
     },
     "execution_count": 42,
     "metadata": {},
     "output_type": "execute_result"
    }
   ],
   "source": [
    "table = pd.crosstab(index=df['연령'], columns=df['아이스크림'])\n",
    "table"
   ],
   "metadata": {
    "collapsed": false,
    "ExecuteTime": {
     "end_time": "2023-11-28T11:41:47.210579Z",
     "start_time": "2023-11-28T11:41:47.207622Z"
    }
   }
  },
  {
   "cell_type": "code",
   "execution_count": 43,
   "outputs": [
    {
     "data": {
      "text/plain": "     survived  pclass     sex   age  sibsp  parch     fare embarked   class  \\\n0           0       3    male  22.0      1      0   7.2500        S   Third   \n1           1       1  female  38.0      1      0  71.2833        C   First   \n2           1       3  female  26.0      0      0   7.9250        S   Third   \n3           1       1  female  35.0      1      0  53.1000        S   First   \n4           0       3    male  35.0      0      0   8.0500        S   Third   \n..        ...     ...     ...   ...    ...    ...      ...      ...     ...   \n886         0       2    male  27.0      0      0  13.0000        S  Second   \n887         1       1  female  19.0      0      0  30.0000        S   First   \n888         0       3  female   NaN      1      2  23.4500        S   Third   \n889         1       1    male  26.0      0      0  30.0000        C   First   \n890         0       3    male  32.0      0      0   7.7500        Q   Third   \n\n       who  adult_male deck  embark_town alive  alone  \n0      man        True  NaN  Southampton    no  False  \n1    woman       False    C    Cherbourg   yes  False  \n2    woman       False  NaN  Southampton   yes   True  \n3    woman       False    C  Southampton   yes  False  \n4      man        True  NaN  Southampton    no   True  \n..     ...         ...  ...          ...   ...    ...  \n886    man        True  NaN  Southampton    no   True  \n887  woman       False    B  Southampton   yes   True  \n888  woman       False  NaN  Southampton    no  False  \n889    man        True    C    Cherbourg   yes   True  \n890    man        True  NaN   Queenstown    no   True  \n\n[891 rows x 15 columns]",
      "text/html": "<div>\n<style scoped>\n    .dataframe tbody tr th:only-of-type {\n        vertical-align: middle;\n    }\n\n    .dataframe tbody tr th {\n        vertical-align: top;\n    }\n\n    .dataframe thead th {\n        text-align: right;\n    }\n</style>\n<table border=\"1\" class=\"dataframe\">\n  <thead>\n    <tr style=\"text-align: right;\">\n      <th></th>\n      <th>survived</th>\n      <th>pclass</th>\n      <th>sex</th>\n      <th>age</th>\n      <th>sibsp</th>\n      <th>parch</th>\n      <th>fare</th>\n      <th>embarked</th>\n      <th>class</th>\n      <th>who</th>\n      <th>adult_male</th>\n      <th>deck</th>\n      <th>embark_town</th>\n      <th>alive</th>\n      <th>alone</th>\n    </tr>\n  </thead>\n  <tbody>\n    <tr>\n      <th>0</th>\n      <td>0</td>\n      <td>3</td>\n      <td>male</td>\n      <td>22.0</td>\n      <td>1</td>\n      <td>0</td>\n      <td>7.2500</td>\n      <td>S</td>\n      <td>Third</td>\n      <td>man</td>\n      <td>True</td>\n      <td>NaN</td>\n      <td>Southampton</td>\n      <td>no</td>\n      <td>False</td>\n    </tr>\n    <tr>\n      <th>1</th>\n      <td>1</td>\n      <td>1</td>\n      <td>female</td>\n      <td>38.0</td>\n      <td>1</td>\n      <td>0</td>\n      <td>71.2833</td>\n      <td>C</td>\n      <td>First</td>\n      <td>woman</td>\n      <td>False</td>\n      <td>C</td>\n      <td>Cherbourg</td>\n      <td>yes</td>\n      <td>False</td>\n    </tr>\n    <tr>\n      <th>2</th>\n      <td>1</td>\n      <td>3</td>\n      <td>female</td>\n      <td>26.0</td>\n      <td>0</td>\n      <td>0</td>\n      <td>7.9250</td>\n      <td>S</td>\n      <td>Third</td>\n      <td>woman</td>\n      <td>False</td>\n      <td>NaN</td>\n      <td>Southampton</td>\n      <td>yes</td>\n      <td>True</td>\n    </tr>\n    <tr>\n      <th>3</th>\n      <td>1</td>\n      <td>1</td>\n      <td>female</td>\n      <td>35.0</td>\n      <td>1</td>\n      <td>0</td>\n      <td>53.1000</td>\n      <td>S</td>\n      <td>First</td>\n      <td>woman</td>\n      <td>False</td>\n      <td>C</td>\n      <td>Southampton</td>\n      <td>yes</td>\n      <td>False</td>\n    </tr>\n    <tr>\n      <th>4</th>\n      <td>0</td>\n      <td>3</td>\n      <td>male</td>\n      <td>35.0</td>\n      <td>0</td>\n      <td>0</td>\n      <td>8.0500</td>\n      <td>S</td>\n      <td>Third</td>\n      <td>man</td>\n      <td>True</td>\n      <td>NaN</td>\n      <td>Southampton</td>\n      <td>no</td>\n      <td>True</td>\n    </tr>\n    <tr>\n      <th>...</th>\n      <td>...</td>\n      <td>...</td>\n      <td>...</td>\n      <td>...</td>\n      <td>...</td>\n      <td>...</td>\n      <td>...</td>\n      <td>...</td>\n      <td>...</td>\n      <td>...</td>\n      <td>...</td>\n      <td>...</td>\n      <td>...</td>\n      <td>...</td>\n      <td>...</td>\n    </tr>\n    <tr>\n      <th>886</th>\n      <td>0</td>\n      <td>2</td>\n      <td>male</td>\n      <td>27.0</td>\n      <td>0</td>\n      <td>0</td>\n      <td>13.0000</td>\n      <td>S</td>\n      <td>Second</td>\n      <td>man</td>\n      <td>True</td>\n      <td>NaN</td>\n      <td>Southampton</td>\n      <td>no</td>\n      <td>True</td>\n    </tr>\n    <tr>\n      <th>887</th>\n      <td>1</td>\n      <td>1</td>\n      <td>female</td>\n      <td>19.0</td>\n      <td>0</td>\n      <td>0</td>\n      <td>30.0000</td>\n      <td>S</td>\n      <td>First</td>\n      <td>woman</td>\n      <td>False</td>\n      <td>B</td>\n      <td>Southampton</td>\n      <td>yes</td>\n      <td>True</td>\n    </tr>\n    <tr>\n      <th>888</th>\n      <td>0</td>\n      <td>3</td>\n      <td>female</td>\n      <td>NaN</td>\n      <td>1</td>\n      <td>2</td>\n      <td>23.4500</td>\n      <td>S</td>\n      <td>Third</td>\n      <td>woman</td>\n      <td>False</td>\n      <td>NaN</td>\n      <td>Southampton</td>\n      <td>no</td>\n      <td>False</td>\n    </tr>\n    <tr>\n      <th>889</th>\n      <td>1</td>\n      <td>1</td>\n      <td>male</td>\n      <td>26.0</td>\n      <td>0</td>\n      <td>0</td>\n      <td>30.0000</td>\n      <td>C</td>\n      <td>First</td>\n      <td>man</td>\n      <td>True</td>\n      <td>C</td>\n      <td>Cherbourg</td>\n      <td>yes</td>\n      <td>True</td>\n    </tr>\n    <tr>\n      <th>890</th>\n      <td>0</td>\n      <td>3</td>\n      <td>male</td>\n      <td>32.0</td>\n      <td>0</td>\n      <td>0</td>\n      <td>7.7500</td>\n      <td>Q</td>\n      <td>Third</td>\n      <td>man</td>\n      <td>True</td>\n      <td>NaN</td>\n      <td>Queenstown</td>\n      <td>no</td>\n      <td>True</td>\n    </tr>\n  </tbody>\n</table>\n<p>891 rows × 15 columns</p>\n</div>"
     },
     "execution_count": 43,
     "metadata": {},
     "output_type": "execute_result"
    }
   ],
   "source": [
    "import seaborn as sns\n",
    "df = sns.load_dataset('titanic')\n",
    "df"
   ],
   "metadata": {
    "collapsed": false,
    "ExecuteTime": {
     "end_time": "2023-11-28T11:42:13.637207Z",
     "start_time": "2023-11-28T11:42:13.587279Z"
    }
   }
  },
  {
   "cell_type": "code",
   "execution_count": 50,
   "outputs": [
    {
     "data": {
      "text/plain": "survived    0    1\nsex               \nfemale     81  233\nmale      468  109",
      "text/html": "<div>\n<style scoped>\n    .dataframe tbody tr th:only-of-type {\n        vertical-align: middle;\n    }\n\n    .dataframe tbody tr th {\n        vertical-align: top;\n    }\n\n    .dataframe thead th {\n        text-align: right;\n    }\n</style>\n<table border=\"1\" class=\"dataframe\">\n  <thead>\n    <tr style=\"text-align: right;\">\n      <th>survived</th>\n      <th>0</th>\n      <th>1</th>\n    </tr>\n    <tr>\n      <th>sex</th>\n      <th></th>\n      <th></th>\n    </tr>\n  </thead>\n  <tbody>\n    <tr>\n      <th>female</th>\n      <td>81</td>\n      <td>233</td>\n    </tr>\n    <tr>\n      <th>male</th>\n      <td>468</td>\n      <td>109</td>\n    </tr>\n  </tbody>\n</table>\n</div>"
     },
     "execution_count": 50,
     "metadata": {},
     "output_type": "execute_result"
    }
   ],
   "source": [
    "# 성별(행), 생존여부(열) - 독립성 검정 - 카이제곱 검정 chi2_contingency(df)\n",
    "\n",
    "table = pd.crosstab(df['sex'], df['survived'])\n",
    "table"
   ],
   "metadata": {
    "collapsed": false,
    "ExecuteTime": {
     "end_time": "2023-11-28T11:46:02.173648Z",
     "start_time": "2023-11-28T11:46:02.167317Z"
    }
   }
  },
  {
   "cell_type": "code",
   "execution_count": 51,
   "outputs": [
    {
     "name": "stdout",
     "output_type": "stream",
     "text": [
      "260.71702016732104 1.1973570627755645e-58 1\n",
      "[[193.47474747 120.52525253]\n",
      " [355.52525253 221.47474747]]\n"
     ]
    }
   ],
   "source": [
    "statistic, pvalue, dof, expected = stats.chi2_contingency(table)\n",
    "print(statistic, pvalue, dof)\n",
    "print(expected)"
   ],
   "metadata": {
    "collapsed": false,
    "ExecuteTime": {
     "end_time": "2023-11-28T11:47:55.000113Z",
     "start_time": "2023-11-28T11:47:54.992848Z"
    }
   }
  },
  {
   "cell_type": "code",
   "execution_count": 52,
   "outputs": [
    {
     "name": "stdout",
     "output_type": "stream",
     "text": [
      "          0    1\n",
      "female  160  160\n",
      "male    250  220\n"
     ]
    }
   ],
   "source": [
    "# 임의 데이터 생성\n",
    "sex, survived = [160, 160], [250, 220]\n",
    "table = pd.DataFrame([sex, survived], columns=['0', '1'], index= ['female', 'male'])\n",
    "print(table)"
   ],
   "metadata": {
    "collapsed": false,
    "ExecuteTime": {
     "end_time": "2023-11-28T11:49:09.959766Z",
     "start_time": "2023-11-28T11:49:09.952607Z"
    }
   }
  },
  {
   "cell_type": "code",
   "execution_count": 53,
   "outputs": [
    {
     "name": "stdout",
     "output_type": "stream",
     "text": [
      "          age       sex       bmi        bp        s1        s2        s3  \\\n",
      "0    0.038076  0.050680  0.061696  0.021872 -0.044223 -0.034821 -0.043401   \n",
      "1   -0.001882 -0.044642 -0.051474 -0.026328 -0.008449 -0.019163  0.074412   \n",
      "2    0.085299  0.050680  0.044451 -0.005670 -0.045599 -0.034194 -0.032356   \n",
      "3   -0.089063 -0.044642 -0.011595 -0.036656  0.012191  0.024991 -0.036038   \n",
      "4    0.005383 -0.044642 -0.036385  0.021872  0.003935  0.015596  0.008142   \n",
      "..        ...       ...       ...       ...       ...       ...       ...   \n",
      "437  0.041708  0.050680  0.019662  0.059744 -0.005697 -0.002566 -0.028674   \n",
      "438 -0.005515  0.050680 -0.015906 -0.067642  0.049341  0.079165 -0.028674   \n",
      "439  0.041708  0.050680 -0.015906  0.017293 -0.037344 -0.013840 -0.024993   \n",
      "440 -0.045472 -0.044642  0.039062  0.001215  0.016318  0.015283 -0.028674   \n",
      "441 -0.045472 -0.044642 -0.073030 -0.081413  0.083740  0.027809  0.173816   \n",
      "\n",
      "           s4        s5        s6  \n",
      "0   -0.002592  0.019907 -0.017646  \n",
      "1   -0.039493 -0.068332 -0.092204  \n",
      "2   -0.002592  0.002861 -0.025930  \n",
      "3    0.034309  0.022688 -0.009362  \n",
      "4   -0.002592 -0.031988 -0.046641  \n",
      "..        ...       ...       ...  \n",
      "437 -0.002592  0.031193  0.007207  \n",
      "438  0.034309 -0.018114  0.044485  \n",
      "439 -0.011080 -0.046883  0.015491  \n",
      "440  0.026560  0.044529 -0.025930  \n",
      "441 -0.039493 -0.004222  0.003064  \n",
      "\n",
      "[442 rows x 10 columns]\n",
      "     target\n",
      "0     151.0\n",
      "1      75.0\n",
      "2     141.0\n",
      "3     206.0\n",
      "4     135.0\n",
      "..      ...\n",
      "437   178.0\n",
      "438   104.0\n",
      "439   132.0\n",
      "440   220.0\n",
      "441    57.0\n",
      "\n",
      "[442 rows x 1 columns]\n"
     ]
    }
   ],
   "source": [
    "############### 실기환경 복사 영역 ############### # 데이터 불러오기\n",
    "import pandas as pd\n",
    "import numpy as np\n",
    "# 실기 시험 데이터셋으로 셋팅하기 (수정금지)\n",
    "from sklearn.datasets import load_diabetes\n",
    "# diabetes 데이터셋 로드\n",
    "diabetes = load_diabetes()\n",
    "x = pd.DataFrame(diabetes.data, columns=diabetes.feature_names)\n",
    "y = pd.DataFrame(diabetes.target)\n",
    "y.columns = ['target']\n",
    "############### 실기환경 복사 영역 ###############\n",
    "print(x)\n",
    "print(y)"
   ],
   "metadata": {
    "collapsed": false,
    "ExecuteTime": {
     "end_time": "2023-11-28T11:58:51.751856Z",
     "start_time": "2023-11-28T11:58:51.361301Z"
    }
   }
  },
  {
   "cell_type": "code",
   "execution_count": 54,
   "outputs": [
    {
     "name": "stdout",
     "output_type": "stream",
     "text": [
      "          age       sex       bmi\n",
      "0    0.038076  0.050680  0.061696\n",
      "1   -0.001882 -0.044642 -0.051474\n",
      "2    0.085299  0.050680  0.044451\n",
      "3   -0.089063 -0.044642 -0.011595\n",
      "4    0.005383 -0.044642 -0.036385\n",
      "..        ...       ...       ...\n",
      "437  0.041708  0.050680  0.019662\n",
      "438 -0.005515  0.050680 -0.015906\n",
      "439  0.041708  0.050680 -0.015906\n",
      "440 -0.045472 -0.044642  0.039062\n",
      "441 -0.045472 -0.044642 -0.073030\n",
      "\n",
      "[442 rows x 3 columns]\n",
      "     target\n",
      "0     151.0\n",
      "1      75.0\n",
      "2     141.0\n",
      "3     206.0\n",
      "4     135.0\n",
      "..      ...\n",
      "437   178.0\n",
      "438   104.0\n",
      "439   132.0\n",
      "440   220.0\n",
      "441    57.0\n",
      "\n",
      "[442 rows x 1 columns]\n"
     ]
    }
   ],
   "source": [
    "x = x [['age', 'sex', 'bmi']]\n",
    "y\n",
    "\n",
    "print(x)  # 독립변수\n",
    "print(y)  # 종속변수"
   ],
   "metadata": {
    "collapsed": false,
    "ExecuteTime": {
     "end_time": "2023-11-28T11:59:38.746671Z",
     "start_time": "2023-11-28T11:59:38.737563Z"
    }
   }
  },
  {
   "cell_type": "code",
   "execution_count": 55,
   "outputs": [
    {
     "data": {
      "text/plain": "LinearRegression()",
      "text/html": "<style>#sk-container-id-1 {color: black;}#sk-container-id-1 pre{padding: 0;}#sk-container-id-1 div.sk-toggleable {background-color: white;}#sk-container-id-1 label.sk-toggleable__label {cursor: pointer;display: block;width: 100%;margin-bottom: 0;padding: 0.3em;box-sizing: border-box;text-align: center;}#sk-container-id-1 label.sk-toggleable__label-arrow:before {content: \"▸\";float: left;margin-right: 0.25em;color: #696969;}#sk-container-id-1 label.sk-toggleable__label-arrow:hover:before {color: black;}#sk-container-id-1 div.sk-estimator:hover label.sk-toggleable__label-arrow:before {color: black;}#sk-container-id-1 div.sk-toggleable__content {max-height: 0;max-width: 0;overflow: hidden;text-align: left;background-color: #f0f8ff;}#sk-container-id-1 div.sk-toggleable__content pre {margin: 0.2em;color: black;border-radius: 0.25em;background-color: #f0f8ff;}#sk-container-id-1 input.sk-toggleable__control:checked~div.sk-toggleable__content {max-height: 200px;max-width: 100%;overflow: auto;}#sk-container-id-1 input.sk-toggleable__control:checked~label.sk-toggleable__label-arrow:before {content: \"▾\";}#sk-container-id-1 div.sk-estimator input.sk-toggleable__control:checked~label.sk-toggleable__label {background-color: #d4ebff;}#sk-container-id-1 div.sk-label input.sk-toggleable__control:checked~label.sk-toggleable__label {background-color: #d4ebff;}#sk-container-id-1 input.sk-hidden--visually {border: 0;clip: rect(1px 1px 1px 1px);clip: rect(1px, 1px, 1px, 1px);height: 1px;margin: -1px;overflow: hidden;padding: 0;position: absolute;width: 1px;}#sk-container-id-1 div.sk-estimator {font-family: monospace;background-color: #f0f8ff;border: 1px dotted black;border-radius: 0.25em;box-sizing: border-box;margin-bottom: 0.5em;}#sk-container-id-1 div.sk-estimator:hover {background-color: #d4ebff;}#sk-container-id-1 div.sk-parallel-item::after {content: \"\";width: 100%;border-bottom: 1px solid gray;flex-grow: 1;}#sk-container-id-1 div.sk-label:hover label.sk-toggleable__label {background-color: #d4ebff;}#sk-container-id-1 div.sk-serial::before {content: \"\";position: absolute;border-left: 1px solid gray;box-sizing: border-box;top: 0;bottom: 0;left: 50%;z-index: 0;}#sk-container-id-1 div.sk-serial {display: flex;flex-direction: column;align-items: center;background-color: white;padding-right: 0.2em;padding-left: 0.2em;position: relative;}#sk-container-id-1 div.sk-item {position: relative;z-index: 1;}#sk-container-id-1 div.sk-parallel {display: flex;align-items: stretch;justify-content: center;background-color: white;position: relative;}#sk-container-id-1 div.sk-item::before, #sk-container-id-1 div.sk-parallel-item::before {content: \"\";position: absolute;border-left: 1px solid gray;box-sizing: border-box;top: 0;bottom: 0;left: 50%;z-index: -1;}#sk-container-id-1 div.sk-parallel-item {display: flex;flex-direction: column;z-index: 1;position: relative;background-color: white;}#sk-container-id-1 div.sk-parallel-item:first-child::after {align-self: flex-end;width: 50%;}#sk-container-id-1 div.sk-parallel-item:last-child::after {align-self: flex-start;width: 50%;}#sk-container-id-1 div.sk-parallel-item:only-child::after {width: 0;}#sk-container-id-1 div.sk-dashed-wrapped {border: 1px dashed gray;margin: 0 0.4em 0.5em 0.4em;box-sizing: border-box;padding-bottom: 0.4em;background-color: white;}#sk-container-id-1 div.sk-label label {font-family: monospace;font-weight: bold;display: inline-block;line-height: 1.2em;}#sk-container-id-1 div.sk-label-container {text-align: center;}#sk-container-id-1 div.sk-container {/* jupyter's `normalize.less` sets `[hidden] { display: none; }` but bootstrap.min.css set `[hidden] { display: none !important; }` so we also need the `!important` here to be able to override the default hidden behavior on the sphinx rendered scikit-learn.org. See: https://github.com/scikit-learn/scikit-learn/issues/21755 */display: inline-block !important;position: relative;}#sk-container-id-1 div.sk-text-repr-fallback {display: none;}</style><div id=\"sk-container-id-1\" class=\"sk-top-container\"><div class=\"sk-text-repr-fallback\"><pre>LinearRegression()</pre><b>In a Jupyter environment, please rerun this cell to show the HTML representation or trust the notebook. <br />On GitHub, the HTML representation is unable to render, please try loading this page with nbviewer.org.</b></div><div class=\"sk-container\" hidden><div class=\"sk-item\"><div class=\"sk-estimator sk-toggleable\"><input class=\"sk-toggleable__control sk-hidden--visually\" id=\"sk-estimator-id-1\" type=\"checkbox\" checked><label for=\"sk-estimator-id-1\" class=\"sk-toggleable__label sk-toggleable__label-arrow\">LinearRegression</label><div class=\"sk-toggleable__content\"><pre>LinearRegression()</pre></div></div></div></div></div>"
     },
     "execution_count": 55,
     "metadata": {},
     "output_type": "execute_result"
    }
   ],
   "source": [
    "## sklearn linear_model 사용\n",
    "\n",
    "from sklearn.linear_model import LinearRegression\n",
    "\n",
    "model = LinearRegression()\n",
    "model.fit(x, y)"
   ],
   "metadata": {
    "collapsed": false,
    "ExecuteTime": {
     "end_time": "2023-11-28T12:00:40.300016Z",
     "start_time": "2023-11-28T12:00:39.849252Z"
    }
   }
  },
  {
   "cell_type": "code",
   "execution_count": 63,
   "outputs": [
    {
     "name": "stdout",
     "output_type": "stream",
     "text": [
      "0.3509243728489839\n",
      "[[138.9  -36.14 926.91]]\n",
      "138.9\n",
      "-36.14\n",
      "926.91\n",
      "[152.13348416]\n"
     ]
    }
   ],
   "source": [
    "# 결정계수 (Rsq) / 회귀계수 / 회귀계수 절편\n",
    "\n",
    "rsq = model.score(x,y)\n",
    "print(rsq)\n",
    "\n",
    "print(np.round(model.coef_, 2))\n",
    "print(np.round(model.coef_[0, 0], 2))  # x1 의 회귀계수\n",
    "print(np.round(model.coef_[0, 1], 2))  # x2 의 회귀계수\n",
    "print(np.round(model.coef_[0, 2], 2))  # x3 의 회귀계수\n",
    "\n",
    "print(model.intercept_)  # b0 (회귀계수 절편)\n",
    "\n",
    "# 152.13 + 138.9x1 - 36.14x2 + 926.91x3"
   ],
   "metadata": {
    "collapsed": false,
    "ExecuteTime": {
     "end_time": "2023-11-28T12:05:07.013273Z",
     "start_time": "2023-11-28T12:05:07.007188Z"
    }
   }
  },
  {
   "cell_type": "code",
   "execution_count": 64,
   "outputs": [
    {
     "name": "stdout",
     "output_type": "stream",
     "text": [
      "          age       sex       bmi        bp        s1        s2        s3  \\\n",
      "0    0.038076  0.050680  0.061696  0.021872 -0.044223 -0.034821 -0.043401   \n",
      "1   -0.001882 -0.044642 -0.051474 -0.026328 -0.008449 -0.019163  0.074412   \n",
      "2    0.085299  0.050680  0.044451 -0.005670 -0.045599 -0.034194 -0.032356   \n",
      "3   -0.089063 -0.044642 -0.011595 -0.036656  0.012191  0.024991 -0.036038   \n",
      "4    0.005383 -0.044642 -0.036385  0.021872  0.003935  0.015596  0.008142   \n",
      "..        ...       ...       ...       ...       ...       ...       ...   \n",
      "437  0.041708  0.050680  0.019662  0.059744 -0.005697 -0.002566 -0.028674   \n",
      "438 -0.005515  0.050680 -0.015906 -0.067642  0.049341  0.079165 -0.028674   \n",
      "439  0.041708  0.050680 -0.015906  0.017293 -0.037344 -0.013840 -0.024993   \n",
      "440 -0.045472 -0.044642  0.039062  0.001215  0.016318  0.015283 -0.028674   \n",
      "441 -0.045472 -0.044642 -0.073030 -0.081413  0.083740  0.027809  0.173816   \n",
      "\n",
      "           s4        s5        s6  \n",
      "0   -0.002592  0.019907 -0.017646  \n",
      "1   -0.039493 -0.068332 -0.092204  \n",
      "2   -0.002592  0.002861 -0.025930  \n",
      "3    0.034309  0.022688 -0.009362  \n",
      "4   -0.002592 -0.031988 -0.046641  \n",
      "..        ...       ...       ...  \n",
      "437 -0.002592  0.031193  0.007207  \n",
      "438  0.034309 -0.018114  0.044485  \n",
      "439 -0.011080 -0.046883  0.015491  \n",
      "440  0.026560  0.044529 -0.025930  \n",
      "441 -0.039493 -0.004222  0.003064  \n",
      "\n",
      "[442 rows x 10 columns]\n",
      "     target\n",
      "0     151.0\n",
      "1      75.0\n",
      "2     141.0\n",
      "3     206.0\n",
      "4     135.0\n",
      "..      ...\n",
      "437   178.0\n",
      "438   104.0\n",
      "439   132.0\n",
      "440   220.0\n",
      "441    57.0\n",
      "\n",
      "[442 rows x 1 columns]\n"
     ]
    }
   ],
   "source": [
    "############### 실기환경 복사 영역 ############### # 데이터 불러오기\n",
    "import pandas as pd\n",
    "import numpy as np\n",
    "# 실기 시험 데이터셋으로 셋팅하기 (수정금지)\n",
    "from sklearn.datasets import load_diabetes\n",
    "# diabetes 데이터셋 로드\n",
    "diabetes = load_diabetes()\n",
    "x = pd.DataFrame(diabetes.data, columns=diabetes.feature_names)\n",
    "y = pd.DataFrame(diabetes.target)\n",
    "y.columns = ['target']\n",
    "############### 실기환경 복사 영역 ###############\n",
    "print(x)\n",
    "print(y)"
   ],
   "metadata": {
    "collapsed": false,
    "ExecuteTime": {
     "end_time": "2023-11-28T12:06:41.155186Z",
     "start_time": "2023-11-28T12:06:41.147545Z"
    }
   }
  },
  {
   "cell_type": "code",
   "execution_count": 66,
   "outputs": [
    {
     "name": "stdout",
     "output_type": "stream",
     "text": [
      "          age       sex       bmi\n",
      "0    0.038076  0.050680  0.061696\n",
      "1   -0.001882 -0.044642 -0.051474\n",
      "2    0.085299  0.050680  0.044451\n",
      "3   -0.089063 -0.044642 -0.011595\n",
      "4    0.005383 -0.044642 -0.036385\n",
      "..        ...       ...       ...\n",
      "437  0.041708  0.050680  0.019662\n",
      "438 -0.005515  0.050680 -0.015906\n",
      "439  0.041708  0.050680 -0.015906\n",
      "440 -0.045472 -0.044642  0.039062\n",
      "441 -0.045472 -0.044642 -0.073030\n",
      "\n",
      "[442 rows x 3 columns]\n",
      "     target\n",
      "0     151.0\n",
      "1      75.0\n",
      "2     141.0\n",
      "3     206.0\n",
      "4     135.0\n",
      "..      ...\n",
      "437   178.0\n",
      "438   104.0\n",
      "439   132.0\n",
      "440   220.0\n",
      "441    57.0\n",
      "\n",
      "[442 rows x 1 columns]\n"
     ]
    }
   ],
   "source": [
    "import statsmodels.api as sm\n",
    "\n",
    "x = x[['age', 'sex', 'bmi']]  # 독립변수\n",
    "y  # 종속변수\n",
    "print(x)\n",
    "print(y)"
   ],
   "metadata": {
    "collapsed": false,
    "ExecuteTime": {
     "end_time": "2023-11-28T12:07:49.523450Z",
     "start_time": "2023-11-28T12:07:48.781872Z"
    }
   }
  },
  {
   "cell_type": "code",
   "execution_count": 69,
   "outputs": [
    {
     "name": "stdout",
     "output_type": "stream",
     "text": [
      "                            OLS Regression Results                            \n",
      "==============================================================================\n",
      "Dep. Variable:                 target   R-squared:                       0.351\n",
      "Model:                            OLS   Adj. R-squared:                  0.346\n",
      "Method:                 Least Squares   F-statistic:                     78.94\n",
      "Date:                Tue, 28 Nov 2023   Prob (F-statistic):           7.77e-41\n",
      "Time:                        21:12:00   Log-Likelihood:                -2451.6\n",
      "No. Observations:                 442   AIC:                             4911.\n",
      "Df Residuals:                     438   BIC:                             4928.\n",
      "Df Model:                           3                                         \n",
      "Covariance Type:            nonrobust                                         \n",
      "==============================================================================\n",
      "                 coef    std err          t      P>|t|      [0.025      0.975]\n",
      "------------------------------------------------------------------------------\n",
      "const        152.1335      2.964     51.321      0.000     146.307     157.960\n",
      "age          138.9039     64.254      2.162      0.031      12.618     265.189\n",
      "sex          -36.1353     63.391     -0.570      0.569    -160.724      88.453\n",
      "bmi          926.9120     63.525     14.591      0.000     802.061    1051.763\n",
      "==============================================================================\n",
      "Omnibus:                       14.687   Durbin-Watson:                   1.851\n",
      "Prob(Omnibus):                  0.001   Jarque-Bera (JB):                8.290\n",
      "Skew:                           0.150   Prob(JB):                       0.0158\n",
      "Kurtosis:                       2.400   Cond. No.                         23.7\n",
      "==============================================================================\n",
      "\n",
      "Notes:\n",
      "[1] Standard Errors assume that the covariance matrix of the errors is correctly specified.\n"
     ]
    }
   ],
   "source": [
    "x = sm.add_constant(x)\n",
    "model = sm.OLS(y, x).fit()\n",
    "summary = model.summary()\n",
    "print(summary)"
   ],
   "metadata": {
    "collapsed": false,
    "ExecuteTime": {
     "end_time": "2023-11-28T12:12:00.109424Z",
     "start_time": "2023-11-28T12:12:00.101919Z"
    }
   }
  },
  {
   "cell_type": "code",
   "execution_count": 70,
   "outputs": [],
   "source": [
    "############### 실기환경 복사 영역 ############### # 데이터 불러오기\n",
    "import pandas as pd\n",
    "import numpy as np\n",
    "# 실기 시험 데이터셋으로 셋팅하기 (수정금지)\n",
    "from sklearn.datasets import load_diabetes\n",
    "# diabetes 데이터셋 로드\n",
    "diabetes = load_diabetes()\n",
    "x = pd.DataFrame(diabetes.data, columns=diabetes.feature_names)\n",
    "y = pd.DataFrame(diabetes.target)\n",
    "y.columns = ['target']\n",
    "############### 실기환경 복사 영역 ###############"
   ],
   "metadata": {
    "collapsed": false,
    "ExecuteTime": {
     "end_time": "2023-11-28T12:13:44.596509Z",
     "start_time": "2023-11-28T12:13:44.587271Z"
    }
   }
  },
  {
   "cell_type": "code",
   "execution_count": 71,
   "outputs": [
    {
     "name": "stdout",
     "output_type": "stream",
     "text": [
      "0    0.061696\n",
      "1   -0.051474\n",
      "2    0.044451\n",
      "3   -0.011595\n",
      "4   -0.036385\n",
      "Name: bmi, dtype: float64\n",
      "0    151.0\n",
      "1     75.0\n",
      "2    141.0\n",
      "3    206.0\n",
      "4    135.0\n",
      "Name: target, dtype: float64\n"
     ]
    }
   ],
   "source": [
    "x = x['bmi']\n",
    "y = y['target']\n",
    "print(x.head())\n",
    "print(y.head())"
   ],
   "metadata": {
    "collapsed": false,
    "ExecuteTime": {
     "end_time": "2023-11-28T12:14:19.275249Z",
     "start_time": "2023-11-28T12:14:19.266987Z"
    }
   }
  },
  {
   "cell_type": "code",
   "execution_count": 73,
   "outputs": [
    {
     "name": "stdout",
     "output_type": "stream",
     "text": [
      "0.5864501344746884 3.466006445167765e-42\n"
     ]
    }
   ],
   "source": [
    "import scipy.stats as stats\n",
    "r, pvalue = stats.pearsonr(x, y)\n",
    "print(r, pvalue)"
   ],
   "metadata": {
    "collapsed": false,
    "ExecuteTime": {
     "end_time": "2023-11-28T12:16:49.825157Z",
     "start_time": "2023-11-28T12:16:49.818997Z"
    }
   }
  },
  {
   "cell_type": "code",
   "execution_count": 77,
   "outputs": [
    {
     "name": "stdout",
     "output_type": "stream",
     "text": [
      "15.19\n"
     ]
    }
   ],
   "source": [
    "# 검정통계량 (T) = [ r(상관계수) * ((len(x) - 2) ** 0.5) ] / (1 - (r의 제곱) ** 0.5\n",
    "n = len(x)  # 데이터 수\n",
    "r2 = r**2  # 상관계수의 제곱\n",
    "statistic = (r * (n-2)**0.5 ) / (1-r2)**0.5\n",
    "print(round(statistic, 2))"
   ],
   "metadata": {
    "collapsed": false,
    "ExecuteTime": {
     "end_time": "2023-11-28T12:23:06.127376Z",
     "start_time": "2023-11-28T12:23:06.119498Z"
    }
   }
  },
  {
   "cell_type": "code",
   "execution_count": null,
   "outputs": [],
   "source": [],
   "metadata": {
    "collapsed": false
   }
  },
  {
   "cell_type": "code",
   "execution_count": null,
   "outputs": [],
   "source": [],
   "metadata": {
    "collapsed": false
   }
  },
  {
   "cell_type": "code",
   "execution_count": null,
   "outputs": [],
   "source": [],
   "metadata": {
    "collapsed": false
   }
  },
  {
   "cell_type": "code",
   "execution_count": null,
   "outputs": [],
   "source": [],
   "metadata": {
    "collapsed": false
   }
  },
  {
   "cell_type": "code",
   "execution_count": null,
   "outputs": [],
   "source": [],
   "metadata": {
    "collapsed": false
   }
  },
  {
   "cell_type": "code",
   "execution_count": null,
   "outputs": [],
   "source": [],
   "metadata": {
    "collapsed": false
   }
  },
  {
   "cell_type": "code",
   "execution_count": null,
   "outputs": [],
   "source": [],
   "metadata": {
    "collapsed": false
   }
  },
  {
   "cell_type": "code",
   "execution_count": null,
   "outputs": [],
   "source": [],
   "metadata": {
    "collapsed": false
   }
  },
  {
   "cell_type": "code",
   "execution_count": null,
   "outputs": [],
   "source": [],
   "metadata": {
    "collapsed": false
   }
  }
 ],
 "metadata": {
  "kernelspec": {
   "display_name": "Python 3",
   "language": "python",
   "name": "python3"
  },
  "language_info": {
   "codemirror_mode": {
    "name": "ipython",
    "version": 2
   },
   "file_extension": ".py",
   "mimetype": "text/x-python",
   "name": "python",
   "nbconvert_exporter": "python",
   "pygments_lexer": "ipython2",
   "version": "2.7.6"
  }
 },
 "nbformat": 4,
 "nbformat_minor": 0
}
