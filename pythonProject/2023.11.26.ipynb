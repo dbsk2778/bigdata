{
 "cells": [
  {
   "cell_type": "markdown",
   "source": [
    "\n",
    "## 제 3유형 - 모집단 1개 (집단의 평균 VS 특정값)\n",
    "\n",
    "### 검정방법\n",
    "#### 1) (정규성 O) 단일표본 t 검정 (1 sample t test) **\n",
    "#### 2) (정규성 X) 윌콕슨 부호순위 검정 - 비모수 검정"
   ],
   "metadata": {
    "collapsed": false
   }
  },
  {
   "cell_type": "markdown",
   "source": [
    "### 가설 검정 순서  **\n",
    "#### 1. 가설 설정\n",
    "#### 2. 유의수준 확인\n",
    "#### 3. 정규성 검정\n",
    "###### - 원래는 정규성 검정을 해야하는데,\n",
    "#### 4. 검정 실시(통계량, p-value 확인)\n",
    "#### 5. 귀무가설 기각 여부 결정(채택 / 기각)"
   ],
   "metadata": {
    "collapsed": false
   }
  },
  {
   "cell_type": "markdown",
   "source": [
    "### 데이터 불러오기"
   ],
   "metadata": {
    "collapsed": false
   }
  },
  {
   "cell_type": "code",
   "execution_count": 1,
   "metadata": {
    "collapsed": true,
    "ExecuteTime": {
     "end_time": "2023-11-26T12:45:28.384217Z",
     "start_time": "2023-11-26T12:45:28.382312Z"
    }
   },
   "outputs": [],
   "source": [
    "import pandas as pd\n",
    "import numpy as np"
   ]
  },
  {
   "cell_type": "code",
   "execution_count": 2,
   "outputs": [
    {
     "data": {
      "text/plain": "               model   mpg  cyl   disp   hp  drat     wt   qsec  vs  am  gear  \\\n0          Mazda RX4  21.0    6  160.0  110  3.90  2.620  16.46   0   1     4   \n1      Mazda RX4 Wag  21.0    6  160.0  110  3.90  2.875  17.02   0   1     4   \n2         Datsun 710  22.8    4  108.0   93  3.85  2.320  18.61   1   1     4   \n3     Hornet 4 Drive  21.4    6  258.0  110  3.08  3.215  19.44   1   0     3   \n4  Hornet Sportabout  18.7    8  360.0  175  3.15  3.440  17.02   0   0     3   \n\n   carb  \n0     4  \n1     4  \n2     1  \n3     1  \n4     2  ",
      "text/html": "<div>\n<style scoped>\n    .dataframe tbody tr th:only-of-type {\n        vertical-align: middle;\n    }\n\n    .dataframe tbody tr th {\n        vertical-align: top;\n    }\n\n    .dataframe thead th {\n        text-align: right;\n    }\n</style>\n<table border=\"1\" class=\"dataframe\">\n  <thead>\n    <tr style=\"text-align: right;\">\n      <th></th>\n      <th>model</th>\n      <th>mpg</th>\n      <th>cyl</th>\n      <th>disp</th>\n      <th>hp</th>\n      <th>drat</th>\n      <th>wt</th>\n      <th>qsec</th>\n      <th>vs</th>\n      <th>am</th>\n      <th>gear</th>\n      <th>carb</th>\n    </tr>\n  </thead>\n  <tbody>\n    <tr>\n      <th>0</th>\n      <td>Mazda RX4</td>\n      <td>21.0</td>\n      <td>6</td>\n      <td>160.0</td>\n      <td>110</td>\n      <td>3.90</td>\n      <td>2.620</td>\n      <td>16.46</td>\n      <td>0</td>\n      <td>1</td>\n      <td>4</td>\n      <td>4</td>\n    </tr>\n    <tr>\n      <th>1</th>\n      <td>Mazda RX4 Wag</td>\n      <td>21.0</td>\n      <td>6</td>\n      <td>160.0</td>\n      <td>110</td>\n      <td>3.90</td>\n      <td>2.875</td>\n      <td>17.02</td>\n      <td>0</td>\n      <td>1</td>\n      <td>4</td>\n      <td>4</td>\n    </tr>\n    <tr>\n      <th>2</th>\n      <td>Datsun 710</td>\n      <td>22.8</td>\n      <td>4</td>\n      <td>108.0</td>\n      <td>93</td>\n      <td>3.85</td>\n      <td>2.320</td>\n      <td>18.61</td>\n      <td>1</td>\n      <td>1</td>\n      <td>4</td>\n      <td>1</td>\n    </tr>\n    <tr>\n      <th>3</th>\n      <td>Hornet 4 Drive</td>\n      <td>21.4</td>\n      <td>6</td>\n      <td>258.0</td>\n      <td>110</td>\n      <td>3.08</td>\n      <td>3.215</td>\n      <td>19.44</td>\n      <td>1</td>\n      <td>0</td>\n      <td>3</td>\n      <td>1</td>\n    </tr>\n    <tr>\n      <th>4</th>\n      <td>Hornet Sportabout</td>\n      <td>18.7</td>\n      <td>8</td>\n      <td>360.0</td>\n      <td>175</td>\n      <td>3.15</td>\n      <td>3.440</td>\n      <td>17.02</td>\n      <td>0</td>\n      <td>0</td>\n      <td>3</td>\n      <td>2</td>\n    </tr>\n  </tbody>\n</table>\n</div>"
     },
     "execution_count": 2,
     "metadata": {},
     "output_type": "execute_result"
    }
   ],
   "source": [
    "# 데이터 불러오기\n",
    "df = pd.read_csv('mtcars.csv')\n",
    "df.head()"
   ],
   "metadata": {
    "collapsed": false,
    "ExecuteTime": {
     "end_time": "2023-11-26T12:48:58.121173Z",
     "start_time": "2023-11-26T12:48:58.103678Z"
    }
   }
  },
  {
   "cell_type": "markdown",
   "source": [
    "## 예제 문제\n",
    "### 1. mtcars 데이터셋의 mpg 열 데이터의 평균이 20과 같다고 할 수 있는지 검정하시오. (유의수준 5%)"
   ],
   "metadata": {
    "collapsed": false
   }
  },
  {
   "cell_type": "code",
   "execution_count": 3,
   "outputs": [],
   "source": [
    "import scipy.stats as stats  # 사이파이의 스탯츠\n",
    "from scipy.stats import shapiro  # 사피로 - 정규성 검증"
   ],
   "metadata": {
    "collapsed": false,
    "ExecuteTime": {
     "end_time": "2023-11-26T13:00:40.664201Z",
     "start_time": "2023-11-26T13:00:40.642957Z"
    }
   }
  },
  {
   "cell_type": "code",
   "execution_count": null,
   "outputs": [],
   "source": [
    "# 1. 가설 검정\n",
    "## H0 : mpg 열의 평균이 20과 같다.\n",
    "## H1 : mpg 열의 평균이 20과 같지 않다."
   ],
   "metadata": {
    "collapsed": false
   }
  },
  {
   "cell_type": "code",
   "execution_count": null,
   "outputs": [],
   "source": [
    "# 2. 유의수준 확인 : 5%"
   ],
   "metadata": {
    "collapsed": false
   }
  },
  {
   "cell_type": "code",
   "execution_count": 5,
   "outputs": [
    {
     "name": "stdout",
     "output_type": "stream",
     "text": [
      "0.9476 0.1229\n",
      "ShapiroResult(statistic=0.9475648403167725, pvalue=0.1228824257850647)\n"
     ]
    }
   ],
   "source": [
    "# 3. 정규성 검정\n",
    "## H0(귀무가설) : 정규분포를 따른다.\n",
    "## H1(대립가설) : 정규분포를 따르지 않는다.\n",
    "\n",
    "statistic, pvalue = stats.shapiro(df['mpg'])\n",
    "print(round(statistic, 4), round(pvalue, 4))\n",
    "\n",
    "result = stats.shapiro(df['mpg'])\n",
    "print(result)"
   ],
   "metadata": {
    "collapsed": false,
    "ExecuteTime": {
     "end_time": "2023-11-26T13:02:32.881285Z",
     "start_time": "2023-11-26T13:02:32.875330Z"
    }
   }
  },
  {
   "cell_type": "markdown",
   "source": [
    "##### - p-value 값이 유의수준 0.05 보다 크다. = 귀무가설 H0 채택\n",
    "##### - 만약 정규분포를 따르지 않는다면, 비모수 검정방법을 써야함(윌콕슨의 부호순위 검정)"
   ],
   "metadata": {
    "collapsed": false
   }
  },
  {
   "cell_type": "code",
   "execution_count": 7,
   "outputs": [
    {
     "name": "stdout",
     "output_type": "stream",
     "text": [
      "0.0851 0.9328\n"
     ]
    }
   ],
   "source": [
    "# 4.1 (정규성 만족) - t 검정 실시\n",
    "statistic, pvalue = stats.ttest_1samp(df['mpg'], popmean=20, alternative='two-sided')\n",
    "print(round(statistic, 4), round(pvalue, 4))\n",
    "# 비교 데이터(mpg 데이터), popmean(어떤 값이랑 비교할것인지), alternative(대립가설, 20과 같지 않다 = 양측검정을 할거다(default 값))\n",
    "# H1 : 왼쪽값과 오른쪽 값이 같지 않다.\n",
    "# alternative (대립가설 H1 옵션) : 'two-sided', 'greater', 'less'\n",
    "# 유의수준보다 p-value가 더 클 경우 귀무 가설 채택 !!"
   ],
   "metadata": {
    "collapsed": false,
    "ExecuteTime": {
     "end_time": "2023-11-26T13:20:21.833896Z",
     "start_time": "2023-11-26T13:20:21.828124Z"
    }
   }
  },
  {
   "cell_type": "code",
   "execution_count": null,
   "outputs": [],
   "source": [],
   "metadata": {
    "collapsed": false
   }
  },
  {
   "cell_type": "code",
   "execution_count": 9,
   "outputs": [
    {
     "name": "stdout",
     "output_type": "stream",
     "text": [
      "249.0 0.7891\n"
     ]
    }
   ],
   "source": [
    "# 4.2 (정규성 만족 X) wilcoxon 부호순위 검정\n",
    "statistic, pvalue = stats.wilcoxon(df['mpg']-20, alternative='two-sided')\n",
    "print(round(statistic, 4), round(pvalue, 4))"
   ],
   "metadata": {
    "collapsed": false,
    "ExecuteTime": {
     "end_time": "2023-11-26T13:22:11.646560Z",
     "start_time": "2023-11-26T13:22:11.639005Z"
    }
   }
  },
  {
   "cell_type": "code",
   "execution_count": 10,
   "outputs": [
    {
     "name": "stdout",
     "output_type": "stream",
     "text": [
      "20.090625000000003\n"
     ]
    }
   ],
   "source": [
    "# 귀무가설 기각여부 결정 (채택, 기각)\n",
    "# pvalue rkqtdl 0.05보다 크기 때문에, 귀무가설을 채택한다.\n",
    "# 즉, mpg 열의 평균이 20과 같다고 할 수 있다.\n",
    "\n",
    "# 답: 채택\n",
    "\n",
    "# 실제로 mpg 열의 평균을 구해보면\n",
    "print(df['mpg'].mean())"
   ],
   "metadata": {
    "collapsed": false,
    "ExecuteTime": {
     "end_time": "2023-11-26T13:24:49.163118Z",
     "start_time": "2023-11-26T13:24:49.158139Z"
    }
   }
  },
  {
   "cell_type": "markdown",
   "source": [
    "### 2. mtcars 데이터셋의 mpg 열 데이터의 평균이 17보다 크다고 할 수 있는지 검정하시오. (유의수준 5%)\n",
    "\n",
    "#### *** 단측검정 - 문제의 의미를 잘 파악해야 함."
   ],
   "metadata": {
    "collapsed": false
   }
  },
  {
   "cell_type": "code",
   "execution_count": 17,
   "outputs": [],
   "source": [
    "# 1. 귀무가설, 대립가설 확인\n",
    "## H0 : mpg 열 데이터 평균이 17보다 작거나 같다. (mpg_mean <= 17)\n",
    "## H1 : mpg 열 데이터 평균이 17보다 크다. (mpg_mean > 17)"
   ],
   "metadata": {
    "collapsed": false,
    "ExecuteTime": {
     "end_time": "2023-11-26T13:39:00.588122Z",
     "start_time": "2023-11-26T13:39:00.582957Z"
    }
   }
  },
  {
   "cell_type": "code",
   "execution_count": null,
   "outputs": [],
   "source": [
    "# 2. 유의수준 확인 : 5%"
   ],
   "metadata": {
    "collapsed": false
   }
  },
  {
   "cell_type": "code",
   "execution_count": 12,
   "outputs": [
    {
     "name": "stdout",
     "output_type": "stream",
     "text": [
      "0.9475648403167725 0.1228824257850647\n"
     ]
    }
   ],
   "source": [
    "# 3. 정규성 검증\n",
    "\n",
    "import scipy.stats as stats\n",
    "\n",
    "statistic, pvalue = stats.shapiro(df['mpg'])\n",
    "print(statistic, pvalue)\n",
    "\n",
    "# pvalue 값이 0.05보다 크기 때문에 데이터는 정규분포를 따른다."
   ],
   "metadata": {
    "collapsed": false,
    "ExecuteTime": {
     "end_time": "2023-11-26T13:31:17.131975Z",
     "start_time": "2023-11-26T13:31:17.125044Z"
    }
   }
  },
  {
   "cell_type": "code",
   "execution_count": 18,
   "outputs": [
    {
     "name": "stdout",
     "output_type": "stream",
     "text": [
      "2.9008 0.0034\n"
     ]
    }
   ],
   "source": [
    "# 4.1 정규성 검정 - 1 sample t test\n",
    "statistic, pvalue = stats.ttest_1samp(df['mpg'], popmean = 17, alternative='greater')\n",
    "print(round(statistic, 4), round(pvalue, 4))"
   ],
   "metadata": {
    "collapsed": false,
    "ExecuteTime": {
     "end_time": "2023-11-26T13:39:18.440290Z",
     "start_time": "2023-11-26T13:39:18.433591Z"
    }
   }
  },
  {
   "cell_type": "code",
   "execution_count": 19,
   "outputs": [
    {
     "name": "stdout",
     "output_type": "stream",
     "text": [
      "395.5 0.0066\n"
     ]
    }
   ],
   "source": [
    "# 4.2 정규성 검정 X - wilcoxon\n",
    "statistic, pvalue = stats.wilcoxon(df['mpg']-17, alternative='greater')\n",
    "print(round(statistic, 4), round(pvalue, 4))"
   ],
   "metadata": {
    "collapsed": false,
    "ExecuteTime": {
     "end_time": "2023-11-26T13:39:19.733876Z",
     "start_time": "2023-11-26T13:39:19.726594Z"
    }
   }
  },
  {
   "cell_type": "code",
   "execution_count": null,
   "outputs": [],
   "source": [
    "# 5. 귀무가설 채택, 기각 여부\n",
    "## 귀무가설 기각, pvalue 0.05보다 작음.\n",
    "## 즉, mpg 값의 평균이 17보다 크다고 할 수 있음"
   ],
   "metadata": {
    "collapsed": false
   }
  },
  {
   "cell_type": "markdown",
   "source": [
    "### 3. mtcars 데이터셋의 mpg 열 데이터 평균이 17보다 작다고 할 수 있는지 검정하시오. (유의수준 5%)"
   ],
   "metadata": {
    "collapsed": false
   }
  },
  {
   "cell_type": "code",
   "execution_count": null,
   "outputs": [],
   "source": [
    "# 1. 귀무가설, 대립가설 확인\n",
    "## H0 : mpg 열 데이터 평균이 17보다 크거나 같다.\n",
    "## H1 : mpg 열 데이터 평균이 17보다 작다."
   ],
   "metadata": {
    "collapsed": false
   }
  },
  {
   "cell_type": "code",
   "execution_count": null,
   "outputs": [],
   "source": [
    "# 2. 유의수준 확인 : 5%"
   ],
   "metadata": {
    "collapsed": false
   }
  },
  {
   "cell_type": "code",
   "execution_count": 20,
   "outputs": [
    {
     "name": "stdout",
     "output_type": "stream",
     "text": [
      "0.9476 0.1229\n"
     ]
    }
   ],
   "source": [
    "# 3. 정규성 검정 - 정규분포를 따르는지\n",
    "import scipy.stats as stats\n",
    "statistic, pvalue = stats.shapiro(df['mpg'])\n",
    "print(round(statistic, 4), round(pvalue, 4))\n",
    "\n",
    "# pvalue가 0.05가 넘기 때문에 정규분포를 따른다고 볼 수 있음."
   ],
   "metadata": {
    "collapsed": false,
    "ExecuteTime": {
     "end_time": "2023-11-26T13:50:42.906436Z",
     "start_time": "2023-11-26T13:50:42.899219Z"
    }
   }
  },
  {
   "cell_type": "code",
   "execution_count": 22,
   "outputs": [
    {
     "name": "stdout",
     "output_type": "stream",
     "text": [
      "2.9008 0.9966\n"
     ]
    }
   ],
   "source": [
    "# 4.1 정규성 만족 - 1 sample t test\n",
    "statistic, pvalue = stats.ttest_1samp(df['mpg'], popmean=17, alternative='less')\n",
    "print(round(statistic, 4), round(pvalue, 4))"
   ],
   "metadata": {
    "collapsed": false,
    "ExecuteTime": {
     "end_time": "2023-11-26T13:54:07.232164Z",
     "start_time": "2023-11-26T13:54:07.225624Z"
    }
   }
  },
  {
   "cell_type": "code",
   "execution_count": 23,
   "outputs": [
    {
     "name": "stdout",
     "output_type": "stream",
     "text": [
      "395.5 0.9938\n"
     ]
    }
   ],
   "source": [
    "# 4.2 정규성 만족 X - wilcoxon\n",
    "statistic, pvalue = stats.wilcoxon(df['mpg']-17, alternative='less')\n",
    "print(round(statistic, 4), round(pvalue, 4))"
   ],
   "metadata": {
    "collapsed": false,
    "ExecuteTime": {
     "end_time": "2023-11-26T13:54:52.737234Z",
     "start_time": "2023-11-26T13:54:52.732897Z"
    }
   }
  },
  {
   "cell_type": "code",
   "execution_count": null,
   "outputs": [],
   "source": [
    "# 귀무가설 채택 / 기각 : pvalue 값이 0.05보다 크기 때문에 귀무가설 채택"
   ],
   "metadata": {
    "collapsed": false
   }
  },
  {
   "cell_type": "markdown",
   "source": [
    "# 제 3유형 - 모집단 2개\n",
    "\n",
    "## 검정 방법\n",
    "### 1. 대응표본(쌍체) : 동일한 객체의 전 vs 후 평균 비교\n",
    "##### - (정규성 O) 대응표본(쌍체) t 검정 (paired t-test) : 동일한 객체의 전 vs 후 평균 비교\n",
    "##### - (정규성 X) 윌콕슨 부호 순위 검정(wilcoxon)\n",
    "\n",
    "### 2. 독립표본 : A 집단의 평균 vs B 집단의 평균\n",
    "##### - (정규성 O) 독립표본 t 검정 (2sample test)\n",
    "##### - (정규성 X) 윌콕슨의 순위합 검정(ranksums)"
   ],
   "metadata": {
    "collapsed": false
   }
  },
  {
   "cell_type": "markdown",
   "source": [
    "## 가설 검정 순서 **"
   ],
   "metadata": {
    "collapsed": false
   }
  },
  {
   "cell_type": "markdown",
   "source": [
    "### (1) 대응표본(쌍체) t 검정 (paired t-test)\n",
    "#### 1. 가설 설정\n",
    "#### 2. 유의수준 확인\n",
    "#### 3. 정규성 검정 **(주의) 차이값에 대한 정규성\n",
    "##### - 전 데이터(before) / 후 데이터(after)), before - after 인지 after - before인지는 문제에서 주어짐 !\n",
    "#### 4. 검정 실시 (통계량, pvalue 확인)\n",
    "#### 5. 귀무가설 기각 여부 결정 (채택/기각)"
   ],
   "metadata": {
    "collapsed": false
   }
  },
  {
   "cell_type": "markdown",
   "source": [
    "### (2) 독립표본 t 검정 (2 sample t test)\n",
    "#### 1. 가설 설정\n",
    "#### 2. 유의수준 확인\n",
    "#### 3. 정규성 검정 ** (주의) 두 집단 모두 정규성을 따를 경우 !!\n",
    "#### 4. 등분산 검정\n",
    "#### 5. 검정 실시(통계량, pvalue 확인) **(주의) 등분산 여부 확인\n",
    "#### 6. 귀무가설 기각 여부 결정 (채택/기각)"
   ],
   "metadata": {
    "collapsed": false
   }
  },
  {
   "cell_type": "markdown",
   "source": [
    "## 예제 문제"
   ],
   "metadata": {
    "collapsed": false
   }
  },
  {
   "cell_type": "markdown",
   "source": [
    "### Case 1) 대응 표본(쌍체) t 검정 (paired t-test)\n",
    "\n",
    "문제 1-1\n",
    "다음은 혈압약을 먹은 전 / 후의 혈압 데이터이다.\n",
    "혈압약을 먹기 전, 후의 차이가 있는지 쌍체 t 검정을 실시하시오.\n",
    "\n",
    "(유의수준 5%)\n",
    "- before : 혈압약을 먹기 전 혈압, after : 혈압약을 먹은 후의 혈압\n",
    "- H0(귀무가설) : after - before = 0\n",
    "- H1(대립가설) : after - before != 0"
   ],
   "metadata": {
    "collapsed": false
   }
  },
  {
   "cell_type": "code",
   "execution_count": 26,
   "outputs": [],
   "source": [
    "import pandas as pd\n",
    "import numpy as np\n",
    "import scipy.stats as stats\n",
    "from scipy.stats import shapiro"
   ],
   "metadata": {
    "collapsed": false,
    "ExecuteTime": {
     "end_time": "2023-11-26T14:32:06.449863Z",
     "start_time": "2023-11-26T14:32:06.443661Z"
    }
   }
  },
  {
   "cell_type": "code",
   "execution_count": 27,
   "outputs": [
    {
     "name": "stdout",
     "output_type": "stream",
     "text": [
      "   before  after\n",
      "0     120    110\n",
      "1     135    132\n",
      "2     122    123\n"
     ]
    }
   ],
   "source": [
    "# 데이터 만들기\n",
    "df = pd.DataFrame( {\n",
    "'before': [120, 135, 122, 124, 135, 122, 145, 160, 155, 142, 144, 135, 167],\n",
    "'after' : [110, 132, 123, 119, 123, 115, 140, 162, 142, 138, 135, 142, 160] })\n",
    "print(df.head(3))"
   ],
   "metadata": {
    "collapsed": false,
    "ExecuteTime": {
     "end_time": "2023-11-26T14:32:07.724657Z",
     "start_time": "2023-11-26T14:32:07.718988Z"
    }
   }
  },
  {
   "cell_type": "code",
   "execution_count": null,
   "outputs": [],
   "source": [
    "# 1. 가설 검정\n",
    "# H0 : 약을 먹기 전과 먹은 후의 혈압 평균은 같다. (효과가 없다)\n",
    "# H1 : 약을 먹기 전과 먹은 후의 혈압 평균은 같지 않다. (효과가 있다)"
   ],
   "metadata": {
    "collapsed": false
   }
  },
  {
   "cell_type": "code",
   "execution_count": null,
   "outputs": [],
   "source": [
    "# 2. 유의수준 확인 : 5%"
   ],
   "metadata": {
    "collapsed": false
   }
  },
  {
   "cell_type": "code",
   "execution_count": 28,
   "outputs": [
    {
     "name": "stdout",
     "output_type": "stream",
     "text": [
      "0.9589 0.7363\n"
     ]
    }
   ],
   "source": [
    "# 3. 정규성 검정\n",
    "# p value의 값이 유의수준 0.05보다 크다, 귀무가설 H0 채택\n",
    "# (정규성 검정의 H0 : 정규분포를 따른다.)\n",
    "statistic, pvalue = stats.shapiro(df['after']-df['before'])\n",
    "print(round(statistic, 4), round(pvalue, 4))"
   ],
   "metadata": {
    "collapsed": false,
    "ExecuteTime": {
     "end_time": "2023-11-26T14:35:34.838887Z",
     "start_time": "2023-11-26T14:35:34.830672Z"
    }
   }
  },
  {
   "cell_type": "code",
   "execution_count": 29,
   "outputs": [
    {
     "name": "stdout",
     "output_type": "stream",
     "text": [
      "-3.1382 0.0086\n"
     ]
    }
   ],
   "source": [
    "# 4.1 (정규성 O) 대응표본 (쌍체) t 검정 (paired t test)\n",
    "statistic, pvalue = stats.ttest_rel(df['after'], df['before'],alternative='two-sided')\n",
    "print(round(statistic, 4), round(pvalue, 4))"
   ],
   "metadata": {
    "collapsed": false,
    "ExecuteTime": {
     "end_time": "2023-11-26T14:42:06.854550Z",
     "start_time": "2023-11-26T14:42:06.848434Z"
    }
   }
  },
  {
   "cell_type": "code",
   "execution_count": 30,
   "outputs": [
    {
     "name": "stdout",
     "output_type": "stream",
     "text": [
      "11.0 0.0134\n"
     ]
    }
   ],
   "source": [
    "# 4.2 (정규성 X) wilcoxon 부호 순위 검정\n",
    "statistic, pvalue = stats.wilcoxon(df['after']-df['before'])\n",
    "print(round(statistic, 4), round(pvalue, 4))"
   ],
   "metadata": {
    "collapsed": false,
    "ExecuteTime": {
     "end_time": "2023-11-26T14:43:22.163815Z",
     "start_time": "2023-11-26T14:43:22.143223Z"
    }
   }
  },
  {
   "cell_type": "code",
   "execution_count": null,
   "outputs": [],
   "source": [
    "# 5. 귀무가설 기각 여부 결정 (채택 / 기각)\n",
    "# p-value 값이 0.05 미만이므로 귀무가설을 기각함.\n",
    "# 즉, 약을 먹기 전과 먹은 후의 혈압 평균은 같지 않다. (효과가 있다)\n",
    "# 답: 기각"
   ],
   "metadata": {
    "collapsed": false
   }
  },
  {
   "cell_type": "markdown",
   "source": [
    "문제 1-2\n",
    "다음은 혈압약을 먹은 전, 후의 혈압 데이터이다.\n",
    "혈압약을 먹은 후 혈압이 감소했는지 확인하기 위해 쌍체 t 검정을 실시하시오.\n",
    "\n",
    "(유의수준 5%)\n",
    "- before : 혈압약을 먹기 전 혈압, after : 혈압약을 먹은 후의 혈압\n",
    "- H0 (귀무가설) : after - before >= 0\n",
    "- H1 (대립가설) : after - before < 0"
   ],
   "metadata": {
    "collapsed": false
   }
  },
  {
   "cell_type": "code",
   "execution_count": 31,
   "outputs": [
    {
     "name": "stdout",
     "output_type": "stream",
     "text": [
      "   before  after\n",
      "0     120    110\n",
      "1     135    132\n",
      "2     122    123\n"
     ]
    }
   ],
   "source": [
    "# 데이터 만들기\n",
    "df = pd.DataFrame( {\n",
    "'before': [120, 135, 122, 124, 135, 122, 145, 160, 155, 142, 144, 135, 167],\n",
    "'after' : [110, 132, 123, 119, 123, 115, 140, 162, 142, 138, 135, 142, 160] })\n",
    "print(df.head(3))"
   ],
   "metadata": {
    "collapsed": false,
    "ExecuteTime": {
     "end_time": "2023-11-26T14:50:01.686059Z",
     "start_time": "2023-11-26T14:50:01.681967Z"
    }
   }
  },
  {
   "cell_type": "code",
   "execution_count": null,
   "outputs": [],
   "source": [
    "# 1. 가설정리\n",
    "## H0 : 혈압약을 먹은 후 혈압은 같거나 증가했다.\n",
    "## H1 : 혈압약을 먹은 후 혈압은 감소했다."
   ],
   "metadata": {
    "collapsed": false
   }
  },
  {
   "cell_type": "code",
   "execution_count": null,
   "outputs": [],
   "source": [
    "# 2. 유의수준 확인 : 5%"
   ],
   "metadata": {
    "collapsed": false
   }
  },
  {
   "cell_type": "code",
   "execution_count": 33,
   "outputs": [
    {
     "name": "stdout",
     "output_type": "stream",
     "text": [
      "0.9589 0.7363\n"
     ]
    }
   ],
   "source": [
    "# 3. 정규성 검정\n",
    "import scipy.stats as stats\n",
    "statistic, pvalue = stats.shapiro(df['after']-df['before'])\n",
    "print(round(statistic, 4), round(pvalue, 4))"
   ],
   "metadata": {
    "collapsed": false,
    "ExecuteTime": {
     "end_time": "2023-11-26T14:52:12.434184Z",
     "start_time": "2023-11-26T14:52:12.423318Z"
    }
   }
  },
  {
   "cell_type": "code",
   "execution_count": 34,
   "outputs": [
    {
     "name": "stdout",
     "output_type": "stream",
     "text": [
      "-3.1382 0.0043\n"
     ]
    }
   ],
   "source": [
    "# 4.1 (정규성 만족)\n",
    "statistic, pvalue = stats.ttest_rel(df['after'], df['before'], alternative='less')\n",
    "print(round(statistic, 4), round(pvalue, 4))"
   ],
   "metadata": {
    "collapsed": false,
    "ExecuteTime": {
     "end_time": "2023-11-26T14:54:36.703791Z",
     "start_time": "2023-11-26T14:54:36.694533Z"
    }
   }
  },
  {
   "cell_type": "code",
   "execution_count": 35,
   "outputs": [
    {
     "name": "stdout",
     "output_type": "stream",
     "text": [
      "11.0 0.0134\n"
     ]
    }
   ],
   "source": [
    "# 4.2 (정규성 만족 X)\n",
    "statistic, pvalue = stats.wilcoxon(df['after']-df['before'])\n",
    "print(round(statistic, 4), round(pvalue, 4))"
   ],
   "metadata": {
    "collapsed": false,
    "ExecuteTime": {
     "end_time": "2023-11-26T14:55:21.027302Z",
     "start_time": "2023-11-26T14:55:21.020703Z"
    }
   }
  },
  {
   "cell_type": "code",
   "execution_count": null,
   "outputs": [],
   "source": [
    "# 5. 귀무가설 채택여부 결정\n",
    "# pvalue 값이 0.05보다 작기 때문에 귀무가설 기각."
   ],
   "metadata": {
    "collapsed": false
   }
  },
  {
   "cell_type": "markdown",
   "source": [
    "### Case 2) 독립표본 t 검정 (2 sample t-test)\n",
    "\n",
    "문제 2-1\n",
    "다음은 A 그룹과 B그룹 인원의 혈압 데이터이다.\n",
    "두 그룹의 혈압 평균이 다르다고 할 수 있는지 독립표본 t 검정을 실시하시오.\n",
    "\n",
    "(유의수준 5%)\n",
    "- A: A 그룹의 인원의 혈압, B: B 그룹 인원의 혈압\n",
    "- H0: 귀무가설, A = B\n",
    "- H1: 대립가설, A != B"
   ],
   "metadata": {
    "collapsed": false
   }
  },
  {
   "cell_type": "code",
   "execution_count": 36,
   "outputs": [
    {
     "name": "stdout",
     "output_type": "stream",
     "text": [
      "     A    B\n",
      "0  120  110\n",
      "1  135  132\n",
      "2  122  123\n"
     ]
    }
   ],
   "source": [
    "import pandas as pd\n",
    "import numpy as np\n",
    "import scipy.stats as stats\n",
    "from scipy.stats import shapiro\n",
    "\n",
    "# 데이터 만들기\n",
    "df = pd.DataFrame( {\n",
    "    'A': [120, 135, 122, 124, 135, 122, 145, 160, 155, 142, 144, 135, 167],\n",
    "'B' : [110, 132, 123, 119, 123, 115, 140, 162, 142, 138, 135, 142, 160] })\n",
    "print(df.head(3))"
   ],
   "metadata": {
    "collapsed": false,
    "ExecuteTime": {
     "end_time": "2023-11-26T15:00:12.144902Z",
     "start_time": "2023-11-26T15:00:12.131270Z"
    }
   }
  },
  {
   "cell_type": "code",
   "execution_count": null,
   "outputs": [],
   "source": [
    "# 1. 가설 설정\n",
    "## H0 : A 집단과 B 집단의 혈압은 같다.\n",
    "## H1 : A 집단과 B 집단의 혈압은 같지 않다."
   ],
   "metadata": {
    "collapsed": false
   }
  },
  {
   "cell_type": "code",
   "execution_count": null,
   "outputs": [],
   "source": [
    "# 2. 유의수준 확인 : 5%"
   ],
   "metadata": {
    "collapsed": false
   }
  },
  {
   "cell_type": "code",
   "execution_count": 37,
   "outputs": [
    {
     "name": "stdout",
     "output_type": "stream",
     "text": [
      "0.9314 0.3559\n"
     ]
    }
   ],
   "source": [
    "# 3. 정규성 검정\n",
    "statisticA, pvalueA = stats.shapiro(df['A'])\n",
    "print(round(statisticA, 4), round(pvalueA, 4))"
   ],
   "metadata": {
    "collapsed": false,
    "ExecuteTime": {
     "end_time": "2023-11-26T15:03:05.085795Z",
     "start_time": "2023-11-26T15:03:05.073955Z"
    }
   }
  },
  {
   "cell_type": "code",
   "execution_count": 38,
   "outputs": [
    {
     "name": "stdout",
     "output_type": "stream",
     "text": [
      "0.9498 0.5956\n"
     ]
    }
   ],
   "source": [
    "statisticB, pvalueB = stats.shapiro(df['B'])\n",
    "print(round(statisticB, 4), round(pvalueB, 4))"
   ],
   "metadata": {
    "collapsed": false,
    "ExecuteTime": {
     "end_time": "2023-11-26T15:03:07.300273Z",
     "start_time": "2023-11-26T15:03:07.289235Z"
    }
   }
  },
  {
   "cell_type": "code",
   "execution_count": null,
   "outputs": [],
   "source": [
    "# pvalue 값이 유의수준보다 크다.\n",
    "# 만약 하나라도 정규분포를 따르지 않는다면, 비모수 검정 방법을 써야함 (윌콕슨의 순위합 검정 ranksums)"
   ],
   "metadata": {
    "collapsed": false
   }
  },
  {
   "cell_type": "code",
   "execution_count": 39,
   "outputs": [
    {
     "name": "stdout",
     "output_type": "stream",
     "text": [
      "0.0279 0.8673\n"
     ]
    }
   ],
   "source": [
    "# 4. 등분산성 검정\n",
    "## H0 : 등분산 한다.\n",
    "## H1 : 등분산 하지 않는다.\n",
    "statistic, pvalue = stats.bartlett(df['A'], df['B'])\n",
    "print(round(statistic, 4), round(pvalue, 4))"
   ],
   "metadata": {
    "collapsed": false,
    "ExecuteTime": {
     "end_time": "2023-11-26T15:10:40.151975Z",
     "start_time": "2023-11-26T15:10:40.145433Z"
    }
   }
  },
  {
   "cell_type": "code",
   "execution_count": null,
   "outputs": [],
   "source": [
    "# pvalue 값이 유의수준 0.05보다 크다.\n",
    "# 대립가설 채택 -> 등분산성을 따른다고 할 수 있다."
   ],
   "metadata": {
    "collapsed": false
   }
  },
  {
   "cell_type": "code",
   "execution_count": 42,
   "outputs": [
    {
     "name": "stdout",
     "output_type": "stream",
     "text": [
      "0.8192 0.4207\n"
     ]
    }
   ],
   "source": [
    "# 5.1 정규성 O, 등분산성 O/X -> t 검정\n",
    "statistic, pvalue = stats.ttest_ind(df['A'], df['B'], equal_var=True)\n",
    "# 만약 등분산 하지 않으면 equal_var=False로 설정\n",
    "print(round(statistic, 4), round(pvalue, 4))"
   ],
   "metadata": {
    "collapsed": false,
    "ExecuteTime": {
     "end_time": "2023-11-26T15:16:21.597801Z",
     "start_time": "2023-11-26T15:16:21.593682Z"
    }
   }
  },
  {
   "cell_type": "code",
   "execution_count": 43,
   "outputs": [
    {
     "name": "stdout",
     "output_type": "stream",
     "text": [
      "0.8462 0.3975\n"
     ]
    }
   ],
   "source": [
    "# 5.2 정규성 X, 윌콕슨의 순위합 검정\n",
    "statistic, pvalue = stats.ranksums(df['A'], df['B'], alternative=\"two-sided\")\n",
    "print(round(statistic, 4), round(pvalue, 4))"
   ],
   "metadata": {
    "collapsed": false,
    "ExecuteTime": {
     "end_time": "2023-11-26T15:18:03.506933Z",
     "start_time": "2023-11-26T15:18:03.498279Z"
    }
   }
  },
  {
   "cell_type": "code",
   "execution_count": null,
   "outputs": [],
   "source": [
    "# 6. 귀무가설 채댁/기각 여부 결정\n",
    "# p-value 값이 0.05보다 크기 때문에 귀무가설 채택\n",
    "# 즉, A 그룹과 B 그룹의 혈압 평균은 같다고 할 수 있다.\n",
    "\n",
    "# 답: 채택"
   ],
   "metadata": {
    "collapsed": false
   }
  },
  {
   "cell_type": "markdown",
   "source": [
    "문제 2-2\n",
    "다음은 A그룹과 B그룹 인원의 혈압 데이터이다.\n",
    "A그룹의 혈압 평균이 B그룹보다 크다고 할 수 있는지 독립표본 t검정을 실시하시오.\n",
    "\n",
    "(유의수준 5%)\n",
    "- A: A 그룹 인원의 혈압, B: B 그룹 인원이 혈압\n",
    "- H0(귀무가설) : A - B <= 0 ( or A <= B)\n",
    "- H1(대립가설) : A - B > 0 ( or A > B)"
   ],
   "metadata": {
    "collapsed": false
   }
  },
  {
   "cell_type": "code",
   "execution_count": 44,
   "outputs": [
    {
     "name": "stdout",
     "output_type": "stream",
     "text": [
      "     A    B\n",
      "0  120  110\n",
      "1  135  132\n",
      "2  122  123\n"
     ]
    }
   ],
   "source": [
    "df = pd.DataFrame( {\n",
    "    'A': [120, 135, 122, 124, 135, 122, 145, 160, 155, 142, 144, 135, 167],\n",
    "'B' : [110, 132, 123, 119, 123, 115, 140, 162, 142, 138, 135, 142, 160] })\n",
    "print(df.head(3))"
   ],
   "metadata": {
    "collapsed": false,
    "ExecuteTime": {
     "end_time": "2023-11-26T15:25:46.625973Z",
     "start_time": "2023-11-26T15:25:46.618804Z"
    }
   }
  },
  {
   "cell_type": "code",
   "execution_count": null,
   "outputs": [],
   "source": [
    "# 1. 가설 설정\n",
    "## H0: A 그룹의 혈압이 B 그룹 혈압보다 작거나 같다.\n",
    "## H1: A 그룳의 혈압이 B 그룹의 혈압보다 크다."
   ],
   "metadata": {
    "collapsed": false
   }
  },
  {
   "cell_type": "code",
   "execution_count": null,
   "outputs": [],
   "source": [
    "# 2. 유의수준 확인 : 5%"
   ],
   "metadata": {
    "collapsed": false
   }
  },
  {
   "cell_type": "code",
   "execution_count": 45,
   "outputs": [
    {
     "name": "stdout",
     "output_type": "stream",
     "text": [
      "0.9314 0.3559\n",
      "0.9498 0.5956\n"
     ]
    }
   ],
   "source": [
    "# 3. 정규성 검증\n",
    "import scipy.stats as stats\n",
    "statisticA, pvalueA = stats.shapiro(df['A'])\n",
    "print(round(statisticA, 4), round(pvalueA, 4))\n",
    "\n",
    "statisticB, pvalueB = stats.shapiro(df['B'])\n",
    "print(round(statisticB, 4), round(pvalueB, 4))"
   ],
   "metadata": {
    "collapsed": false,
    "ExecuteTime": {
     "end_time": "2023-11-26T15:27:02.883168Z",
     "start_time": "2023-11-26T15:27:02.876041Z"
    }
   }
  },
  {
   "cell_type": "code",
   "execution_count": null,
   "outputs": [],
   "source": [
    "# 둘 다 0.05 유의수준 이상이므로 정규분포 따른다고 볼 수 있음"
   ],
   "metadata": {
    "collapsed": false
   }
  },
  {
   "cell_type": "code",
   "execution_count": 46,
   "outputs": [
    {
     "name": "stdout",
     "output_type": "stream",
     "text": [
      "0.0279 0.8673\n"
     ]
    }
   ],
   "source": [
    "# 4. 등분산 검증 - H0 (등분산 따른다) / H1 (등분산 따르지 않는다)\n",
    "statistic, pvalue = stats.bartlett(df['A'], df['B'])\n",
    "print(round(statistic, 4), round(pvalue, 4))"
   ],
   "metadata": {
    "collapsed": false,
    "ExecuteTime": {
     "end_time": "2023-11-26T15:28:49.713060Z",
     "start_time": "2023-11-26T15:28:49.705962Z"
    }
   }
  },
  {
   "cell_type": "code",
   "execution_count": 47,
   "outputs": [
    {
     "name": "stdout",
     "output_type": "stream",
     "text": [
      "0.8192 0.2104\n"
     ]
    }
   ],
   "source": [
    "# 5. 정규성 만족 + 등분산 만족\n",
    "statistic, pvalue = stats.ttest_ind(df['A'], df['B'], equal_var=True, alternative='greater')\n",
    "print(round(statistic, 4), round(pvalue, 4))"
   ],
   "metadata": {
    "collapsed": false,
    "ExecuteTime": {
     "end_time": "2023-11-26T15:30:00.441053Z",
     "start_time": "2023-11-26T15:30:00.434352Z"
    }
   }
  },
  {
   "cell_type": "code",
   "execution_count": 48,
   "outputs": [
    {
     "name": "stdout",
     "output_type": "stream",
     "text": [
      "0.8462 0.1987\n"
     ]
    }
   ],
   "source": [
    "# 5. 정규성 만족 X\n",
    "statistic, pvalue = stats.ranksums(df['A'], df['B'], alternative='greater')\n",
    "print(round(statistic, 4), round(pvalue, 4))"
   ],
   "metadata": {
    "collapsed": false,
    "ExecuteTime": {
     "end_time": "2023-11-26T15:30:24.944831Z",
     "start_time": "2023-11-26T15:30:24.937843Z"
    }
   }
  }
 ],
 "metadata": {
  "kernelspec": {
   "display_name": "Python 3",
   "language": "python",
   "name": "python3"
  },
  "language_info": {
   "codemirror_mode": {
    "name": "ipython",
    "version": 2
   },
   "file_extension": ".py",
   "mimetype": "text/x-python",
   "name": "python",
   "nbconvert_exporter": "python",
   "pygments_lexer": "ipython2",
   "version": "2.7.6"
  }
 },
 "nbformat": 4,
 "nbformat_minor": 0
}
