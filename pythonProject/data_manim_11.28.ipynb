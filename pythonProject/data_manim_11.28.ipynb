{
 "cells": [
  {
   "cell_type": "code",
   "execution_count": 2,
   "metadata": {
    "collapsed": true,
    "ExecuteTime": {
     "end_time": "2023-11-28T14:24:30.564293Z",
     "start_time": "2023-11-28T14:24:30.555061Z"
    }
   },
   "outputs": [],
   "source": [
    "import pandas as pd"
   ]
  },
  {
   "cell_type": "code",
   "execution_count": 5,
   "outputs": [
    {
     "data": {
      "text/plain": "           gameId   creationTime  gameDuration  seasonId  winner  firstBlood  \\\n0      3326086514  1504279457970          1949         9       1           2   \n1      3229566029  1497848803862          1851         9       1           1   \n2      3327363504  1504360103310          1493         9       1           2   \n3      3326856598  1504348503996          1758         9       1           1   \n4      3330080762  1504554410899          2094         9       1           2   \n...           ...            ...           ...       ...     ...         ...   \n51485  3308904636  1503076540231          1944         9       2           1   \n51486  3215685759  1496957179355          3304         9       2           1   \n51487  3322765040  1504029863961          2156         9       2           2   \n51488  3256675373  1499562036246          1475         9       2           2   \n51489  3317333020  1503612754059          1445         9       1           1   \n\n       firstTower  firstInhibitor  firstBaron  firstDragon  ...  \\\n0               1               1           1            1  ...   \n1               1               1           0            1  ...   \n2               1               1           1            2  ...   \n3               1               1           1            1  ...   \n4               1               1           1            1  ...   \n...           ...             ...         ...          ...  ...   \n51485           2               2           0            2  ...   \n51486           1               2           2            2  ...   \n51487           2               2           0            1  ...   \n51488           2               2           0            2  ...   \n51489           1               1           1            2  ...   \n\n       t2_towerKills  t2_inhibitorKills  t2_baronKills  t2_dragonKills  \\\n0                  5                  0              0               1   \n1                  2                  0              0               0   \n2                  2                  0              0               1   \n3                  0                  0              0               0   \n4                  3                  0              0               1   \n...              ...                ...            ...             ...   \n51485             10                  2              0               4   \n51486             11                  7              4               4   \n51487             10                  2              0               2   \n51488             11                  3              0               1   \n51489              1                  0              0               1   \n\n       t2_riftHeraldKills  t2_ban1  t2_ban2  t2_ban3  t2_ban4  t2_ban5  \n0                       1      114       67       43       16       51  \n1                       0       11       67      238       51      420  \n2                       0      157      238      121       57       28  \n3                       0      164       18      141       40       51  \n4                       0       86       11      201      122       18  \n...                   ...      ...      ...      ...      ...      ...  \n51485                   0       55       -1       90      238      157  \n51486                   1      157       55      119      154      105  \n51487                   0      113      122       53       11      157  \n51488                   0      154       39       51       90      114  \n51489                   0       11      157      141       31       18  \n\n[51490 rows x 61 columns]",
      "text/html": "<div>\n<style scoped>\n    .dataframe tbody tr th:only-of-type {\n        vertical-align: middle;\n    }\n\n    .dataframe tbody tr th {\n        vertical-align: top;\n    }\n\n    .dataframe thead th {\n        text-align: right;\n    }\n</style>\n<table border=\"1\" class=\"dataframe\">\n  <thead>\n    <tr style=\"text-align: right;\">\n      <th></th>\n      <th>gameId</th>\n      <th>creationTime</th>\n      <th>gameDuration</th>\n      <th>seasonId</th>\n      <th>winner</th>\n      <th>firstBlood</th>\n      <th>firstTower</th>\n      <th>firstInhibitor</th>\n      <th>firstBaron</th>\n      <th>firstDragon</th>\n      <th>...</th>\n      <th>t2_towerKills</th>\n      <th>t2_inhibitorKills</th>\n      <th>t2_baronKills</th>\n      <th>t2_dragonKills</th>\n      <th>t2_riftHeraldKills</th>\n      <th>t2_ban1</th>\n      <th>t2_ban2</th>\n      <th>t2_ban3</th>\n      <th>t2_ban4</th>\n      <th>t2_ban5</th>\n    </tr>\n  </thead>\n  <tbody>\n    <tr>\n      <th>0</th>\n      <td>3326086514</td>\n      <td>1504279457970</td>\n      <td>1949</td>\n      <td>9</td>\n      <td>1</td>\n      <td>2</td>\n      <td>1</td>\n      <td>1</td>\n      <td>1</td>\n      <td>1</td>\n      <td>...</td>\n      <td>5</td>\n      <td>0</td>\n      <td>0</td>\n      <td>1</td>\n      <td>1</td>\n      <td>114</td>\n      <td>67</td>\n      <td>43</td>\n      <td>16</td>\n      <td>51</td>\n    </tr>\n    <tr>\n      <th>1</th>\n      <td>3229566029</td>\n      <td>1497848803862</td>\n      <td>1851</td>\n      <td>9</td>\n      <td>1</td>\n      <td>1</td>\n      <td>1</td>\n      <td>1</td>\n      <td>0</td>\n      <td>1</td>\n      <td>...</td>\n      <td>2</td>\n      <td>0</td>\n      <td>0</td>\n      <td>0</td>\n      <td>0</td>\n      <td>11</td>\n      <td>67</td>\n      <td>238</td>\n      <td>51</td>\n      <td>420</td>\n    </tr>\n    <tr>\n      <th>2</th>\n      <td>3327363504</td>\n      <td>1504360103310</td>\n      <td>1493</td>\n      <td>9</td>\n      <td>1</td>\n      <td>2</td>\n      <td>1</td>\n      <td>1</td>\n      <td>1</td>\n      <td>2</td>\n      <td>...</td>\n      <td>2</td>\n      <td>0</td>\n      <td>0</td>\n      <td>1</td>\n      <td>0</td>\n      <td>157</td>\n      <td>238</td>\n      <td>121</td>\n      <td>57</td>\n      <td>28</td>\n    </tr>\n    <tr>\n      <th>3</th>\n      <td>3326856598</td>\n      <td>1504348503996</td>\n      <td>1758</td>\n      <td>9</td>\n      <td>1</td>\n      <td>1</td>\n      <td>1</td>\n      <td>1</td>\n      <td>1</td>\n      <td>1</td>\n      <td>...</td>\n      <td>0</td>\n      <td>0</td>\n      <td>0</td>\n      <td>0</td>\n      <td>0</td>\n      <td>164</td>\n      <td>18</td>\n      <td>141</td>\n      <td>40</td>\n      <td>51</td>\n    </tr>\n    <tr>\n      <th>4</th>\n      <td>3330080762</td>\n      <td>1504554410899</td>\n      <td>2094</td>\n      <td>9</td>\n      <td>1</td>\n      <td>2</td>\n      <td>1</td>\n      <td>1</td>\n      <td>1</td>\n      <td>1</td>\n      <td>...</td>\n      <td>3</td>\n      <td>0</td>\n      <td>0</td>\n      <td>1</td>\n      <td>0</td>\n      <td>86</td>\n      <td>11</td>\n      <td>201</td>\n      <td>122</td>\n      <td>18</td>\n    </tr>\n    <tr>\n      <th>...</th>\n      <td>...</td>\n      <td>...</td>\n      <td>...</td>\n      <td>...</td>\n      <td>...</td>\n      <td>...</td>\n      <td>...</td>\n      <td>...</td>\n      <td>...</td>\n      <td>...</td>\n      <td>...</td>\n      <td>...</td>\n      <td>...</td>\n      <td>...</td>\n      <td>...</td>\n      <td>...</td>\n      <td>...</td>\n      <td>...</td>\n      <td>...</td>\n      <td>...</td>\n      <td>...</td>\n    </tr>\n    <tr>\n      <th>51485</th>\n      <td>3308904636</td>\n      <td>1503076540231</td>\n      <td>1944</td>\n      <td>9</td>\n      <td>2</td>\n      <td>1</td>\n      <td>2</td>\n      <td>2</td>\n      <td>0</td>\n      <td>2</td>\n      <td>...</td>\n      <td>10</td>\n      <td>2</td>\n      <td>0</td>\n      <td>4</td>\n      <td>0</td>\n      <td>55</td>\n      <td>-1</td>\n      <td>90</td>\n      <td>238</td>\n      <td>157</td>\n    </tr>\n    <tr>\n      <th>51486</th>\n      <td>3215685759</td>\n      <td>1496957179355</td>\n      <td>3304</td>\n      <td>9</td>\n      <td>2</td>\n      <td>1</td>\n      <td>1</td>\n      <td>2</td>\n      <td>2</td>\n      <td>2</td>\n      <td>...</td>\n      <td>11</td>\n      <td>7</td>\n      <td>4</td>\n      <td>4</td>\n      <td>1</td>\n      <td>157</td>\n      <td>55</td>\n      <td>119</td>\n      <td>154</td>\n      <td>105</td>\n    </tr>\n    <tr>\n      <th>51487</th>\n      <td>3322765040</td>\n      <td>1504029863961</td>\n      <td>2156</td>\n      <td>9</td>\n      <td>2</td>\n      <td>2</td>\n      <td>2</td>\n      <td>2</td>\n      <td>0</td>\n      <td>1</td>\n      <td>...</td>\n      <td>10</td>\n      <td>2</td>\n      <td>0</td>\n      <td>2</td>\n      <td>0</td>\n      <td>113</td>\n      <td>122</td>\n      <td>53</td>\n      <td>11</td>\n      <td>157</td>\n    </tr>\n    <tr>\n      <th>51488</th>\n      <td>3256675373</td>\n      <td>1499562036246</td>\n      <td>1475</td>\n      <td>9</td>\n      <td>2</td>\n      <td>2</td>\n      <td>2</td>\n      <td>2</td>\n      <td>0</td>\n      <td>2</td>\n      <td>...</td>\n      <td>11</td>\n      <td>3</td>\n      <td>0</td>\n      <td>1</td>\n      <td>0</td>\n      <td>154</td>\n      <td>39</td>\n      <td>51</td>\n      <td>90</td>\n      <td>114</td>\n    </tr>\n    <tr>\n      <th>51489</th>\n      <td>3317333020</td>\n      <td>1503612754059</td>\n      <td>1445</td>\n      <td>9</td>\n      <td>1</td>\n      <td>1</td>\n      <td>1</td>\n      <td>1</td>\n      <td>1</td>\n      <td>2</td>\n      <td>...</td>\n      <td>1</td>\n      <td>0</td>\n      <td>0</td>\n      <td>1</td>\n      <td>0</td>\n      <td>11</td>\n      <td>157</td>\n      <td>141</td>\n      <td>31</td>\n      <td>18</td>\n    </tr>\n  </tbody>\n</table>\n<p>51490 rows × 61 columns</p>\n</div>"
     },
     "execution_count": 5,
     "metadata": {},
     "output_type": "execute_result"
    }
   ],
   "source": [
    "# df의 데이터가 \\t로 구분되어 있음\n",
    "df = pd.read_csv('https://raw.githubusercontent.com/Datamanim/pandas/main/lol.csv', sep='\\t')\n",
    "df"
   ],
   "metadata": {
    "collapsed": false,
    "ExecuteTime": {
     "end_time": "2023-11-28T14:28:15.795014Z",
     "start_time": "2023-11-28T14:28:14.546193Z"
    }
   }
  },
  {
   "cell_type": "code",
   "execution_count": 6,
   "outputs": [
    {
     "data": {
      "text/plain": "       gameId   creationTime  gameDuration  seasonId  winner  firstBlood  \\\n0  3326086514  1504279457970          1949         9       1           2   \n1  3229566029  1497848803862          1851         9       1           1   \n2  3327363504  1504360103310          1493         9       1           2   \n3  3326856598  1504348503996          1758         9       1           1   \n4  3330080762  1504554410899          2094         9       1           2   \n\n   firstTower  firstInhibitor  firstBaron  firstDragon  ...  t2_towerKills  \\\n0           1               1           1            1  ...              5   \n1           1               1           0            1  ...              2   \n2           1               1           1            2  ...              2   \n3           1               1           1            1  ...              0   \n4           1               1           1            1  ...              3   \n\n   t2_inhibitorKills  t2_baronKills  t2_dragonKills  t2_riftHeraldKills  \\\n0                  0              0               1                   1   \n1                  0              0               0                   0   \n2                  0              0               1                   0   \n3                  0              0               0                   0   \n4                  0              0               1                   0   \n\n   t2_ban1  t2_ban2  t2_ban3  t2_ban4  t2_ban5  \n0      114       67       43       16       51  \n1       11       67      238       51      420  \n2      157      238      121       57       28  \n3      164       18      141       40       51  \n4       86       11      201      122       18  \n\n[5 rows x 61 columns]",
      "text/html": "<div>\n<style scoped>\n    .dataframe tbody tr th:only-of-type {\n        vertical-align: middle;\n    }\n\n    .dataframe tbody tr th {\n        vertical-align: top;\n    }\n\n    .dataframe thead th {\n        text-align: right;\n    }\n</style>\n<table border=\"1\" class=\"dataframe\">\n  <thead>\n    <tr style=\"text-align: right;\">\n      <th></th>\n      <th>gameId</th>\n      <th>creationTime</th>\n      <th>gameDuration</th>\n      <th>seasonId</th>\n      <th>winner</th>\n      <th>firstBlood</th>\n      <th>firstTower</th>\n      <th>firstInhibitor</th>\n      <th>firstBaron</th>\n      <th>firstDragon</th>\n      <th>...</th>\n      <th>t2_towerKills</th>\n      <th>t2_inhibitorKills</th>\n      <th>t2_baronKills</th>\n      <th>t2_dragonKills</th>\n      <th>t2_riftHeraldKills</th>\n      <th>t2_ban1</th>\n      <th>t2_ban2</th>\n      <th>t2_ban3</th>\n      <th>t2_ban4</th>\n      <th>t2_ban5</th>\n    </tr>\n  </thead>\n  <tbody>\n    <tr>\n      <th>0</th>\n      <td>3326086514</td>\n      <td>1504279457970</td>\n      <td>1949</td>\n      <td>9</td>\n      <td>1</td>\n      <td>2</td>\n      <td>1</td>\n      <td>1</td>\n      <td>1</td>\n      <td>1</td>\n      <td>...</td>\n      <td>5</td>\n      <td>0</td>\n      <td>0</td>\n      <td>1</td>\n      <td>1</td>\n      <td>114</td>\n      <td>67</td>\n      <td>43</td>\n      <td>16</td>\n      <td>51</td>\n    </tr>\n    <tr>\n      <th>1</th>\n      <td>3229566029</td>\n      <td>1497848803862</td>\n      <td>1851</td>\n      <td>9</td>\n      <td>1</td>\n      <td>1</td>\n      <td>1</td>\n      <td>1</td>\n      <td>0</td>\n      <td>1</td>\n      <td>...</td>\n      <td>2</td>\n      <td>0</td>\n      <td>0</td>\n      <td>0</td>\n      <td>0</td>\n      <td>11</td>\n      <td>67</td>\n      <td>238</td>\n      <td>51</td>\n      <td>420</td>\n    </tr>\n    <tr>\n      <th>2</th>\n      <td>3327363504</td>\n      <td>1504360103310</td>\n      <td>1493</td>\n      <td>9</td>\n      <td>1</td>\n      <td>2</td>\n      <td>1</td>\n      <td>1</td>\n      <td>1</td>\n      <td>2</td>\n      <td>...</td>\n      <td>2</td>\n      <td>0</td>\n      <td>0</td>\n      <td>1</td>\n      <td>0</td>\n      <td>157</td>\n      <td>238</td>\n      <td>121</td>\n      <td>57</td>\n      <td>28</td>\n    </tr>\n    <tr>\n      <th>3</th>\n      <td>3326856598</td>\n      <td>1504348503996</td>\n      <td>1758</td>\n      <td>9</td>\n      <td>1</td>\n      <td>1</td>\n      <td>1</td>\n      <td>1</td>\n      <td>1</td>\n      <td>1</td>\n      <td>...</td>\n      <td>0</td>\n      <td>0</td>\n      <td>0</td>\n      <td>0</td>\n      <td>0</td>\n      <td>164</td>\n      <td>18</td>\n      <td>141</td>\n      <td>40</td>\n      <td>51</td>\n    </tr>\n    <tr>\n      <th>4</th>\n      <td>3330080762</td>\n      <td>1504554410899</td>\n      <td>2094</td>\n      <td>9</td>\n      <td>1</td>\n      <td>2</td>\n      <td>1</td>\n      <td>1</td>\n      <td>1</td>\n      <td>1</td>\n      <td>...</td>\n      <td>3</td>\n      <td>0</td>\n      <td>0</td>\n      <td>1</td>\n      <td>0</td>\n      <td>86</td>\n      <td>11</td>\n      <td>201</td>\n      <td>122</td>\n      <td>18</td>\n    </tr>\n  </tbody>\n</table>\n<p>5 rows × 61 columns</p>\n</div>"
     },
     "execution_count": 6,
     "metadata": {},
     "output_type": "execute_result"
    }
   ],
   "source": [
    "df.head()"
   ],
   "metadata": {
    "collapsed": false,
    "ExecuteTime": {
     "end_time": "2023-11-28T14:28:38.415977Z",
     "start_time": "2023-11-28T14:28:38.410649Z"
    }
   }
  },
  {
   "cell_type": "code",
   "execution_count": 7,
   "outputs": [
    {
     "data": {
      "text/plain": "(51490, 61)"
     },
     "execution_count": 7,
     "metadata": {},
     "output_type": "execute_result"
    }
   ],
   "source": [
    "df.shape"
   ],
   "metadata": {
    "collapsed": false,
    "ExecuteTime": {
     "end_time": "2023-11-28T14:28:48.322774Z",
     "start_time": "2023-11-28T14:28:48.315777Z"
    }
   }
  },
  {
   "cell_type": "code",
   "execution_count": 8,
   "outputs": [
    {
     "data": {
      "text/plain": "Index(['gameId', 'creationTime', 'gameDuration', 'seasonId', 'winner',\n       'firstBlood', 'firstTower', 'firstInhibitor', 'firstBaron',\n       'firstDragon', 'firstRiftHerald', 't1_champ1id', 't1_champ1_sum1',\n       't1_champ1_sum2', 't1_champ2id', 't1_champ2_sum1', 't1_champ2_sum2',\n       't1_champ3id', 't1_champ3_sum1', 't1_champ3_sum2', 't1_champ4id',\n       't1_champ4_sum1', 't1_champ4_sum2', 't1_champ5id', 't1_champ5_sum1',\n       't1_champ5_sum2', 't1_towerKills', 't1_inhibitorKills', 't1_baronKills',\n       't1_dragonKills', 't1_riftHeraldKills', 't1_ban1', 't1_ban2', 't1_ban3',\n       't1_ban4', 't1_ban5', 't2_champ1id', 't2_champ1_sum1', 't2_champ1_sum2',\n       't2_champ2id', 't2_champ2_sum1', 't2_champ2_sum2', 't2_champ3id',\n       't2_champ3_sum1', 't2_champ3_sum2', 't2_champ4id', 't2_champ4_sum1',\n       't2_champ4_sum2', 't2_champ5id', 't2_champ5_sum1', 't2_champ5_sum2',\n       't2_towerKills', 't2_inhibitorKills', 't2_baronKills', 't2_dragonKills',\n       't2_riftHeraldKills', 't2_ban1', 't2_ban2', 't2_ban3', 't2_ban4',\n       't2_ban5'],\n      dtype='object')"
     },
     "execution_count": 8,
     "metadata": {},
     "output_type": "execute_result"
    }
   ],
   "source": [
    "df.columns"
   ],
   "metadata": {
    "collapsed": false,
    "ExecuteTime": {
     "end_time": "2023-11-28T14:29:06.346482Z",
     "start_time": "2023-11-28T14:29:06.340140Z"
    }
   }
  },
  {
   "cell_type": "code",
   "execution_count": 16,
   "outputs": [
    {
     "data": {
      "text/plain": "'firstBlood'"
     },
     "execution_count": 16,
     "metadata": {},
     "output_type": "execute_result"
    }
   ],
   "source": [
    "df.columns[5]"
   ],
   "metadata": {
    "collapsed": false,
    "ExecuteTime": {
     "end_time": "2023-11-28T14:30:24.927717Z",
     "start_time": "2023-11-28T14:30:24.922949Z"
    }
   }
  },
  {
   "cell_type": "code",
   "execution_count": 17,
   "outputs": [
    {
     "data": {
      "text/plain": "dtype('int64')"
     },
     "execution_count": 17,
     "metadata": {},
     "output_type": "execute_result"
    }
   ],
   "source": [
    "df['firstBlood'].dtypes"
   ],
   "metadata": {
    "collapsed": false,
    "ExecuteTime": {
     "end_time": "2023-11-28T14:30:37.021147Z",
     "start_time": "2023-11-28T14:30:37.015353Z"
    }
   }
  },
  {
   "cell_type": "code",
   "execution_count": 18,
   "outputs": [
    {
     "data": {
      "text/plain": "RangeIndex(start=0, stop=51490, step=1)"
     },
     "execution_count": 18,
     "metadata": {},
     "output_type": "execute_result"
    }
   ],
   "source": [
    "df.index"
   ],
   "metadata": {
    "collapsed": false,
    "ExecuteTime": {
     "end_time": "2023-11-28T14:30:50.918214Z",
     "start_time": "2023-11-28T14:30:50.912268Z"
    }
   }
  },
  {
   "cell_type": "code",
   "execution_count": 20,
   "outputs": [
    {
     "data": {
      "text/plain": "2"
     },
     "execution_count": 20,
     "metadata": {},
     "output_type": "execute_result"
    }
   ],
   "source": [
    "df['firstBlood'].loc[2]"
   ],
   "metadata": {
    "collapsed": false,
    "ExecuteTime": {
     "end_time": "2023-11-28T14:31:22.565957Z",
     "start_time": "2023-11-28T14:31:22.560076Z"
    }
   }
  },
  {
   "cell_type": "code",
   "execution_count": 21,
   "outputs": [],
   "source": [
    "DataUrl = 'https://raw.githubusercontent.com/Datamanim/pandas/main/Jeju.csv'\n",
    "df = pd.read_csv(DataUrl,encoding='euc-kr')"
   ],
   "metadata": {
    "collapsed": false,
    "ExecuteTime": {
     "end_time": "2023-11-28T14:32:21.475436Z",
     "start_time": "2023-11-28T14:32:20.222255Z"
    }
   }
  },
  {
   "cell_type": "code",
   "execution_count": 22,
   "outputs": [
    {
     "data": {
      "text/plain": "         id          일자   시도명 읍면동명         거주인구       근무인구        방문인구  \\\n9618  32066  2020-04-30   제주시  도두동    28397.481   3144.895   84052.697   \n9619  32067  2020-04-30  서귀포시  안덕면   348037.846  29106.286  251129.660   \n9620  32068  2020-04-30   제주시   연동  1010643.372  65673.477  447622.068   \n\n           총 유동인구   평균 속도  평균 소요 시간  평균 기온  일강수량  평균 풍속  \n9618   115595.073  41.053    29.421   20.3   0.0    3.0  \n9619   628273.792  46.595    49.189   17.6   0.0    3.5  \n9620  1523938.917  40.863    27.765   14.1   0.0    4.8  ",
      "text/html": "<div>\n<style scoped>\n    .dataframe tbody tr th:only-of-type {\n        vertical-align: middle;\n    }\n\n    .dataframe tbody tr th {\n        vertical-align: top;\n    }\n\n    .dataframe thead th {\n        text-align: right;\n    }\n</style>\n<table border=\"1\" class=\"dataframe\">\n  <thead>\n    <tr style=\"text-align: right;\">\n      <th></th>\n      <th>id</th>\n      <th>일자</th>\n      <th>시도명</th>\n      <th>읍면동명</th>\n      <th>거주인구</th>\n      <th>근무인구</th>\n      <th>방문인구</th>\n      <th>총 유동인구</th>\n      <th>평균 속도</th>\n      <th>평균 소요 시간</th>\n      <th>평균 기온</th>\n      <th>일강수량</th>\n      <th>평균 풍속</th>\n    </tr>\n  </thead>\n  <tbody>\n    <tr>\n      <th>9618</th>\n      <td>32066</td>\n      <td>2020-04-30</td>\n      <td>제주시</td>\n      <td>도두동</td>\n      <td>28397.481</td>\n      <td>3144.895</td>\n      <td>84052.697</td>\n      <td>115595.073</td>\n      <td>41.053</td>\n      <td>29.421</td>\n      <td>20.3</td>\n      <td>0.0</td>\n      <td>3.0</td>\n    </tr>\n    <tr>\n      <th>9619</th>\n      <td>32067</td>\n      <td>2020-04-30</td>\n      <td>서귀포시</td>\n      <td>안덕면</td>\n      <td>348037.846</td>\n      <td>29106.286</td>\n      <td>251129.660</td>\n      <td>628273.792</td>\n      <td>46.595</td>\n      <td>49.189</td>\n      <td>17.6</td>\n      <td>0.0</td>\n      <td>3.5</td>\n    </tr>\n    <tr>\n      <th>9620</th>\n      <td>32068</td>\n      <td>2020-04-30</td>\n      <td>제주시</td>\n      <td>연동</td>\n      <td>1010643.372</td>\n      <td>65673.477</td>\n      <td>447622.068</td>\n      <td>1523938.917</td>\n      <td>40.863</td>\n      <td>27.765</td>\n      <td>14.1</td>\n      <td>0.0</td>\n      <td>4.8</td>\n    </tr>\n  </tbody>\n</table>\n</div>"
     },
     "execution_count": 22,
     "metadata": {},
     "output_type": "execute_result"
    }
   ],
   "source": [
    "df.tail(3)"
   ],
   "metadata": {
    "collapsed": false,
    "ExecuteTime": {
     "end_time": "2023-11-28T14:32:30.488480Z",
     "start_time": "2023-11-28T14:32:30.483906Z"
    }
   }
  },
  {
   "cell_type": "code",
   "execution_count": 27,
   "outputs": [
    {
     "data": {
      "text/plain": "Index(['id', '거주인구', '근무인구', '방문인구', '총 유동인구', '평균 속도', '평균 소요 시간', '평균 기온',\n       '일강수량', '평균 풍속'],\n      dtype='object')"
     },
     "execution_count": 27,
     "metadata": {},
     "output_type": "execute_result"
    }
   ],
   "source": [
    "df.select_dtypes(exclude=object).columns  # 수치형"
   ],
   "metadata": {
    "collapsed": false,
    "ExecuteTime": {
     "end_time": "2023-11-28T14:33:40.964041Z",
     "start_time": "2023-11-28T14:33:40.956298Z"
    }
   }
  },
  {
   "cell_type": "code",
   "execution_count": 28,
   "outputs": [
    {
     "data": {
      "text/plain": "Index(['일자', '시도명', '읍면동명'], dtype='object')"
     },
     "execution_count": 28,
     "metadata": {},
     "output_type": "execute_result"
    }
   ],
   "source": [
    "df.select_dtypes(include=object).columns  # 범주혀==========]"
   ],
   "metadata": {
    "collapsed": false,
    "ExecuteTime": {
     "end_time": "2023-11-28T14:34:44.593677Z",
     "start_time": "2023-11-28T14:34:44.586352Z"
    }
   }
  },
  {
   "cell_type": "code",
   "execution_count": 29,
   "outputs": [
    {
     "data": {
      "text/plain": "id          0\n일자          0\n시도명         0\n읍면동명        0\n거주인구        0\n근무인구        0\n방문인구        0\n총 유동인구      0\n평균 속도       0\n평균 소요 시간    0\n평균 기온       0\n일강수량        0\n평균 풍속       0\ndtype: int64"
     },
     "execution_count": 29,
     "metadata": {},
     "output_type": "execute_result"
    }
   ],
   "source": [
    "df.isnull().sum()"
   ],
   "metadata": {
    "collapsed": false,
    "ExecuteTime": {
     "end_time": "2023-11-28T14:37:15.744488Z",
     "start_time": "2023-11-28T14:37:15.738824Z"
    }
   }
  },
  {
   "cell_type": "code",
   "execution_count": 30,
   "outputs": [
    {
     "name": "stdout",
     "output_type": "stream",
     "text": [
      "<class 'pandas.core.frame.DataFrame'>\n",
      "RangeIndex: 9621 entries, 0 to 9620\n",
      "Data columns (total 13 columns):\n",
      " #   Column    Non-Null Count  Dtype  \n",
      "---  ------    --------------  -----  \n",
      " 0   id        9621 non-null   int64  \n",
      " 1   일자        9621 non-null   object \n",
      " 2   시도명       9621 non-null   object \n",
      " 3   읍면동명      9621 non-null   object \n",
      " 4   거주인구      9621 non-null   float64\n",
      " 5   근무인구      9621 non-null   float64\n",
      " 6   방문인구      9621 non-null   float64\n",
      " 7   총 유동인구    9621 non-null   float64\n",
      " 8   평균 속도     9621 non-null   float64\n",
      " 9   평균 소요 시간  9621 non-null   float64\n",
      " 10  평균 기온     9621 non-null   float64\n",
      " 11  일강수량      9621 non-null   float64\n",
      " 12  평균 풍속     9621 non-null   float64\n",
      "dtypes: float64(9), int64(1), object(3)\n",
      "memory usage: 977.3+ KB\n"
     ]
    }
   ],
   "source": [
    "df.info()"
   ],
   "metadata": {
    "collapsed": false,
    "ExecuteTime": {
     "end_time": "2023-11-28T14:37:24.792549Z",
     "start_time": "2023-11-28T14:37:24.785772Z"
    }
   }
  },
  {
   "cell_type": "code",
   "execution_count": 31,
   "outputs": [
    {
     "data": {
      "text/plain": "                 id          거주인구           근무인구           방문인구        총 유동인구  \\\ncount   9621.000000  9.621000e+03    9621.000000    9621.000000  9.621000e+03   \nmean   27258.000000  3.174315e+05   35471.201510  195889.561802  5.487922e+05   \nstd     2777.487804  2.982079e+05   40381.214775  140706.090325  4.608802e+05   \nmin    22448.000000  9.305552e+03    1407.936000   11538.322000  2.225181e+04   \n25%    24853.000000  9.539939e+04   12074.498000   99632.153000  2.216910e+05   \n50%    27258.000000  2.221105e+05   21960.928000  152805.335000  3.866935e+05   \n75%    29663.000000  4.106671e+05   40192.032000  236325.109000  6.406918e+05   \nmax    32068.000000  1.364504e+06  263476.965000  723459.209000  2.066484e+06   \n\n             평균 속도     평균 소요 시간        평균 기온         일강수량        평균 풍속  \ncount  9621.000000  9621.000000  9621.000000  9621.000000  9621.000000  \nmean     41.109084    37.215873    13.550828     6.972426     2.753171  \nstd       8.758631    12.993786     7.745515    27.617260     1.498538  \nmin      24.333000    12.667000    -9.600000     0.000000     0.000000  \n25%      34.250000    27.889000     7.600000     0.000000     1.700000  \n50%      39.640000    34.500000    13.400000     0.000000     2.400000  \n75%      49.105000    46.176000    19.700000     1.500000     3.400000  \nmax     103.000000   172.200000    30.400000   587.500000    13.333000  ",
      "text/html": "<div>\n<style scoped>\n    .dataframe tbody tr th:only-of-type {\n        vertical-align: middle;\n    }\n\n    .dataframe tbody tr th {\n        vertical-align: top;\n    }\n\n    .dataframe thead th {\n        text-align: right;\n    }\n</style>\n<table border=\"1\" class=\"dataframe\">\n  <thead>\n    <tr style=\"text-align: right;\">\n      <th></th>\n      <th>id</th>\n      <th>거주인구</th>\n      <th>근무인구</th>\n      <th>방문인구</th>\n      <th>총 유동인구</th>\n      <th>평균 속도</th>\n      <th>평균 소요 시간</th>\n      <th>평균 기온</th>\n      <th>일강수량</th>\n      <th>평균 풍속</th>\n    </tr>\n  </thead>\n  <tbody>\n    <tr>\n      <th>count</th>\n      <td>9621.000000</td>\n      <td>9.621000e+03</td>\n      <td>9621.000000</td>\n      <td>9621.000000</td>\n      <td>9.621000e+03</td>\n      <td>9621.000000</td>\n      <td>9621.000000</td>\n      <td>9621.000000</td>\n      <td>9621.000000</td>\n      <td>9621.000000</td>\n    </tr>\n    <tr>\n      <th>mean</th>\n      <td>27258.000000</td>\n      <td>3.174315e+05</td>\n      <td>35471.201510</td>\n      <td>195889.561802</td>\n      <td>5.487922e+05</td>\n      <td>41.109084</td>\n      <td>37.215873</td>\n      <td>13.550828</td>\n      <td>6.972426</td>\n      <td>2.753171</td>\n    </tr>\n    <tr>\n      <th>std</th>\n      <td>2777.487804</td>\n      <td>2.982079e+05</td>\n      <td>40381.214775</td>\n      <td>140706.090325</td>\n      <td>4.608802e+05</td>\n      <td>8.758631</td>\n      <td>12.993786</td>\n      <td>7.745515</td>\n      <td>27.617260</td>\n      <td>1.498538</td>\n    </tr>\n    <tr>\n      <th>min</th>\n      <td>22448.000000</td>\n      <td>9.305552e+03</td>\n      <td>1407.936000</td>\n      <td>11538.322000</td>\n      <td>2.225181e+04</td>\n      <td>24.333000</td>\n      <td>12.667000</td>\n      <td>-9.600000</td>\n      <td>0.000000</td>\n      <td>0.000000</td>\n    </tr>\n    <tr>\n      <th>25%</th>\n      <td>24853.000000</td>\n      <td>9.539939e+04</td>\n      <td>12074.498000</td>\n      <td>99632.153000</td>\n      <td>2.216910e+05</td>\n      <td>34.250000</td>\n      <td>27.889000</td>\n      <td>7.600000</td>\n      <td>0.000000</td>\n      <td>1.700000</td>\n    </tr>\n    <tr>\n      <th>50%</th>\n      <td>27258.000000</td>\n      <td>2.221105e+05</td>\n      <td>21960.928000</td>\n      <td>152805.335000</td>\n      <td>3.866935e+05</td>\n      <td>39.640000</td>\n      <td>34.500000</td>\n      <td>13.400000</td>\n      <td>0.000000</td>\n      <td>2.400000</td>\n    </tr>\n    <tr>\n      <th>75%</th>\n      <td>29663.000000</td>\n      <td>4.106671e+05</td>\n      <td>40192.032000</td>\n      <td>236325.109000</td>\n      <td>6.406918e+05</td>\n      <td>49.105000</td>\n      <td>46.176000</td>\n      <td>19.700000</td>\n      <td>1.500000</td>\n      <td>3.400000</td>\n    </tr>\n    <tr>\n      <th>max</th>\n      <td>32068.000000</td>\n      <td>1.364504e+06</td>\n      <td>263476.965000</td>\n      <td>723459.209000</td>\n      <td>2.066484e+06</td>\n      <td>103.000000</td>\n      <td>172.200000</td>\n      <td>30.400000</td>\n      <td>587.500000</td>\n      <td>13.333000</td>\n    </tr>\n  </tbody>\n</table>\n</div>"
     },
     "execution_count": 31,
     "metadata": {},
     "output_type": "execute_result"
    }
   ],
   "source": [
    "df.describe()"
   ],
   "metadata": {
    "collapsed": false,
    "ExecuteTime": {
     "end_time": "2023-11-28T14:37:40.375059Z",
     "start_time": "2023-11-28T14:37:40.361493Z"
    }
   }
  },
  {
   "cell_type": "code",
   "execution_count": 32,
   "outputs": [
    {
     "data": {
      "text/plain": "0         32249.987\n1        213500.997\n2       1212382.218\n3         33991.653\n4        155036.925\n           ...     \n9616     228260.005\n9617     459959.064\n9618      28397.481\n9619     348037.846\n9620    1010643.372\nName: 거주인구, Length: 9621, dtype: float64"
     },
     "execution_count": 32,
     "metadata": {},
     "output_type": "execute_result"
    }
   ],
   "source": [
    "df['거주인구']"
   ],
   "metadata": {
    "collapsed": false,
    "ExecuteTime": {
     "end_time": "2023-11-28T14:37:53.532017Z",
     "start_time": "2023-11-28T14:37:53.525382Z"
    }
   }
  },
  {
   "cell_type": "code",
   "execution_count": 39,
   "outputs": [
    {
     "name": "stdout",
     "output_type": "stream",
     "text": [
      "14.854999999999997\n"
     ]
    }
   ],
   "source": [
    "q1 = df['평균 속도'].quantile(.25)\n",
    "q3 = df['평균 속도'].quantile(.75)\n",
    "print(q3 - q1)"
   ],
   "metadata": {
    "collapsed": false,
    "ExecuteTime": {
     "end_time": "2023-11-28T14:39:08.341849Z",
     "start_time": "2023-11-28T14:39:08.337164Z"
    }
   }
  },
  {
   "cell_type": "code",
   "execution_count": 44,
   "outputs": [
    {
     "data": {
      "text/plain": "41"
     },
     "execution_count": 44,
     "metadata": {},
     "output_type": "execute_result"
    }
   ],
   "source": [
    "len(df['읍면동명'].unique())"
   ],
   "metadata": {
    "collapsed": false,
    "ExecuteTime": {
     "end_time": "2023-11-28T14:40:01.690457Z",
     "start_time": "2023-11-28T14:40:01.682554Z"
    }
   }
  },
  {
   "cell_type": "code",
   "execution_count": 45,
   "outputs": [
    {
     "data": {
      "text/plain": "array(['도두동', '외도동', '이도2동', '일도1동', '대천동', '서홍동', '한경면', '송산동', '조천읍',\n       '일도2동', '영천동', '예래동', '대륜동', '삼도1동', '이호동', '건입동', '중앙동', '삼양동',\n       '삼도2동', '이도1동', '남원읍', '대정읍', '정방동', '효돈동', '아라동', '한림읍', '구좌읍',\n       '용담1동', '오라동', '화북동', '연동', '표선면', '중문동', '성산읍', '안덕면', '천지동',\n       '노형동', '동홍동', '용담2동', '봉개동', '애월읍'], dtype=object)"
     },
     "execution_count": 45,
     "metadata": {},
     "output_type": "execute_result"
    }
   ],
   "source": [
    "df['읍면동명'].unique()"
   ],
   "metadata": {
    "collapsed": false,
    "ExecuteTime": {
     "end_time": "2023-11-28T14:40:12.086021Z",
     "start_time": "2023-11-28T14:40:12.078887Z"
    }
   }
  },
  {
   "cell_type": "code",
   "execution_count": 102,
   "outputs": [
    {
     "data": {
      "text/plain": "      order_id  quantity                              item_name  \\\n0            1         1           Chips and Fresh Tomato Salsa   \n1            1         1                                   Izze   \n2            1         1                       Nantucket Nectar   \n3            1         1  Chips and Tomatillo-Green Chili Salsa   \n4            2         2                           Chicken Bowl   \n...        ...       ...                                    ...   \n4617      1833         1                          Steak Burrito   \n4618      1833         1                          Steak Burrito   \n4619      1834         1                     Chicken Salad Bowl   \n4620      1834         1                     Chicken Salad Bowl   \n4621      1834         1                     Chicken Salad Bowl   \n\n                                     choice_description item_price  \n0                                                   NaN     $2.39   \n1                                          [Clementine]     $3.39   \n2                                               [Apple]     $3.39   \n3                                                   NaN     $2.39   \n4     [Tomatillo-Red Chili Salsa (Hot), [Black Beans...    $16.98   \n...                                                 ...        ...  \n4617  [Fresh Tomato Salsa, [Rice, Black Beans, Sour ...    $11.75   \n4618  [Fresh Tomato Salsa, [Rice, Sour Cream, Cheese...    $11.75   \n4619  [Fresh Tomato Salsa, [Fajita Vegetables, Pinto...    $11.25   \n4620  [Fresh Tomato Salsa, [Fajita Vegetables, Lettu...     $8.75   \n4621  [Fresh Tomato Salsa, [Fajita Vegetables, Pinto...     $8.75   \n\n[4622 rows x 5 columns]",
      "text/html": "<div>\n<style scoped>\n    .dataframe tbody tr th:only-of-type {\n        vertical-align: middle;\n    }\n\n    .dataframe tbody tr th {\n        vertical-align: top;\n    }\n\n    .dataframe thead th {\n        text-align: right;\n    }\n</style>\n<table border=\"1\" class=\"dataframe\">\n  <thead>\n    <tr style=\"text-align: right;\">\n      <th></th>\n      <th>order_id</th>\n      <th>quantity</th>\n      <th>item_name</th>\n      <th>choice_description</th>\n      <th>item_price</th>\n    </tr>\n  </thead>\n  <tbody>\n    <tr>\n      <th>0</th>\n      <td>1</td>\n      <td>1</td>\n      <td>Chips and Fresh Tomato Salsa</td>\n      <td>NaN</td>\n      <td>$2.39</td>\n    </tr>\n    <tr>\n      <th>1</th>\n      <td>1</td>\n      <td>1</td>\n      <td>Izze</td>\n      <td>[Clementine]</td>\n      <td>$3.39</td>\n    </tr>\n    <tr>\n      <th>2</th>\n      <td>1</td>\n      <td>1</td>\n      <td>Nantucket Nectar</td>\n      <td>[Apple]</td>\n      <td>$3.39</td>\n    </tr>\n    <tr>\n      <th>3</th>\n      <td>1</td>\n      <td>1</td>\n      <td>Chips and Tomatillo-Green Chili Salsa</td>\n      <td>NaN</td>\n      <td>$2.39</td>\n    </tr>\n    <tr>\n      <th>4</th>\n      <td>2</td>\n      <td>2</td>\n      <td>Chicken Bowl</td>\n      <td>[Tomatillo-Red Chili Salsa (Hot), [Black Beans...</td>\n      <td>$16.98</td>\n    </tr>\n    <tr>\n      <th>...</th>\n      <td>...</td>\n      <td>...</td>\n      <td>...</td>\n      <td>...</td>\n      <td>...</td>\n    </tr>\n    <tr>\n      <th>4617</th>\n      <td>1833</td>\n      <td>1</td>\n      <td>Steak Burrito</td>\n      <td>[Fresh Tomato Salsa, [Rice, Black Beans, Sour ...</td>\n      <td>$11.75</td>\n    </tr>\n    <tr>\n      <th>4618</th>\n      <td>1833</td>\n      <td>1</td>\n      <td>Steak Burrito</td>\n      <td>[Fresh Tomato Salsa, [Rice, Sour Cream, Cheese...</td>\n      <td>$11.75</td>\n    </tr>\n    <tr>\n      <th>4619</th>\n      <td>1834</td>\n      <td>1</td>\n      <td>Chicken Salad Bowl</td>\n      <td>[Fresh Tomato Salsa, [Fajita Vegetables, Pinto...</td>\n      <td>$11.25</td>\n    </tr>\n    <tr>\n      <th>4620</th>\n      <td>1834</td>\n      <td>1</td>\n      <td>Chicken Salad Bowl</td>\n      <td>[Fresh Tomato Salsa, [Fajita Vegetables, Lettu...</td>\n      <td>$8.75</td>\n    </tr>\n    <tr>\n      <th>4621</th>\n      <td>1834</td>\n      <td>1</td>\n      <td>Chicken Salad Bowl</td>\n      <td>[Fresh Tomato Salsa, [Fajita Vegetables, Pinto...</td>\n      <td>$8.75</td>\n    </tr>\n  </tbody>\n</table>\n<p>4622 rows × 5 columns</p>\n</div>"
     },
     "execution_count": 102,
     "metadata": {},
     "output_type": "execute_result"
    }
   ],
   "source": [
    "DataUrl = 'https://raw.githubusercontent.com/Datamanim/pandas/main/chipo.csv'\n",
    "df = pd.read_csv(DataUrl)\n",
    "df"
   ],
   "metadata": {
    "collapsed": false,
    "ExecuteTime": {
     "end_time": "2023-11-28T15:07:12.698208Z",
     "start_time": "2023-11-28T15:07:12.413452Z"
    }
   }
  },
  {
   "cell_type": "markdown",
   "source": [],
   "metadata": {
    "collapsed": false
   }
  },
  {
   "cell_type": "code",
   "execution_count": 50,
   "outputs": [
    {
     "data": {
      "text/plain": "     order_id  quantity          item_name  \\\n409       178         3       Chicken Bowl   \n445       193         3               Bowl   \n689       284         3  Canned Soft Drink   \n818       338         3      Bottled Water   \n850       350         3  Canned Soft Drink   \n\n                                    choice_description item_price  \n409  [[Fresh Tomato Salsa (Mild), Tomatillo-Green C...    $32.94   \n445  [Braised Carnitas, Pinto Beans, [Sour Cream, C...    $22.20   \n689                                        [Diet Coke]     $3.75   \n818                                                NaN     $3.27   \n850                                           [Sprite]     $3.75   ",
      "text/html": "<div>\n<style scoped>\n    .dataframe tbody tr th:only-of-type {\n        vertical-align: middle;\n    }\n\n    .dataframe tbody tr th {\n        vertical-align: top;\n    }\n\n    .dataframe thead th {\n        text-align: right;\n    }\n</style>\n<table border=\"1\" class=\"dataframe\">\n  <thead>\n    <tr style=\"text-align: right;\">\n      <th></th>\n      <th>order_id</th>\n      <th>quantity</th>\n      <th>item_name</th>\n      <th>choice_description</th>\n      <th>item_price</th>\n    </tr>\n  </thead>\n  <tbody>\n    <tr>\n      <th>409</th>\n      <td>178</td>\n      <td>3</td>\n      <td>Chicken Bowl</td>\n      <td>[[Fresh Tomato Salsa (Mild), Tomatillo-Green C...</td>\n      <td>$32.94</td>\n    </tr>\n    <tr>\n      <th>445</th>\n      <td>193</td>\n      <td>3</td>\n      <td>Bowl</td>\n      <td>[Braised Carnitas, Pinto Beans, [Sour Cream, C...</td>\n      <td>$22.20</td>\n    </tr>\n    <tr>\n      <th>689</th>\n      <td>284</td>\n      <td>3</td>\n      <td>Canned Soft Drink</td>\n      <td>[Diet Coke]</td>\n      <td>$3.75</td>\n    </tr>\n    <tr>\n      <th>818</th>\n      <td>338</td>\n      <td>3</td>\n      <td>Bottled Water</td>\n      <td>NaN</td>\n      <td>$3.27</td>\n    </tr>\n    <tr>\n      <th>850</th>\n      <td>350</td>\n      <td>3</td>\n      <td>Canned Soft Drink</td>\n      <td>[Sprite]</td>\n      <td>$3.75</td>\n    </tr>\n  </tbody>\n</table>\n</div>"
     },
     "execution_count": 50,
     "metadata": {},
     "output_type": "execute_result"
    }
   ],
   "source": [
    "df[df['quantity'] == 3].head()"
   ],
   "metadata": {
    "collapsed": false,
    "ExecuteTime": {
     "end_time": "2023-11-28T14:40:59.337930Z",
     "start_time": "2023-11-28T14:40:59.334805Z"
    }
   }
  },
  {
   "cell_type": "code",
   "execution_count": 59,
   "outputs": [
    {
     "data": {
      "text/plain": "   order_id  quantity          item_name  \\\n0       178         3       Chicken Bowl   \n1       193         3               Bowl   \n2       284         3  Canned Soft Drink   \n3       338         3      Bottled Water   \n4       350         3  Canned Soft Drink   \n\n                                  choice_description item_price  \n0  [[Fresh Tomato Salsa (Mild), Tomatillo-Green C...    $32.94   \n1  [Braised Carnitas, Pinto Beans, [Sour Cream, C...    $22.20   \n2                                        [Diet Coke]     $3.75   \n3                                                NaN     $3.27   \n4                                           [Sprite]     $3.75   ",
      "text/html": "<div>\n<style scoped>\n    .dataframe tbody tr th:only-of-type {\n        vertical-align: middle;\n    }\n\n    .dataframe tbody tr th {\n        vertical-align: top;\n    }\n\n    .dataframe thead th {\n        text-align: right;\n    }\n</style>\n<table border=\"1\" class=\"dataframe\">\n  <thead>\n    <tr style=\"text-align: right;\">\n      <th></th>\n      <th>order_id</th>\n      <th>quantity</th>\n      <th>item_name</th>\n      <th>choice_description</th>\n      <th>item_price</th>\n    </tr>\n  </thead>\n  <tbody>\n    <tr>\n      <th>0</th>\n      <td>178</td>\n      <td>3</td>\n      <td>Chicken Bowl</td>\n      <td>[[Fresh Tomato Salsa (Mild), Tomatillo-Green C...</td>\n      <td>$32.94</td>\n    </tr>\n    <tr>\n      <th>1</th>\n      <td>193</td>\n      <td>3</td>\n      <td>Bowl</td>\n      <td>[Braised Carnitas, Pinto Beans, [Sour Cream, C...</td>\n      <td>$22.20</td>\n    </tr>\n    <tr>\n      <th>2</th>\n      <td>284</td>\n      <td>3</td>\n      <td>Canned Soft Drink</td>\n      <td>[Diet Coke]</td>\n      <td>$3.75</td>\n    </tr>\n    <tr>\n      <th>3</th>\n      <td>338</td>\n      <td>3</td>\n      <td>Bottled Water</td>\n      <td>NaN</td>\n      <td>$3.27</td>\n    </tr>\n    <tr>\n      <th>4</th>\n      <td>350</td>\n      <td>3</td>\n      <td>Canned Soft Drink</td>\n      <td>[Sprite]</td>\n      <td>$3.75</td>\n    </tr>\n  </tbody>\n</table>\n</div>"
     },
     "execution_count": 59,
     "metadata": {},
     "output_type": "execute_result"
    }
   ],
   "source": [
    "df[df['quantity'] == 3].reset_index(drop=True).head()"
   ],
   "metadata": {
    "collapsed": false,
    "ExecuteTime": {
     "end_time": "2023-11-28T14:42:45.430567Z",
     "start_time": "2023-11-28T14:42:45.427151Z"
    }
   }
  },
  {
   "cell_type": "code",
   "execution_count": 60,
   "outputs": [
    {
     "data": {
      "text/plain": "      quantity item_price\n0            1     $2.39 \n1            1     $3.39 \n2            1     $3.39 \n3            1     $2.39 \n4            2    $16.98 \n...        ...        ...\n4617         1    $11.75 \n4618         1    $11.75 \n4619         1    $11.25 \n4620         1     $8.75 \n4621         1     $8.75 \n\n[4622 rows x 2 columns]",
      "text/html": "<div>\n<style scoped>\n    .dataframe tbody tr th:only-of-type {\n        vertical-align: middle;\n    }\n\n    .dataframe tbody tr th {\n        vertical-align: top;\n    }\n\n    .dataframe thead th {\n        text-align: right;\n    }\n</style>\n<table border=\"1\" class=\"dataframe\">\n  <thead>\n    <tr style=\"text-align: right;\">\n      <th></th>\n      <th>quantity</th>\n      <th>item_price</th>\n    </tr>\n  </thead>\n  <tbody>\n    <tr>\n      <th>0</th>\n      <td>1</td>\n      <td>$2.39</td>\n    </tr>\n    <tr>\n      <th>1</th>\n      <td>1</td>\n      <td>$3.39</td>\n    </tr>\n    <tr>\n      <th>2</th>\n      <td>1</td>\n      <td>$3.39</td>\n    </tr>\n    <tr>\n      <th>3</th>\n      <td>1</td>\n      <td>$2.39</td>\n    </tr>\n    <tr>\n      <th>4</th>\n      <td>2</td>\n      <td>$16.98</td>\n    </tr>\n    <tr>\n      <th>...</th>\n      <td>...</td>\n      <td>...</td>\n    </tr>\n    <tr>\n      <th>4617</th>\n      <td>1</td>\n      <td>$11.75</td>\n    </tr>\n    <tr>\n      <th>4618</th>\n      <td>1</td>\n      <td>$11.75</td>\n    </tr>\n    <tr>\n      <th>4619</th>\n      <td>1</td>\n      <td>$11.25</td>\n    </tr>\n    <tr>\n      <th>4620</th>\n      <td>1</td>\n      <td>$8.75</td>\n    </tr>\n    <tr>\n      <th>4621</th>\n      <td>1</td>\n      <td>$8.75</td>\n    </tr>\n  </tbody>\n</table>\n<p>4622 rows × 2 columns</p>\n</div>"
     },
     "execution_count": 60,
     "metadata": {},
     "output_type": "execute_result"
    }
   ],
   "source": [
    "df[['quantity', 'item_price']]"
   ],
   "metadata": {
    "collapsed": false,
    "ExecuteTime": {
     "end_time": "2023-11-28T14:46:28.598693Z",
     "start_time": "2023-11-28T14:46:28.594054Z"
    }
   }
  },
  {
   "cell_type": "code",
   "execution_count": 64,
   "outputs": [
    {
     "data": {
      "text/plain": "dtype('float64')"
     },
     "execution_count": 64,
     "metadata": {},
     "output_type": "execute_result"
    }
   ],
   "source": [
    "df['item_price'] = df['item_price'].str[1:].astype('float')\n",
    "df['item_price'].dtypes"
   ],
   "metadata": {
    "collapsed": false,
    "ExecuteTime": {
     "end_time": "2023-11-28T14:49:12.072122Z",
     "start_time": "2023-11-28T14:49:12.067219Z"
    }
   }
  },
  {
   "cell_type": "code",
   "execution_count": 103,
   "outputs": [
    {
     "data": {
      "text/plain": "dtype('float64')"
     },
     "execution_count": 103,
     "metadata": {},
     "output_type": "execute_result"
    }
   ],
   "source": [
    "df['item_price'] = df['item_price'].str.replace('$', '')  # str 붙여서 실행해야 함 - 열 전체가 아니라 하나의 값에 대해서만 사용할 수 있음\n",
    "df['new_price'] = df['item_price'].astype(float)\n",
    "df['new_price'].dtypes"
   ],
   "metadata": {
    "collapsed": false,
    "ExecuteTime": {
     "end_time": "2023-11-28T15:07:15.897650Z",
     "start_time": "2023-11-28T15:07:15.891670Z"
    }
   }
  },
  {
   "cell_type": "code",
   "execution_count": 78,
   "outputs": [
    {
     "data": {
      "text/plain": "1652"
     },
     "execution_count": 78,
     "metadata": {},
     "output_type": "execute_result"
    }
   ],
   "source": [
    "len(df [df['new_price'] <= 5])"
   ],
   "metadata": {
    "collapsed": false,
    "ExecuteTime": {
     "end_time": "2023-11-28T14:57:39.159707Z",
     "start_time": "2023-11-28T14:57:39.153117Z"
    }
   }
  },
  {
   "cell_type": "code",
   "execution_count": 82,
   "outputs": [
    {
     "data": {
      "text/plain": "     order_id  quantity           item_name  \\\n0          20         1  Chicken Salad Bowl   \n1          60         2  Chicken Salad Bowl   \n2          94         2  Chicken Salad Bowl   \n3         111         1  Chicken Salad Bowl   \n4         137         2  Chicken Salad Bowl   \n..        ...       ...                 ...   \n105      1813         2  Chicken Salad Bowl   \n106      1822         1  Chicken Salad Bowl   \n107      1834         1  Chicken Salad Bowl   \n108      1834         1  Chicken Salad Bowl   \n109      1834         1  Chicken Salad Bowl   \n\n                                    choice_description item_price  new_price  \n0    [Fresh Tomato Salsa, [Fajita Vegetables, Pinto...      8.75        8.75  \n1    [Tomatillo Green Chili Salsa, [Sour Cream, Che...     22.50       22.50  \n2    [Fresh Tomato Salsa, [Fajita Vegetables, Pinto...     22.50       22.50  \n3    [Fresh Tomato Salsa, [Fajita Vegetables, Rice,...      8.75        8.75  \n4              [Fresh Tomato Salsa, Fajita Vegetables]     17.50       17.50  \n..                                                 ...        ...        ...  \n105  [Fresh Tomato Salsa, [Fajita Vegetables, Pinto...     17.50       17.50  \n106  [Fresh Tomato Salsa, [Black Beans, Cheese, Gua...     11.25       11.25  \n107  [Fresh Tomato Salsa, [Fajita Vegetables, Pinto...     11.25       11.25  \n108  [Fresh Tomato Salsa, [Fajita Vegetables, Lettu...      8.75        8.75  \n109  [Fresh Tomato Salsa, [Fajita Vegetables, Pinto...      8.75        8.75  \n\n[110 rows x 6 columns]",
      "text/html": "<div>\n<style scoped>\n    .dataframe tbody tr th:only-of-type {\n        vertical-align: middle;\n    }\n\n    .dataframe tbody tr th {\n        vertical-align: top;\n    }\n\n    .dataframe thead th {\n        text-align: right;\n    }\n</style>\n<table border=\"1\" class=\"dataframe\">\n  <thead>\n    <tr style=\"text-align: right;\">\n      <th></th>\n      <th>order_id</th>\n      <th>quantity</th>\n      <th>item_name</th>\n      <th>choice_description</th>\n      <th>item_price</th>\n      <th>new_price</th>\n    </tr>\n  </thead>\n  <tbody>\n    <tr>\n      <th>0</th>\n      <td>20</td>\n      <td>1</td>\n      <td>Chicken Salad Bowl</td>\n      <td>[Fresh Tomato Salsa, [Fajita Vegetables, Pinto...</td>\n      <td>8.75</td>\n      <td>8.75</td>\n    </tr>\n    <tr>\n      <th>1</th>\n      <td>60</td>\n      <td>2</td>\n      <td>Chicken Salad Bowl</td>\n      <td>[Tomatillo Green Chili Salsa, [Sour Cream, Che...</td>\n      <td>22.50</td>\n      <td>22.50</td>\n    </tr>\n    <tr>\n      <th>2</th>\n      <td>94</td>\n      <td>2</td>\n      <td>Chicken Salad Bowl</td>\n      <td>[Fresh Tomato Salsa, [Fajita Vegetables, Pinto...</td>\n      <td>22.50</td>\n      <td>22.50</td>\n    </tr>\n    <tr>\n      <th>3</th>\n      <td>111</td>\n      <td>1</td>\n      <td>Chicken Salad Bowl</td>\n      <td>[Fresh Tomato Salsa, [Fajita Vegetables, Rice,...</td>\n      <td>8.75</td>\n      <td>8.75</td>\n    </tr>\n    <tr>\n      <th>4</th>\n      <td>137</td>\n      <td>2</td>\n      <td>Chicken Salad Bowl</td>\n      <td>[Fresh Tomato Salsa, Fajita Vegetables]</td>\n      <td>17.50</td>\n      <td>17.50</td>\n    </tr>\n    <tr>\n      <th>...</th>\n      <td>...</td>\n      <td>...</td>\n      <td>...</td>\n      <td>...</td>\n      <td>...</td>\n      <td>...</td>\n    </tr>\n    <tr>\n      <th>105</th>\n      <td>1813</td>\n      <td>2</td>\n      <td>Chicken Salad Bowl</td>\n      <td>[Fresh Tomato Salsa, [Fajita Vegetables, Pinto...</td>\n      <td>17.50</td>\n      <td>17.50</td>\n    </tr>\n    <tr>\n      <th>106</th>\n      <td>1822</td>\n      <td>1</td>\n      <td>Chicken Salad Bowl</td>\n      <td>[Fresh Tomato Salsa, [Black Beans, Cheese, Gua...</td>\n      <td>11.25</td>\n      <td>11.25</td>\n    </tr>\n    <tr>\n      <th>107</th>\n      <td>1834</td>\n      <td>1</td>\n      <td>Chicken Salad Bowl</td>\n      <td>[Fresh Tomato Salsa, [Fajita Vegetables, Pinto...</td>\n      <td>11.25</td>\n      <td>11.25</td>\n    </tr>\n    <tr>\n      <th>108</th>\n      <td>1834</td>\n      <td>1</td>\n      <td>Chicken Salad Bowl</td>\n      <td>[Fresh Tomato Salsa, [Fajita Vegetables, Lettu...</td>\n      <td>8.75</td>\n      <td>8.75</td>\n    </tr>\n    <tr>\n      <th>109</th>\n      <td>1834</td>\n      <td>1</td>\n      <td>Chicken Salad Bowl</td>\n      <td>[Fresh Tomato Salsa, [Fajita Vegetables, Pinto...</td>\n      <td>8.75</td>\n      <td>8.75</td>\n    </tr>\n  </tbody>\n</table>\n<p>110 rows × 6 columns</p>\n</div>"
     },
     "execution_count": 82,
     "metadata": {},
     "output_type": "execute_result"
    }
   ],
   "source": [
    "df [df['item_name'] == 'Chicken Salad Bowl'].reset_index(drop=True)"
   ],
   "metadata": {
    "collapsed": false,
    "ExecuteTime": {
     "end_time": "2023-11-28T14:58:39.224793Z",
     "start_time": "2023-11-28T14:58:39.216658Z"
    }
   }
  },
  {
   "cell_type": "code",
   "execution_count": 83,
   "outputs": [
    {
     "data": {
      "text/plain": "      order_id  quantity           item_name  \\\n44          20         1  Chicken Salad Bowl   \n256        111         1  Chicken Salad Bowl   \n526        220         1  Chicken Salad Bowl   \n528        221         1  Chicken Salad Bowl   \n529        221         1  Chicken Salad Bowl   \n568        234         1  Chicken Salad Bowl   \n585        240         1  Chicken Salad Bowl   \n693        286         1  Chicken Salad Bowl   \n702        289         1  Chicken Salad Bowl   \n762        314         1  Chicken Salad Bowl   \n1109       458         1  Chicken Salad Bowl   \n1460       592         1  Chicken Salad Bowl   \n1471       598         1  Chicken Salad Bowl   \n1483       602         1  Chicken Salad Bowl   \n1547       628         1  Chicken Salad Bowl   \n1601       649         1  Chicken Salad Bowl   \n1621       654         1  Chicken Salad Bowl   \n1756       709         1  Chicken Salad Bowl   \n1977       798         1  Chicken Salad Bowl   \n2031       818         1  Chicken Salad Bowl   \n2113       850         1  Chicken Salad Bowl   \n2224       896         1  Chicken Salad Bowl   \n2314       926         1  Chicken Salad Bowl   \n2728      1083         1  Chicken Salad Bowl   \n2858      1136         1  Chicken Salad Bowl   \n2883      1145         1  Chicken Salad Bowl   \n2897      1152         1  Chicken Salad Bowl   \n2989      1189         1  Chicken Salad Bowl   \n3033      1206         1  Chicken Salad Bowl   \n3069      1222         1  Chicken Salad Bowl   \n3117      1243         1  Chicken Salad Bowl   \n3259      1305         1  Chicken Salad Bowl   \n3261      1305         1  Chicken Salad Bowl   \n3310      1327         1  Chicken Salad Bowl   \n3315      1329         1  Chicken Salad Bowl   \n3381      1357         1  Chicken Salad Bowl   \n3411      1368         1  Chicken Salad Bowl   \n3623      1450         1  Chicken Salad Bowl   \n3656      1461         1  Chicken Salad Bowl   \n3706      1483         1  Chicken Salad Bowl   \n3712      1483         1  Chicken Salad Bowl   \n3790      1517         1  Chicken Salad Bowl   \n3798      1521         1  Chicken Salad Bowl   \n3974      1592         1  Chicken Salad Bowl   \n3997      1601         1  Chicken Salad Bowl   \n4012      1606         1  Chicken Salad Bowl   \n4035      1615         1  Chicken Salad Bowl   \n4064      1627         1  Chicken Salad Bowl   \n4205      1679         1  Chicken Salad Bowl   \n4207      1679         1  Chicken Salad Bowl   \n4333      1730         1  Chicken Salad Bowl   \n4352      1738         1  Chicken Salad Bowl   \n4439      1769         1  Chicken Salad Bowl   \n4520      1797         1  Chicken Salad Bowl   \n4620      1834         1  Chicken Salad Bowl   \n4621      1834         1  Chicken Salad Bowl   \n\n                                     choice_description item_price  new_price  \n44    [Fresh Tomato Salsa, [Fajita Vegetables, Pinto...      8.75        8.75  \n256   [Fresh Tomato Salsa, [Fajita Vegetables, Rice,...      8.75        8.75  \n526   [Roasted Chili Corn Salsa, [Black Beans, Sour ...      8.75        8.75  \n528   [Tomatillo Green Chili Salsa, [Fajita Vegetabl...      8.75        8.75  \n529   [Tomatillo Green Chili Salsa, [Fajita Vegetabl...      8.75        8.75  \n568             [Fresh Tomato Salsa, Fajita Vegetables]      8.75        8.75  \n585             [Fresh Tomato Salsa, Fajita Vegetables]      8.75        8.75  \n693   [Fresh Tomato Salsa, [Sour Cream, Cheese, Lett...      8.75        8.75  \n702   [Tomatillo Red Chili Salsa, [Black Beans, Chee...      8.75        8.75  \n762   [Fresh Tomato Salsa, [Fajita Vegetables, Lettu...      8.75        8.75  \n1109  [Fresh Tomato Salsa, [Fajita Vegetables, Rice,...      8.75        8.75  \n1460                      [Fresh Tomato Salsa, Lettuce]      8.75        8.75  \n1471  [Roasted Chili Corn Salsa, [Fajita Vegetables,...      8.75        8.75  \n1483  [Fresh Tomato Salsa, [Fajita Vegetables, Chees...      8.75        8.75  \n1547  [Fresh Tomato Salsa, [Fajita Vegetables, Rice,...      8.75        8.75  \n1601  [Roasted Chili Corn Salsa, [Fajita Vegetables,...      8.75        8.75  \n1621  [Roasted Chili Corn Salsa, [Fajita Vegetables,...      8.75        8.75  \n1756  [Fresh Tomato Salsa, [Fajita Vegetables, Sour ...      8.75        8.75  \n1977  [Fresh Tomato Salsa, [Fajita Vegetables, Sour ...      8.75        8.75  \n2031  [Roasted Chili Corn Salsa, [Rice, Black Beans,...      8.75        8.75  \n2113  [Fresh Tomato Salsa, [Rice, Black Beans, Cheese]]      8.75        8.75  \n2224  [Fresh Tomato Salsa, [Pinto Beans, Sour Cream,...      8.75        8.75  \n2314     [Roasted Chili Corn Salsa, [Rice, Sour Cream]]      8.75        8.75  \n2728      [Roasted Chili Corn Salsa, [Cheese, Lettuce]]      8.75        8.75  \n2858  [Fresh Tomato Salsa, [Fajita Vegetables, Chees...      8.75        8.75  \n2883  [Roasted Chili Corn Salsa, [Black Beans, Sour ...      8.75        8.75  \n2897                 [Roasted Chili Corn Salsa, Cheese]      8.75        8.75  \n2989  [Fresh Tomato Salsa, [Fajita Vegetables, Rice,...      8.75        8.75  \n3033            [Fresh Tomato Salsa, [Cheese, Lettuce]]      8.75        8.75  \n3069  [Fresh Tomato Salsa, [Fajita Vegetables, Black...      8.75        8.75  \n3117  [Roasted Chili Corn Salsa, [Rice, Pinto Beans,...      8.75        8.75  \n3259  [Fresh Tomato Salsa, [Fajita Vegetables, Pinto...      8.75        8.75  \n3261  [Fresh Tomato Salsa, [Fajita Vegetables, Lettu...      8.75        8.75  \n3310                               [Fresh Tomato Salsa]      8.75        8.75  \n3315              [Fresh Tomato Salsa, [Rice, Lettuce]]      8.75        8.75  \n3381            [Fresh Tomato Salsa, [Cheese, Lettuce]]      8.75        8.75  \n3411       [Fresh Tomato Salsa, [Pinto Beans, Lettuce]]      8.75        8.75  \n3623  [Roasted Chili Corn Salsa, [Rice, Pinto Beans,...      8.75        8.75  \n3656  [Tomatillo Green Chili Salsa, [Fajita Vegetabl...      8.75        8.75  \n3706  [Roasted Chili Corn Salsa, [Pinto Beans, Chees...      8.75        8.75  \n3712  [Roasted Chili Corn Salsa, [Black Beans, Chees...      8.75        8.75  \n3790  [Fresh Tomato Salsa, [Fajita Vegetables, Chees...      8.75        8.75  \n3798  [Fresh Tomato Salsa, [Fajita Vegetables, Lettu...      8.75        8.75  \n3974  [Fresh Tomato Salsa, [Rice, Pinto Beans, Lettu...      8.75        8.75  \n3997  [Tomatillo Green Chili Salsa, [Fajita Vegetabl...      8.75        8.75  \n4012                               [Fresh Tomato Salsa]      8.75        8.75  \n4035  [Fresh Tomato Salsa, [Fajita Vegetables, Chees...      8.75        8.75  \n4064  [Fresh Tomato Salsa, [Rice, Black Beans, Chees...      8.75        8.75  \n4205  [Roasted Chili Corn Salsa, [Black Beans, Chees...      8.75        8.75  \n4207  [Fresh Tomato Salsa, [Black Beans, Cheese, Sou...      8.75        8.75  \n4333        [Tomatillo Red Chili Salsa, [Rice, Cheese]]      8.75        8.75  \n4352  [Tomatillo Red Chili Salsa, [Rice, Fajita Vege...      8.75        8.75  \n4439  [Fresh Tomato Salsa, [Rice, Black Beans, Chees...      8.75        8.75  \n4520                      [Fresh Tomato Salsa, Lettuce]      8.75        8.75  \n4620  [Fresh Tomato Salsa, [Fajita Vegetables, Lettu...      8.75        8.75  \n4621  [Fresh Tomato Salsa, [Fajita Vegetables, Pinto...      8.75        8.75  ",
      "text/html": "<div>\n<style scoped>\n    .dataframe tbody tr th:only-of-type {\n        vertical-align: middle;\n    }\n\n    .dataframe tbody tr th {\n        vertical-align: top;\n    }\n\n    .dataframe thead th {\n        text-align: right;\n    }\n</style>\n<table border=\"1\" class=\"dataframe\">\n  <thead>\n    <tr style=\"text-align: right;\">\n      <th></th>\n      <th>order_id</th>\n      <th>quantity</th>\n      <th>item_name</th>\n      <th>choice_description</th>\n      <th>item_price</th>\n      <th>new_price</th>\n    </tr>\n  </thead>\n  <tbody>\n    <tr>\n      <th>44</th>\n      <td>20</td>\n      <td>1</td>\n      <td>Chicken Salad Bowl</td>\n      <td>[Fresh Tomato Salsa, [Fajita Vegetables, Pinto...</td>\n      <td>8.75</td>\n      <td>8.75</td>\n    </tr>\n    <tr>\n      <th>256</th>\n      <td>111</td>\n      <td>1</td>\n      <td>Chicken Salad Bowl</td>\n      <td>[Fresh Tomato Salsa, [Fajita Vegetables, Rice,...</td>\n      <td>8.75</td>\n      <td>8.75</td>\n    </tr>\n    <tr>\n      <th>526</th>\n      <td>220</td>\n      <td>1</td>\n      <td>Chicken Salad Bowl</td>\n      <td>[Roasted Chili Corn Salsa, [Black Beans, Sour ...</td>\n      <td>8.75</td>\n      <td>8.75</td>\n    </tr>\n    <tr>\n      <th>528</th>\n      <td>221</td>\n      <td>1</td>\n      <td>Chicken Salad Bowl</td>\n      <td>[Tomatillo Green Chili Salsa, [Fajita Vegetabl...</td>\n      <td>8.75</td>\n      <td>8.75</td>\n    </tr>\n    <tr>\n      <th>529</th>\n      <td>221</td>\n      <td>1</td>\n      <td>Chicken Salad Bowl</td>\n      <td>[Tomatillo Green Chili Salsa, [Fajita Vegetabl...</td>\n      <td>8.75</td>\n      <td>8.75</td>\n    </tr>\n    <tr>\n      <th>568</th>\n      <td>234</td>\n      <td>1</td>\n      <td>Chicken Salad Bowl</td>\n      <td>[Fresh Tomato Salsa, Fajita Vegetables]</td>\n      <td>8.75</td>\n      <td>8.75</td>\n    </tr>\n    <tr>\n      <th>585</th>\n      <td>240</td>\n      <td>1</td>\n      <td>Chicken Salad Bowl</td>\n      <td>[Fresh Tomato Salsa, Fajita Vegetables]</td>\n      <td>8.75</td>\n      <td>8.75</td>\n    </tr>\n    <tr>\n      <th>693</th>\n      <td>286</td>\n      <td>1</td>\n      <td>Chicken Salad Bowl</td>\n      <td>[Fresh Tomato Salsa, [Sour Cream, Cheese, Lett...</td>\n      <td>8.75</td>\n      <td>8.75</td>\n    </tr>\n    <tr>\n      <th>702</th>\n      <td>289</td>\n      <td>1</td>\n      <td>Chicken Salad Bowl</td>\n      <td>[Tomatillo Red Chili Salsa, [Black Beans, Chee...</td>\n      <td>8.75</td>\n      <td>8.75</td>\n    </tr>\n    <tr>\n      <th>762</th>\n      <td>314</td>\n      <td>1</td>\n      <td>Chicken Salad Bowl</td>\n      <td>[Fresh Tomato Salsa, [Fajita Vegetables, Lettu...</td>\n      <td>8.75</td>\n      <td>8.75</td>\n    </tr>\n    <tr>\n      <th>1109</th>\n      <td>458</td>\n      <td>1</td>\n      <td>Chicken Salad Bowl</td>\n      <td>[Fresh Tomato Salsa, [Fajita Vegetables, Rice,...</td>\n      <td>8.75</td>\n      <td>8.75</td>\n    </tr>\n    <tr>\n      <th>1460</th>\n      <td>592</td>\n      <td>1</td>\n      <td>Chicken Salad Bowl</td>\n      <td>[Fresh Tomato Salsa, Lettuce]</td>\n      <td>8.75</td>\n      <td>8.75</td>\n    </tr>\n    <tr>\n      <th>1471</th>\n      <td>598</td>\n      <td>1</td>\n      <td>Chicken Salad Bowl</td>\n      <td>[Roasted Chili Corn Salsa, [Fajita Vegetables,...</td>\n      <td>8.75</td>\n      <td>8.75</td>\n    </tr>\n    <tr>\n      <th>1483</th>\n      <td>602</td>\n      <td>1</td>\n      <td>Chicken Salad Bowl</td>\n      <td>[Fresh Tomato Salsa, [Fajita Vegetables, Chees...</td>\n      <td>8.75</td>\n      <td>8.75</td>\n    </tr>\n    <tr>\n      <th>1547</th>\n      <td>628</td>\n      <td>1</td>\n      <td>Chicken Salad Bowl</td>\n      <td>[Fresh Tomato Salsa, [Fajita Vegetables, Rice,...</td>\n      <td>8.75</td>\n      <td>8.75</td>\n    </tr>\n    <tr>\n      <th>1601</th>\n      <td>649</td>\n      <td>1</td>\n      <td>Chicken Salad Bowl</td>\n      <td>[Roasted Chili Corn Salsa, [Fajita Vegetables,...</td>\n      <td>8.75</td>\n      <td>8.75</td>\n    </tr>\n    <tr>\n      <th>1621</th>\n      <td>654</td>\n      <td>1</td>\n      <td>Chicken Salad Bowl</td>\n      <td>[Roasted Chili Corn Salsa, [Fajita Vegetables,...</td>\n      <td>8.75</td>\n      <td>8.75</td>\n    </tr>\n    <tr>\n      <th>1756</th>\n      <td>709</td>\n      <td>1</td>\n      <td>Chicken Salad Bowl</td>\n      <td>[Fresh Tomato Salsa, [Fajita Vegetables, Sour ...</td>\n      <td>8.75</td>\n      <td>8.75</td>\n    </tr>\n    <tr>\n      <th>1977</th>\n      <td>798</td>\n      <td>1</td>\n      <td>Chicken Salad Bowl</td>\n      <td>[Fresh Tomato Salsa, [Fajita Vegetables, Sour ...</td>\n      <td>8.75</td>\n      <td>8.75</td>\n    </tr>\n    <tr>\n      <th>2031</th>\n      <td>818</td>\n      <td>1</td>\n      <td>Chicken Salad Bowl</td>\n      <td>[Roasted Chili Corn Salsa, [Rice, Black Beans,...</td>\n      <td>8.75</td>\n      <td>8.75</td>\n    </tr>\n    <tr>\n      <th>2113</th>\n      <td>850</td>\n      <td>1</td>\n      <td>Chicken Salad Bowl</td>\n      <td>[Fresh Tomato Salsa, [Rice, Black Beans, Cheese]]</td>\n      <td>8.75</td>\n      <td>8.75</td>\n    </tr>\n    <tr>\n      <th>2224</th>\n      <td>896</td>\n      <td>1</td>\n      <td>Chicken Salad Bowl</td>\n      <td>[Fresh Tomato Salsa, [Pinto Beans, Sour Cream,...</td>\n      <td>8.75</td>\n      <td>8.75</td>\n    </tr>\n    <tr>\n      <th>2314</th>\n      <td>926</td>\n      <td>1</td>\n      <td>Chicken Salad Bowl</td>\n      <td>[Roasted Chili Corn Salsa, [Rice, Sour Cream]]</td>\n      <td>8.75</td>\n      <td>8.75</td>\n    </tr>\n    <tr>\n      <th>2728</th>\n      <td>1083</td>\n      <td>1</td>\n      <td>Chicken Salad Bowl</td>\n      <td>[Roasted Chili Corn Salsa, [Cheese, Lettuce]]</td>\n      <td>8.75</td>\n      <td>8.75</td>\n    </tr>\n    <tr>\n      <th>2858</th>\n      <td>1136</td>\n      <td>1</td>\n      <td>Chicken Salad Bowl</td>\n      <td>[Fresh Tomato Salsa, [Fajita Vegetables, Chees...</td>\n      <td>8.75</td>\n      <td>8.75</td>\n    </tr>\n    <tr>\n      <th>2883</th>\n      <td>1145</td>\n      <td>1</td>\n      <td>Chicken Salad Bowl</td>\n      <td>[Roasted Chili Corn Salsa, [Black Beans, Sour ...</td>\n      <td>8.75</td>\n      <td>8.75</td>\n    </tr>\n    <tr>\n      <th>2897</th>\n      <td>1152</td>\n      <td>1</td>\n      <td>Chicken Salad Bowl</td>\n      <td>[Roasted Chili Corn Salsa, Cheese]</td>\n      <td>8.75</td>\n      <td>8.75</td>\n    </tr>\n    <tr>\n      <th>2989</th>\n      <td>1189</td>\n      <td>1</td>\n      <td>Chicken Salad Bowl</td>\n      <td>[Fresh Tomato Salsa, [Fajita Vegetables, Rice,...</td>\n      <td>8.75</td>\n      <td>8.75</td>\n    </tr>\n    <tr>\n      <th>3033</th>\n      <td>1206</td>\n      <td>1</td>\n      <td>Chicken Salad Bowl</td>\n      <td>[Fresh Tomato Salsa, [Cheese, Lettuce]]</td>\n      <td>8.75</td>\n      <td>8.75</td>\n    </tr>\n    <tr>\n      <th>3069</th>\n      <td>1222</td>\n      <td>1</td>\n      <td>Chicken Salad Bowl</td>\n      <td>[Fresh Tomato Salsa, [Fajita Vegetables, Black...</td>\n      <td>8.75</td>\n      <td>8.75</td>\n    </tr>\n    <tr>\n      <th>3117</th>\n      <td>1243</td>\n      <td>1</td>\n      <td>Chicken Salad Bowl</td>\n      <td>[Roasted Chili Corn Salsa, [Rice, Pinto Beans,...</td>\n      <td>8.75</td>\n      <td>8.75</td>\n    </tr>\n    <tr>\n      <th>3259</th>\n      <td>1305</td>\n      <td>1</td>\n      <td>Chicken Salad Bowl</td>\n      <td>[Fresh Tomato Salsa, [Fajita Vegetables, Pinto...</td>\n      <td>8.75</td>\n      <td>8.75</td>\n    </tr>\n    <tr>\n      <th>3261</th>\n      <td>1305</td>\n      <td>1</td>\n      <td>Chicken Salad Bowl</td>\n      <td>[Fresh Tomato Salsa, [Fajita Vegetables, Lettu...</td>\n      <td>8.75</td>\n      <td>8.75</td>\n    </tr>\n    <tr>\n      <th>3310</th>\n      <td>1327</td>\n      <td>1</td>\n      <td>Chicken Salad Bowl</td>\n      <td>[Fresh Tomato Salsa]</td>\n      <td>8.75</td>\n      <td>8.75</td>\n    </tr>\n    <tr>\n      <th>3315</th>\n      <td>1329</td>\n      <td>1</td>\n      <td>Chicken Salad Bowl</td>\n      <td>[Fresh Tomato Salsa, [Rice, Lettuce]]</td>\n      <td>8.75</td>\n      <td>8.75</td>\n    </tr>\n    <tr>\n      <th>3381</th>\n      <td>1357</td>\n      <td>1</td>\n      <td>Chicken Salad Bowl</td>\n      <td>[Fresh Tomato Salsa, [Cheese, Lettuce]]</td>\n      <td>8.75</td>\n      <td>8.75</td>\n    </tr>\n    <tr>\n      <th>3411</th>\n      <td>1368</td>\n      <td>1</td>\n      <td>Chicken Salad Bowl</td>\n      <td>[Fresh Tomato Salsa, [Pinto Beans, Lettuce]]</td>\n      <td>8.75</td>\n      <td>8.75</td>\n    </tr>\n    <tr>\n      <th>3623</th>\n      <td>1450</td>\n      <td>1</td>\n      <td>Chicken Salad Bowl</td>\n      <td>[Roasted Chili Corn Salsa, [Rice, Pinto Beans,...</td>\n      <td>8.75</td>\n      <td>8.75</td>\n    </tr>\n    <tr>\n      <th>3656</th>\n      <td>1461</td>\n      <td>1</td>\n      <td>Chicken Salad Bowl</td>\n      <td>[Tomatillo Green Chili Salsa, [Fajita Vegetabl...</td>\n      <td>8.75</td>\n      <td>8.75</td>\n    </tr>\n    <tr>\n      <th>3706</th>\n      <td>1483</td>\n      <td>1</td>\n      <td>Chicken Salad Bowl</td>\n      <td>[Roasted Chili Corn Salsa, [Pinto Beans, Chees...</td>\n      <td>8.75</td>\n      <td>8.75</td>\n    </tr>\n    <tr>\n      <th>3712</th>\n      <td>1483</td>\n      <td>1</td>\n      <td>Chicken Salad Bowl</td>\n      <td>[Roasted Chili Corn Salsa, [Black Beans, Chees...</td>\n      <td>8.75</td>\n      <td>8.75</td>\n    </tr>\n    <tr>\n      <th>3790</th>\n      <td>1517</td>\n      <td>1</td>\n      <td>Chicken Salad Bowl</td>\n      <td>[Fresh Tomato Salsa, [Fajita Vegetables, Chees...</td>\n      <td>8.75</td>\n      <td>8.75</td>\n    </tr>\n    <tr>\n      <th>3798</th>\n      <td>1521</td>\n      <td>1</td>\n      <td>Chicken Salad Bowl</td>\n      <td>[Fresh Tomato Salsa, [Fajita Vegetables, Lettu...</td>\n      <td>8.75</td>\n      <td>8.75</td>\n    </tr>\n    <tr>\n      <th>3974</th>\n      <td>1592</td>\n      <td>1</td>\n      <td>Chicken Salad Bowl</td>\n      <td>[Fresh Tomato Salsa, [Rice, Pinto Beans, Lettu...</td>\n      <td>8.75</td>\n      <td>8.75</td>\n    </tr>\n    <tr>\n      <th>3997</th>\n      <td>1601</td>\n      <td>1</td>\n      <td>Chicken Salad Bowl</td>\n      <td>[Tomatillo Green Chili Salsa, [Fajita Vegetabl...</td>\n      <td>8.75</td>\n      <td>8.75</td>\n    </tr>\n    <tr>\n      <th>4012</th>\n      <td>1606</td>\n      <td>1</td>\n      <td>Chicken Salad Bowl</td>\n      <td>[Fresh Tomato Salsa]</td>\n      <td>8.75</td>\n      <td>8.75</td>\n    </tr>\n    <tr>\n      <th>4035</th>\n      <td>1615</td>\n      <td>1</td>\n      <td>Chicken Salad Bowl</td>\n      <td>[Fresh Tomato Salsa, [Fajita Vegetables, Chees...</td>\n      <td>8.75</td>\n      <td>8.75</td>\n    </tr>\n    <tr>\n      <th>4064</th>\n      <td>1627</td>\n      <td>1</td>\n      <td>Chicken Salad Bowl</td>\n      <td>[Fresh Tomato Salsa, [Rice, Black Beans, Chees...</td>\n      <td>8.75</td>\n      <td>8.75</td>\n    </tr>\n    <tr>\n      <th>4205</th>\n      <td>1679</td>\n      <td>1</td>\n      <td>Chicken Salad Bowl</td>\n      <td>[Roasted Chili Corn Salsa, [Black Beans, Chees...</td>\n      <td>8.75</td>\n      <td>8.75</td>\n    </tr>\n    <tr>\n      <th>4207</th>\n      <td>1679</td>\n      <td>1</td>\n      <td>Chicken Salad Bowl</td>\n      <td>[Fresh Tomato Salsa, [Black Beans, Cheese, Sou...</td>\n      <td>8.75</td>\n      <td>8.75</td>\n    </tr>\n    <tr>\n      <th>4333</th>\n      <td>1730</td>\n      <td>1</td>\n      <td>Chicken Salad Bowl</td>\n      <td>[Tomatillo Red Chili Salsa, [Rice, Cheese]]</td>\n      <td>8.75</td>\n      <td>8.75</td>\n    </tr>\n    <tr>\n      <th>4352</th>\n      <td>1738</td>\n      <td>1</td>\n      <td>Chicken Salad Bowl</td>\n      <td>[Tomatillo Red Chili Salsa, [Rice, Fajita Vege...</td>\n      <td>8.75</td>\n      <td>8.75</td>\n    </tr>\n    <tr>\n      <th>4439</th>\n      <td>1769</td>\n      <td>1</td>\n      <td>Chicken Salad Bowl</td>\n      <td>[Fresh Tomato Salsa, [Rice, Black Beans, Chees...</td>\n      <td>8.75</td>\n      <td>8.75</td>\n    </tr>\n    <tr>\n      <th>4520</th>\n      <td>1797</td>\n      <td>1</td>\n      <td>Chicken Salad Bowl</td>\n      <td>[Fresh Tomato Salsa, Lettuce]</td>\n      <td>8.75</td>\n      <td>8.75</td>\n    </tr>\n    <tr>\n      <th>4620</th>\n      <td>1834</td>\n      <td>1</td>\n      <td>Chicken Salad Bowl</td>\n      <td>[Fresh Tomato Salsa, [Fajita Vegetables, Lettu...</td>\n      <td>8.75</td>\n      <td>8.75</td>\n    </tr>\n    <tr>\n      <th>4621</th>\n      <td>1834</td>\n      <td>1</td>\n      <td>Chicken Salad Bowl</td>\n      <td>[Fresh Tomato Salsa, [Fajita Vegetables, Pinto...</td>\n      <td>8.75</td>\n      <td>8.75</td>\n    </tr>\n  </tbody>\n</table>\n</div>"
     },
     "execution_count": 83,
     "metadata": {},
     "output_type": "execute_result"
    }
   ],
   "source": [
    "df[ (df['new_price'] <= 9) & (df['item_name'] == 'Chicken Salad Bowl')]"
   ],
   "metadata": {
    "collapsed": false,
    "ExecuteTime": {
     "end_time": "2023-11-28T14:59:24.518830Z",
     "start_time": "2023-11-28T14:59:24.513271Z"
    }
   }
  },
  {
   "cell_type": "code",
   "execution_count": 85,
   "outputs": [
    {
     "data": {
      "text/plain": "0        1.09\n1        1.09\n2        1.09\n3        1.09\n4        1.09\n        ...  \n4617    33.75\n4618    35.00\n4619    35.00\n4620    35.25\n4621    44.25\nName: new_price, Length: 4622, dtype: float64"
     },
     "execution_count": 85,
     "metadata": {},
     "output_type": "execute_result"
    }
   ],
   "source": [
    "df['new_price'].sort_values().reset_index(drop=True)"
   ],
   "metadata": {
    "collapsed": false,
    "ExecuteTime": {
     "end_time": "2023-11-28T15:00:18.445164Z",
     "start_time": "2023-11-28T15:00:18.425193Z"
    }
   }
  },
  {
   "cell_type": "code",
   "execution_count": 86,
   "outputs": [
    {
     "data": {
      "text/plain": "      order_id  quantity                              item_name  \\\n0            1         1           Chips and Fresh Tomato Salsa   \n3            1         1  Chips and Tomatillo-Green Chili Salsa   \n6            3         1                          Side of Chips   \n10           5         1                    Chips and Guacamole   \n14           7         1                    Chips and Guacamole   \n...        ...       ...                                    ...   \n4596      1826         1                    Chips and Guacamole   \n4600      1827         1                    Chips and Guacamole   \n4605      1828         1                    Chips and Guacamole   \n4613      1831         1                                  Chips   \n4616      1832         1                    Chips and Guacamole   \n\n     choice_description item_price  new_price  \n0                   NaN      2.39        2.39  \n3                   NaN      2.39        2.39  \n6                   NaN      1.69        1.69  \n10                  NaN      4.45        4.45  \n14                  NaN      4.45        4.45  \n...                 ...        ...        ...  \n4596                NaN      4.45        4.45  \n4600                NaN      4.45        4.45  \n4605                NaN      4.45        4.45  \n4613                NaN      2.15        2.15  \n4616                NaN      4.45        4.45  \n\n[1084 rows x 6 columns]",
      "text/html": "<div>\n<style scoped>\n    .dataframe tbody tr th:only-of-type {\n        vertical-align: middle;\n    }\n\n    .dataframe tbody tr th {\n        vertical-align: top;\n    }\n\n    .dataframe thead th {\n        text-align: right;\n    }\n</style>\n<table border=\"1\" class=\"dataframe\">\n  <thead>\n    <tr style=\"text-align: right;\">\n      <th></th>\n      <th>order_id</th>\n      <th>quantity</th>\n      <th>item_name</th>\n      <th>choice_description</th>\n      <th>item_price</th>\n      <th>new_price</th>\n    </tr>\n  </thead>\n  <tbody>\n    <tr>\n      <th>0</th>\n      <td>1</td>\n      <td>1</td>\n      <td>Chips and Fresh Tomato Salsa</td>\n      <td>NaN</td>\n      <td>2.39</td>\n      <td>2.39</td>\n    </tr>\n    <tr>\n      <th>3</th>\n      <td>1</td>\n      <td>1</td>\n      <td>Chips and Tomatillo-Green Chili Salsa</td>\n      <td>NaN</td>\n      <td>2.39</td>\n      <td>2.39</td>\n    </tr>\n    <tr>\n      <th>6</th>\n      <td>3</td>\n      <td>1</td>\n      <td>Side of Chips</td>\n      <td>NaN</td>\n      <td>1.69</td>\n      <td>1.69</td>\n    </tr>\n    <tr>\n      <th>10</th>\n      <td>5</td>\n      <td>1</td>\n      <td>Chips and Guacamole</td>\n      <td>NaN</td>\n      <td>4.45</td>\n      <td>4.45</td>\n    </tr>\n    <tr>\n      <th>14</th>\n      <td>7</td>\n      <td>1</td>\n      <td>Chips and Guacamole</td>\n      <td>NaN</td>\n      <td>4.45</td>\n      <td>4.45</td>\n    </tr>\n    <tr>\n      <th>...</th>\n      <td>...</td>\n      <td>...</td>\n      <td>...</td>\n      <td>...</td>\n      <td>...</td>\n      <td>...</td>\n    </tr>\n    <tr>\n      <th>4596</th>\n      <td>1826</td>\n      <td>1</td>\n      <td>Chips and Guacamole</td>\n      <td>NaN</td>\n      <td>4.45</td>\n      <td>4.45</td>\n    </tr>\n    <tr>\n      <th>4600</th>\n      <td>1827</td>\n      <td>1</td>\n      <td>Chips and Guacamole</td>\n      <td>NaN</td>\n      <td>4.45</td>\n      <td>4.45</td>\n    </tr>\n    <tr>\n      <th>4605</th>\n      <td>1828</td>\n      <td>1</td>\n      <td>Chips and Guacamole</td>\n      <td>NaN</td>\n      <td>4.45</td>\n      <td>4.45</td>\n    </tr>\n    <tr>\n      <th>4613</th>\n      <td>1831</td>\n      <td>1</td>\n      <td>Chips</td>\n      <td>NaN</td>\n      <td>2.15</td>\n      <td>2.15</td>\n    </tr>\n    <tr>\n      <th>4616</th>\n      <td>1832</td>\n      <td>1</td>\n      <td>Chips and Guacamole</td>\n      <td>NaN</td>\n      <td>4.45</td>\n      <td>4.45</td>\n    </tr>\n  </tbody>\n</table>\n<p>1084 rows × 6 columns</p>\n</div>"
     },
     "execution_count": 86,
     "metadata": {},
     "output_type": "execute_result"
    }
   ],
   "source": [
    "df[df['item_name'].str.contains('Chips')]"
   ],
   "metadata": {
    "collapsed": false,
    "ExecuteTime": {
     "end_time": "2023-11-28T15:00:44.237085Z",
     "start_time": "2023-11-28T15:00:44.233932Z"
    }
   }
  },
  {
   "cell_type": "code",
   "execution_count": 87,
   "outputs": [
    {
     "data": {
      "text/plain": "      order_id                              item_name item_price\n0            1           Chips and Fresh Tomato Salsa      2.39 \n1            1                                   Izze      3.39 \n2            1                       Nantucket Nectar      3.39 \n3            1  Chips and Tomatillo-Green Chili Salsa      2.39 \n4            2                           Chicken Bowl     16.98 \n...        ...                                    ...        ...\n4617      1833                          Steak Burrito     11.75 \n4618      1833                          Steak Burrito     11.75 \n4619      1834                     Chicken Salad Bowl     11.25 \n4620      1834                     Chicken Salad Bowl      8.75 \n4621      1834                     Chicken Salad Bowl      8.75 \n\n[4622 rows x 3 columns]",
      "text/html": "<div>\n<style scoped>\n    .dataframe tbody tr th:only-of-type {\n        vertical-align: middle;\n    }\n\n    .dataframe tbody tr th {\n        vertical-align: top;\n    }\n\n    .dataframe thead th {\n        text-align: right;\n    }\n</style>\n<table border=\"1\" class=\"dataframe\">\n  <thead>\n    <tr style=\"text-align: right;\">\n      <th></th>\n      <th>order_id</th>\n      <th>item_name</th>\n      <th>item_price</th>\n    </tr>\n  </thead>\n  <tbody>\n    <tr>\n      <th>0</th>\n      <td>1</td>\n      <td>Chips and Fresh Tomato Salsa</td>\n      <td>2.39</td>\n    </tr>\n    <tr>\n      <th>1</th>\n      <td>1</td>\n      <td>Izze</td>\n      <td>3.39</td>\n    </tr>\n    <tr>\n      <th>2</th>\n      <td>1</td>\n      <td>Nantucket Nectar</td>\n      <td>3.39</td>\n    </tr>\n    <tr>\n      <th>3</th>\n      <td>1</td>\n      <td>Chips and Tomatillo-Green Chili Salsa</td>\n      <td>2.39</td>\n    </tr>\n    <tr>\n      <th>4</th>\n      <td>2</td>\n      <td>Chicken Bowl</td>\n      <td>16.98</td>\n    </tr>\n    <tr>\n      <th>...</th>\n      <td>...</td>\n      <td>...</td>\n      <td>...</td>\n    </tr>\n    <tr>\n      <th>4617</th>\n      <td>1833</td>\n      <td>Steak Burrito</td>\n      <td>11.75</td>\n    </tr>\n    <tr>\n      <th>4618</th>\n      <td>1833</td>\n      <td>Steak Burrito</td>\n      <td>11.75</td>\n    </tr>\n    <tr>\n      <th>4619</th>\n      <td>1834</td>\n      <td>Chicken Salad Bowl</td>\n      <td>11.25</td>\n    </tr>\n    <tr>\n      <th>4620</th>\n      <td>1834</td>\n      <td>Chicken Salad Bowl</td>\n      <td>8.75</td>\n    </tr>\n    <tr>\n      <th>4621</th>\n      <td>1834</td>\n      <td>Chicken Salad Bowl</td>\n      <td>8.75</td>\n    </tr>\n  </tbody>\n</table>\n<p>4622 rows × 3 columns</p>\n</div>"
     },
     "execution_count": 87,
     "metadata": {},
     "output_type": "execute_result"
    }
   ],
   "source": [
    "df.iloc[:,::2]"
   ],
   "metadata": {
    "collapsed": false,
    "ExecuteTime": {
     "end_time": "2023-11-28T15:01:24.964305Z",
     "start_time": "2023-11-28T15:01:24.960174Z"
    }
   }
  },
  {
   "cell_type": "code",
   "execution_count": 93,
   "outputs": [
    {
     "data": {
      "text/plain": "      order_id  quantity                     item_name  \\\n0         1443        15  Chips and Fresh Tomato Salsa   \n1         1398         3                 Carnitas Bowl   \n2          511         4               Chicken Burrito   \n3         1443         4               Chicken Burrito   \n4         1443         3                Veggie Burrito   \n...        ...       ...                           ...   \n4617      1578         1                   Canned Soda   \n4618      1162         1                 Bottled Water   \n4619       567         1                   Canned Soda   \n4620      1014         1                   Canned Soda   \n4621       591         1                   Canned Soda   \n\n                                     choice_description item_price  new_price  \n0                                                   NaN     44.25       44.25  \n1     [Roasted Chili Corn Salsa, [Fajita Vegetables,...     35.25       35.25  \n2     [Fresh Tomato Salsa, [Fajita Vegetables, Rice,...     35.00       35.00  \n3     [Fresh Tomato Salsa, [Rice, Black Beans, Chees...     35.00       35.00  \n4     [Fresh Tomato Salsa, [Fajita Vegetables, Rice,...     33.75       33.75  \n...                                                 ...        ...        ...  \n4617                                  [Diet Dr. Pepper]      1.09        1.09  \n4618                                                NaN      1.09        1.09  \n4619                                        [Coca Cola]      1.09        1.09  \n4620                                        [Coca Cola]      1.09        1.09  \n4621                                           [Sprite]      1.09        1.09  \n\n[4622 rows x 6 columns]",
      "text/html": "<div>\n<style scoped>\n    .dataframe tbody tr th:only-of-type {\n        vertical-align: middle;\n    }\n\n    .dataframe tbody tr th {\n        vertical-align: top;\n    }\n\n    .dataframe thead th {\n        text-align: right;\n    }\n</style>\n<table border=\"1\" class=\"dataframe\">\n  <thead>\n    <tr style=\"text-align: right;\">\n      <th></th>\n      <th>order_id</th>\n      <th>quantity</th>\n      <th>item_name</th>\n      <th>choice_description</th>\n      <th>item_price</th>\n      <th>new_price</th>\n    </tr>\n  </thead>\n  <tbody>\n    <tr>\n      <th>0</th>\n      <td>1443</td>\n      <td>15</td>\n      <td>Chips and Fresh Tomato Salsa</td>\n      <td>NaN</td>\n      <td>44.25</td>\n      <td>44.25</td>\n    </tr>\n    <tr>\n      <th>1</th>\n      <td>1398</td>\n      <td>3</td>\n      <td>Carnitas Bowl</td>\n      <td>[Roasted Chili Corn Salsa, [Fajita Vegetables,...</td>\n      <td>35.25</td>\n      <td>35.25</td>\n    </tr>\n    <tr>\n      <th>2</th>\n      <td>511</td>\n      <td>4</td>\n      <td>Chicken Burrito</td>\n      <td>[Fresh Tomato Salsa, [Fajita Vegetables, Rice,...</td>\n      <td>35.00</td>\n      <td>35.00</td>\n    </tr>\n    <tr>\n      <th>3</th>\n      <td>1443</td>\n      <td>4</td>\n      <td>Chicken Burrito</td>\n      <td>[Fresh Tomato Salsa, [Rice, Black Beans, Chees...</td>\n      <td>35.00</td>\n      <td>35.00</td>\n    </tr>\n    <tr>\n      <th>4</th>\n      <td>1443</td>\n      <td>3</td>\n      <td>Veggie Burrito</td>\n      <td>[Fresh Tomato Salsa, [Fajita Vegetables, Rice,...</td>\n      <td>33.75</td>\n      <td>33.75</td>\n    </tr>\n    <tr>\n      <th>...</th>\n      <td>...</td>\n      <td>...</td>\n      <td>...</td>\n      <td>...</td>\n      <td>...</td>\n      <td>...</td>\n    </tr>\n    <tr>\n      <th>4617</th>\n      <td>1578</td>\n      <td>1</td>\n      <td>Canned Soda</td>\n      <td>[Diet Dr. Pepper]</td>\n      <td>1.09</td>\n      <td>1.09</td>\n    </tr>\n    <tr>\n      <th>4618</th>\n      <td>1162</td>\n      <td>1</td>\n      <td>Bottled Water</td>\n      <td>NaN</td>\n      <td>1.09</td>\n      <td>1.09</td>\n    </tr>\n    <tr>\n      <th>4619</th>\n      <td>567</td>\n      <td>1</td>\n      <td>Canned Soda</td>\n      <td>[Coca Cola]</td>\n      <td>1.09</td>\n      <td>1.09</td>\n    </tr>\n    <tr>\n      <th>4620</th>\n      <td>1014</td>\n      <td>1</td>\n      <td>Canned Soda</td>\n      <td>[Coca Cola]</td>\n      <td>1.09</td>\n      <td>1.09</td>\n    </tr>\n    <tr>\n      <th>4621</th>\n      <td>591</td>\n      <td>1</td>\n      <td>Canned Soda</td>\n      <td>[Sprite]</td>\n      <td>1.09</td>\n      <td>1.09</td>\n    </tr>\n  </tbody>\n</table>\n<p>4622 rows × 6 columns</p>\n</div>"
     },
     "execution_count": 93,
     "metadata": {},
     "output_type": "execute_result"
    }
   ],
   "source": [
    "df.sort_values('new_price', ascending=False).reset_index(drop=True)"
   ],
   "metadata": {
    "collapsed": false,
    "ExecuteTime": {
     "end_time": "2023-11-28T15:03:02.087808Z",
     "start_time": "2023-11-28T15:03:02.078539Z"
    }
   }
  },
  {
   "cell_type": "code",
   "execution_count": 94,
   "outputs": [
    {
     "data": {
      "text/plain": "      order_id  quantity    item_name  \\\n445        193         3         Bowl   \n664        276         1  Steak Salad   \n673        279         1         Bowl   \n752        311         1  Steak Salad   \n893        369         1  Steak Salad   \n3502      1406         1  Steak Salad   \n\n                                     choice_description item_price  new_price  \n445   [Braised Carnitas, Pinto Beans, [Sour Cream, C...     22.20       22.20  \n664   [Tomatillo-Red Chili Salsa (Hot), [Black Beans...      8.99        8.99  \n673   [Adobo-Marinated and Grilled Steak, [Sour Crea...      7.40        7.40  \n752   [Tomatillo-Red Chili Salsa (Hot), [Black Beans...      8.99        8.99  \n893   [Fresh Tomato Salsa (Mild), [Rice, Cheese, Sou...      8.99        8.99  \n3502                        [[Lettuce, Fajita Veggies]]      8.69        8.69  ",
      "text/html": "<div>\n<style scoped>\n    .dataframe tbody tr th:only-of-type {\n        vertical-align: middle;\n    }\n\n    .dataframe tbody tr th {\n        vertical-align: top;\n    }\n\n    .dataframe thead th {\n        text-align: right;\n    }\n</style>\n<table border=\"1\" class=\"dataframe\">\n  <thead>\n    <tr style=\"text-align: right;\">\n      <th></th>\n      <th>order_id</th>\n      <th>quantity</th>\n      <th>item_name</th>\n      <th>choice_description</th>\n      <th>item_price</th>\n      <th>new_price</th>\n    </tr>\n  </thead>\n  <tbody>\n    <tr>\n      <th>445</th>\n      <td>193</td>\n      <td>3</td>\n      <td>Bowl</td>\n      <td>[Braised Carnitas, Pinto Beans, [Sour Cream, C...</td>\n      <td>22.20</td>\n      <td>22.20</td>\n    </tr>\n    <tr>\n      <th>664</th>\n      <td>276</td>\n      <td>1</td>\n      <td>Steak Salad</td>\n      <td>[Tomatillo-Red Chili Salsa (Hot), [Black Beans...</td>\n      <td>8.99</td>\n      <td>8.99</td>\n    </tr>\n    <tr>\n      <th>673</th>\n      <td>279</td>\n      <td>1</td>\n      <td>Bowl</td>\n      <td>[Adobo-Marinated and Grilled Steak, [Sour Crea...</td>\n      <td>7.40</td>\n      <td>7.40</td>\n    </tr>\n    <tr>\n      <th>752</th>\n      <td>311</td>\n      <td>1</td>\n      <td>Steak Salad</td>\n      <td>[Tomatillo-Red Chili Salsa (Hot), [Black Beans...</td>\n      <td>8.99</td>\n      <td>8.99</td>\n    </tr>\n    <tr>\n      <th>893</th>\n      <td>369</td>\n      <td>1</td>\n      <td>Steak Salad</td>\n      <td>[Fresh Tomato Salsa (Mild), [Rice, Cheese, Sou...</td>\n      <td>8.99</td>\n      <td>8.99</td>\n    </tr>\n    <tr>\n      <th>3502</th>\n      <td>1406</td>\n      <td>1</td>\n      <td>Steak Salad</td>\n      <td>[[Lettuce, Fajita Veggies]]</td>\n      <td>8.69</td>\n      <td>8.69</td>\n    </tr>\n  </tbody>\n</table>\n</div>"
     },
     "execution_count": 94,
     "metadata": {},
     "output_type": "execute_result"
    }
   ],
   "source": [
    "df [(df['item_name'] == 'Steak Salad') | (df['item_name'] == 'Bowl')]"
   ],
   "metadata": {
    "collapsed": false,
    "ExecuteTime": {
     "end_time": "2023-11-28T15:03:53.015681Z",
     "start_time": "2023-11-28T15:03:53.011851Z"
    }
   }
  },
  {
   "cell_type": "code",
   "execution_count": 100,
   "outputs": [
    {
     "data": {
      "text/plain": "     order_id  quantity    item_name  \\\n445       193         3         Bowl   \n664       276         1  Steak Salad   \n\n                                    choice_description item_price  \n445  [Braised Carnitas, Pinto Beans, [Sour Cream, C...    $22.20   \n664  [Tomatillo-Red Chili Salsa (Hot), [Black Beans...     $8.99   ",
      "text/html": "<div>\n<style scoped>\n    .dataframe tbody tr th:only-of-type {\n        vertical-align: middle;\n    }\n\n    .dataframe tbody tr th {\n        vertical-align: top;\n    }\n\n    .dataframe thead th {\n        text-align: right;\n    }\n</style>\n<table border=\"1\" class=\"dataframe\">\n  <thead>\n    <tr style=\"text-align: right;\">\n      <th></th>\n      <th>order_id</th>\n      <th>quantity</th>\n      <th>item_name</th>\n      <th>choice_description</th>\n      <th>item_price</th>\n    </tr>\n  </thead>\n  <tbody>\n    <tr>\n      <th>445</th>\n      <td>193</td>\n      <td>3</td>\n      <td>Bowl</td>\n      <td>[Braised Carnitas, Pinto Beans, [Sour Cream, C...</td>\n      <td>$22.20</td>\n    </tr>\n    <tr>\n      <th>664</th>\n      <td>276</td>\n      <td>1</td>\n      <td>Steak Salad</td>\n      <td>[Tomatillo-Red Chili Salsa (Hot), [Black Beans...</td>\n      <td>$8.99</td>\n    </tr>\n  </tbody>\n</table>\n</div>"
     },
     "execution_count": 100,
     "metadata": {},
     "output_type": "execute_result"
    }
   ],
   "source": [
    "df2 = df [(df['item_name'] == 'Steak Salad') | (df['item_name'] == 'Bowl')]\n",
    "df2 = df2.drop_duplicates('item_name')\n",
    "df2"
   ],
   "metadata": {
    "collapsed": false,
    "ExecuteTime": {
     "end_time": "2023-11-28T15:06:10.390654Z",
     "start_time": "2023-11-28T15:06:10.386217Z"
    }
   }
  },
  {
   "cell_type": "code",
   "execution_count": 106,
   "outputs": [
    {
     "data": {
      "text/plain": "      order_id  quantity           item_name  \\\n4            2         2        Chicken Bowl   \n5            3         1        Chicken Bowl   \n7            4         1       Steak Burrito   \n8            4         1    Steak Soft Tacos   \n9            5         1       Steak Burrito   \n...        ...       ...                 ...   \n4617      1833         1       Steak Burrito   \n4618      1833         1       Steak Burrito   \n4619      1834         1  Chicken Salad Bowl   \n4620      1834         1  Chicken Salad Bowl   \n4621      1834         1  Chicken Salad Bowl   \n\n                                     choice_description item_price  new_price  \n4     [Tomatillo-Red Chili Salsa (Hot), [Black Beans...     16.98       16.98  \n5     [Fresh Tomato Salsa (Mild), [Rice, Cheese, Sou...     10.98       10.98  \n7     [Tomatillo Red Chili Salsa, [Fajita Vegetables...     11.75       11.75  \n8     [Tomatillo Green Chili Salsa, [Pinto Beans, Ch...      9.25        9.25  \n9     [Fresh Tomato Salsa, [Rice, Black Beans, Pinto...      9.25        9.25  \n...                                                 ...        ...        ...  \n4617  [Fresh Tomato Salsa, [Rice, Black Beans, Sour ...     11.75       11.75  \n4618  [Fresh Tomato Salsa, [Rice, Sour Cream, Cheese...     11.75       11.75  \n4619  [Fresh Tomato Salsa, [Fajita Vegetables, Pinto...     11.25       11.25  \n4620  [Fresh Tomato Salsa, [Fajita Vegetables, Lettu...      8.75        8.75  \n4621  [Fresh Tomato Salsa, [Fajita Vegetables, Pinto...      8.75        8.75  \n\n[2890 rows x 6 columns]",
      "text/html": "<div>\n<style scoped>\n    .dataframe tbody tr th:only-of-type {\n        vertical-align: middle;\n    }\n\n    .dataframe tbody tr th {\n        vertical-align: top;\n    }\n\n    .dataframe thead th {\n        text-align: right;\n    }\n</style>\n<table border=\"1\" class=\"dataframe\">\n  <thead>\n    <tr style=\"text-align: right;\">\n      <th></th>\n      <th>order_id</th>\n      <th>quantity</th>\n      <th>item_name</th>\n      <th>choice_description</th>\n      <th>item_price</th>\n      <th>new_price</th>\n    </tr>\n  </thead>\n  <tbody>\n    <tr>\n      <th>4</th>\n      <td>2</td>\n      <td>2</td>\n      <td>Chicken Bowl</td>\n      <td>[Tomatillo-Red Chili Salsa (Hot), [Black Beans...</td>\n      <td>16.98</td>\n      <td>16.98</td>\n    </tr>\n    <tr>\n      <th>5</th>\n      <td>3</td>\n      <td>1</td>\n      <td>Chicken Bowl</td>\n      <td>[Fresh Tomato Salsa (Mild), [Rice, Cheese, Sou...</td>\n      <td>10.98</td>\n      <td>10.98</td>\n    </tr>\n    <tr>\n      <th>7</th>\n      <td>4</td>\n      <td>1</td>\n      <td>Steak Burrito</td>\n      <td>[Tomatillo Red Chili Salsa, [Fajita Vegetables...</td>\n      <td>11.75</td>\n      <td>11.75</td>\n    </tr>\n    <tr>\n      <th>8</th>\n      <td>4</td>\n      <td>1</td>\n      <td>Steak Soft Tacos</td>\n      <td>[Tomatillo Green Chili Salsa, [Pinto Beans, Ch...</td>\n      <td>9.25</td>\n      <td>9.25</td>\n    </tr>\n    <tr>\n      <th>9</th>\n      <td>5</td>\n      <td>1</td>\n      <td>Steak Burrito</td>\n      <td>[Fresh Tomato Salsa, [Rice, Black Beans, Pinto...</td>\n      <td>9.25</td>\n      <td>9.25</td>\n    </tr>\n    <tr>\n      <th>...</th>\n      <td>...</td>\n      <td>...</td>\n      <td>...</td>\n      <td>...</td>\n      <td>...</td>\n      <td>...</td>\n    </tr>\n    <tr>\n      <th>4617</th>\n      <td>1833</td>\n      <td>1</td>\n      <td>Steak Burrito</td>\n      <td>[Fresh Tomato Salsa, [Rice, Black Beans, Sour ...</td>\n      <td>11.75</td>\n      <td>11.75</td>\n    </tr>\n    <tr>\n      <th>4618</th>\n      <td>1833</td>\n      <td>1</td>\n      <td>Steak Burrito</td>\n      <td>[Fresh Tomato Salsa, [Rice, Sour Cream, Cheese...</td>\n      <td>11.75</td>\n      <td>11.75</td>\n    </tr>\n    <tr>\n      <th>4619</th>\n      <td>1834</td>\n      <td>1</td>\n      <td>Chicken Salad Bowl</td>\n      <td>[Fresh Tomato Salsa, [Fajita Vegetables, Pinto...</td>\n      <td>11.25</td>\n      <td>11.25</td>\n    </tr>\n    <tr>\n      <th>4620</th>\n      <td>1834</td>\n      <td>1</td>\n      <td>Chicken Salad Bowl</td>\n      <td>[Fresh Tomato Salsa, [Fajita Vegetables, Lettu...</td>\n      <td>8.75</td>\n      <td>8.75</td>\n    </tr>\n    <tr>\n      <th>4621</th>\n      <td>1834</td>\n      <td>1</td>\n      <td>Chicken Salad Bowl</td>\n      <td>[Fresh Tomato Salsa, [Fajita Vegetables, Pinto...</td>\n      <td>8.75</td>\n      <td>8.75</td>\n    </tr>\n  </tbody>\n</table>\n<p>2890 rows × 6 columns</p>\n</div>"
     },
     "execution_count": 106,
     "metadata": {},
     "output_type": "execute_result"
    }
   ],
   "source": [
    "df[df['new_price'] >= df['new_price'].mean()]"
   ],
   "metadata": {
    "collapsed": false,
    "ExecuteTime": {
     "end_time": "2023-11-28T15:07:42.642399Z",
     "start_time": "2023-11-28T15:07:42.633249Z"
    }
   }
  },
  {
   "cell_type": "code",
   "execution_count": 107,
   "outputs": [
    {
     "data": {
      "text/plain": "      order_id  quantity                              item_name  \\\n0            1         1           Chips and Fresh Tomato Salsa   \n1            1         1                            Fizzy Lizzy   \n2            1         1                       Nantucket Nectar   \n3            1         1  Chips and Tomatillo-Green Chili Salsa   \n4            2         2                           Chicken Bowl   \n...        ...       ...                                    ...   \n4617      1833         1                          Steak Burrito   \n4618      1833         1                          Steak Burrito   \n4619      1834         1                     Chicken Salad Bowl   \n4620      1834         1                     Chicken Salad Bowl   \n4621      1834         1                     Chicken Salad Bowl   \n\n                                     choice_description item_price  new_price  \n0                                                   NaN      2.39        2.39  \n1                                          [Clementine]      3.39        3.39  \n2                                               [Apple]      3.39        3.39  \n3                                                   NaN      2.39        2.39  \n4     [Tomatillo-Red Chili Salsa (Hot), [Black Beans...     16.98       16.98  \n...                                                 ...        ...        ...  \n4617  [Fresh Tomato Salsa, [Rice, Black Beans, Sour ...     11.75       11.75  \n4618  [Fresh Tomato Salsa, [Rice, Sour Cream, Cheese...     11.75       11.75  \n4619  [Fresh Tomato Salsa, [Fajita Vegetables, Pinto...     11.25       11.25  \n4620  [Fresh Tomato Salsa, [Fajita Vegetables, Lettu...      8.75        8.75  \n4621  [Fresh Tomato Salsa, [Fajita Vegetables, Pinto...      8.75        8.75  \n\n[4622 rows x 6 columns]",
      "text/html": "<div>\n<style scoped>\n    .dataframe tbody tr th:only-of-type {\n        vertical-align: middle;\n    }\n\n    .dataframe tbody tr th {\n        vertical-align: top;\n    }\n\n    .dataframe thead th {\n        text-align: right;\n    }\n</style>\n<table border=\"1\" class=\"dataframe\">\n  <thead>\n    <tr style=\"text-align: right;\">\n      <th></th>\n      <th>order_id</th>\n      <th>quantity</th>\n      <th>item_name</th>\n      <th>choice_description</th>\n      <th>item_price</th>\n      <th>new_price</th>\n    </tr>\n  </thead>\n  <tbody>\n    <tr>\n      <th>0</th>\n      <td>1</td>\n      <td>1</td>\n      <td>Chips and Fresh Tomato Salsa</td>\n      <td>NaN</td>\n      <td>2.39</td>\n      <td>2.39</td>\n    </tr>\n    <tr>\n      <th>1</th>\n      <td>1</td>\n      <td>1</td>\n      <td>Fizzy Lizzy</td>\n      <td>[Clementine]</td>\n      <td>3.39</td>\n      <td>3.39</td>\n    </tr>\n    <tr>\n      <th>2</th>\n      <td>1</td>\n      <td>1</td>\n      <td>Nantucket Nectar</td>\n      <td>[Apple]</td>\n      <td>3.39</td>\n      <td>3.39</td>\n    </tr>\n    <tr>\n      <th>3</th>\n      <td>1</td>\n      <td>1</td>\n      <td>Chips and Tomatillo-Green Chili Salsa</td>\n      <td>NaN</td>\n      <td>2.39</td>\n      <td>2.39</td>\n    </tr>\n    <tr>\n      <th>4</th>\n      <td>2</td>\n      <td>2</td>\n      <td>Chicken Bowl</td>\n      <td>[Tomatillo-Red Chili Salsa (Hot), [Black Beans...</td>\n      <td>16.98</td>\n      <td>16.98</td>\n    </tr>\n    <tr>\n      <th>...</th>\n      <td>...</td>\n      <td>...</td>\n      <td>...</td>\n      <td>...</td>\n      <td>...</td>\n      <td>...</td>\n    </tr>\n    <tr>\n      <th>4617</th>\n      <td>1833</td>\n      <td>1</td>\n      <td>Steak Burrito</td>\n      <td>[Fresh Tomato Salsa, [Rice, Black Beans, Sour ...</td>\n      <td>11.75</td>\n      <td>11.75</td>\n    </tr>\n    <tr>\n      <th>4618</th>\n      <td>1833</td>\n      <td>1</td>\n      <td>Steak Burrito</td>\n      <td>[Fresh Tomato Salsa, [Rice, Sour Cream, Cheese...</td>\n      <td>11.75</td>\n      <td>11.75</td>\n    </tr>\n    <tr>\n      <th>4619</th>\n      <td>1834</td>\n      <td>1</td>\n      <td>Chicken Salad Bowl</td>\n      <td>[Fresh Tomato Salsa, [Fajita Vegetables, Pinto...</td>\n      <td>11.25</td>\n      <td>11.25</td>\n    </tr>\n    <tr>\n      <th>4620</th>\n      <td>1834</td>\n      <td>1</td>\n      <td>Chicken Salad Bowl</td>\n      <td>[Fresh Tomato Salsa, [Fajita Vegetables, Lettu...</td>\n      <td>8.75</td>\n      <td>8.75</td>\n    </tr>\n    <tr>\n      <th>4621</th>\n      <td>1834</td>\n      <td>1</td>\n      <td>Chicken Salad Bowl</td>\n      <td>[Fresh Tomato Salsa, [Fajita Vegetables, Pinto...</td>\n      <td>8.75</td>\n      <td>8.75</td>\n    </tr>\n  </tbody>\n</table>\n<p>4622 rows × 6 columns</p>\n</div>"
     },
     "execution_count": 107,
     "metadata": {},
     "output_type": "execute_result"
    }
   ],
   "source": [
    "import numpy as np\n",
    "df['item_name'] = np.where(df['item_name'] == 'Izze', 'Fizzy Lizzy', df['item_name'])\n",
    "df"
   ],
   "metadata": {
    "collapsed": false,
    "ExecuteTime": {
     "end_time": "2023-11-28T15:09:02.572564Z",
     "start_time": "2023-11-28T15:09:02.568245Z"
    }
   }
  },
  {
   "cell_type": "code",
   "execution_count": 108,
   "outputs": [
    {
     "data": {
      "text/plain": "1246"
     },
     "execution_count": 108,
     "metadata": {},
     "output_type": "execute_result"
    }
   ],
   "source": [
    "df['choice_description'].isnull().sum()"
   ],
   "metadata": {
    "collapsed": false,
    "ExecuteTime": {
     "end_time": "2023-11-28T15:09:38.231160Z",
     "start_time": "2023-11-28T15:09:38.225686Z"
    }
   }
  },
  {
   "cell_type": "code",
   "execution_count": 110,
   "outputs": [
    {
     "data": {
      "text/plain": "      order_id  quantity                              item_name  \\\n0            1         1           Chips and Fresh Tomato Salsa   \n1            1         1                            Fizzy Lizzy   \n2            1         1                       Nantucket Nectar   \n3            1         1  Chips and Tomatillo-Green Chili Salsa   \n4            2         2                           Chicken Bowl   \n...        ...       ...                                    ...   \n4617      1833         1                          Steak Burrito   \n4618      1833         1                          Steak Burrito   \n4619      1834         1                     Chicken Salad Bowl   \n4620      1834         1                     Chicken Salad Bowl   \n4621      1834         1                     Chicken Salad Bowl   \n\n                                     choice_description item_price  new_price  \n0                                                NoData      2.39        2.39  \n1                                          [Clementine]      3.39        3.39  \n2                                               [Apple]      3.39        3.39  \n3                                                NoData      2.39        2.39  \n4     [Tomatillo-Red Chili Salsa (Hot), [Black Beans...     16.98       16.98  \n...                                                 ...        ...        ...  \n4617  [Fresh Tomato Salsa, [Rice, Black Beans, Sour ...     11.75       11.75  \n4618  [Fresh Tomato Salsa, [Rice, Sour Cream, Cheese...     11.75       11.75  \n4619  [Fresh Tomato Salsa, [Fajita Vegetables, Pinto...     11.25       11.25  \n4620  [Fresh Tomato Salsa, [Fajita Vegetables, Lettu...      8.75        8.75  \n4621  [Fresh Tomato Salsa, [Fajita Vegetables, Pinto...      8.75        8.75  \n\n[4622 rows x 6 columns]",
      "text/html": "<div>\n<style scoped>\n    .dataframe tbody tr th:only-of-type {\n        vertical-align: middle;\n    }\n\n    .dataframe tbody tr th {\n        vertical-align: top;\n    }\n\n    .dataframe thead th {\n        text-align: right;\n    }\n</style>\n<table border=\"1\" class=\"dataframe\">\n  <thead>\n    <tr style=\"text-align: right;\">\n      <th></th>\n      <th>order_id</th>\n      <th>quantity</th>\n      <th>item_name</th>\n      <th>choice_description</th>\n      <th>item_price</th>\n      <th>new_price</th>\n    </tr>\n  </thead>\n  <tbody>\n    <tr>\n      <th>0</th>\n      <td>1</td>\n      <td>1</td>\n      <td>Chips and Fresh Tomato Salsa</td>\n      <td>NoData</td>\n      <td>2.39</td>\n      <td>2.39</td>\n    </tr>\n    <tr>\n      <th>1</th>\n      <td>1</td>\n      <td>1</td>\n      <td>Fizzy Lizzy</td>\n      <td>[Clementine]</td>\n      <td>3.39</td>\n      <td>3.39</td>\n    </tr>\n    <tr>\n      <th>2</th>\n      <td>1</td>\n      <td>1</td>\n      <td>Nantucket Nectar</td>\n      <td>[Apple]</td>\n      <td>3.39</td>\n      <td>3.39</td>\n    </tr>\n    <tr>\n      <th>3</th>\n      <td>1</td>\n      <td>1</td>\n      <td>Chips and Tomatillo-Green Chili Salsa</td>\n      <td>NoData</td>\n      <td>2.39</td>\n      <td>2.39</td>\n    </tr>\n    <tr>\n      <th>4</th>\n      <td>2</td>\n      <td>2</td>\n      <td>Chicken Bowl</td>\n      <td>[Tomatillo-Red Chili Salsa (Hot), [Black Beans...</td>\n      <td>16.98</td>\n      <td>16.98</td>\n    </tr>\n    <tr>\n      <th>...</th>\n      <td>...</td>\n      <td>...</td>\n      <td>...</td>\n      <td>...</td>\n      <td>...</td>\n      <td>...</td>\n    </tr>\n    <tr>\n      <th>4617</th>\n      <td>1833</td>\n      <td>1</td>\n      <td>Steak Burrito</td>\n      <td>[Fresh Tomato Salsa, [Rice, Black Beans, Sour ...</td>\n      <td>11.75</td>\n      <td>11.75</td>\n    </tr>\n    <tr>\n      <th>4618</th>\n      <td>1833</td>\n      <td>1</td>\n      <td>Steak Burrito</td>\n      <td>[Fresh Tomato Salsa, [Rice, Sour Cream, Cheese...</td>\n      <td>11.75</td>\n      <td>11.75</td>\n    </tr>\n    <tr>\n      <th>4619</th>\n      <td>1834</td>\n      <td>1</td>\n      <td>Chicken Salad Bowl</td>\n      <td>[Fresh Tomato Salsa, [Fajita Vegetables, Pinto...</td>\n      <td>11.25</td>\n      <td>11.25</td>\n    </tr>\n    <tr>\n      <th>4620</th>\n      <td>1834</td>\n      <td>1</td>\n      <td>Chicken Salad Bowl</td>\n      <td>[Fresh Tomato Salsa, [Fajita Vegetables, Lettu...</td>\n      <td>8.75</td>\n      <td>8.75</td>\n    </tr>\n    <tr>\n      <th>4621</th>\n      <td>1834</td>\n      <td>1</td>\n      <td>Chicken Salad Bowl</td>\n      <td>[Fresh Tomato Salsa, [Fajita Vegetables, Pinto...</td>\n      <td>8.75</td>\n      <td>8.75</td>\n    </tr>\n  </tbody>\n</table>\n<p>4622 rows × 6 columns</p>\n</div>"
     },
     "execution_count": 110,
     "metadata": {},
     "output_type": "execute_result"
    }
   ],
   "source": [
    "df['choice_description'] = df['choice_description'].fillna('NoData')\n",
    "df"
   ],
   "metadata": {
    "collapsed": false,
    "ExecuteTime": {
     "end_time": "2023-11-28T15:10:16.468665Z",
     "start_time": "2023-11-28T15:10:16.463718Z"
    }
   }
  },
  {
   "cell_type": "code",
   "execution_count": 111,
   "outputs": [
    {
     "data": {
      "text/plain": "      order_id  quantity             item_name  \\\n4            2         2          Chicken Bowl   \n7            4         1         Steak Burrito   \n9            5         1         Steak Burrito   \n11           6         1  Chicken Crispy Tacos   \n12           6         1    Chicken Soft Tacos   \n...        ...       ...                   ...   \n4604      1828         1          Chicken Bowl   \n4608      1829         1        Veggie Burrito   \n4611      1830         1        Veggie Burrito   \n4612      1831         1         Carnitas Bowl   \n4617      1833         1         Steak Burrito   \n\n                                     choice_description item_price  new_price  \n4     [Tomatillo-Red Chili Salsa (Hot), [Black Beans...     16.98       16.98  \n7     [Tomatillo Red Chili Salsa, [Fajita Vegetables...     11.75       11.75  \n9     [Fresh Tomato Salsa, [Rice, Black Beans, Pinto...      9.25        9.25  \n11    [Roasted Chili Corn Salsa, [Fajita Vegetables,...      8.75        8.75  \n12    [Roasted Chili Corn Salsa, [Rice, Black Beans,...      8.75        8.75  \n...                                                 ...        ...        ...  \n4604  [Fresh Tomato Salsa, [Rice, Black Beans, Chees...      8.75        8.75  \n4608  [Tomatillo Red Chili Salsa, [Fajita Vegetables...     11.25       11.25  \n4611  [Tomatillo Green Chili Salsa, [Rice, Fajita Ve...     11.25       11.25  \n4612  [Fresh Tomato Salsa, [Fajita Vegetables, Rice,...      9.25        9.25  \n4617  [Fresh Tomato Salsa, [Rice, Black Beans, Sour ...     11.75       11.75  \n\n[1353 rows x 6 columns]",
      "text/html": "<div>\n<style scoped>\n    .dataframe tbody tr th:only-of-type {\n        vertical-align: middle;\n    }\n\n    .dataframe tbody tr th {\n        vertical-align: top;\n    }\n\n    .dataframe thead th {\n        text-align: right;\n    }\n</style>\n<table border=\"1\" class=\"dataframe\">\n  <thead>\n    <tr style=\"text-align: right;\">\n      <th></th>\n      <th>order_id</th>\n      <th>quantity</th>\n      <th>item_name</th>\n      <th>choice_description</th>\n      <th>item_price</th>\n      <th>new_price</th>\n    </tr>\n  </thead>\n  <tbody>\n    <tr>\n      <th>4</th>\n      <td>2</td>\n      <td>2</td>\n      <td>Chicken Bowl</td>\n      <td>[Tomatillo-Red Chili Salsa (Hot), [Black Beans...</td>\n      <td>16.98</td>\n      <td>16.98</td>\n    </tr>\n    <tr>\n      <th>7</th>\n      <td>4</td>\n      <td>1</td>\n      <td>Steak Burrito</td>\n      <td>[Tomatillo Red Chili Salsa, [Fajita Vegetables...</td>\n      <td>11.75</td>\n      <td>11.75</td>\n    </tr>\n    <tr>\n      <th>9</th>\n      <td>5</td>\n      <td>1</td>\n      <td>Steak Burrito</td>\n      <td>[Fresh Tomato Salsa, [Rice, Black Beans, Pinto...</td>\n      <td>9.25</td>\n      <td>9.25</td>\n    </tr>\n    <tr>\n      <th>11</th>\n      <td>6</td>\n      <td>1</td>\n      <td>Chicken Crispy Tacos</td>\n      <td>[Roasted Chili Corn Salsa, [Fajita Vegetables,...</td>\n      <td>8.75</td>\n      <td>8.75</td>\n    </tr>\n    <tr>\n      <th>12</th>\n      <td>6</td>\n      <td>1</td>\n      <td>Chicken Soft Tacos</td>\n      <td>[Roasted Chili Corn Salsa, [Rice, Black Beans,...</td>\n      <td>8.75</td>\n      <td>8.75</td>\n    </tr>\n    <tr>\n      <th>...</th>\n      <td>...</td>\n      <td>...</td>\n      <td>...</td>\n      <td>...</td>\n      <td>...</td>\n      <td>...</td>\n    </tr>\n    <tr>\n      <th>4604</th>\n      <td>1828</td>\n      <td>1</td>\n      <td>Chicken Bowl</td>\n      <td>[Fresh Tomato Salsa, [Rice, Black Beans, Chees...</td>\n      <td>8.75</td>\n      <td>8.75</td>\n    </tr>\n    <tr>\n      <th>4608</th>\n      <td>1829</td>\n      <td>1</td>\n      <td>Veggie Burrito</td>\n      <td>[Tomatillo Red Chili Salsa, [Fajita Vegetables...</td>\n      <td>11.25</td>\n      <td>11.25</td>\n    </tr>\n    <tr>\n      <th>4611</th>\n      <td>1830</td>\n      <td>1</td>\n      <td>Veggie Burrito</td>\n      <td>[Tomatillo Green Chili Salsa, [Rice, Fajita Ve...</td>\n      <td>11.25</td>\n      <td>11.25</td>\n    </tr>\n    <tr>\n      <th>4612</th>\n      <td>1831</td>\n      <td>1</td>\n      <td>Carnitas Bowl</td>\n      <td>[Fresh Tomato Salsa, [Fajita Vegetables, Rice,...</td>\n      <td>9.25</td>\n      <td>9.25</td>\n    </tr>\n    <tr>\n      <th>4617</th>\n      <td>1833</td>\n      <td>1</td>\n      <td>Steak Burrito</td>\n      <td>[Fresh Tomato Salsa, [Rice, Black Beans, Sour ...</td>\n      <td>11.75</td>\n      <td>11.75</td>\n    </tr>\n  </tbody>\n</table>\n<p>1353 rows × 6 columns</p>\n</div>"
     },
     "execution_count": 111,
     "metadata": {},
     "output_type": "execute_result"
    }
   ],
   "source": [
    "df[df['choice_description'].str.contains('Black')]"
   ],
   "metadata": {
    "collapsed": false,
    "ExecuteTime": {
     "end_time": "2023-11-28T15:11:44.985914Z",
     "start_time": "2023-11-28T15:11:44.982854Z"
    }
   }
  },
  {
   "cell_type": "code",
   "execution_count": 114,
   "outputs": [
    {
     "data": {
      "text/plain": "3900"
     },
     "execution_count": 114,
     "metadata": {},
     "output_type": "execute_result"
    }
   ],
   "source": [
    "len(df['choice_description']) - len(df [df['choice_description'].str.contains('Vegetables')])"
   ],
   "metadata": {
    "collapsed": false,
    "ExecuteTime": {
     "end_time": "2023-11-28T15:13:10.259783Z",
     "start_time": "2023-11-28T15:13:10.254963Z"
    }
   }
  },
  {
   "cell_type": "code",
   "execution_count": 116,
   "outputs": [
    {
     "data": {
      "text/plain": "3900"
     },
     "execution_count": 116,
     "metadata": {},
     "output_type": "execute_result"
    }
   ],
   "source": [
    "len(df[~df['choice_description'].str.contains('Vegetables')])"
   ],
   "metadata": {
    "collapsed": false,
    "ExecuteTime": {
     "end_time": "2023-11-28T15:13:37.107405Z",
     "start_time": "2023-11-28T15:13:37.100927Z"
    }
   }
  },
  {
   "cell_type": "code",
   "execution_count": 120,
   "outputs": [
    {
     "data": {
      "text/plain": "      order_id  quantity         item_name         choice_description  \\\n2            1         1  Nantucket Nectar                    [Apple]   \n22          11         1  Nantucket Nectar       [Pomegranate Cherry]   \n105         46         1  Nantucket Nectar  [Pineapple Orange Banana]   \n173         77         1  Nantucket Nectar                    [Apple]   \n205         91         1  Nantucket Nectar             [Peach Orange]   \n436        189         1  Nantucket Nectar       [Pomegranate Cherry]   \n601        247         2  Nantucket Nectar  [Pineapple Orange Banana]   \n925        381         1  Nantucket Nectar       [Pomegranate Cherry]   \n1356       553         1  Nantucket Nectar       [Pomegranate Cherry]   \n1585       641         1  Nantucket Nectar             [Peach Orange]   \n1626       656         1  Nantucket Nectar  [Pineapple Orange Banana]   \n1706       690         1  Nantucket Nectar                    [Apple]   \n2162       872         1  Nantucket Nectar  [Pineapple Orange Banana]   \n2379       947         2  Nantucket Nectar             [Peach Orange]   \n2381       947         1  Nantucket Nectar                    [Apple]   \n2430       965         1  Nantucket Nectar       [Pomegranate Cherry]   \n2653      1053         1  Nantucket Nectar  [Pineapple Orange Banana]   \n2818      1118         1  Nantucket Nectar                    [Apple]   \n2838      1128         1  Nantucket Nectar             [Peach Orange]   \n2853      1133         1  Nantucket Nectar                    [Apple]   \n2949      1172         1  Nantucket Nectar             [Peach Orange]   \n3318      1330         1  Nantucket Nectar             [Peach Orange]   \n3368      1351         1  Nantucket Nectar  [Pineapple Orange Banana]   \n3570      1433         1  Nantucket Nectar  [Pineapple Orange Banana]   \n3845      1541         1  Nantucket Nectar             [Peach Orange]   \n4019      1609         1  Nantucket Nectar  [Pineapple Orange Banana]   \n4078      1632         1  Nantucket Nectar             [Peach Orange]   \n\n     item_price  new_price  \n2         3.39        3.39  \n22        3.39        3.39  \n105       3.39        3.39  \n173       3.39        3.39  \n205       3.39        3.39  \n436       3.39        3.39  \n601       6.78        6.78  \n925       3.39        3.39  \n1356      3.39        3.39  \n1585      3.39        3.39  \n1626      3.39        3.39  \n1706      3.39        3.39  \n2162      3.39        3.39  \n2379      6.78        6.78  \n2381      3.39        3.39  \n2430      3.39        3.39  \n2653      3.39        3.39  \n2818      3.39        3.39  \n2838      3.39        3.39  \n2853      3.39        3.39  \n2949      3.39        3.39  \n3318      3.39        3.39  \n3368      3.39        3.39  \n3570      3.39        3.39  \n3845      3.39        3.39  \n4019      3.39        3.39  \n4078      3.39        3.39  ",
      "text/html": "<div>\n<style scoped>\n    .dataframe tbody tr th:only-of-type {\n        vertical-align: middle;\n    }\n\n    .dataframe tbody tr th {\n        vertical-align: top;\n    }\n\n    .dataframe thead th {\n        text-align: right;\n    }\n</style>\n<table border=\"1\" class=\"dataframe\">\n  <thead>\n    <tr style=\"text-align: right;\">\n      <th></th>\n      <th>order_id</th>\n      <th>quantity</th>\n      <th>item_name</th>\n      <th>choice_description</th>\n      <th>item_price</th>\n      <th>new_price</th>\n    </tr>\n  </thead>\n  <tbody>\n    <tr>\n      <th>2</th>\n      <td>1</td>\n      <td>1</td>\n      <td>Nantucket Nectar</td>\n      <td>[Apple]</td>\n      <td>3.39</td>\n      <td>3.39</td>\n    </tr>\n    <tr>\n      <th>22</th>\n      <td>11</td>\n      <td>1</td>\n      <td>Nantucket Nectar</td>\n      <td>[Pomegranate Cherry]</td>\n      <td>3.39</td>\n      <td>3.39</td>\n    </tr>\n    <tr>\n      <th>105</th>\n      <td>46</td>\n      <td>1</td>\n      <td>Nantucket Nectar</td>\n      <td>[Pineapple Orange Banana]</td>\n      <td>3.39</td>\n      <td>3.39</td>\n    </tr>\n    <tr>\n      <th>173</th>\n      <td>77</td>\n      <td>1</td>\n      <td>Nantucket Nectar</td>\n      <td>[Apple]</td>\n      <td>3.39</td>\n      <td>3.39</td>\n    </tr>\n    <tr>\n      <th>205</th>\n      <td>91</td>\n      <td>1</td>\n      <td>Nantucket Nectar</td>\n      <td>[Peach Orange]</td>\n      <td>3.39</td>\n      <td>3.39</td>\n    </tr>\n    <tr>\n      <th>436</th>\n      <td>189</td>\n      <td>1</td>\n      <td>Nantucket Nectar</td>\n      <td>[Pomegranate Cherry]</td>\n      <td>3.39</td>\n      <td>3.39</td>\n    </tr>\n    <tr>\n      <th>601</th>\n      <td>247</td>\n      <td>2</td>\n      <td>Nantucket Nectar</td>\n      <td>[Pineapple Orange Banana]</td>\n      <td>6.78</td>\n      <td>6.78</td>\n    </tr>\n    <tr>\n      <th>925</th>\n      <td>381</td>\n      <td>1</td>\n      <td>Nantucket Nectar</td>\n      <td>[Pomegranate Cherry]</td>\n      <td>3.39</td>\n      <td>3.39</td>\n    </tr>\n    <tr>\n      <th>1356</th>\n      <td>553</td>\n      <td>1</td>\n      <td>Nantucket Nectar</td>\n      <td>[Pomegranate Cherry]</td>\n      <td>3.39</td>\n      <td>3.39</td>\n    </tr>\n    <tr>\n      <th>1585</th>\n      <td>641</td>\n      <td>1</td>\n      <td>Nantucket Nectar</td>\n      <td>[Peach Orange]</td>\n      <td>3.39</td>\n      <td>3.39</td>\n    </tr>\n    <tr>\n      <th>1626</th>\n      <td>656</td>\n      <td>1</td>\n      <td>Nantucket Nectar</td>\n      <td>[Pineapple Orange Banana]</td>\n      <td>3.39</td>\n      <td>3.39</td>\n    </tr>\n    <tr>\n      <th>1706</th>\n      <td>690</td>\n      <td>1</td>\n      <td>Nantucket Nectar</td>\n      <td>[Apple]</td>\n      <td>3.39</td>\n      <td>3.39</td>\n    </tr>\n    <tr>\n      <th>2162</th>\n      <td>872</td>\n      <td>1</td>\n      <td>Nantucket Nectar</td>\n      <td>[Pineapple Orange Banana]</td>\n      <td>3.39</td>\n      <td>3.39</td>\n    </tr>\n    <tr>\n      <th>2379</th>\n      <td>947</td>\n      <td>2</td>\n      <td>Nantucket Nectar</td>\n      <td>[Peach Orange]</td>\n      <td>6.78</td>\n      <td>6.78</td>\n    </tr>\n    <tr>\n      <th>2381</th>\n      <td>947</td>\n      <td>1</td>\n      <td>Nantucket Nectar</td>\n      <td>[Apple]</td>\n      <td>3.39</td>\n      <td>3.39</td>\n    </tr>\n    <tr>\n      <th>2430</th>\n      <td>965</td>\n      <td>1</td>\n      <td>Nantucket Nectar</td>\n      <td>[Pomegranate Cherry]</td>\n      <td>3.39</td>\n      <td>3.39</td>\n    </tr>\n    <tr>\n      <th>2653</th>\n      <td>1053</td>\n      <td>1</td>\n      <td>Nantucket Nectar</td>\n      <td>[Pineapple Orange Banana]</td>\n      <td>3.39</td>\n      <td>3.39</td>\n    </tr>\n    <tr>\n      <th>2818</th>\n      <td>1118</td>\n      <td>1</td>\n      <td>Nantucket Nectar</td>\n      <td>[Apple]</td>\n      <td>3.39</td>\n      <td>3.39</td>\n    </tr>\n    <tr>\n      <th>2838</th>\n      <td>1128</td>\n      <td>1</td>\n      <td>Nantucket Nectar</td>\n      <td>[Peach Orange]</td>\n      <td>3.39</td>\n      <td>3.39</td>\n    </tr>\n    <tr>\n      <th>2853</th>\n      <td>1133</td>\n      <td>1</td>\n      <td>Nantucket Nectar</td>\n      <td>[Apple]</td>\n      <td>3.39</td>\n      <td>3.39</td>\n    </tr>\n    <tr>\n      <th>2949</th>\n      <td>1172</td>\n      <td>1</td>\n      <td>Nantucket Nectar</td>\n      <td>[Peach Orange]</td>\n      <td>3.39</td>\n      <td>3.39</td>\n    </tr>\n    <tr>\n      <th>3318</th>\n      <td>1330</td>\n      <td>1</td>\n      <td>Nantucket Nectar</td>\n      <td>[Peach Orange]</td>\n      <td>3.39</td>\n      <td>3.39</td>\n    </tr>\n    <tr>\n      <th>3368</th>\n      <td>1351</td>\n      <td>1</td>\n      <td>Nantucket Nectar</td>\n      <td>[Pineapple Orange Banana]</td>\n      <td>3.39</td>\n      <td>3.39</td>\n    </tr>\n    <tr>\n      <th>3570</th>\n      <td>1433</td>\n      <td>1</td>\n      <td>Nantucket Nectar</td>\n      <td>[Pineapple Orange Banana]</td>\n      <td>3.39</td>\n      <td>3.39</td>\n    </tr>\n    <tr>\n      <th>3845</th>\n      <td>1541</td>\n      <td>1</td>\n      <td>Nantucket Nectar</td>\n      <td>[Peach Orange]</td>\n      <td>3.39</td>\n      <td>3.39</td>\n    </tr>\n    <tr>\n      <th>4019</th>\n      <td>1609</td>\n      <td>1</td>\n      <td>Nantucket Nectar</td>\n      <td>[Pineapple Orange Banana]</td>\n      <td>3.39</td>\n      <td>3.39</td>\n    </tr>\n    <tr>\n      <th>4078</th>\n      <td>1632</td>\n      <td>1</td>\n      <td>Nantucket Nectar</td>\n      <td>[Peach Orange]</td>\n      <td>3.39</td>\n      <td>3.39</td>\n    </tr>\n  </tbody>\n</table>\n</div>"
     },
     "execution_count": 120,
     "metadata": {},
     "output_type": "execute_result"
    }
   ],
   "source": [
    "df[df['item_name'].str.startswith('N')]"
   ],
   "metadata": {
    "collapsed": false,
    "ExecuteTime": {
     "end_time": "2023-11-28T15:14:14.766981Z",
     "start_time": "2023-11-28T15:14:14.763088Z"
    }
   }
  },
  {
   "cell_type": "code",
   "execution_count": 121,
   "outputs": [
    {
     "data": {
      "text/plain": "      order_id  quantity                              item_name  \\\n0            1         1           Chips and Fresh Tomato Salsa   \n2            1         1                       Nantucket Nectar   \n3            1         1  Chips and Tomatillo-Green Chili Salsa   \n8            4         1                       Steak Soft Tacos   \n10           5         1                    Chips and Guacamole   \n...        ...       ...                                    ...   \n4615      1832         1                     Chicken Soft Tacos   \n4616      1832         1                    Chips and Guacamole   \n4619      1834         1                     Chicken Salad Bowl   \n4620      1834         1                     Chicken Salad Bowl   \n4621      1834         1                     Chicken Salad Bowl   \n\n                                     choice_description item_price  new_price  \n0                                                NoData      2.39        2.39  \n2                                               [Apple]      3.39        3.39  \n3                                                NoData      2.39        2.39  \n8     [Tomatillo Green Chili Salsa, [Pinto Beans, Ch...      9.25        9.25  \n10                                               NoData      4.45        4.45  \n...                                                 ...        ...        ...  \n4615   [Fresh Tomato Salsa, [Rice, Cheese, Sour Cream]]      8.75        8.75  \n4616                                             NoData      4.45        4.45  \n4619  [Fresh Tomato Salsa, [Fajita Vegetables, Pinto...     11.25       11.25  \n4620  [Fresh Tomato Salsa, [Fajita Vegetables, Lettu...      8.75        8.75  \n4621  [Fresh Tomato Salsa, [Fajita Vegetables, Pinto...      8.75        8.75  \n\n[2373 rows x 6 columns]",
      "text/html": "<div>\n<style scoped>\n    .dataframe tbody tr th:only-of-type {\n        vertical-align: middle;\n    }\n\n    .dataframe tbody tr th {\n        vertical-align: top;\n    }\n\n    .dataframe thead th {\n        text-align: right;\n    }\n</style>\n<table border=\"1\" class=\"dataframe\">\n  <thead>\n    <tr style=\"text-align: right;\">\n      <th></th>\n      <th>order_id</th>\n      <th>quantity</th>\n      <th>item_name</th>\n      <th>choice_description</th>\n      <th>item_price</th>\n      <th>new_price</th>\n    </tr>\n  </thead>\n  <tbody>\n    <tr>\n      <th>0</th>\n      <td>1</td>\n      <td>1</td>\n      <td>Chips and Fresh Tomato Salsa</td>\n      <td>NoData</td>\n      <td>2.39</td>\n      <td>2.39</td>\n    </tr>\n    <tr>\n      <th>2</th>\n      <td>1</td>\n      <td>1</td>\n      <td>Nantucket Nectar</td>\n      <td>[Apple]</td>\n      <td>3.39</td>\n      <td>3.39</td>\n    </tr>\n    <tr>\n      <th>3</th>\n      <td>1</td>\n      <td>1</td>\n      <td>Chips and Tomatillo-Green Chili Salsa</td>\n      <td>NoData</td>\n      <td>2.39</td>\n      <td>2.39</td>\n    </tr>\n    <tr>\n      <th>8</th>\n      <td>4</td>\n      <td>1</td>\n      <td>Steak Soft Tacos</td>\n      <td>[Tomatillo Green Chili Salsa, [Pinto Beans, Ch...</td>\n      <td>9.25</td>\n      <td>9.25</td>\n    </tr>\n    <tr>\n      <th>10</th>\n      <td>5</td>\n      <td>1</td>\n      <td>Chips and Guacamole</td>\n      <td>NoData</td>\n      <td>4.45</td>\n      <td>4.45</td>\n    </tr>\n    <tr>\n      <th>...</th>\n      <td>...</td>\n      <td>...</td>\n      <td>...</td>\n      <td>...</td>\n      <td>...</td>\n      <td>...</td>\n    </tr>\n    <tr>\n      <th>4615</th>\n      <td>1832</td>\n      <td>1</td>\n      <td>Chicken Soft Tacos</td>\n      <td>[Fresh Tomato Salsa, [Rice, Cheese, Sour Cream]]</td>\n      <td>8.75</td>\n      <td>8.75</td>\n    </tr>\n    <tr>\n      <th>4616</th>\n      <td>1832</td>\n      <td>1</td>\n      <td>Chips and Guacamole</td>\n      <td>NoData</td>\n      <td>4.45</td>\n      <td>4.45</td>\n    </tr>\n    <tr>\n      <th>4619</th>\n      <td>1834</td>\n      <td>1</td>\n      <td>Chicken Salad Bowl</td>\n      <td>[Fresh Tomato Salsa, [Fajita Vegetables, Pinto...</td>\n      <td>11.25</td>\n      <td>11.25</td>\n    </tr>\n    <tr>\n      <th>4620</th>\n      <td>1834</td>\n      <td>1</td>\n      <td>Chicken Salad Bowl</td>\n      <td>[Fresh Tomato Salsa, [Fajita Vegetables, Lettu...</td>\n      <td>8.75</td>\n      <td>8.75</td>\n    </tr>\n    <tr>\n      <th>4621</th>\n      <td>1834</td>\n      <td>1</td>\n      <td>Chicken Salad Bowl</td>\n      <td>[Fresh Tomato Salsa, [Fajita Vegetables, Pinto...</td>\n      <td>8.75</td>\n      <td>8.75</td>\n    </tr>\n  </tbody>\n</table>\n<p>2373 rows × 6 columns</p>\n</div>"
     },
     "execution_count": 121,
     "metadata": {},
     "output_type": "execute_result"
    }
   ],
   "source": [
    "df [df['item_name'].str.len() >= 15]"
   ],
   "metadata": {
    "collapsed": false,
    "ExecuteTime": {
     "end_time": "2023-11-28T15:14:55.321422Z",
     "start_time": "2023-11-28T15:14:55.312492Z"
    }
   }
  },
  {
   "cell_type": "code",
   "execution_count": null,
   "outputs": [],
   "source": [],
   "metadata": {
    "collapsed": false
   }
  },
  {
   "cell_type": "code",
   "execution_count": 124,
   "outputs": [
    {
     "data": {
      "text/plain": "1393"
     },
     "execution_count": 124,
     "metadata": {},
     "output_type": "execute_result"
    }
   ],
   "source": [
    "lst =[1.69, 2.39, 3.39, 4.45, 9.25, 10.98, 11.75, 16.98]\n",
    "\n",
    "Ans = df.loc[df.new_price.isin(lst)]\n",
    "len(Ans)"
   ],
   "metadata": {
    "collapsed": false,
    "ExecuteTime": {
     "end_time": "2023-11-28T15:15:51.445433Z",
     "start_time": "2023-11-28T15:15:51.441088Z"
    }
   }
  },
  {
   "cell_type": "code",
   "execution_count": 3,
   "outputs": [
    {
     "data": {
      "text/plain": "     id                                              name  host_id  \\\n0  2539                Clean & quiet apt home by the park     2787   \n1  2595                             Skylit Midtown Castle     2845   \n2  3647               THE VILLAGE OF HARLEM....NEW YORK !     4632   \n3  3831                   Cozy Entire Floor of Brownstone     4869   \n4  5022  Entire Apt: Spacious Studio/Loft by central park     7192   \n\n     host_name neighbourhood_group neighbourhood  latitude  longitude  \\\n0         John            Brooklyn    Kensington  40.64749  -73.97237   \n1     Jennifer           Manhattan       Midtown  40.75362  -73.98377   \n2    Elisabeth           Manhattan        Harlem  40.80902  -73.94190   \n3  LisaRoxanne            Brooklyn  Clinton Hill  40.68514  -73.95976   \n4        Laura           Manhattan   East Harlem  40.79851  -73.94399   \n\n         room_type  price  minimum_nights  number_of_reviews last_review  \\\n0     Private room    149               1                  9  2018-10-19   \n1  Entire home/apt    225               1                 45  2019-05-21   \n2     Private room    150               3                  0         NaN   \n3  Entire home/apt     89               1                270  2019-07-05   \n4  Entire home/apt     80              10                  9  2018-11-19   \n\n   reviews_per_month  calculated_host_listings_count  availability_365  \n0               0.21                               6               365  \n1               0.38                               2               355  \n2                NaN                               1               365  \n3               4.64                               1               194  \n4               0.10                               1                 0  ",
      "text/html": "<div>\n<style scoped>\n    .dataframe tbody tr th:only-of-type {\n        vertical-align: middle;\n    }\n\n    .dataframe tbody tr th {\n        vertical-align: top;\n    }\n\n    .dataframe thead th {\n        text-align: right;\n    }\n</style>\n<table border=\"1\" class=\"dataframe\">\n  <thead>\n    <tr style=\"text-align: right;\">\n      <th></th>\n      <th>id</th>\n      <th>name</th>\n      <th>host_id</th>\n      <th>host_name</th>\n      <th>neighbourhood_group</th>\n      <th>neighbourhood</th>\n      <th>latitude</th>\n      <th>longitude</th>\n      <th>room_type</th>\n      <th>price</th>\n      <th>minimum_nights</th>\n      <th>number_of_reviews</th>\n      <th>last_review</th>\n      <th>reviews_per_month</th>\n      <th>calculated_host_listings_count</th>\n      <th>availability_365</th>\n    </tr>\n  </thead>\n  <tbody>\n    <tr>\n      <th>0</th>\n      <td>2539</td>\n      <td>Clean &amp; quiet apt home by the park</td>\n      <td>2787</td>\n      <td>John</td>\n      <td>Brooklyn</td>\n      <td>Kensington</td>\n      <td>40.64749</td>\n      <td>-73.97237</td>\n      <td>Private room</td>\n      <td>149</td>\n      <td>1</td>\n      <td>9</td>\n      <td>2018-10-19</td>\n      <td>0.21</td>\n      <td>6</td>\n      <td>365</td>\n    </tr>\n    <tr>\n      <th>1</th>\n      <td>2595</td>\n      <td>Skylit Midtown Castle</td>\n      <td>2845</td>\n      <td>Jennifer</td>\n      <td>Manhattan</td>\n      <td>Midtown</td>\n      <td>40.75362</td>\n      <td>-73.98377</td>\n      <td>Entire home/apt</td>\n      <td>225</td>\n      <td>1</td>\n      <td>45</td>\n      <td>2019-05-21</td>\n      <td>0.38</td>\n      <td>2</td>\n      <td>355</td>\n    </tr>\n    <tr>\n      <th>2</th>\n      <td>3647</td>\n      <td>THE VILLAGE OF HARLEM....NEW YORK !</td>\n      <td>4632</td>\n      <td>Elisabeth</td>\n      <td>Manhattan</td>\n      <td>Harlem</td>\n      <td>40.80902</td>\n      <td>-73.94190</td>\n      <td>Private room</td>\n      <td>150</td>\n      <td>3</td>\n      <td>0</td>\n      <td>NaN</td>\n      <td>NaN</td>\n      <td>1</td>\n      <td>365</td>\n    </tr>\n    <tr>\n      <th>3</th>\n      <td>3831</td>\n      <td>Cozy Entire Floor of Brownstone</td>\n      <td>4869</td>\n      <td>LisaRoxanne</td>\n      <td>Brooklyn</td>\n      <td>Clinton Hill</td>\n      <td>40.68514</td>\n      <td>-73.95976</td>\n      <td>Entire home/apt</td>\n      <td>89</td>\n      <td>1</td>\n      <td>270</td>\n      <td>2019-07-05</td>\n      <td>4.64</td>\n      <td>1</td>\n      <td>194</td>\n    </tr>\n    <tr>\n      <th>4</th>\n      <td>5022</td>\n      <td>Entire Apt: Spacious Studio/Loft by central park</td>\n      <td>7192</td>\n      <td>Laura</td>\n      <td>Manhattan</td>\n      <td>East Harlem</td>\n      <td>40.79851</td>\n      <td>-73.94399</td>\n      <td>Entire home/apt</td>\n      <td>80</td>\n      <td>10</td>\n      <td>9</td>\n      <td>2018-11-19</td>\n      <td>0.10</td>\n      <td>1</td>\n      <td>0</td>\n    </tr>\n  </tbody>\n</table>\n</div>"
     },
     "execution_count": 3,
     "metadata": {},
     "output_type": "execute_result"
    }
   ],
   "source": [
    "import pandas as pd\n",
    "df= pd.read_csv('https://raw.githubusercontent.com/Datamanim/pandas/main/AB_NYC_2019.csv')\n",
    "\n",
    "df.head(5)"
   ],
   "metadata": {
    "collapsed": false,
    "ExecuteTime": {
     "end_time": "2023-11-29T10:35:11.092128Z",
     "start_time": "2023-11-29T10:35:10.713344Z"
    }
   }
  },
  {
   "cell_type": "code",
   "execution_count": 13,
   "outputs": [
    {
     "data": {
      "text/plain": "host_name\n'Cil                  1\nMarisa And Colin      1\nMarisa & Tom          1\nMaris                 1\nMarilynn              1\n                   ... \nAlex                279\nJohn                294\nSonder (NYC)        327\nDavid               403\nMichael             417\nLength: 11452, dtype: int64"
     },
     "execution_count": 13,
     "metadata": {},
     "output_type": "execute_result"
    }
   ],
   "source": [
    "\n",
    "df.groupby('host_name').size().sort_values(ascending=True)"
   ],
   "metadata": {
    "collapsed": false,
    "ExecuteTime": {
     "end_time": "2023-11-29T10:39:18.265234Z",
     "start_time": "2023-11-29T10:39:18.260386Z"
    }
   }
  },
  {
   "cell_type": "code",
   "execution_count": 14,
   "outputs": [
    {
     "data": {
      "text/plain": "host_name\n'Cil                        1\n(Ari) HENRY LEE             1\n(Email hidden by Airbnb)    6\n(Mary) Haiy                 1\n-TheQueensCornerLot         1\n                           ..\n단비                          1\n빈나                          1\n소정                          2\n진                           1\n현선                          1\nName: count, Length: 11452, dtype: int64"
     },
     "execution_count": 14,
     "metadata": {},
     "output_type": "execute_result"
    }
   ],
   "source": [
    "df['host_name'].value_counts().sort_index()"
   ],
   "metadata": {
    "collapsed": false,
    "ExecuteTime": {
     "end_time": "2023-11-29T10:39:33.853159Z",
     "start_time": "2023-11-29T10:39:33.843917Z"
    }
   }
  },
  {
   "cell_type": "code",
   "execution_count": 24,
   "outputs": [
    {
     "name": "stdout",
     "output_type": "stream",
     "text": [
      "<class 'pandas.core.frame.DataFrame'>\n",
      "Index: 11452 entries, Michael to Ilgar & Aysel\n",
      "Data columns (total 1 columns):\n",
      " #   Column  Non-Null Count  Dtype\n",
      "---  ------  --------------  -----\n",
      " 0   counts  11452 non-null  int64\n",
      "dtypes: int64(1)\n",
      "memory usage: 178.9+ KB\n"
     ]
    }
   ],
   "source": [
    "host_df = pd.DataFrame(df['host_name'].value_counts().sort_values(ascending=False))\n",
    "\n",
    "host_df.columns = ['counts']\n",
    "host_df.info()"
   ],
   "metadata": {
    "collapsed": false,
    "ExecuteTime": {
     "end_time": "2023-11-29T10:43:58.510684Z",
     "start_time": "2023-11-29T10:43:58.505434Z"
    }
   }
  },
  {
   "cell_type": "code",
   "execution_count": 29,
   "outputs": [
    {
     "data": {
      "text/plain": "    neighbourhood_group  neighbourhood  size\n0                 Bronx       Allerton    42\n1                 Bronx     Baychester     7\n2                 Bronx        Belmont    24\n3                 Bronx      Bronxdale    19\n4                 Bronx    Castle Hill     9\n..                  ...            ...   ...\n216       Staten Island    Tottenville     7\n217       Staten Island  West Brighton    18\n218       Staten Island    Westerleigh     2\n219       Staten Island    Willowbrook     1\n220       Staten Island        Woodrow     1\n\n[221 rows x 3 columns]",
      "text/html": "<div>\n<style scoped>\n    .dataframe tbody tr th:only-of-type {\n        vertical-align: middle;\n    }\n\n    .dataframe tbody tr th {\n        vertical-align: top;\n    }\n\n    .dataframe thead th {\n        text-align: right;\n    }\n</style>\n<table border=\"1\" class=\"dataframe\">\n  <thead>\n    <tr style=\"text-align: right;\">\n      <th></th>\n      <th>neighbourhood_group</th>\n      <th>neighbourhood</th>\n      <th>size</th>\n    </tr>\n  </thead>\n  <tbody>\n    <tr>\n      <th>0</th>\n      <td>Bronx</td>\n      <td>Allerton</td>\n      <td>42</td>\n    </tr>\n    <tr>\n      <th>1</th>\n      <td>Bronx</td>\n      <td>Baychester</td>\n      <td>7</td>\n    </tr>\n    <tr>\n      <th>2</th>\n      <td>Bronx</td>\n      <td>Belmont</td>\n      <td>24</td>\n    </tr>\n    <tr>\n      <th>3</th>\n      <td>Bronx</td>\n      <td>Bronxdale</td>\n      <td>19</td>\n    </tr>\n    <tr>\n      <th>4</th>\n      <td>Bronx</td>\n      <td>Castle Hill</td>\n      <td>9</td>\n    </tr>\n    <tr>\n      <th>...</th>\n      <td>...</td>\n      <td>...</td>\n      <td>...</td>\n    </tr>\n    <tr>\n      <th>216</th>\n      <td>Staten Island</td>\n      <td>Tottenville</td>\n      <td>7</td>\n    </tr>\n    <tr>\n      <th>217</th>\n      <td>Staten Island</td>\n      <td>West Brighton</td>\n      <td>18</td>\n    </tr>\n    <tr>\n      <th>218</th>\n      <td>Staten Island</td>\n      <td>Westerleigh</td>\n      <td>2</td>\n    </tr>\n    <tr>\n      <th>219</th>\n      <td>Staten Island</td>\n      <td>Willowbrook</td>\n      <td>1</td>\n    </tr>\n    <tr>\n      <th>220</th>\n      <td>Staten Island</td>\n      <td>Woodrow</td>\n      <td>1</td>\n    </tr>\n  </tbody>\n</table>\n<p>221 rows × 3 columns</p>\n</div>"
     },
     "execution_count": 29,
     "metadata": {},
     "output_type": "execute_result"
    }
   ],
   "source": [
    "df.groupby(['neighbourhood_group', 'neighbourhood'], as_index=False).size()"
   ],
   "metadata": {
    "collapsed": false,
    "ExecuteTime": {
     "end_time": "2023-11-29T10:46:41.330802Z",
     "start_time": "2023-11-29T10:46:41.317894Z"
    }
   }
  },
  {
   "cell_type": "code",
   "execution_count": null,
   "outputs": [],
   "source": [],
   "metadata": {
    "collapsed": false
   }
  },
  {
   "cell_type": "code",
   "execution_count": 39,
   "outputs": [
    {
     "name": "stdout",
     "output_type": "stream",
     "text": [
      "                          price\n",
      "neighbourhood_group            \n",
      "Bronx                 87.496792\n",
      "Brooklyn             124.383207\n",
      "Manhattan            196.875814\n",
      "Queens                99.517649\n",
      "Staten Island        114.812332\n",
      "                            price\n",
      "neighbourhood_group              \n",
      "Bronx                11386.885081\n",
      "Brooklyn             34921.719135\n",
      "Manhattan            84904.159185\n",
      "Queens               27923.130227\n",
      "Staten Island        77073.088342\n",
      "                     price\n",
      "neighbourhood_group       \n",
      "Bronx                 2500\n",
      "Brooklyn             10000\n",
      "Manhattan            10000\n",
      "Queens               10000\n",
      "Staten Island         5000\n",
      "                     price\n",
      "neighbourhood_group       \n",
      "Bronx                    0\n",
      "Brooklyn                 0\n",
      "Manhattan                0\n",
      "Queens                  10\n",
      "Staten Island           13\n"
     ]
    }
   ],
   "source": [
    "df2 = df[['neighbourhood_group','price']]\n",
    "\n",
    "print(df2.groupby('neighbourhood_group').mean())\n",
    "print(df2.groupby('neighbourhood_group').var())\n",
    "print(df2.groupby('neighbourhood_group').max())\n",
    "print(df2.groupby('neighbourhood_group').min())"
   ],
   "metadata": {
    "collapsed": false,
    "ExecuteTime": {
     "end_time": "2023-11-29T10:52:55.671550Z",
     "start_time": "2023-11-29T10:52:55.638540Z"
    }
   }
  },
  {
   "cell_type": "code",
   "execution_count": 40,
   "outputs": [
    {
     "data": {
      "text/plain": "                          price                         \n                           mean           var    max min\nneighbourhood_group                                     \nBronx                 87.496792  11386.885081   2500   0\nBrooklyn             124.383207  34921.719135  10000   0\nManhattan            196.875814  84904.159185  10000   0\nQueens                99.517649  27923.130227  10000  10\nStaten Island        114.812332  77073.088342   5000  13",
      "text/html": "<div>\n<style scoped>\n    .dataframe tbody tr th:only-of-type {\n        vertical-align: middle;\n    }\n\n    .dataframe tbody tr th {\n        vertical-align: top;\n    }\n\n    .dataframe thead tr th {\n        text-align: left;\n    }\n\n    .dataframe thead tr:last-of-type th {\n        text-align: right;\n    }\n</style>\n<table border=\"1\" class=\"dataframe\">\n  <thead>\n    <tr>\n      <th></th>\n      <th colspan=\"4\" halign=\"left\">price</th>\n    </tr>\n    <tr>\n      <th></th>\n      <th>mean</th>\n      <th>var</th>\n      <th>max</th>\n      <th>min</th>\n    </tr>\n    <tr>\n      <th>neighbourhood_group</th>\n      <th></th>\n      <th></th>\n      <th></th>\n      <th></th>\n    </tr>\n  </thead>\n  <tbody>\n    <tr>\n      <th>Bronx</th>\n      <td>87.496792</td>\n      <td>11386.885081</td>\n      <td>2500</td>\n      <td>0</td>\n    </tr>\n    <tr>\n      <th>Brooklyn</th>\n      <td>124.383207</td>\n      <td>34921.719135</td>\n      <td>10000</td>\n      <td>0</td>\n    </tr>\n    <tr>\n      <th>Manhattan</th>\n      <td>196.875814</td>\n      <td>84904.159185</td>\n      <td>10000</td>\n      <td>0</td>\n    </tr>\n    <tr>\n      <th>Queens</th>\n      <td>99.517649</td>\n      <td>27923.130227</td>\n      <td>10000</td>\n      <td>10</td>\n    </tr>\n    <tr>\n      <th>Staten Island</th>\n      <td>114.812332</td>\n      <td>77073.088342</td>\n      <td>5000</td>\n      <td>13</td>\n    </tr>\n  </tbody>\n</table>\n</div>"
     },
     "execution_count": 40,
     "metadata": {},
     "output_type": "execute_result"
    }
   ],
   "source": [
    "df[['neighbourhood_group','price']].groupby('neighbourhood_group').agg(['mean','var','max','min'])"
   ],
   "metadata": {
    "collapsed": false,
    "ExecuteTime": {
     "end_time": "2023-11-29T10:53:52.151409Z",
     "start_time": "2023-11-29T10:53:52.142403Z"
    }
   }
  },
  {
   "cell_type": "code",
   "execution_count": 45,
   "outputs": [
    {
     "data": {
      "text/plain": "                         price                                                 \\\nneighbourhood         Allerton Arden Heights Arrochar     Arverne     Astoria   \nneighbourhood_group                                                             \nBronx                87.595238           NaN      NaN         NaN         NaN   \nBrooklyn                   NaN           NaN      NaN         NaN         NaN   \nManhattan                  NaN           NaN      NaN         NaN         NaN   \nQueens                     NaN           NaN      NaN  171.779221  117.187778   \nStaten Island              NaN         67.25    115.0         NaN         NaN   \n\n                                                                          \\\nneighbourhood       Bath Beach Battery Park City   Bay Ridge Bay Terrace   \nneighbourhood_group                                                        \nBronx                      NaN               NaN         NaN         NaN   \nBrooklyn             81.764706               NaN  144.432624         NaN   \nManhattan                  NaN        367.557143         NaN         NaN   \nQueens                     NaN               NaN         NaN       142.0   \nStaten Island              NaN               NaN         NaN         NaN   \n\n                                                ...                          \\\nneighbourhood       Bay Terrace, Staten Island  ... Westerleigh  Whitestone   \nneighbourhood_group                             ...                           \nBronx                                      NaN  ...         NaN         NaN   \nBrooklyn                                   NaN  ...         NaN         NaN   \nManhattan                                  NaN  ...         NaN         NaN   \nQueens                                     NaN  ...         NaN  107.545455   \nStaten Island                            102.5  ...        71.5         NaN   \n\n                                                                             \\\nneighbourhood       Williamsbridge Williamsburg Willowbrook Windsor Terrace   \nneighbourhood_group                                                           \nBronx                        96.75          NaN         NaN             NaN   \nBrooklyn                       NaN   143.802806         NaN      138.993631   \nManhattan                      NaN          NaN         NaN             NaN   \nQueens                         NaN          NaN         NaN             NaN   \nStaten Island                  NaN          NaN       249.0             NaN   \n\n                                                              \nneighbourhood        Woodhaven   Woodlawn Woodrow   Woodside  \nneighbourhood_group                                           \nBronx                      NaN  60.090909     NaN        NaN  \nBrooklyn                   NaN        NaN     NaN        NaN  \nManhattan                  NaN        NaN     NaN        NaN  \nQueens               67.170455        NaN     NaN  85.097872  \nStaten Island              NaN        NaN   700.0        NaN  \n\n[5 rows x 221 columns]",
      "text/html": "<div>\n<style scoped>\n    .dataframe tbody tr th:only-of-type {\n        vertical-align: middle;\n    }\n\n    .dataframe tbody tr th {\n        vertical-align: top;\n    }\n\n    .dataframe thead tr th {\n        text-align: left;\n    }\n\n    .dataframe thead tr:last-of-type th {\n        text-align: right;\n    }\n</style>\n<table border=\"1\" class=\"dataframe\">\n  <thead>\n    <tr>\n      <th></th>\n      <th colspan=\"21\" halign=\"left\">price</th>\n    </tr>\n    <tr>\n      <th>neighbourhood</th>\n      <th>Allerton</th>\n      <th>Arden Heights</th>\n      <th>Arrochar</th>\n      <th>Arverne</th>\n      <th>Astoria</th>\n      <th>Bath Beach</th>\n      <th>Battery Park City</th>\n      <th>Bay Ridge</th>\n      <th>Bay Terrace</th>\n      <th>Bay Terrace, Staten Island</th>\n      <th>...</th>\n      <th>Westerleigh</th>\n      <th>Whitestone</th>\n      <th>Williamsbridge</th>\n      <th>Williamsburg</th>\n      <th>Willowbrook</th>\n      <th>Windsor Terrace</th>\n      <th>Woodhaven</th>\n      <th>Woodlawn</th>\n      <th>Woodrow</th>\n      <th>Woodside</th>\n    </tr>\n    <tr>\n      <th>neighbourhood_group</th>\n      <th></th>\n      <th></th>\n      <th></th>\n      <th></th>\n      <th></th>\n      <th></th>\n      <th></th>\n      <th></th>\n      <th></th>\n      <th></th>\n      <th></th>\n      <th></th>\n      <th></th>\n      <th></th>\n      <th></th>\n      <th></th>\n      <th></th>\n      <th></th>\n      <th></th>\n      <th></th>\n      <th></th>\n    </tr>\n  </thead>\n  <tbody>\n    <tr>\n      <th>Bronx</th>\n      <td>87.595238</td>\n      <td>NaN</td>\n      <td>NaN</td>\n      <td>NaN</td>\n      <td>NaN</td>\n      <td>NaN</td>\n      <td>NaN</td>\n      <td>NaN</td>\n      <td>NaN</td>\n      <td>NaN</td>\n      <td>...</td>\n      <td>NaN</td>\n      <td>NaN</td>\n      <td>96.75</td>\n      <td>NaN</td>\n      <td>NaN</td>\n      <td>NaN</td>\n      <td>NaN</td>\n      <td>60.090909</td>\n      <td>NaN</td>\n      <td>NaN</td>\n    </tr>\n    <tr>\n      <th>Brooklyn</th>\n      <td>NaN</td>\n      <td>NaN</td>\n      <td>NaN</td>\n      <td>NaN</td>\n      <td>NaN</td>\n      <td>81.764706</td>\n      <td>NaN</td>\n      <td>144.432624</td>\n      <td>NaN</td>\n      <td>NaN</td>\n      <td>...</td>\n      <td>NaN</td>\n      <td>NaN</td>\n      <td>NaN</td>\n      <td>143.802806</td>\n      <td>NaN</td>\n      <td>138.993631</td>\n      <td>NaN</td>\n      <td>NaN</td>\n      <td>NaN</td>\n      <td>NaN</td>\n    </tr>\n    <tr>\n      <th>Manhattan</th>\n      <td>NaN</td>\n      <td>NaN</td>\n      <td>NaN</td>\n      <td>NaN</td>\n      <td>NaN</td>\n      <td>NaN</td>\n      <td>367.557143</td>\n      <td>NaN</td>\n      <td>NaN</td>\n      <td>NaN</td>\n      <td>...</td>\n      <td>NaN</td>\n      <td>NaN</td>\n      <td>NaN</td>\n      <td>NaN</td>\n      <td>NaN</td>\n      <td>NaN</td>\n      <td>NaN</td>\n      <td>NaN</td>\n      <td>NaN</td>\n      <td>NaN</td>\n    </tr>\n    <tr>\n      <th>Queens</th>\n      <td>NaN</td>\n      <td>NaN</td>\n      <td>NaN</td>\n      <td>171.779221</td>\n      <td>117.187778</td>\n      <td>NaN</td>\n      <td>NaN</td>\n      <td>NaN</td>\n      <td>142.0</td>\n      <td>NaN</td>\n      <td>...</td>\n      <td>NaN</td>\n      <td>107.545455</td>\n      <td>NaN</td>\n      <td>NaN</td>\n      <td>NaN</td>\n      <td>NaN</td>\n      <td>67.170455</td>\n      <td>NaN</td>\n      <td>NaN</td>\n      <td>85.097872</td>\n    </tr>\n    <tr>\n      <th>Staten Island</th>\n      <td>NaN</td>\n      <td>67.25</td>\n      <td>115.0</td>\n      <td>NaN</td>\n      <td>NaN</td>\n      <td>NaN</td>\n      <td>NaN</td>\n      <td>NaN</td>\n      <td>NaN</td>\n      <td>102.5</td>\n      <td>...</td>\n      <td>71.5</td>\n      <td>NaN</td>\n      <td>NaN</td>\n      <td>NaN</td>\n      <td>249.0</td>\n      <td>NaN</td>\n      <td>NaN</td>\n      <td>NaN</td>\n      <td>700.0</td>\n      <td>NaN</td>\n    </tr>\n  </tbody>\n</table>\n<p>5 rows × 221 columns</p>\n</div>"
     },
     "execution_count": 45,
     "metadata": {},
     "output_type": "execute_result"
    }
   ],
   "source": [
    "df[['neighbourhood_group', 'neighbourhood', 'price']].groupby(['neighbourhood_group', 'neighbourhood']).mean().unstack()"
   ],
   "metadata": {
    "collapsed": false,
    "ExecuteTime": {
     "end_time": "2023-11-29T10:56:48.739338Z",
     "start_time": "2023-11-29T10:56:48.717767Z"
    }
   }
  },
  {
   "cell_type": "code",
   "execution_count": 47,
   "outputs": [
    {
     "data": {
      "text/plain": "neighbourhood         Allerton Arden Heights Arrochar     Arverne     Astoria  \\\nneighbourhood_group                                                             \nBronx                87.595238          -999     -999        -999        -999   \nBrooklyn                  -999          -999     -999        -999        -999   \nManhattan                 -999          -999     -999        -999        -999   \nQueens                    -999          -999     -999  171.779221  117.187778   \nStaten Island             -999         67.25    115.0        -999        -999   \n\nneighbourhood       Bath Beach Battery Park City   Bay Ridge Bay Terrace  \\\nneighbourhood_group                                                        \nBronx                     -999              -999        -999        -999   \nBrooklyn             81.764706              -999  144.432624        -999   \nManhattan                 -999        367.557143        -999        -999   \nQueens                    -999              -999        -999       142.0   \nStaten Island             -999              -999        -999        -999   \n\nneighbourhood       Bay Terrace, Staten Island  ... Westerleigh  Whitestone  \\\nneighbourhood_group                             ...                           \nBronx                                     -999  ...        -999        -999   \nBrooklyn                                  -999  ...        -999        -999   \nManhattan                                 -999  ...        -999        -999   \nQueens                                    -999  ...        -999  107.545455   \nStaten Island                            102.5  ...        71.5        -999   \n\nneighbourhood       Williamsbridge Williamsburg Willowbrook Windsor Terrace  \\\nneighbourhood_group                                                           \nBronx                        96.75         -999        -999            -999   \nBrooklyn                      -999   143.802806        -999      138.993631   \nManhattan                     -999         -999        -999            -999   \nQueens                        -999         -999        -999            -999   \nStaten Island                 -999         -999       249.0            -999   \n\nneighbourhood        Woodhaven   Woodlawn Woodrow   Woodside  \nneighbourhood_group                                           \nBronx                     -999  60.090909    -999       -999  \nBrooklyn                  -999       -999    -999       -999  \nManhattan                 -999       -999    -999       -999  \nQueens               67.170455       -999    -999  85.097872  \nStaten Island             -999       -999   700.0       -999  \n\n[5 rows x 221 columns]",
      "text/html": "<div>\n<style scoped>\n    .dataframe tbody tr th:only-of-type {\n        vertical-align: middle;\n    }\n\n    .dataframe tbody tr th {\n        vertical-align: top;\n    }\n\n    .dataframe thead th {\n        text-align: right;\n    }\n</style>\n<table border=\"1\" class=\"dataframe\">\n  <thead>\n    <tr style=\"text-align: right;\">\n      <th>neighbourhood</th>\n      <th>Allerton</th>\n      <th>Arden Heights</th>\n      <th>Arrochar</th>\n      <th>Arverne</th>\n      <th>Astoria</th>\n      <th>Bath Beach</th>\n      <th>Battery Park City</th>\n      <th>Bay Ridge</th>\n      <th>Bay Terrace</th>\n      <th>Bay Terrace, Staten Island</th>\n      <th>...</th>\n      <th>Westerleigh</th>\n      <th>Whitestone</th>\n      <th>Williamsbridge</th>\n      <th>Williamsburg</th>\n      <th>Willowbrook</th>\n      <th>Windsor Terrace</th>\n      <th>Woodhaven</th>\n      <th>Woodlawn</th>\n      <th>Woodrow</th>\n      <th>Woodside</th>\n    </tr>\n    <tr>\n      <th>neighbourhood_group</th>\n      <th></th>\n      <th></th>\n      <th></th>\n      <th></th>\n      <th></th>\n      <th></th>\n      <th></th>\n      <th></th>\n      <th></th>\n      <th></th>\n      <th></th>\n      <th></th>\n      <th></th>\n      <th></th>\n      <th></th>\n      <th></th>\n      <th></th>\n      <th></th>\n      <th></th>\n      <th></th>\n      <th></th>\n    </tr>\n  </thead>\n  <tbody>\n    <tr>\n      <th>Bronx</th>\n      <td>87.595238</td>\n      <td>-999</td>\n      <td>-999</td>\n      <td>-999</td>\n      <td>-999</td>\n      <td>-999</td>\n      <td>-999</td>\n      <td>-999</td>\n      <td>-999</td>\n      <td>-999</td>\n      <td>...</td>\n      <td>-999</td>\n      <td>-999</td>\n      <td>96.75</td>\n      <td>-999</td>\n      <td>-999</td>\n      <td>-999</td>\n      <td>-999</td>\n      <td>60.090909</td>\n      <td>-999</td>\n      <td>-999</td>\n    </tr>\n    <tr>\n      <th>Brooklyn</th>\n      <td>-999</td>\n      <td>-999</td>\n      <td>-999</td>\n      <td>-999</td>\n      <td>-999</td>\n      <td>81.764706</td>\n      <td>-999</td>\n      <td>144.432624</td>\n      <td>-999</td>\n      <td>-999</td>\n      <td>...</td>\n      <td>-999</td>\n      <td>-999</td>\n      <td>-999</td>\n      <td>143.802806</td>\n      <td>-999</td>\n      <td>138.993631</td>\n      <td>-999</td>\n      <td>-999</td>\n      <td>-999</td>\n      <td>-999</td>\n    </tr>\n    <tr>\n      <th>Manhattan</th>\n      <td>-999</td>\n      <td>-999</td>\n      <td>-999</td>\n      <td>-999</td>\n      <td>-999</td>\n      <td>-999</td>\n      <td>367.557143</td>\n      <td>-999</td>\n      <td>-999</td>\n      <td>-999</td>\n      <td>...</td>\n      <td>-999</td>\n      <td>-999</td>\n      <td>-999</td>\n      <td>-999</td>\n      <td>-999</td>\n      <td>-999</td>\n      <td>-999</td>\n      <td>-999</td>\n      <td>-999</td>\n      <td>-999</td>\n    </tr>\n    <tr>\n      <th>Queens</th>\n      <td>-999</td>\n      <td>-999</td>\n      <td>-999</td>\n      <td>171.779221</td>\n      <td>117.187778</td>\n      <td>-999</td>\n      <td>-999</td>\n      <td>-999</td>\n      <td>142.0</td>\n      <td>-999</td>\n      <td>...</td>\n      <td>-999</td>\n      <td>107.545455</td>\n      <td>-999</td>\n      <td>-999</td>\n      <td>-999</td>\n      <td>-999</td>\n      <td>67.170455</td>\n      <td>-999</td>\n      <td>-999</td>\n      <td>85.097872</td>\n    </tr>\n    <tr>\n      <th>Staten Island</th>\n      <td>-999</td>\n      <td>67.25</td>\n      <td>115.0</td>\n      <td>-999</td>\n      <td>-999</td>\n      <td>-999</td>\n      <td>-999</td>\n      <td>-999</td>\n      <td>-999</td>\n      <td>102.5</td>\n      <td>...</td>\n      <td>71.5</td>\n      <td>-999</td>\n      <td>-999</td>\n      <td>-999</td>\n      <td>249.0</td>\n      <td>-999</td>\n      <td>-999</td>\n      <td>-999</td>\n      <td>700.0</td>\n      <td>-999</td>\n    </tr>\n  </tbody>\n</table>\n<p>5 rows × 221 columns</p>\n</div>"
     },
     "execution_count": 47,
     "metadata": {},
     "output_type": "execute_result"
    }
   ],
   "source": [
    "df3 = df.groupby(['neighbourhood_group', 'neighbourhood']).price.mean().unstack()\n",
    "df3 = df3.fillna('-999')\n",
    "df3"
   ],
   "metadata": {
    "collapsed": false,
    "ExecuteTime": {
     "end_time": "2023-11-29T10:58:09.733215Z",
     "start_time": "2023-11-29T10:58:09.688317Z"
    }
   }
  },
  {
   "cell_type": "code",
   "execution_count": 50,
   "outputs": [
    {
     "data": {
      "text/plain": "                          mean           var  min    max\nneighbourhood_group                                     \nQueens               99.517649  27923.130227   10  10000",
      "text/html": "<div>\n<style scoped>\n    .dataframe tbody tr th:only-of-type {\n        vertical-align: middle;\n    }\n\n    .dataframe tbody tr th {\n        vertical-align: top;\n    }\n\n    .dataframe thead th {\n        text-align: right;\n    }\n</style>\n<table border=\"1\" class=\"dataframe\">\n  <thead>\n    <tr style=\"text-align: right;\">\n      <th></th>\n      <th>mean</th>\n      <th>var</th>\n      <th>min</th>\n      <th>max</th>\n    </tr>\n    <tr>\n      <th>neighbourhood_group</th>\n      <th></th>\n      <th></th>\n      <th></th>\n      <th></th>\n    </tr>\n  </thead>\n  <tbody>\n    <tr>\n      <th>Queens</th>\n      <td>99.517649</td>\n      <td>27923.130227</td>\n      <td>10</td>\n      <td>10000</td>\n    </tr>\n  </tbody>\n</table>\n</div>"
     },
     "execution_count": 50,
     "metadata": {},
     "output_type": "execute_result"
    }
   ],
   "source": [
    "df [df['neighbourhood_group'].str.contains('Queens')].groupby('neighbourhood_group').price.agg(['mean', 'var', 'min', 'max'])"
   ],
   "metadata": {
    "collapsed": false,
    "ExecuteTime": {
     "end_time": "2023-11-29T11:03:01.450033Z",
     "start_time": "2023-11-29T11:03:01.440380Z"
    }
   }
  },
  {
   "cell_type": "code",
   "execution_count": 52,
   "outputs": [
    {
     "data": {
      "text/plain": "neighbourhood_group\nBronx            0.022313\nBrooklyn         0.411167\nManhattan        0.443011\nQueens           0.115881\nStaten Island    0.007629\nName: room_type, dtype: float64"
     },
     "execution_count": 52,
     "metadata": {},
     "output_type": "execute_result"
    }
   ],
   "source": [
    "df.groupby('neighbourhood_group').room_type.size() / len(df)"
   ],
   "metadata": {
    "collapsed": false,
    "ExecuteTime": {
     "end_time": "2023-11-29T11:05:11.214617Z",
     "start_time": "2023-11-29T11:05:11.206544Z"
    }
   }
  },
  {
   "cell_type": "code",
   "execution_count": 54,
   "outputs": [
    {
     "data": {
      "text/plain": "array([[0.34738772, 0.59761687, 0.05499542],\n       [0.47547752, 0.50397931, 0.02054318],\n       [0.60934398, 0.36849638, 0.02215964],\n       [0.36992587, 0.59512884, 0.03494529],\n       [0.47184987, 0.50402145, 0.02412869]])"
     },
     "execution_count": 54,
     "metadata": {},
     "output_type": "execute_result"
    }
   ],
   "source": [
    "Ans = df[['neighbourhood_group','room_type']].groupby(['neighbourhood_group','room_type']).size().unstack()\n",
    "(Ans.values /Ans.sum(axis=1).values.reshape(-1,1))\n"
   ],
   "metadata": {
    "collapsed": false,
    "ExecuteTime": {
     "end_time": "2023-11-29T11:05:59.478973Z",
     "start_time": "2023-11-29T11:05:59.468172Z"
    }
   }
  },
  {
   "cell_type": "code",
   "execution_count": 58,
   "outputs": [
    {
     "data": {
      "text/plain": "       Unnamed: 0  CLIENTNUM     Attrition_Flag  Customer_Age Gender  \\\n0               0  768805383  Existing Customer            45      M   \n1               1  818770008  Existing Customer            49      F   \n2               2  713982108  Existing Customer            51      M   \n3               3  769911858  Existing Customer            40      F   \n4               4  709106358  Existing Customer            40      M   \n...           ...        ...                ...           ...    ...   \n10122       10122  772366833  Existing Customer            50      M   \n10123       10123  710638233  Attrited Customer            41      M   \n10124       10124  716506083  Attrited Customer            44      F   \n10125       10125  717406983  Attrited Customer            30      M   \n10126       10126  714337233  Attrited Customer            43      F   \n\n       Dependent_count Education_Level Marital_Status Income_Category  \\\n0                    3     High School        Married     $60K - $80K   \n1                    5        Graduate         Single  Less than $40K   \n2                    3        Graduate        Married    $80K - $120K   \n3                    4     High School        Unknown  Less than $40K   \n4                    3      Uneducated        Married     $60K - $80K   \n...                ...             ...            ...             ...   \n10122                2        Graduate         Single     $40K - $60K   \n10123                2         Unknown       Divorced     $40K - $60K   \n10124                1     High School        Married  Less than $40K   \n10125                2        Graduate        Unknown     $40K - $60K   \n10126                2        Graduate        Married  Less than $40K   \n\n      Card_Category  Months_on_book  Total_Relationship_Count  \\\n0              Blue              39                         5   \n1              Blue              44                         6   \n2              Blue              36                         4   \n3              Blue              34                         3   \n4              Blue              21                         5   \n...             ...             ...                       ...   \n10122          Blue              40                         3   \n10123          Blue              25                         4   \n10124          Blue              36                         5   \n10125          Blue              36                         4   \n10126        Silver              25                         6   \n\n       Months_Inactive_12_mon  Contacts_Count_12_mon  Credit_Limit  \\\n0                           1                      3       12691.0   \n1                           1                      2        8256.0   \n2                           1                      0        3418.0   \n3                           4                      1        3313.0   \n4                           1                      0        4716.0   \n...                       ...                    ...           ...   \n10122                       2                      3        4003.0   \n10123                       2                      3        4277.0   \n10124                       3                      4        5409.0   \n10125                       3                      3        5281.0   \n10126                       2                      4       10388.0   \n\n       Total_Revolving_Bal  Avg_Open_To_Buy  Total_Amt_Chng_Q4_Q1  \\\n0                      777          11914.0                 1.335   \n1                      864           7392.0                 1.541   \n2                        0           3418.0                 2.594   \n3                     2517            796.0                 1.405   \n4                        0           4716.0                 2.175   \n...                    ...              ...                   ...   \n10122                 1851           2152.0                 0.703   \n10123                 2186           2091.0                 0.804   \n10124                    0           5409.0                 0.819   \n10125                    0           5281.0                 0.535   \n10126                 1961           8427.0                 0.703   \n\n       Total_Trans_Amt  \n0                 1144  \n1                 1291  \n2                 1887  \n3                 1171  \n4                  816  \n...                ...  \n10122            15476  \n10123             8764  \n10124            10291  \n10125             8395  \n10126            10294  \n\n[10127 rows x 19 columns]",
      "text/html": "<div>\n<style scoped>\n    .dataframe tbody tr th:only-of-type {\n        vertical-align: middle;\n    }\n\n    .dataframe tbody tr th {\n        vertical-align: top;\n    }\n\n    .dataframe thead th {\n        text-align: right;\n    }\n</style>\n<table border=\"1\" class=\"dataframe\">\n  <thead>\n    <tr style=\"text-align: right;\">\n      <th></th>\n      <th>Unnamed: 0</th>\n      <th>CLIENTNUM</th>\n      <th>Attrition_Flag</th>\n      <th>Customer_Age</th>\n      <th>Gender</th>\n      <th>Dependent_count</th>\n      <th>Education_Level</th>\n      <th>Marital_Status</th>\n      <th>Income_Category</th>\n      <th>Card_Category</th>\n      <th>Months_on_book</th>\n      <th>Total_Relationship_Count</th>\n      <th>Months_Inactive_12_mon</th>\n      <th>Contacts_Count_12_mon</th>\n      <th>Credit_Limit</th>\n      <th>Total_Revolving_Bal</th>\n      <th>Avg_Open_To_Buy</th>\n      <th>Total_Amt_Chng_Q4_Q1</th>\n      <th>Total_Trans_Amt</th>\n    </tr>\n  </thead>\n  <tbody>\n    <tr>\n      <th>0</th>\n      <td>0</td>\n      <td>768805383</td>\n      <td>Existing Customer</td>\n      <td>45</td>\n      <td>M</td>\n      <td>3</td>\n      <td>High School</td>\n      <td>Married</td>\n      <td>$60K - $80K</td>\n      <td>Blue</td>\n      <td>39</td>\n      <td>5</td>\n      <td>1</td>\n      <td>3</td>\n      <td>12691.0</td>\n      <td>777</td>\n      <td>11914.0</td>\n      <td>1.335</td>\n      <td>1144</td>\n    </tr>\n    <tr>\n      <th>1</th>\n      <td>1</td>\n      <td>818770008</td>\n      <td>Existing Customer</td>\n      <td>49</td>\n      <td>F</td>\n      <td>5</td>\n      <td>Graduate</td>\n      <td>Single</td>\n      <td>Less than $40K</td>\n      <td>Blue</td>\n      <td>44</td>\n      <td>6</td>\n      <td>1</td>\n      <td>2</td>\n      <td>8256.0</td>\n      <td>864</td>\n      <td>7392.0</td>\n      <td>1.541</td>\n      <td>1291</td>\n    </tr>\n    <tr>\n      <th>2</th>\n      <td>2</td>\n      <td>713982108</td>\n      <td>Existing Customer</td>\n      <td>51</td>\n      <td>M</td>\n      <td>3</td>\n      <td>Graduate</td>\n      <td>Married</td>\n      <td>$80K - $120K</td>\n      <td>Blue</td>\n      <td>36</td>\n      <td>4</td>\n      <td>1</td>\n      <td>0</td>\n      <td>3418.0</td>\n      <td>0</td>\n      <td>3418.0</td>\n      <td>2.594</td>\n      <td>1887</td>\n    </tr>\n    <tr>\n      <th>3</th>\n      <td>3</td>\n      <td>769911858</td>\n      <td>Existing Customer</td>\n      <td>40</td>\n      <td>F</td>\n      <td>4</td>\n      <td>High School</td>\n      <td>Unknown</td>\n      <td>Less than $40K</td>\n      <td>Blue</td>\n      <td>34</td>\n      <td>3</td>\n      <td>4</td>\n      <td>1</td>\n      <td>3313.0</td>\n      <td>2517</td>\n      <td>796.0</td>\n      <td>1.405</td>\n      <td>1171</td>\n    </tr>\n    <tr>\n      <th>4</th>\n      <td>4</td>\n      <td>709106358</td>\n      <td>Existing Customer</td>\n      <td>40</td>\n      <td>M</td>\n      <td>3</td>\n      <td>Uneducated</td>\n      <td>Married</td>\n      <td>$60K - $80K</td>\n      <td>Blue</td>\n      <td>21</td>\n      <td>5</td>\n      <td>1</td>\n      <td>0</td>\n      <td>4716.0</td>\n      <td>0</td>\n      <td>4716.0</td>\n      <td>2.175</td>\n      <td>816</td>\n    </tr>\n    <tr>\n      <th>...</th>\n      <td>...</td>\n      <td>...</td>\n      <td>...</td>\n      <td>...</td>\n      <td>...</td>\n      <td>...</td>\n      <td>...</td>\n      <td>...</td>\n      <td>...</td>\n      <td>...</td>\n      <td>...</td>\n      <td>...</td>\n      <td>...</td>\n      <td>...</td>\n      <td>...</td>\n      <td>...</td>\n      <td>...</td>\n      <td>...</td>\n      <td>...</td>\n    </tr>\n    <tr>\n      <th>10122</th>\n      <td>10122</td>\n      <td>772366833</td>\n      <td>Existing Customer</td>\n      <td>50</td>\n      <td>M</td>\n      <td>2</td>\n      <td>Graduate</td>\n      <td>Single</td>\n      <td>$40K - $60K</td>\n      <td>Blue</td>\n      <td>40</td>\n      <td>3</td>\n      <td>2</td>\n      <td>3</td>\n      <td>4003.0</td>\n      <td>1851</td>\n      <td>2152.0</td>\n      <td>0.703</td>\n      <td>15476</td>\n    </tr>\n    <tr>\n      <th>10123</th>\n      <td>10123</td>\n      <td>710638233</td>\n      <td>Attrited Customer</td>\n      <td>41</td>\n      <td>M</td>\n      <td>2</td>\n      <td>Unknown</td>\n      <td>Divorced</td>\n      <td>$40K - $60K</td>\n      <td>Blue</td>\n      <td>25</td>\n      <td>4</td>\n      <td>2</td>\n      <td>3</td>\n      <td>4277.0</td>\n      <td>2186</td>\n      <td>2091.0</td>\n      <td>0.804</td>\n      <td>8764</td>\n    </tr>\n    <tr>\n      <th>10124</th>\n      <td>10124</td>\n      <td>716506083</td>\n      <td>Attrited Customer</td>\n      <td>44</td>\n      <td>F</td>\n      <td>1</td>\n      <td>High School</td>\n      <td>Married</td>\n      <td>Less than $40K</td>\n      <td>Blue</td>\n      <td>36</td>\n      <td>5</td>\n      <td>3</td>\n      <td>4</td>\n      <td>5409.0</td>\n      <td>0</td>\n      <td>5409.0</td>\n      <td>0.819</td>\n      <td>10291</td>\n    </tr>\n    <tr>\n      <th>10125</th>\n      <td>10125</td>\n      <td>717406983</td>\n      <td>Attrited Customer</td>\n      <td>30</td>\n      <td>M</td>\n      <td>2</td>\n      <td>Graduate</td>\n      <td>Unknown</td>\n      <td>$40K - $60K</td>\n      <td>Blue</td>\n      <td>36</td>\n      <td>4</td>\n      <td>3</td>\n      <td>3</td>\n      <td>5281.0</td>\n      <td>0</td>\n      <td>5281.0</td>\n      <td>0.535</td>\n      <td>8395</td>\n    </tr>\n    <tr>\n      <th>10126</th>\n      <td>10126</td>\n      <td>714337233</td>\n      <td>Attrited Customer</td>\n      <td>43</td>\n      <td>F</td>\n      <td>2</td>\n      <td>Graduate</td>\n      <td>Married</td>\n      <td>Less than $40K</td>\n      <td>Silver</td>\n      <td>25</td>\n      <td>6</td>\n      <td>2</td>\n      <td>4</td>\n      <td>10388.0</td>\n      <td>1961</td>\n      <td>8427.0</td>\n      <td>0.703</td>\n      <td>10294</td>\n    </tr>\n  </tbody>\n</table>\n<p>10127 rows × 19 columns</p>\n</div>"
     },
     "execution_count": 58,
     "metadata": {},
     "output_type": "execute_result"
    }
   ],
   "source": [
    "df = pd.read_csv('https://raw.githubusercontent.com/Datamanim/pandas/main/BankChurnersUp.csv')\n",
    "df\n",
    "# print(df.shape)"
   ],
   "metadata": {
    "collapsed": false,
    "ExecuteTime": {
     "end_time": "2023-11-29T11:10:25.320025Z",
     "start_time": "2023-11-29T11:10:24.004834Z"
    }
   }
  },
  {
   "cell_type": "code",
   "execution_count": 60,
   "outputs": [
    {
     "data": {
      "text/plain": "0         c\n1        a \n2         d\n3        a \n4         c\n         ..\n10122     b\n10123     b\n10124    a \n10125     b\n10126    a \nName: new_Income, Length: 10127, dtype: object"
     },
     "execution_count": 60,
     "metadata": {},
     "output_type": "execute_result"
    }
   ],
   "source": [
    "df['new_Income'] = df['Income_Category'].map(\n",
    "    { 'Less than $40K' : 'a ',\n",
    "      '$40K - $60K' : 'b',\n",
    "      '$60K - $80K' : 'c' ,\n",
    "      '$80K - $120K' : 'd',\n",
    "      '$120K +' : 'd' ,\n",
    "      'Unknown' : 'N' }\n",
    ")\n",
    "\n",
    "df['new_Income']"
   ],
   "metadata": {
    "collapsed": false,
    "ExecuteTime": {
     "end_time": "2023-11-29T11:11:32.714461Z",
     "start_time": "2023-11-29T11:11:32.711092Z"
    }
   }
  },
  {
   "cell_type": "code",
   "execution_count": 65,
   "outputs": [
    {
     "name": "stdout",
     "output_type": "stream",
     "text": [
      "26\n"
     ]
    },
    {
     "data": {
      "text/plain": "dtype('int64')"
     },
     "execution_count": 65,
     "metadata": {},
     "output_type": "execute_result"
    }
   ],
   "source": [
    "print(df['Customer_Age'].min())\n",
    "# print(df['Customer_Age'].max().between(71,73))\n",
    "df['Customer_Age'].dtypes"
   ],
   "metadata": {
    "collapsed": false,
    "ExecuteTime": {
     "end_time": "2023-11-29T11:17:05.562480Z",
     "start_time": "2023-11-29T11:17:05.556357Z"
    }
   }
  },
  {
   "cell_type": "code",
   "execution_count": 69,
   "outputs": [
    {
     "data": {
      "text/plain": "0        40\n1        40\n2        50\n3        40\n4        40\n         ..\n10122    50\n10123    40\n10124    40\n10125    30\n10126    40\nName: AgeState, Length: 10127, dtype: int64"
     },
     "execution_count": 69,
     "metadata": {},
     "output_type": "execute_result"
    }
   ],
   "source": [
    "df['AgeState']  = df['Customer_Age'].map(lambda x: x//10 *10)\n",
    "df['AgeState']"
   ],
   "metadata": {
    "collapsed": false,
    "ExecuteTime": {
     "end_time": "2023-11-29T11:19:03.725575Z",
     "start_time": "2023-11-29T11:19:03.719493Z"
    }
   }
  },
  {
   "cell_type": "code",
   "execution_count": 70,
   "outputs": [
    {
     "data": {
      "text/plain": "Education_Level\n0    6483\n1    3644\nName: count, dtype: int64"
     },
     "execution_count": 70,
     "metadata": {},
     "output_type": "execute_result"
    }
   ],
   "source": [
    "import numpy as np\n",
    "df['Education_Level'] = np.where(df['Education_Level'].str.contains('Graduate'), 1, 0)\n",
    "df['Education_Level'].value_counts()"
   ],
   "metadata": {
    "collapsed": false,
    "ExecuteTime": {
     "end_time": "2023-11-29T11:21:21.431997Z",
     "start_time": "2023-11-29T11:21:21.425795Z"
    }
   }
  },
  {
   "cell_type": "code",
   "execution_count": 72,
   "outputs": [
    {
     "data": {
      "text/plain": "new_Limit\n1    5096\n0    5031\nName: count, dtype: int64"
     },
     "execution_count": 72,
     "metadata": {},
     "output_type": "execute_result"
    }
   ],
   "source": [
    "df['new_Limit'] = np.where(df['Credit_Limit'] >= 4500, 1, 0)\n",
    "df['new_Limit'].value_counts()"
   ],
   "metadata": {
    "collapsed": false,
    "ExecuteTime": {
     "end_time": "2023-11-29T11:24:37.307972Z",
     "start_time": "2023-11-29T11:24:37.302355Z"
    }
   }
  },
  {
   "cell_type": "code",
   "execution_count": 77,
   "outputs": [
    {
     "data": {
      "text/plain": "new_State\n0    10120\n1        7\nName: count, dtype: int64"
     },
     "execution_count": 77,
     "metadata": {},
     "output_type": "execute_result"
    }
   ],
   "source": [
    "df['new_State'] = np.where((df['Marital_Status'] == 'Married') & (df['Card_Category'] == 'Platinum'), 1, 0)\n",
    "\n",
    "df['new_State'].value_counts()"
   ],
   "metadata": {
    "collapsed": false,
    "ExecuteTime": {
     "end_time": "2023-11-29T11:26:35.698014Z",
     "start_time": "2023-11-29T11:26:35.693222Z"
    }
   }
  },
  {
   "cell_type": "code",
   "execution_count": 79,
   "outputs": [
    {
     "data": {
      "text/plain": "Gender\nfemale    5358\nmale      4769\nName: count, dtype: int64"
     },
     "execution_count": 79,
     "metadata": {},
     "output_type": "execute_result"
    }
   ],
   "source": [
    "df['Gender'] = df['Gender'].map({\n",
    "    'M': 'male',\n",
    "    'F': 'female'\n",
    "})\n",
    "df['Gender'].value_counts()"
   ],
   "metadata": {
    "collapsed": false,
    "ExecuteTime": {
     "end_time": "2023-11-29T11:27:56.590404Z",
     "start_time": "2023-11-29T11:27:56.586778Z"
    }
   }
  },
  {
   "cell_type": "code",
   "execution_count": 119,
   "outputs": [
    {
     "name": "stdout",
     "output_type": "stream",
     "text": [
      "<class 'pandas.core.frame.DataFrame'>\n",
      "RangeIndex: 6574 entries, 0 to 6573\n",
      "Data columns (total 13 columns):\n",
      " #   Column    Non-Null Count  Dtype  \n",
      "---  ------    --------------  -----  \n",
      " 0   Yr_Mo_Dy  6574 non-null   object \n",
      " 1   RPT       6568 non-null   float64\n",
      " 2   VAL       6571 non-null   float64\n",
      " 3   ROS       6572 non-null   float64\n",
      " 4   KIL       6569 non-null   float64\n",
      " 5   SHA       6572 non-null   float64\n",
      " 6   BIR       6574 non-null   float64\n",
      " 7   DUB       6571 non-null   float64\n",
      " 8   CLA       6572 non-null   float64\n",
      " 9   MUL       6571 non-null   float64\n",
      " 10  CLO       6573 non-null   float64\n",
      " 11  BEL       6574 non-null   float64\n",
      " 12  MAL       6570 non-null   float64\n",
      "dtypes: float64(12), object(1)\n",
      "memory usage: 667.8+ KB\n",
      "None\n",
      "        Yr_Mo_Dy    RPT    VAL    ROS    KIL    SHA    BIR    DUB    CLA  \\\n",
      "0     2061-01-01  15.04  14.96  13.17   9.29    NaN   9.87  13.67  10.25   \n",
      "1     2061-01-02  14.71    NaN  10.83   6.50  12.62   7.67  11.50  10.04   \n",
      "2     2061-01-03  18.50  16.88  12.33  10.13  11.17   6.17  11.25    NaN   \n",
      "3     2061-01-04  10.58   6.63  11.75   4.58   4.54   2.88   8.63   1.79   \n",
      "4     2061-01-05  13.33  13.25  11.42   6.17  10.71   8.21  11.92   6.54   \n",
      "...          ...    ...    ...    ...    ...    ...    ...    ...    ...   \n",
      "6569  1978-12-27  17.58  16.96  17.62   8.08  13.21  11.67  14.46  15.59   \n",
      "6570  1978-12-28  13.21   5.46  13.46   5.00   8.12   9.42  14.33  16.25   \n",
      "6571  1978-12-29  14.00  10.29  14.42   8.71   9.71  10.54  19.17  12.46   \n",
      "6572  1978-12-30  18.50  14.04  21.29   9.13  12.75   9.71  18.08  12.87   \n",
      "6573  1978-12-31  20.33  17.41  27.29   9.59  12.08  10.13  19.25  11.63   \n",
      "\n",
      "        MUL    CLO    BEL    MAL  \n",
      "0     10.83  12.58  18.50  15.04  \n",
      "1      9.79   9.67  17.54  13.83  \n",
      "2      8.50   7.67  12.75  12.71  \n",
      "3      5.83   5.88   5.46  10.88  \n",
      "4     10.92  10.34  12.92  11.83  \n",
      "...     ...    ...    ...    ...  \n",
      "6569  14.04  14.00  17.21  40.08  \n",
      "6570  15.25  18.05  21.79  41.46  \n",
      "6571  14.50  16.42  18.88  29.58  \n",
      "6572  12.46  12.12  14.67  28.79  \n",
      "6573  11.58  11.38  12.08  22.08  \n",
      "\n",
      "[6574 rows x 13 columns]\n"
     ]
    }
   ],
   "source": [
    "import pandas as pd\n",
    "df = pd.read_csv('https://raw.githubusercontent.com/Datamanim/pandas/main/timeTest.csv')\n",
    "\n",
    "print(df.info())\n",
    "print(df)"
   ],
   "metadata": {
    "collapsed": false,
    "ExecuteTime": {
     "end_time": "2023-11-29T11:49:58.387935Z",
     "start_time": "2023-11-29T11:49:57.986801Z"
    }
   }
  },
  {
   "cell_type": "code",
   "execution_count": 120,
   "outputs": [
    {
     "name": "stdout",
     "output_type": "stream",
     "text": [
      "<class 'pandas.core.frame.DataFrame'>\n",
      "RangeIndex: 6574 entries, 0 to 6573\n",
      "Data columns (total 13 columns):\n",
      " #   Column    Non-Null Count  Dtype         \n",
      "---  ------    --------------  -----         \n",
      " 0   Yr_Mo_Dy  6574 non-null   datetime64[ns]\n",
      " 1   RPT       6568 non-null   float64       \n",
      " 2   VAL       6571 non-null   float64       \n",
      " 3   ROS       6572 non-null   float64       \n",
      " 4   KIL       6569 non-null   float64       \n",
      " 5   SHA       6572 non-null   float64       \n",
      " 6   BIR       6574 non-null   float64       \n",
      " 7   DUB       6571 non-null   float64       \n",
      " 8   CLA       6572 non-null   float64       \n",
      " 9   MUL       6571 non-null   float64       \n",
      " 10  CLO       6573 non-null   float64       \n",
      " 11  BEL       6574 non-null   float64       \n",
      " 12  MAL       6570 non-null   float64       \n",
      "dtypes: datetime64[ns](1), float64(12)\n",
      "memory usage: 667.8 KB\n"
     ]
    }
   ],
   "source": [
    "df['Yr_Mo_Dy'] = pd.to_datetime(df['Yr_Mo_Dy'])\n",
    "df.info()"
   ],
   "metadata": {
    "collapsed": false,
    "ExecuteTime": {
     "end_time": "2023-11-29T11:50:02.586495Z",
     "start_time": "2023-11-29T11:50:02.579824Z"
    }
   }
  },
  {
   "cell_type": "code",
   "execution_count": 111,
   "outputs": [
    {
     "data": {
      "text/plain": "array([2061, 2062, 2063, 2064, 2065, 2066, 2067, 2068, 2069, 2070, 1971,\n       1972, 1973, 1974, 1975, 1976, 1977, 1978], dtype=int32)"
     },
     "execution_count": 111,
     "metadata": {},
     "output_type": "execute_result"
    }
   ],
   "source": [
    "df['Yr_Mo_Dy'].dt.year.unique()"
   ],
   "metadata": {
    "collapsed": false,
    "ExecuteTime": {
     "end_time": "2023-11-29T11:46:05.372551Z",
     "start_time": "2023-11-29T11:46:05.362668Z"
    }
   }
  },
  {
   "cell_type": "code",
   "execution_count": 118,
   "outputs": [
    {
     "ename": "TypeError",
     "evalue": "cannot convert the series to <class 'int'>",
     "output_type": "error",
     "traceback": [
      "\u001B[0;31m---------------------------------------------------------------------------\u001B[0m",
      "\u001B[0;31mTypeError\u001B[0m                                 Traceback (most recent call last)",
      "Cell \u001B[0;32mIn[118], line 8\u001B[0m\n\u001B[1;32m      4\u001B[0m df[\u001B[38;5;124m'\u001B[39m\u001B[38;5;124mmonth\u001B[39m\u001B[38;5;124m'\u001B[39m] \u001B[38;5;241m=\u001B[39m df[\u001B[38;5;124m'\u001B[39m\u001B[38;5;124mYr_Mo_Dy\u001B[39m\u001B[38;5;124m'\u001B[39m]\u001B[38;5;241m.\u001B[39mdt\u001B[38;5;241m.\u001B[39mmonth\n\u001B[1;32m      6\u001B[0m df[\u001B[38;5;124m'\u001B[39m\u001B[38;5;124mYr_Mo_Dy\u001B[39m\u001B[38;5;124m'\u001B[39m] \u001B[38;5;241m=\u001B[39m np\u001B[38;5;241m.\u001B[39mwhere(df[\u001B[38;5;124m'\u001B[39m\u001B[38;5;124mYr_Mo_Dy\u001B[39m\u001B[38;5;124m'\u001B[39m]\u001B[38;5;241m.\u001B[39mdt\u001B[38;5;241m.\u001B[39myear \u001B[38;5;241m>\u001B[39m\u001B[38;5;241m=\u001B[39m \u001B[38;5;241m2061\u001B[39m, df[\u001B[38;5;124m'\u001B[39m\u001B[38;5;124mYr_Mo_Dy\u001B[39m\u001B[38;5;124m'\u001B[39m]\u001B[38;5;241m.\u001B[39mdt\u001B[38;5;241m.\u001B[39myear \u001B[38;5;241m-\u001B[39m \u001B[38;5;241m100\u001B[39m, df[\u001B[38;5;124m'\u001B[39m\u001B[38;5;124mYr_Mo_Dy\u001B[39m\u001B[38;5;124m'\u001B[39m]\u001B[38;5;241m.\u001B[39mdt\u001B[38;5;241m.\u001B[39myear)\n\u001B[0;32m----> 8\u001B[0m df[\u001B[38;5;124m'\u001B[39m\u001B[38;5;124mYr_Mo_Dy\u001B[39m\u001B[38;5;124m'\u001B[39m] \u001B[38;5;241m=\u001B[39m pd\u001B[38;5;241m.\u001B[39mto_datetime(\u001B[43mdatetime\u001B[49m\u001B[38;5;241;43m.\u001B[39;49m\u001B[43mdate\u001B[49m\u001B[43m(\u001B[49m\u001B[43mdf\u001B[49m\u001B[43m[\u001B[49m\u001B[38;5;124;43m'\u001B[39;49m\u001B[38;5;124;43mYr_Mo_Dy\u001B[39;49m\u001B[38;5;124;43m'\u001B[39;49m\u001B[43m]\u001B[49m\u001B[43m,\u001B[49m\u001B[43mdf\u001B[49m\u001B[43m[\u001B[49m\u001B[38;5;124;43m'\u001B[39;49m\u001B[38;5;124;43mmonth\u001B[39;49m\u001B[38;5;124;43m'\u001B[39;49m\u001B[43m]\u001B[49m\u001B[43m,\u001B[49m\u001B[43mdf\u001B[49m\u001B[43m[\u001B[49m\u001B[38;5;124;43m'\u001B[39;49m\u001B[38;5;124;43mday\u001B[39;49m\u001B[38;5;124;43m'\u001B[39;49m\u001B[43m]\u001B[49m\u001B[43m)\u001B[49m)\n\u001B[1;32m      9\u001B[0m df[\u001B[38;5;124m'\u001B[39m\u001B[38;5;124mYr_Mo_Dy\u001B[39m\u001B[38;5;124m'\u001B[39m]\n",
      "File \u001B[0;32m~/PycharmProjects/pythonProject/venv/lib/python3.9/site-packages/pandas/core/series.py:230\u001B[0m, in \u001B[0;36m_coerce_method.<locals>.wrapper\u001B[0;34m(self)\u001B[0m\n\u001B[1;32m    222\u001B[0m     warnings\u001B[38;5;241m.\u001B[39mwarn(\n\u001B[1;32m    223\u001B[0m         \u001B[38;5;124mf\u001B[39m\u001B[38;5;124m\"\u001B[39m\u001B[38;5;124mCalling \u001B[39m\u001B[38;5;132;01m{\u001B[39;00mconverter\u001B[38;5;241m.\u001B[39m\u001B[38;5;18m__name__\u001B[39m\u001B[38;5;132;01m}\u001B[39;00m\u001B[38;5;124m on a single element Series is \u001B[39m\u001B[38;5;124m\"\u001B[39m\n\u001B[1;32m    224\u001B[0m         \u001B[38;5;124m\"\u001B[39m\u001B[38;5;124mdeprecated and will raise a TypeError in the future. \u001B[39m\u001B[38;5;124m\"\u001B[39m\n\u001B[0;32m   (...)\u001B[0m\n\u001B[1;32m    227\u001B[0m         stacklevel\u001B[38;5;241m=\u001B[39mfind_stack_level(),\n\u001B[1;32m    228\u001B[0m     )\n\u001B[1;32m    229\u001B[0m     \u001B[38;5;28;01mreturn\u001B[39;00m converter(\u001B[38;5;28mself\u001B[39m\u001B[38;5;241m.\u001B[39miloc[\u001B[38;5;241m0\u001B[39m])\n\u001B[0;32m--> 230\u001B[0m \u001B[38;5;28;01mraise\u001B[39;00m \u001B[38;5;167;01mTypeError\u001B[39;00m(\u001B[38;5;124mf\u001B[39m\u001B[38;5;124m\"\u001B[39m\u001B[38;5;124mcannot convert the series to \u001B[39m\u001B[38;5;132;01m{\u001B[39;00mconverter\u001B[38;5;132;01m}\u001B[39;00m\u001B[38;5;124m\"\u001B[39m)\n",
      "\u001B[0;31mTypeError\u001B[0m: cannot convert the series to <class 'int'>"
     ]
    }
   ],
   "source": [
    "import numpy as np\n",
    "import datetime\n",
    "df['day'] = df['Yr_Mo_Dy'].dt.day\n",
    "df['month'] = df['Yr_Mo_Dy'].dt.month\n",
    "\n",
    "df['Yr_Mo_Dy'] = np.where(df['Yr_Mo_Dy'].dt.year >= 2061, df['Yr_Mo_Dy'].dt.year - 100, df['Yr_Mo_Dy'].dt.year)\n",
    "\n",
    "df['Yr_Mo_Dy'] = pd.to_datetime(datetime.date(df['Yr_Mo_Dy'],df['month'],df['day']))\n",
    "df['Yr_Mo_Dy']"
   ],
   "metadata": {
    "collapsed": false,
    "ExecuteTime": {
     "end_time": "2023-11-29T11:48:50.038066Z",
     "start_time": "2023-11-29T11:48:50.014137Z"
    }
   }
  },
  {
   "cell_type": "code",
   "execution_count": 121,
   "outputs": [
    {
     "data": {
      "text/plain": "       Yr_Mo_Dy    RPT    VAL    ROS    KIL    SHA    BIR    DUB    CLA  \\\n0    2061-01-01  15.04  14.96  13.17   9.29    NaN   9.87  13.67  10.25   \n1    2061-01-02  14.71    NaN  10.83   6.50  12.62   7.67  11.50  10.04   \n2    2061-01-03  18.50  16.88  12.33  10.13  11.17   6.17  11.25    NaN   \n3    2061-01-04  10.58   6.63  11.75   4.58   4.54   2.88   8.63   1.79   \n4    2061-01-05  13.33  13.25  11.42   6.17  10.71   8.21  11.92   6.54   \n...         ...    ...    ...    ...    ...    ...    ...    ...    ...   \n6569 1978-12-27  17.58  16.96  17.62   8.08  13.21  11.67  14.46  15.59   \n6570 1978-12-28  13.21   5.46  13.46   5.00   8.12   9.42  14.33  16.25   \n6571 1978-12-29  14.00  10.29  14.42   8.71   9.71  10.54  19.17  12.46   \n6572 1978-12-30  18.50  14.04  21.29   9.13  12.75   9.71  18.08  12.87   \n6573 1978-12-31  20.33  17.41  27.29   9.59  12.08  10.13  19.25  11.63   \n\n        MUL    CLO    BEL    MAL  \n0     10.83  12.58  18.50  15.04  \n1      9.79   9.67  17.54  13.83  \n2      8.50   7.67  12.75  12.71  \n3      5.83   5.88   5.46  10.88  \n4     10.92  10.34  12.92  11.83  \n...     ...    ...    ...    ...  \n6569  14.04  14.00  17.21  40.08  \n6570  15.25  18.05  21.79  41.46  \n6571  14.50  16.42  18.88  29.58  \n6572  12.46  12.12  14.67  28.79  \n6573  11.58  11.38  12.08  22.08  \n\n[6574 rows x 13 columns]",
      "text/html": "<div>\n<style scoped>\n    .dataframe tbody tr th:only-of-type {\n        vertical-align: middle;\n    }\n\n    .dataframe tbody tr th {\n        vertical-align: top;\n    }\n\n    .dataframe thead th {\n        text-align: right;\n    }\n</style>\n<table border=\"1\" class=\"dataframe\">\n  <thead>\n    <tr style=\"text-align: right;\">\n      <th></th>\n      <th>Yr_Mo_Dy</th>\n      <th>RPT</th>\n      <th>VAL</th>\n      <th>ROS</th>\n      <th>KIL</th>\n      <th>SHA</th>\n      <th>BIR</th>\n      <th>DUB</th>\n      <th>CLA</th>\n      <th>MUL</th>\n      <th>CLO</th>\n      <th>BEL</th>\n      <th>MAL</th>\n    </tr>\n  </thead>\n  <tbody>\n    <tr>\n      <th>0</th>\n      <td>2061-01-01</td>\n      <td>15.04</td>\n      <td>14.96</td>\n      <td>13.17</td>\n      <td>9.29</td>\n      <td>NaN</td>\n      <td>9.87</td>\n      <td>13.67</td>\n      <td>10.25</td>\n      <td>10.83</td>\n      <td>12.58</td>\n      <td>18.50</td>\n      <td>15.04</td>\n    </tr>\n    <tr>\n      <th>1</th>\n      <td>2061-01-02</td>\n      <td>14.71</td>\n      <td>NaN</td>\n      <td>10.83</td>\n      <td>6.50</td>\n      <td>12.62</td>\n      <td>7.67</td>\n      <td>11.50</td>\n      <td>10.04</td>\n      <td>9.79</td>\n      <td>9.67</td>\n      <td>17.54</td>\n      <td>13.83</td>\n    </tr>\n    <tr>\n      <th>2</th>\n      <td>2061-01-03</td>\n      <td>18.50</td>\n      <td>16.88</td>\n      <td>12.33</td>\n      <td>10.13</td>\n      <td>11.17</td>\n      <td>6.17</td>\n      <td>11.25</td>\n      <td>NaN</td>\n      <td>8.50</td>\n      <td>7.67</td>\n      <td>12.75</td>\n      <td>12.71</td>\n    </tr>\n    <tr>\n      <th>3</th>\n      <td>2061-01-04</td>\n      <td>10.58</td>\n      <td>6.63</td>\n      <td>11.75</td>\n      <td>4.58</td>\n      <td>4.54</td>\n      <td>2.88</td>\n      <td>8.63</td>\n      <td>1.79</td>\n      <td>5.83</td>\n      <td>5.88</td>\n      <td>5.46</td>\n      <td>10.88</td>\n    </tr>\n    <tr>\n      <th>4</th>\n      <td>2061-01-05</td>\n      <td>13.33</td>\n      <td>13.25</td>\n      <td>11.42</td>\n      <td>6.17</td>\n      <td>10.71</td>\n      <td>8.21</td>\n      <td>11.92</td>\n      <td>6.54</td>\n      <td>10.92</td>\n      <td>10.34</td>\n      <td>12.92</td>\n      <td>11.83</td>\n    </tr>\n    <tr>\n      <th>...</th>\n      <td>...</td>\n      <td>...</td>\n      <td>...</td>\n      <td>...</td>\n      <td>...</td>\n      <td>...</td>\n      <td>...</td>\n      <td>...</td>\n      <td>...</td>\n      <td>...</td>\n      <td>...</td>\n      <td>...</td>\n      <td>...</td>\n    </tr>\n    <tr>\n      <th>6569</th>\n      <td>1978-12-27</td>\n      <td>17.58</td>\n      <td>16.96</td>\n      <td>17.62</td>\n      <td>8.08</td>\n      <td>13.21</td>\n      <td>11.67</td>\n      <td>14.46</td>\n      <td>15.59</td>\n      <td>14.04</td>\n      <td>14.00</td>\n      <td>17.21</td>\n      <td>40.08</td>\n    </tr>\n    <tr>\n      <th>6570</th>\n      <td>1978-12-28</td>\n      <td>13.21</td>\n      <td>5.46</td>\n      <td>13.46</td>\n      <td>5.00</td>\n      <td>8.12</td>\n      <td>9.42</td>\n      <td>14.33</td>\n      <td>16.25</td>\n      <td>15.25</td>\n      <td>18.05</td>\n      <td>21.79</td>\n      <td>41.46</td>\n    </tr>\n    <tr>\n      <th>6571</th>\n      <td>1978-12-29</td>\n      <td>14.00</td>\n      <td>10.29</td>\n      <td>14.42</td>\n      <td>8.71</td>\n      <td>9.71</td>\n      <td>10.54</td>\n      <td>19.17</td>\n      <td>12.46</td>\n      <td>14.50</td>\n      <td>16.42</td>\n      <td>18.88</td>\n      <td>29.58</td>\n    </tr>\n    <tr>\n      <th>6572</th>\n      <td>1978-12-30</td>\n      <td>18.50</td>\n      <td>14.04</td>\n      <td>21.29</td>\n      <td>9.13</td>\n      <td>12.75</td>\n      <td>9.71</td>\n      <td>18.08</td>\n      <td>12.87</td>\n      <td>12.46</td>\n      <td>12.12</td>\n      <td>14.67</td>\n      <td>28.79</td>\n    </tr>\n    <tr>\n      <th>6573</th>\n      <td>1978-12-31</td>\n      <td>20.33</td>\n      <td>17.41</td>\n      <td>27.29</td>\n      <td>9.59</td>\n      <td>12.08</td>\n      <td>10.13</td>\n      <td>19.25</td>\n      <td>11.63</td>\n      <td>11.58</td>\n      <td>11.38</td>\n      <td>12.08</td>\n      <td>22.08</td>\n    </tr>\n  </tbody>\n</table>\n<p>6574 rows × 13 columns</p>\n</div>"
     },
     "execution_count": 121,
     "metadata": {},
     "output_type": "execute_result"
    }
   ],
   "source": [
    "df"
   ],
   "metadata": {
    "collapsed": false,
    "ExecuteTime": {
     "end_time": "2023-11-29T11:50:07.971341Z",
     "start_time": "2023-11-29T11:50:07.968612Z"
    }
   }
  },
  {
   "cell_type": "code",
   "execution_count": null,
   "outputs": [],
   "source": [],
   "metadata": {
    "collapsed": false
   }
  },
  {
   "cell_type": "code",
   "execution_count": null,
   "outputs": [],
   "source": [],
   "metadata": {
    "collapsed": false
   }
  },
  {
   "cell_type": "code",
   "execution_count": null,
   "outputs": [],
   "source": [],
   "metadata": {
    "collapsed": false
   }
  },
  {
   "cell_type": "code",
   "execution_count": null,
   "outputs": [],
   "source": [],
   "metadata": {
    "collapsed": false
   }
  },
  {
   "cell_type": "code",
   "execution_count": null,
   "outputs": [],
   "source": [],
   "metadata": {
    "collapsed": false
   }
  },
  {
   "cell_type": "code",
   "execution_count": null,
   "outputs": [],
   "source": [],
   "metadata": {
    "collapsed": false
   }
  },
  {
   "cell_type": "code",
   "execution_count": null,
   "outputs": [],
   "source": [],
   "metadata": {
    "collapsed": false
   }
  },
  {
   "cell_type": "code",
   "execution_count": null,
   "outputs": [],
   "source": [],
   "metadata": {
    "collapsed": false
   }
  },
  {
   "cell_type": "code",
   "execution_count": null,
   "outputs": [],
   "source": [],
   "metadata": {
    "collapsed": false
   }
  },
  {
   "cell_type": "code",
   "execution_count": null,
   "outputs": [],
   "source": [],
   "metadata": {
    "collapsed": false
   }
  },
  {
   "cell_type": "code",
   "execution_count": null,
   "outputs": [],
   "source": [],
   "metadata": {
    "collapsed": false
   }
  },
  {
   "cell_type": "code",
   "execution_count": null,
   "outputs": [],
   "source": [],
   "metadata": {
    "collapsed": false
   }
  },
  {
   "cell_type": "code",
   "execution_count": null,
   "outputs": [],
   "source": [],
   "metadata": {
    "collapsed": false
   }
  },
  {
   "cell_type": "code",
   "execution_count": null,
   "outputs": [],
   "source": [],
   "metadata": {
    "collapsed": false
   }
  },
  {
   "cell_type": "code",
   "execution_count": null,
   "outputs": [],
   "source": [],
   "metadata": {
    "collapsed": false
   }
  },
  {
   "cell_type": "code",
   "execution_count": null,
   "outputs": [],
   "source": [],
   "metadata": {
    "collapsed": false
   }
  },
  {
   "cell_type": "code",
   "execution_count": null,
   "outputs": [],
   "source": [],
   "metadata": {
    "collapsed": false
   }
  },
  {
   "cell_type": "code",
   "execution_count": null,
   "outputs": [],
   "source": [],
   "metadata": {
    "collapsed": false
   }
  },
  {
   "cell_type": "code",
   "execution_count": null,
   "outputs": [],
   "source": [],
   "metadata": {
    "collapsed": false
   }
  },
  {
   "cell_type": "code",
   "execution_count": null,
   "outputs": [],
   "source": [],
   "metadata": {
    "collapsed": false
   }
  },
  {
   "cell_type": "code",
   "execution_count": null,
   "outputs": [],
   "source": [],
   "metadata": {
    "collapsed": false
   }
  },
  {
   "cell_type": "code",
   "execution_count": null,
   "outputs": [],
   "source": [],
   "metadata": {
    "collapsed": false
   }
  },
  {
   "cell_type": "code",
   "execution_count": null,
   "outputs": [],
   "source": [],
   "metadata": {
    "collapsed": false
   }
  },
  {
   "cell_type": "code",
   "execution_count": null,
   "outputs": [],
   "source": [],
   "metadata": {
    "collapsed": false
   }
  },
  {
   "cell_type": "markdown",
   "source": [],
   "metadata": {
    "collapsed": false
   }
  },
  {
   "cell_type": "code",
   "execution_count": null,
   "outputs": [],
   "source": [],
   "metadata": {
    "collapsed": false
   }
  }
 ],
 "metadata": {
  "kernelspec": {
   "display_name": "Python 3",
   "language": "python",
   "name": "python3"
  },
  "language_info": {
   "codemirror_mode": {
    "name": "ipython",
    "version": 2
   },
   "file_extension": ".py",
   "mimetype": "text/x-python",
   "name": "python",
   "nbconvert_exporter": "python",
   "pygments_lexer": "ipython2",
   "version": "2.7.6"
  }
 },
 "nbformat": 4,
 "nbformat_minor": 0
}
