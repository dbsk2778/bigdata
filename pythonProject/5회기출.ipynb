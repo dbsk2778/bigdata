{
 "cells": [
  {
   "cell_type": "code",
   "execution_count": 1,
   "metadata": {
    "collapsed": true,
    "ExecuteTime": {
     "end_time": "2023-12-01T14:12:07.576118Z",
     "start_time": "2023-12-01T14:12:06.823063Z"
    }
   },
   "outputs": [
    {
     "data": {
      "text/plain": "   시도명 시군구명 종량제봉투종류 종량제봉투처리방식 종량제봉투용도 종량제봉투사용대상  1L가격  1.5L가격  2L가격  2.5L가격  \\\n0  경기도  안양시    규격봉투       매립용   생활쓰레기      사업장용     0       0     0       0   \n1  경기도  안양시    규격봉투       매립용   생활쓰레기        기타     0       0     0       0   \n2  경기도  안양시    규격봉투       소각용  음식물쓰레기       가정용     0      50     0      80   \n3  경기도  안양시    규격봉투       소각용  음식물쓰레기      사업장용     0      50     0      80   \n4  경기도  안양시    규격봉투       소각용  음식물쓰레기        기타     0      50     0      80   \n\n   ...  60L가격  75L가격  100L가격  120L가격  125L가격  관리부서명       관리부서전화번호  \\\n0  ...      0   2100       0       0       0  자원순환과  031-8045-5448   \n1  ...      0   2100       0       0       0  자원순환과  031-8045-5448   \n2  ...      0      0       0       0       0  자원순환과  031-8045-5448   \n3  ...      0      0       0       0       0  자원순환과  031-8045-5448   \n4  ...      0      0       0       0       0  자원순환과  031-8045-5448   \n\n      데이터기준일자   제공기관코드    제공기관명  \n0  2022-08-12  3830000  경기도 안양시  \n1  2022-08-12  3830000  경기도 안양시  \n2  2022-08-12  3830000  경기도 안양시  \n3  2022-08-12  3830000  경기도 안양시  \n4  2022-08-12  3830000  경기도 안양시  \n\n[5 rows x 26 columns]",
      "text/html": "<div>\n<style scoped>\n    .dataframe tbody tr th:only-of-type {\n        vertical-align: middle;\n    }\n\n    .dataframe tbody tr th {\n        vertical-align: top;\n    }\n\n    .dataframe thead th {\n        text-align: right;\n    }\n</style>\n<table border=\"1\" class=\"dataframe\">\n  <thead>\n    <tr style=\"text-align: right;\">\n      <th></th>\n      <th>시도명</th>\n      <th>시군구명</th>\n      <th>종량제봉투종류</th>\n      <th>종량제봉투처리방식</th>\n      <th>종량제봉투용도</th>\n      <th>종량제봉투사용대상</th>\n      <th>1L가격</th>\n      <th>1.5L가격</th>\n      <th>2L가격</th>\n      <th>2.5L가격</th>\n      <th>...</th>\n      <th>60L가격</th>\n      <th>75L가격</th>\n      <th>100L가격</th>\n      <th>120L가격</th>\n      <th>125L가격</th>\n      <th>관리부서명</th>\n      <th>관리부서전화번호</th>\n      <th>데이터기준일자</th>\n      <th>제공기관코드</th>\n      <th>제공기관명</th>\n    </tr>\n  </thead>\n  <tbody>\n    <tr>\n      <th>0</th>\n      <td>경기도</td>\n      <td>안양시</td>\n      <td>규격봉투</td>\n      <td>매립용</td>\n      <td>생활쓰레기</td>\n      <td>사업장용</td>\n      <td>0</td>\n      <td>0</td>\n      <td>0</td>\n      <td>0</td>\n      <td>...</td>\n      <td>0</td>\n      <td>2100</td>\n      <td>0</td>\n      <td>0</td>\n      <td>0</td>\n      <td>자원순환과</td>\n      <td>031-8045-5448</td>\n      <td>2022-08-12</td>\n      <td>3830000</td>\n      <td>경기도 안양시</td>\n    </tr>\n    <tr>\n      <th>1</th>\n      <td>경기도</td>\n      <td>안양시</td>\n      <td>규격봉투</td>\n      <td>매립용</td>\n      <td>생활쓰레기</td>\n      <td>기타</td>\n      <td>0</td>\n      <td>0</td>\n      <td>0</td>\n      <td>0</td>\n      <td>...</td>\n      <td>0</td>\n      <td>2100</td>\n      <td>0</td>\n      <td>0</td>\n      <td>0</td>\n      <td>자원순환과</td>\n      <td>031-8045-5448</td>\n      <td>2022-08-12</td>\n      <td>3830000</td>\n      <td>경기도 안양시</td>\n    </tr>\n    <tr>\n      <th>2</th>\n      <td>경기도</td>\n      <td>안양시</td>\n      <td>규격봉투</td>\n      <td>소각용</td>\n      <td>음식물쓰레기</td>\n      <td>가정용</td>\n      <td>0</td>\n      <td>50</td>\n      <td>0</td>\n      <td>80</td>\n      <td>...</td>\n      <td>0</td>\n      <td>0</td>\n      <td>0</td>\n      <td>0</td>\n      <td>0</td>\n      <td>자원순환과</td>\n      <td>031-8045-5448</td>\n      <td>2022-08-12</td>\n      <td>3830000</td>\n      <td>경기도 안양시</td>\n    </tr>\n    <tr>\n      <th>3</th>\n      <td>경기도</td>\n      <td>안양시</td>\n      <td>규격봉투</td>\n      <td>소각용</td>\n      <td>음식물쓰레기</td>\n      <td>사업장용</td>\n      <td>0</td>\n      <td>50</td>\n      <td>0</td>\n      <td>80</td>\n      <td>...</td>\n      <td>0</td>\n      <td>0</td>\n      <td>0</td>\n      <td>0</td>\n      <td>0</td>\n      <td>자원순환과</td>\n      <td>031-8045-5448</td>\n      <td>2022-08-12</td>\n      <td>3830000</td>\n      <td>경기도 안양시</td>\n    </tr>\n    <tr>\n      <th>4</th>\n      <td>경기도</td>\n      <td>안양시</td>\n      <td>규격봉투</td>\n      <td>소각용</td>\n      <td>음식물쓰레기</td>\n      <td>기타</td>\n      <td>0</td>\n      <td>50</td>\n      <td>0</td>\n      <td>80</td>\n      <td>...</td>\n      <td>0</td>\n      <td>0</td>\n      <td>0</td>\n      <td>0</td>\n      <td>0</td>\n      <td>자원순환과</td>\n      <td>031-8045-5448</td>\n      <td>2022-08-12</td>\n      <td>3830000</td>\n      <td>경기도 안양시</td>\n    </tr>\n  </tbody>\n</table>\n<p>5 rows × 26 columns</p>\n</div>"
     },
     "execution_count": 1,
     "metadata": {},
     "output_type": "execute_result"
    }
   ],
   "source": [
    "import pandas as pd\n",
    "df = pd.read_csv('https://raw.githubusercontent.com/Datamanim/datarepo/main/krdatacertificate/e5_p1_1_.csv')\n",
    "df.head(5)"
   ]
  },
  {
   "cell_type": "code",
   "execution_count": 5,
   "outputs": [
    {
     "data": {
      "text/plain": "619.0"
     },
     "execution_count": 5,
     "metadata": {},
     "output_type": "execute_result"
    }
   ],
   "source": [
    "cond1 = (df['20L가격'] != 0)\n",
    "cond2 = (df['5L가격'] != 0)\n",
    "\n",
    "df = df[cond1 & cond2]\n",
    "\n",
    "df['차이가격'] = df['20L가격'] - df['5L가격']\n",
    "\n",
    "df.groupby('시도명')['차이가격'].mean().max()"
   ],
   "metadata": {
    "collapsed": false,
    "ExecuteTime": {
     "end_time": "2023-12-01T14:14:45.156626Z",
     "start_time": "2023-12-01T14:14:45.149853Z"
    }
   }
  },
  {
   "cell_type": "code",
   "execution_count": 6,
   "outputs": [
    {
     "data": {
      "text/plain": "       ID  height(cm)  weight(kg)\n0  user_1       173.0        67.5\n1  user_2       149.5        82.5\n2  user_3       143.8        64.6\n3  user_4       163.1        87.2\n4  user_5       159.6        77.1",
      "text/html": "<div>\n<style scoped>\n    .dataframe tbody tr th:only-of-type {\n        vertical-align: middle;\n    }\n\n    .dataframe tbody tr th {\n        vertical-align: top;\n    }\n\n    .dataframe thead th {\n        text-align: right;\n    }\n</style>\n<table border=\"1\" class=\"dataframe\">\n  <thead>\n    <tr style=\"text-align: right;\">\n      <th></th>\n      <th>ID</th>\n      <th>height(cm)</th>\n      <th>weight(kg)</th>\n    </tr>\n  </thead>\n  <tbody>\n    <tr>\n      <th>0</th>\n      <td>user_1</td>\n      <td>173.0</td>\n      <td>67.5</td>\n    </tr>\n    <tr>\n      <th>1</th>\n      <td>user_2</td>\n      <td>149.5</td>\n      <td>82.5</td>\n    </tr>\n    <tr>\n      <th>2</th>\n      <td>user_3</td>\n      <td>143.8</td>\n      <td>64.6</td>\n    </tr>\n    <tr>\n      <th>3</th>\n      <td>user_4</td>\n      <td>163.1</td>\n      <td>87.2</td>\n    </tr>\n    <tr>\n      <th>4</th>\n      <td>user_5</td>\n      <td>159.6</td>\n      <td>77.1</td>\n    </tr>\n  </tbody>\n</table>\n</div>"
     },
     "execution_count": 6,
     "metadata": {},
     "output_type": "execute_result"
    }
   ],
   "source": [
    "import pandas as pd\n",
    "df = pd.read_csv('https://raw.githubusercontent.com/Datamanim/datarepo/main/krdatacertificate/e5_p1_2_.csv')\n",
    "df.head(5)"
   ],
   "metadata": {
    "collapsed": false,
    "ExecuteTime": {
     "end_time": "2023-12-01T14:14:58.320438Z",
     "start_time": "2023-12-01T14:14:57.849798Z"
    }
   }
  },
  {
   "cell_type": "code",
   "execution_count": 17,
   "outputs": [
    {
     "data": {
      "text/plain": "              ID  height(cm)  weight(kg)        BMI\n0         user_1       173.0        67.5  22.553376\n1         user_2       149.5        82.5  36.912339\n2         user_3       143.8        64.6  31.240268\n3         user_4       163.1        87.2  32.779971\n4         user_5       159.6        77.1  30.268340\n...          ...         ...         ...        ...\n9995   user_9996       144.0        74.4  35.879630\n9996   user_9997       161.1        84.1  32.404469\n9997   user_9998       137.1        68.9  36.655936\n9998   user_9999       187.5        89.2  25.372444\n9999  user_10000       172.3        77.5  26.105448\n\n[10000 rows x 4 columns]",
      "text/html": "<div>\n<style scoped>\n    .dataframe tbody tr th:only-of-type {\n        vertical-align: middle;\n    }\n\n    .dataframe tbody tr th {\n        vertical-align: top;\n    }\n\n    .dataframe thead th {\n        text-align: right;\n    }\n</style>\n<table border=\"1\" class=\"dataframe\">\n  <thead>\n    <tr style=\"text-align: right;\">\n      <th></th>\n      <th>ID</th>\n      <th>height(cm)</th>\n      <th>weight(kg)</th>\n      <th>BMI</th>\n    </tr>\n  </thead>\n  <tbody>\n    <tr>\n      <th>0</th>\n      <td>user_1</td>\n      <td>173.0</td>\n      <td>67.5</td>\n      <td>22.553376</td>\n    </tr>\n    <tr>\n      <th>1</th>\n      <td>user_2</td>\n      <td>149.5</td>\n      <td>82.5</td>\n      <td>36.912339</td>\n    </tr>\n    <tr>\n      <th>2</th>\n      <td>user_3</td>\n      <td>143.8</td>\n      <td>64.6</td>\n      <td>31.240268</td>\n    </tr>\n    <tr>\n      <th>3</th>\n      <td>user_4</td>\n      <td>163.1</td>\n      <td>87.2</td>\n      <td>32.779971</td>\n    </tr>\n    <tr>\n      <th>4</th>\n      <td>user_5</td>\n      <td>159.6</td>\n      <td>77.1</td>\n      <td>30.268340</td>\n    </tr>\n    <tr>\n      <th>...</th>\n      <td>...</td>\n      <td>...</td>\n      <td>...</td>\n      <td>...</td>\n    </tr>\n    <tr>\n      <th>9995</th>\n      <td>user_9996</td>\n      <td>144.0</td>\n      <td>74.4</td>\n      <td>35.879630</td>\n    </tr>\n    <tr>\n      <th>9996</th>\n      <td>user_9997</td>\n      <td>161.1</td>\n      <td>84.1</td>\n      <td>32.404469</td>\n    </tr>\n    <tr>\n      <th>9997</th>\n      <td>user_9998</td>\n      <td>137.1</td>\n      <td>68.9</td>\n      <td>36.655936</td>\n    </tr>\n    <tr>\n      <th>9998</th>\n      <td>user_9999</td>\n      <td>187.5</td>\n      <td>89.2</td>\n      <td>25.372444</td>\n    </tr>\n    <tr>\n      <th>9999</th>\n      <td>user_10000</td>\n      <td>172.3</td>\n      <td>77.5</td>\n      <td>26.105448</td>\n    </tr>\n  </tbody>\n</table>\n<p>10000 rows × 4 columns</p>\n</div>"
     },
     "execution_count": 17,
     "metadata": {},
     "output_type": "execute_result"
    }
   ],
   "source": [
    "df['BMI'] = df['weight(kg)'] / ((df['height(cm)'] * df['height(cm)']) / 10000)\n",
    "df"
   ],
   "metadata": {
    "collapsed": false,
    "ExecuteTime": {
     "end_time": "2023-12-01T14:19:09.283393Z",
     "start_time": "2023-12-01T14:19:09.274353Z"
    }
   }
  },
  {
   "cell_type": "code",
   "execution_count": 18,
   "outputs": [
    {
     "name": "stdout",
     "output_type": "stream",
     "text": [
      "8998\n"
     ]
    }
   ],
   "source": [
    "df['BMI'] = df['weight(kg)'] / ((df['height(cm)'] * df['height(cm)']) / 10000)\n",
    "\n",
    "# 고도비만\n",
    "cond1 = df['BMI'] > 25\n",
    "max = len(df[cond1])\n",
    "\n",
    "cond2 = df['BMI'] < 18.5\n",
    "min = len(df[cond2])\n",
    "\n",
    "print(min + max)"
   ],
   "metadata": {
    "collapsed": false,
    "ExecuteTime": {
     "end_time": "2023-12-01T14:19:33.763780Z",
     "start_time": "2023-12-01T14:19:33.758781Z"
    }
   }
  },
  {
   "cell_type": "code",
   "execution_count": 19,
   "outputs": [
    {
     "data": {
      "text/plain": "    지역  초등학교_전출_도내  초등학교_전출_도외  초등학교_전입_도내  초등학교_전입_도외  중학교_전출_도내  중학교_전출_도외  \\\n0  종로구         221         132         255         126         63         71   \n1   중구         295         139         203         100         66         43   \n2  용산구         380         269         302         174        134         78   \n3  성동구         643         344         376         221        154        103   \n4  광진구         560         382         595         312        165        158   \n\n   중학교_전입_도내  중학교_전입_도외  고등학교_전출_도내  고등학교_전출_도외  고등학교_전입_도내  고등학교_전입_도외    년도  \n0        104         73         203          72         166          75  2012  \n1         58         44         156          37         104          39  2012  \n2         91        106         102          66         113          48  2012  \n3         98         82         179          37         153          41  2012  \n4        158        118         115          70         154          66  2012  ",
      "text/html": "<div>\n<style scoped>\n    .dataframe tbody tr th:only-of-type {\n        vertical-align: middle;\n    }\n\n    .dataframe tbody tr th {\n        vertical-align: top;\n    }\n\n    .dataframe thead th {\n        text-align: right;\n    }\n</style>\n<table border=\"1\" class=\"dataframe\">\n  <thead>\n    <tr style=\"text-align: right;\">\n      <th></th>\n      <th>지역</th>\n      <th>초등학교_전출_도내</th>\n      <th>초등학교_전출_도외</th>\n      <th>초등학교_전입_도내</th>\n      <th>초등학교_전입_도외</th>\n      <th>중학교_전출_도내</th>\n      <th>중학교_전출_도외</th>\n      <th>중학교_전입_도내</th>\n      <th>중학교_전입_도외</th>\n      <th>고등학교_전출_도내</th>\n      <th>고등학교_전출_도외</th>\n      <th>고등학교_전입_도내</th>\n      <th>고등학교_전입_도외</th>\n      <th>년도</th>\n    </tr>\n  </thead>\n  <tbody>\n    <tr>\n      <th>0</th>\n      <td>종로구</td>\n      <td>221</td>\n      <td>132</td>\n      <td>255</td>\n      <td>126</td>\n      <td>63</td>\n      <td>71</td>\n      <td>104</td>\n      <td>73</td>\n      <td>203</td>\n      <td>72</td>\n      <td>166</td>\n      <td>75</td>\n      <td>2012</td>\n    </tr>\n    <tr>\n      <th>1</th>\n      <td>중구</td>\n      <td>295</td>\n      <td>139</td>\n      <td>203</td>\n      <td>100</td>\n      <td>66</td>\n      <td>43</td>\n      <td>58</td>\n      <td>44</td>\n      <td>156</td>\n      <td>37</td>\n      <td>104</td>\n      <td>39</td>\n      <td>2012</td>\n    </tr>\n    <tr>\n      <th>2</th>\n      <td>용산구</td>\n      <td>380</td>\n      <td>269</td>\n      <td>302</td>\n      <td>174</td>\n      <td>134</td>\n      <td>78</td>\n      <td>91</td>\n      <td>106</td>\n      <td>102</td>\n      <td>66</td>\n      <td>113</td>\n      <td>48</td>\n      <td>2012</td>\n    </tr>\n    <tr>\n      <th>3</th>\n      <td>성동구</td>\n      <td>643</td>\n      <td>344</td>\n      <td>376</td>\n      <td>221</td>\n      <td>154</td>\n      <td>103</td>\n      <td>98</td>\n      <td>82</td>\n      <td>179</td>\n      <td>37</td>\n      <td>153</td>\n      <td>41</td>\n      <td>2012</td>\n    </tr>\n    <tr>\n      <th>4</th>\n      <td>광진구</td>\n      <td>560</td>\n      <td>382</td>\n      <td>595</td>\n      <td>312</td>\n      <td>165</td>\n      <td>158</td>\n      <td>158</td>\n      <td>118</td>\n      <td>115</td>\n      <td>70</td>\n      <td>154</td>\n      <td>66</td>\n      <td>2012</td>\n    </tr>\n  </tbody>\n</table>\n</div>"
     },
     "execution_count": 19,
     "metadata": {},
     "output_type": "execute_result"
    }
   ],
   "source": [
    "import pandas as pd\n",
    "df = pd.read_csv('https://raw.githubusercontent.com/Datamanim/datarepo/main/krdatacertificate/e5_p1_3.csv')\n",
    "df.head(5)"
   ],
   "metadata": {
    "collapsed": false,
    "ExecuteTime": {
     "end_time": "2023-12-01T14:19:44.404559Z",
     "start_time": "2023-12-01T14:19:43.923713Z"
    }
   }
  },
  {
   "cell_type": "code",
   "execution_count": 42,
   "outputs": [
    {
     "name": "stdout",
     "output_type": "stream",
     "text": [
      "13853\n"
     ]
    }
   ],
   "source": [
    "x = df['초등학교_전입_도내'] + df['초등학교_전입_도외'] + df['중학교_전입_도내'] + df['중학교_전입_도외'] + df['고등학교_전입_도내'] + df['고등학교_전입_도외']\n",
    "\n",
    "y =  df['초등학교_전출_도내'] + df['초등학교_전출_도외'] + df['중학교_전출_도내'] + df['중학교_전출_도외'] + df['고등학교_전출_도내'] + df['고등학교_전출_도외']\n",
    "\n",
    "df['순유입인원'] = (x - y)\n",
    "df.groupby(['년도', '지역'])['순유입인원'].sum().sort_values(ascending=False)\n",
    "\n",
    "#  / /  / / 2016 / /  /  / 강남구\n",
    "#  강동구\n",
    "\n",
    "print(2225+1821+1762+1498+1395+1339+1158+949+932+774)"
   ],
   "metadata": {
    "collapsed": false,
    "ExecuteTime": {
     "end_time": "2023-12-01T14:32:48.697789Z",
     "start_time": "2023-12-01T14:32:48.693843Z"
    }
   }
  },
  {
   "cell_type": "code",
   "execution_count": 37,
   "outputs": [
    {
     "data": {
      "text/plain": "array([2012, 2013, 2014, 2015, 2016, 2017, 2018, 2019, 2020, 2021])"
     },
     "execution_count": 37,
     "metadata": {},
     "output_type": "execute_result"
    }
   ],
   "source": [
    "df['년도'].unique()"
   ],
   "metadata": {
    "collapsed": false,
    "ExecuteTime": {
     "end_time": "2023-12-01T14:27:27.209120Z",
     "start_time": "2023-12-01T14:27:27.202974Z"
    }
   }
  },
  {
   "cell_type": "code",
   "execution_count": 53,
   "outputs": [
    {
     "data": {
      "text/plain": "13853"
     },
     "execution_count": 53,
     "metadata": {},
     "output_type": "execute_result"
    }
   ],
   "source": [
    "x = df['초등학교_전입_도내'] + df['초등학교_전입_도외'] + df['중학교_전입_도내'] + df['중학교_전입_도외'] + df['고등학교_전입_도내'] + df['고등학교_전입_도외']\n",
    "\n",
    "y =  df['초등학교_전출_도내'] + df['초등학교_전출_도외'] + df['중학교_전출_도내'] + df['중학교_전출_도외'] + df['고등학교_전출_도내'] + df['고등학교_전출_도외']\n",
    "\n",
    "df['순유입인원'] = (x - y)\n",
    "df.groupby('년도')['순유입인원'].max().sum()\n"
   ],
   "metadata": {
    "collapsed": false,
    "ExecuteTime": {
     "end_time": "2023-12-01T14:35:07.962997Z",
     "start_time": "2023-12-01T14:35:07.958596Z"
    }
   }
  },
  {
   "cell_type": "code",
   "execution_count": 90,
   "outputs": [
    {
     "name": "stdout",
     "output_type": "stream",
     "text": [
      "         ID         price\n",
      "0         0   4216.900000\n",
      "1         2  64012.200000\n",
      "2        14  17169.340000\n",
      "3        15  14560.460000\n",
      "4        18  16151.320000\n",
      "...     ...           ...\n",
      "3291  13096  27483.710000\n",
      "3292  13098  23880.990000\n",
      "3293  13101  23965.590000\n",
      "3294  13109  16628.250000\n",
      "3295  13112  29226.380833\n",
      "\n",
      "[3296 rows x 2 columns]\n"
     ]
    }
   ],
   "source": [
    "import pandas as pd\n",
    "train = pd.read_csv('https://raw.githubusercontent.com/Datamanim/datarepo/main/krdatacertificate/e5_p2_train_.csv')\n",
    "x_test = pd.read_csv('https://raw.githubusercontent.com/Datamanim/datarepo/main/krdatacertificate/e5_p2_test_.csv')\n",
    "\n",
    "# display(train.head(2))\n",
    "# x_test.head(2)\n",
    "\n",
    "x_train = train.drop(columns=['price', 'ID'], axis=1)\n",
    "y_train = train['price']\n",
    "id = x_test['ID'].copy()\n",
    "x_test = x_test.drop(columns=['ID'], axis=1)\n",
    "\n",
    "# print(x_train.shape)\n",
    "# print(x_test.shape)\n",
    "# print(y_train.shape)\n",
    "\n",
    "# object = model, transmission,  fuelType,\n",
    "# print(x_train.info())\n",
    "# print(x_test.info())\n",
    "# print(y_train.info())\n",
    "\n",
    "# print(x_train.describe())\n",
    "# print(x_test.describe())\n",
    "# print(y_train.describe())\n",
    "\n",
    "x_train = pd.get_dummies(x_train)\n",
    "x_test = pd.get_dummies(x_test)\n",
    "\n",
    "x_test = x_test.reindex(columns=x_train.columns, fill_value=0)\n",
    "\n",
    "# print(x_train.shape)\n",
    "# print(x_test.shape)\n",
    "\n",
    "from sklearn.model_selection import train_test_split\n",
    "x_train, x_val, y_train, y_val = train_test_split(x_train, y_train, test_size=0.2, random_state=2023)\n",
    "\n",
    "from sklearn.ensemble import RandomForestRegressor\n",
    "model = RandomForestRegressor(random_state=2023)\n",
    "model.fit(x_train, y_train)\n",
    "\n",
    "y_pred = model.predict(x_val)\n",
    "\n",
    "from sklearn.metrics import r2_score, mean_squared_error\n",
    "import numpy as np\n",
    "# print(r2_score(y_val, y_pred))\n",
    "# print(mean_squared_error(y_val, y_pred))\n",
    "# print(np.sqrt(mean_squared_error(y_val, y_pred)))\n",
    "\n",
    "y_result = model.predict(x_test)\n",
    "\n",
    "pd.DataFrame({'ID': id, 'price': y_result}).to_csv('1111.csv', index=False)\n"
   ],
   "metadata": {
    "collapsed": false,
    "ExecuteTime": {
     "end_time": "2023-12-01T14:56:50.426573Z",
     "start_time": "2023-12-01T14:56:47.627020Z"
    }
   }
  },
  {
   "cell_type": "code",
   "execution_count": 91,
   "outputs": [
    {
     "data": {
      "text/plain": "       ID  height\n0  user_1  164.57\n1  user_2  174.99\n2  user_3  171.41\n3  user_4  162.47\n4  user_5  167.11",
      "text/html": "<div>\n<style scoped>\n    .dataframe tbody tr th:only-of-type {\n        vertical-align: middle;\n    }\n\n    .dataframe tbody tr th {\n        vertical-align: top;\n    }\n\n    .dataframe thead th {\n        text-align: right;\n    }\n</style>\n<table border=\"1\" class=\"dataframe\">\n  <thead>\n    <tr style=\"text-align: right;\">\n      <th></th>\n      <th>ID</th>\n      <th>height</th>\n    </tr>\n  </thead>\n  <tbody>\n    <tr>\n      <th>0</th>\n      <td>user_1</td>\n      <td>164.57</td>\n    </tr>\n    <tr>\n      <th>1</th>\n      <td>user_2</td>\n      <td>174.99</td>\n    </tr>\n    <tr>\n      <th>2</th>\n      <td>user_3</td>\n      <td>171.41</td>\n    </tr>\n    <tr>\n      <th>3</th>\n      <td>user_4</td>\n      <td>162.47</td>\n    </tr>\n    <tr>\n      <th>4</th>\n      <td>user_5</td>\n      <td>167.11</td>\n    </tr>\n  </tbody>\n</table>\n</div>"
     },
     "execution_count": 91,
     "metadata": {},
     "output_type": "execute_result"
    }
   ],
   "source": [
    "import pandas as pd\n",
    "df= pd.read_csv('https://raw.githubusercontent.com/Datamanim/datarepo/main/krdatacertificate/e5_p3_1.csv')\n",
    "df.head()"
   ],
   "metadata": {
    "collapsed": false,
    "ExecuteTime": {
     "end_time": "2023-12-01T14:58:01.313523Z",
     "start_time": "2023-12-01T14:58:00.785615Z"
    }
   }
  },
  {
   "cell_type": "code",
   "execution_count": 92,
   "outputs": [
    {
     "data": {
      "text/plain": "169.93727272727273"
     },
     "execution_count": 92,
     "metadata": {},
     "output_type": "execute_result"
    }
   ],
   "source": [
    "import scipy.stats as stats\n",
    "statistic, pvalue = stats.ttest_"
   ],
   "metadata": {
    "collapsed": false,
    "ExecuteTime": {
     "end_time": "2023-12-01T14:58:55.434296Z",
     "start_time": "2023-12-01T14:58:55.430009Z"
    }
   }
  },
  {
   "cell_type": "code",
   "execution_count": null,
   "outputs": [],
   "source": [],
   "metadata": {
    "collapsed": false
   }
  },
  {
   "cell_type": "code",
   "execution_count": 100,
   "outputs": [
    {
     "name": "stdout",
     "output_type": "stream",
     "text": [
      "0    84.179434\n",
      "1    93.971003\n",
      "2    62.140957\n",
      "3    72.911723\n",
      "4    79.252747\n",
      "5    72.249832\n",
      "6    78.502021\n",
      "7    98.617290\n",
      "8    65.744707\n",
      "9    76.236433\n",
      "Name: value, dtype: float64\n"
     ]
    }
   ],
   "source": [
    "import pandas as pd\n",
    "df= pd.read_csv('https://raw.githubusercontent.com/Datamanim/datarepo/main/krdatacertificate/e5_p3_2.csv')\n",
    "df.head()\n",
    "a = df[ df['ID'] == 'A']['value']\n",
    "b = df[ df['ID'] == 'B']['value']\n",
    "c = df[ df['ID'] == 'C']['value']\n",
    "print(a)"
   ],
   "metadata": {
    "collapsed": false,
    "ExecuteTime": {
     "end_time": "2023-12-01T15:04:53.058055Z",
     "start_time": "2023-12-01T15:04:52.844136Z"
    }
   }
  },
  {
   "cell_type": "code",
   "execution_count": 102,
   "outputs": [
    {
     "name": "stdout",
     "output_type": "stream",
     "text": [
      "6.521\n",
      "0.038\n"
     ]
    }
   ],
   "source": [
    "import scipy.stats as stats\n",
    "statistic, pvalue = stats.kruskal(a, b, c)\n",
    "print(np.round(statistic, 3))\n",
    "print(round(pvalue, 3))"
   ],
   "metadata": {
    "collapsed": false,
    "ExecuteTime": {
     "end_time": "2023-12-01T15:08:15.142105Z",
     "start_time": "2023-12-01T15:08:15.136401Z"
    }
   }
  },
  {
   "cell_type": "code",
   "execution_count": 103,
   "outputs": [
    {
     "data": {
      "text/plain": "             구급보고서번호   소방서명 환자증상구분명1      신고일자    신고시각      출동일자    출동시각  \\\n0  20211122103M01526  중랑소방서     심계항진  20210330  104800  20210330  105042   \n1  20211111105M00771  노원소방서       복통  20210412  225600  20210412  225827   \n2  20211115104M00864  서초소방서     심계항진  20210303  194100  20210303  194500   \n3  20211113107M01869  마포소방서       고열  20211225  235400  20211226     331   \n4  20211118102M05820  강동소방서       고열  20211019   12100  20211019   12322   \n\n  환자직업명 사고발생장소  \n0    무직      집  \n1    기타      집  \n2   직장인   상업시설  \n3    유아      집  \n4    무직      집  ",
      "text/html": "<div>\n<style scoped>\n    .dataframe tbody tr th:only-of-type {\n        vertical-align: middle;\n    }\n\n    .dataframe tbody tr th {\n        vertical-align: top;\n    }\n\n    .dataframe thead th {\n        text-align: right;\n    }\n</style>\n<table border=\"1\" class=\"dataframe\">\n  <thead>\n    <tr style=\"text-align: right;\">\n      <th></th>\n      <th>구급보고서번호</th>\n      <th>소방서명</th>\n      <th>환자증상구분명1</th>\n      <th>신고일자</th>\n      <th>신고시각</th>\n      <th>출동일자</th>\n      <th>출동시각</th>\n      <th>환자직업명</th>\n      <th>사고발생장소</th>\n    </tr>\n  </thead>\n  <tbody>\n    <tr>\n      <th>0</th>\n      <td>20211122103M01526</td>\n      <td>중랑소방서</td>\n      <td>심계항진</td>\n      <td>20210330</td>\n      <td>104800</td>\n      <td>20210330</td>\n      <td>105042</td>\n      <td>무직</td>\n      <td>집</td>\n    </tr>\n    <tr>\n      <th>1</th>\n      <td>20211111105M00771</td>\n      <td>노원소방서</td>\n      <td>복통</td>\n      <td>20210412</td>\n      <td>225600</td>\n      <td>20210412</td>\n      <td>225827</td>\n      <td>기타</td>\n      <td>집</td>\n    </tr>\n    <tr>\n      <th>2</th>\n      <td>20211115104M00864</td>\n      <td>서초소방서</td>\n      <td>심계항진</td>\n      <td>20210303</td>\n      <td>194100</td>\n      <td>20210303</td>\n      <td>194500</td>\n      <td>직장인</td>\n      <td>상업시설</td>\n    </tr>\n    <tr>\n      <th>3</th>\n      <td>20211113107M01869</td>\n      <td>마포소방서</td>\n      <td>고열</td>\n      <td>20211225</td>\n      <td>235400</td>\n      <td>20211226</td>\n      <td>331</td>\n      <td>유아</td>\n      <td>집</td>\n    </tr>\n    <tr>\n      <th>4</th>\n      <td>20211118102M05820</td>\n      <td>강동소방서</td>\n      <td>고열</td>\n      <td>20211019</td>\n      <td>12100</td>\n      <td>20211019</td>\n      <td>12322</td>\n      <td>무직</td>\n      <td>집</td>\n    </tr>\n  </tbody>\n</table>\n</div>"
     },
     "execution_count": 103,
     "metadata": {},
     "output_type": "execute_result"
    }
   ],
   "source": [
    "import pandas as pd\n",
    "df = pd.read_csv('https://raw.githubusercontent.com/Datamanim/datarepo/main/krdatacertificate/e6_p1_1.csv')\n",
    "df.head(5)"
   ],
   "metadata": {
    "collapsed": false,
    "ExecuteTime": {
     "end_time": "2023-12-01T15:12:55.896375Z",
     "start_time": "2023-12-01T15:12:54.714389Z"
    }
   }
  },
  {
   "cell_type": "code",
   "execution_count": 107,
   "outputs": [
    {
     "data": {
      "text/plain": "                구급보고서번호    소방서명 환자증상구분명1      신고일자    신고시각      출동일자    출동시각  \\\n0     20211122103M01526   중랑소방서     심계항진  20210330  104800  20210330  105042   \n1     20211111105M00771   노원소방서       복통  20210412  225600  20210412  225827   \n2     20211115104M00864   서초소방서     심계항진  20210303  194100  20210303  194500   \n3     20211113107M01869   마포소방서       고열  20211225  235400  20211226     331   \n4     20211118102M05820   강동소방서       고열  20211019   12100  20211019   12322   \n...                 ...     ...      ...       ...     ...       ...     ...   \n2757  20211109507M05492   성북소방서       복통  20211102   34700  20211102   34800   \n2758  20211117104M01900   강서소방서       고열  20210414  190900  20210414  191200   \n2759  20211111106M01431   노원소방서     호흡곤란  20210524  235900  20210525     130   \n2760  20211107102M01938  동대문소방서       요통  20210715  152000  20210715  152244   \n2761  20211110509M01584   도봉소방서     의식장애  20210401  223400  20210401  223800   \n\n     환자직업명  사고발생장소    소요시간   소요시각  \n0       무직       집     242  162.0  \n1       기타       집     227  147.0  \n2      직장인    상업시설     400  240.0  \n3       유아       집 -235069  571.0  \n4       무직       집     222  142.0  \n...    ...     ...     ...    ...  \n2757   직장인       집     100   60.0  \n2758    무직  의료관련시설     300  180.0  \n2759    무직       집 -235770  150.0  \n2760   직장인       집     244  164.0  \n2761    무직       집     400  240.0  \n\n[2762 rows x 11 columns]",
      "text/html": "<div>\n<style scoped>\n    .dataframe tbody tr th:only-of-type {\n        vertical-align: middle;\n    }\n\n    .dataframe tbody tr th {\n        vertical-align: top;\n    }\n\n    .dataframe thead th {\n        text-align: right;\n    }\n</style>\n<table border=\"1\" class=\"dataframe\">\n  <thead>\n    <tr style=\"text-align: right;\">\n      <th></th>\n      <th>구급보고서번호</th>\n      <th>소방서명</th>\n      <th>환자증상구분명1</th>\n      <th>신고일자</th>\n      <th>신고시각</th>\n      <th>출동일자</th>\n      <th>출동시각</th>\n      <th>환자직업명</th>\n      <th>사고발생장소</th>\n      <th>소요시간</th>\n      <th>소요시각</th>\n    </tr>\n  </thead>\n  <tbody>\n    <tr>\n      <th>0</th>\n      <td>20211122103M01526</td>\n      <td>중랑소방서</td>\n      <td>심계항진</td>\n      <td>20210330</td>\n      <td>104800</td>\n      <td>20210330</td>\n      <td>105042</td>\n      <td>무직</td>\n      <td>집</td>\n      <td>242</td>\n      <td>162.0</td>\n    </tr>\n    <tr>\n      <th>1</th>\n      <td>20211111105M00771</td>\n      <td>노원소방서</td>\n      <td>복통</td>\n      <td>20210412</td>\n      <td>225600</td>\n      <td>20210412</td>\n      <td>225827</td>\n      <td>기타</td>\n      <td>집</td>\n      <td>227</td>\n      <td>147.0</td>\n    </tr>\n    <tr>\n      <th>2</th>\n      <td>20211115104M00864</td>\n      <td>서초소방서</td>\n      <td>심계항진</td>\n      <td>20210303</td>\n      <td>194100</td>\n      <td>20210303</td>\n      <td>194500</td>\n      <td>직장인</td>\n      <td>상업시설</td>\n      <td>400</td>\n      <td>240.0</td>\n    </tr>\n    <tr>\n      <th>3</th>\n      <td>20211113107M01869</td>\n      <td>마포소방서</td>\n      <td>고열</td>\n      <td>20211225</td>\n      <td>235400</td>\n      <td>20211226</td>\n      <td>331</td>\n      <td>유아</td>\n      <td>집</td>\n      <td>-235069</td>\n      <td>571.0</td>\n    </tr>\n    <tr>\n      <th>4</th>\n      <td>20211118102M05820</td>\n      <td>강동소방서</td>\n      <td>고열</td>\n      <td>20211019</td>\n      <td>12100</td>\n      <td>20211019</td>\n      <td>12322</td>\n      <td>무직</td>\n      <td>집</td>\n      <td>222</td>\n      <td>142.0</td>\n    </tr>\n    <tr>\n      <th>...</th>\n      <td>...</td>\n      <td>...</td>\n      <td>...</td>\n      <td>...</td>\n      <td>...</td>\n      <td>...</td>\n      <td>...</td>\n      <td>...</td>\n      <td>...</td>\n      <td>...</td>\n      <td>...</td>\n    </tr>\n    <tr>\n      <th>2757</th>\n      <td>20211109507M05492</td>\n      <td>성북소방서</td>\n      <td>복통</td>\n      <td>20211102</td>\n      <td>34700</td>\n      <td>20211102</td>\n      <td>34800</td>\n      <td>직장인</td>\n      <td>집</td>\n      <td>100</td>\n      <td>60.0</td>\n    </tr>\n    <tr>\n      <th>2758</th>\n      <td>20211117104M01900</td>\n      <td>강서소방서</td>\n      <td>고열</td>\n      <td>20210414</td>\n      <td>190900</td>\n      <td>20210414</td>\n      <td>191200</td>\n      <td>무직</td>\n      <td>의료관련시설</td>\n      <td>300</td>\n      <td>180.0</td>\n    </tr>\n    <tr>\n      <th>2759</th>\n      <td>20211111106M01431</td>\n      <td>노원소방서</td>\n      <td>호흡곤란</td>\n      <td>20210524</td>\n      <td>235900</td>\n      <td>20210525</td>\n      <td>130</td>\n      <td>무직</td>\n      <td>집</td>\n      <td>-235770</td>\n      <td>150.0</td>\n    </tr>\n    <tr>\n      <th>2760</th>\n      <td>20211107102M01938</td>\n      <td>동대문소방서</td>\n      <td>요통</td>\n      <td>20210715</td>\n      <td>152000</td>\n      <td>20210715</td>\n      <td>152244</td>\n      <td>직장인</td>\n      <td>집</td>\n      <td>244</td>\n      <td>164.0</td>\n    </tr>\n    <tr>\n      <th>2761</th>\n      <td>20211110509M01584</td>\n      <td>도봉소방서</td>\n      <td>의식장애</td>\n      <td>20210401</td>\n      <td>223400</td>\n      <td>20210401</td>\n      <td>223800</td>\n      <td>무직</td>\n      <td>집</td>\n      <td>400</td>\n      <td>240.0</td>\n    </tr>\n  </tbody>\n</table>\n<p>2762 rows × 11 columns</p>\n</div>"
     },
     "execution_count": 107,
     "metadata": {},
     "output_type": "execute_result"
    }
   ],
   "source": [
    "df['소요시각'] = (\n",
    "                pd.to_datetime(\n",
    "                    df['출동일자'].astype('str') + df['출동시각'].astype('str').str.zfill(6)\n",
    "                )\n",
    "\n",
    "                -\n",
    "\n",
    "                pd.to_datetime(\n",
    "                    df['신고일자'].astype('str') + df['신고시각'].astype('str').str.zfill(6)\n",
    "                )\n",
    "                ).dt.total_seconds()\n",
    "\n",
    "df"
   ],
   "metadata": {
    "collapsed": false,
    "ExecuteTime": {
     "end_time": "2023-12-01T15:15:36.682294Z",
     "start_time": "2023-12-01T15:15:36.669559Z"
    }
   }
  },
  {
   "cell_type": "markdown",
   "source": [],
   "metadata": {
    "collapsed": false
   }
  },
  {
   "cell_type": "code",
   "execution_count": 108,
   "outputs": [
    {
     "data": {
      "text/plain": "0      2021-03-30 10:50:42\n1      2021-04-12 22:58:27\n2      2021-03-03 19:45:00\n3      2021-12-26 00:03:31\n4      2021-10-19 01:23:22\n               ...        \n2757   2021-11-02 03:48:00\n2758   2021-04-14 19:12:00\n2759   2021-05-25 00:01:30\n2760   2021-07-15 15:22:44\n2761   2021-04-01 22:38:00\nLength: 2762, dtype: datetime64[ns]"
     },
     "execution_count": 108,
     "metadata": {},
     "output_type": "execute_result"
    }
   ],
   "source": [
    "pd.to_datetime(df['출동일자'].astype('str') + df['출동시각'].astype('str').str.zfill(6))"
   ],
   "metadata": {
    "collapsed": false,
    "ExecuteTime": {
     "end_time": "2023-12-01T15:17:15.808793Z",
     "start_time": "2023-12-01T15:17:15.806624Z"
    }
   }
  },
  {
   "cell_type": "code",
   "execution_count": 111,
   "outputs": [
    {
     "data": {
      "text/plain": "                  학교명  시도  학교세부유형  일반학급_학생수_계  교원수_총계_계\n0     서울대학교사범대학부설고등학교  서울  일반고등학교         689        73\n1              가락고등학교  서울  일반고등학교         765        70\n2              개포고등학교  서울  일반고등학교         684        69\n3              경기고등학교  서울  일반고등학교        1047        96\n4              경동고등학교  서울  일반고등학교         529        58\n...               ...  ..     ...         ...       ...\n4955            위미중학교  제주   일반중학교          96        15\n4956            중문중학교  제주   일반중학교         459        42\n4957            표선중학교  제주   일반중학교         375        35\n4958            효돈중학교  제주   일반중학교         137        18\n4959            남주중학교  제주   일반중학교         351        24\n\n[4960 rows x 5 columns]",
      "text/html": "<div>\n<style scoped>\n    .dataframe tbody tr th:only-of-type {\n        vertical-align: middle;\n    }\n\n    .dataframe tbody tr th {\n        vertical-align: top;\n    }\n\n    .dataframe thead th {\n        text-align: right;\n    }\n</style>\n<table border=\"1\" class=\"dataframe\">\n  <thead>\n    <tr style=\"text-align: right;\">\n      <th></th>\n      <th>학교명</th>\n      <th>시도</th>\n      <th>학교세부유형</th>\n      <th>일반학급_학생수_계</th>\n      <th>교원수_총계_계</th>\n    </tr>\n  </thead>\n  <tbody>\n    <tr>\n      <th>0</th>\n      <td>서울대학교사범대학부설고등학교</td>\n      <td>서울</td>\n      <td>일반고등학교</td>\n      <td>689</td>\n      <td>73</td>\n    </tr>\n    <tr>\n      <th>1</th>\n      <td>가락고등학교</td>\n      <td>서울</td>\n      <td>일반고등학교</td>\n      <td>765</td>\n      <td>70</td>\n    </tr>\n    <tr>\n      <th>2</th>\n      <td>개포고등학교</td>\n      <td>서울</td>\n      <td>일반고등학교</td>\n      <td>684</td>\n      <td>69</td>\n    </tr>\n    <tr>\n      <th>3</th>\n      <td>경기고등학교</td>\n      <td>서울</td>\n      <td>일반고등학교</td>\n      <td>1047</td>\n      <td>96</td>\n    </tr>\n    <tr>\n      <th>4</th>\n      <td>경동고등학교</td>\n      <td>서울</td>\n      <td>일반고등학교</td>\n      <td>529</td>\n      <td>58</td>\n    </tr>\n    <tr>\n      <th>...</th>\n      <td>...</td>\n      <td>...</td>\n      <td>...</td>\n      <td>...</td>\n      <td>...</td>\n    </tr>\n    <tr>\n      <th>4955</th>\n      <td>위미중학교</td>\n      <td>제주</td>\n      <td>일반중학교</td>\n      <td>96</td>\n      <td>15</td>\n    </tr>\n    <tr>\n      <th>4956</th>\n      <td>중문중학교</td>\n      <td>제주</td>\n      <td>일반중학교</td>\n      <td>459</td>\n      <td>42</td>\n    </tr>\n    <tr>\n      <th>4957</th>\n      <td>표선중학교</td>\n      <td>제주</td>\n      <td>일반중학교</td>\n      <td>375</td>\n      <td>35</td>\n    </tr>\n    <tr>\n      <th>4958</th>\n      <td>효돈중학교</td>\n      <td>제주</td>\n      <td>일반중학교</td>\n      <td>137</td>\n      <td>18</td>\n    </tr>\n    <tr>\n      <th>4959</th>\n      <td>남주중학교</td>\n      <td>제주</td>\n      <td>일반중학교</td>\n      <td>351</td>\n      <td>24</td>\n    </tr>\n  </tbody>\n</table>\n<p>4960 rows × 5 columns</p>\n</div>"
     },
     "execution_count": 111,
     "metadata": {},
     "output_type": "execute_result"
    }
   ],
   "source": [
    "import pandas as pd\n",
    "df = pd.read_csv('https://raw.githubusercontent.com/Datamanim/datarepo/main/krdatacertificate/e6_p1_2.csv')\n",
    "df"
   ],
   "metadata": {
    "collapsed": false,
    "ExecuteTime": {
     "end_time": "2023-12-01T15:18:40.684981Z",
     "start_time": "2023-12-01T15:18:40.394731Z"
    }
   }
  },
  {
   "cell_type": "code",
   "execution_count": 128,
   "outputs": [
    {
     "data": {
      "text/plain": "                학교명  시도 학교세부유형  일반학급_학생수_계  교원수_총계_계        맡은수\n524  단국대학교사범대학부속중학교  서울  일반중학교         606        33  18.363636\n444           한영중학교  서울  일반중학교         742        43  17.255814\n532         진선여자중학교  서울  일반중학교         997        58  17.189655\n441           배재중학교  서울  일반중학교         868        51  17.019608\n526           휘문중학교  서울  일반중학교         814        48  16.958333\n..              ...  ..    ...         ...       ...        ...\n438           동북중학교  서울  일반중학교         233        43   5.418605\n256         정화여자중학교  서울  일반중학교         125        24   5.208333\n453           경서중학교  서울  일반중학교         112        26   4.307692\n386         금호여자중학교  서울  일반중학교          86        21   4.095238\n494           개포중학교  서울  일반중학교           0         0        NaN\n\n[387 rows x 6 columns]",
      "text/html": "<div>\n<style scoped>\n    .dataframe tbody tr th:only-of-type {\n        vertical-align: middle;\n    }\n\n    .dataframe tbody tr th {\n        vertical-align: top;\n    }\n\n    .dataframe thead th {\n        text-align: right;\n    }\n</style>\n<table border=\"1\" class=\"dataframe\">\n  <thead>\n    <tr style=\"text-align: right;\">\n      <th></th>\n      <th>학교명</th>\n      <th>시도</th>\n      <th>학교세부유형</th>\n      <th>일반학급_학생수_계</th>\n      <th>교원수_총계_계</th>\n      <th>맡은수</th>\n    </tr>\n  </thead>\n  <tbody>\n    <tr>\n      <th>524</th>\n      <td>단국대학교사범대학부속중학교</td>\n      <td>서울</td>\n      <td>일반중학교</td>\n      <td>606</td>\n      <td>33</td>\n      <td>18.363636</td>\n    </tr>\n    <tr>\n      <th>444</th>\n      <td>한영중학교</td>\n      <td>서울</td>\n      <td>일반중학교</td>\n      <td>742</td>\n      <td>43</td>\n      <td>17.255814</td>\n    </tr>\n    <tr>\n      <th>532</th>\n      <td>진선여자중학교</td>\n      <td>서울</td>\n      <td>일반중학교</td>\n      <td>997</td>\n      <td>58</td>\n      <td>17.189655</td>\n    </tr>\n    <tr>\n      <th>441</th>\n      <td>배재중학교</td>\n      <td>서울</td>\n      <td>일반중학교</td>\n      <td>868</td>\n      <td>51</td>\n      <td>17.019608</td>\n    </tr>\n    <tr>\n      <th>526</th>\n      <td>휘문중학교</td>\n      <td>서울</td>\n      <td>일반중학교</td>\n      <td>814</td>\n      <td>48</td>\n      <td>16.958333</td>\n    </tr>\n    <tr>\n      <th>...</th>\n      <td>...</td>\n      <td>...</td>\n      <td>...</td>\n      <td>...</td>\n      <td>...</td>\n      <td>...</td>\n    </tr>\n    <tr>\n      <th>438</th>\n      <td>동북중학교</td>\n      <td>서울</td>\n      <td>일반중학교</td>\n      <td>233</td>\n      <td>43</td>\n      <td>5.418605</td>\n    </tr>\n    <tr>\n      <th>256</th>\n      <td>정화여자중학교</td>\n      <td>서울</td>\n      <td>일반중학교</td>\n      <td>125</td>\n      <td>24</td>\n      <td>5.208333</td>\n    </tr>\n    <tr>\n      <th>453</th>\n      <td>경서중학교</td>\n      <td>서울</td>\n      <td>일반중학교</td>\n      <td>112</td>\n      <td>26</td>\n      <td>4.307692</td>\n    </tr>\n    <tr>\n      <th>386</th>\n      <td>금호여자중학교</td>\n      <td>서울</td>\n      <td>일반중학교</td>\n      <td>86</td>\n      <td>21</td>\n      <td>4.095238</td>\n    </tr>\n    <tr>\n      <th>494</th>\n      <td>개포중학교</td>\n      <td>서울</td>\n      <td>일반중학교</td>\n      <td>0</td>\n      <td>0</td>\n      <td>NaN</td>\n    </tr>\n  </tbody>\n</table>\n<p>387 rows × 6 columns</p>\n</div>"
     },
     "execution_count": 128,
     "metadata": {},
     "output_type": "execute_result"
    }
   ],
   "source": [
    "cond = df['학교세부유형'] == '일반중학교'\n",
    "\n",
    "df = df[cond]\n",
    "\n",
    "df['시도'].value_counts()\n",
    "df = df[df['시도'] == '서울']\n",
    "df['맡은수'] = df['일반학급_학생수_계'] / df['교원수_총계_계']\n",
    "df.sort_values('맡은수', ascending=False)"
   ],
   "metadata": {
    "collapsed": false,
    "ExecuteTime": {
     "end_time": "2023-12-01T15:26:42.070513Z",
     "start_time": "2023-12-01T15:26:42.067400Z"
    }
   }
  },
  {
   "cell_type": "code",
   "execution_count": null,
   "outputs": [],
   "source": [],
   "metadata": {
    "collapsed": false
   }
  },
  {
   "cell_type": "code",
   "execution_count": 160,
   "outputs": [
    {
     "data": {
      "text/plain": "         범죄분류     절도     사기   배임   방화     폭행\n0    2018년_1월  13280  25318  656  143  12186\n1    2018년_2월  12504  19159  403  135  12087\n2    2018년_3월  14733  24509  471  148  13841\n3    2018년_4월  14781  23147  414  135  13973\n4    2018년_5월  15988  23584  451  127  14117\n5    2018년_6월  15744  23001  453  110  14362\n6    2018년_7월  16140  24990  632   98  14339\n7    2018년_8월  16327  24463  434  102  14824\n8    2018년_9월  16091  22073  486  130  15256\n9   2018년_10월  15122  21769  531  107  13286\n10  2018년_11월  13568  23829  398  118  12386\n11  2018년_12월  13180  22724  459  125  13843\n12   2019년_1월  14492  27620  678  129  12043\n13   2019년_2월  13303  21671  360  107  10893\n14   2019년_3월  15910  28432  524  114  13136\n15   2019년_4월  15305  27125  478  138  13322\n16   2019년_5월  17333  27766  509  131  14572\n17   2019년_6월  16937  25822  491  101  15285\n18   2019년_7월  16777  26644  562  111  15180\n19   2019년_8월  17128  26896  432  104  14876\n20   2019년_9월  16487  24459  497  106  14745\n21  2019년_10월  16487  26421  528  114  13904\n22  2019년_11월  14420  26138  468   91  11864\n23  2019년_12월  13050  24599  469   99  12095",
      "text/html": "<div>\n<style scoped>\n    .dataframe tbody tr th:only-of-type {\n        vertical-align: middle;\n    }\n\n    .dataframe tbody tr th {\n        vertical-align: top;\n    }\n\n    .dataframe thead th {\n        text-align: right;\n    }\n</style>\n<table border=\"1\" class=\"dataframe\">\n  <thead>\n    <tr style=\"text-align: right;\">\n      <th></th>\n      <th>범죄분류</th>\n      <th>절도</th>\n      <th>사기</th>\n      <th>배임</th>\n      <th>방화</th>\n      <th>폭행</th>\n    </tr>\n  </thead>\n  <tbody>\n    <tr>\n      <th>0</th>\n      <td>2018년_1월</td>\n      <td>13280</td>\n      <td>25318</td>\n      <td>656</td>\n      <td>143</td>\n      <td>12186</td>\n    </tr>\n    <tr>\n      <th>1</th>\n      <td>2018년_2월</td>\n      <td>12504</td>\n      <td>19159</td>\n      <td>403</td>\n      <td>135</td>\n      <td>12087</td>\n    </tr>\n    <tr>\n      <th>2</th>\n      <td>2018년_3월</td>\n      <td>14733</td>\n      <td>24509</td>\n      <td>471</td>\n      <td>148</td>\n      <td>13841</td>\n    </tr>\n    <tr>\n      <th>3</th>\n      <td>2018년_4월</td>\n      <td>14781</td>\n      <td>23147</td>\n      <td>414</td>\n      <td>135</td>\n      <td>13973</td>\n    </tr>\n    <tr>\n      <th>4</th>\n      <td>2018년_5월</td>\n      <td>15988</td>\n      <td>23584</td>\n      <td>451</td>\n      <td>127</td>\n      <td>14117</td>\n    </tr>\n    <tr>\n      <th>5</th>\n      <td>2018년_6월</td>\n      <td>15744</td>\n      <td>23001</td>\n      <td>453</td>\n      <td>110</td>\n      <td>14362</td>\n    </tr>\n    <tr>\n      <th>6</th>\n      <td>2018년_7월</td>\n      <td>16140</td>\n      <td>24990</td>\n      <td>632</td>\n      <td>98</td>\n      <td>14339</td>\n    </tr>\n    <tr>\n      <th>7</th>\n      <td>2018년_8월</td>\n      <td>16327</td>\n      <td>24463</td>\n      <td>434</td>\n      <td>102</td>\n      <td>14824</td>\n    </tr>\n    <tr>\n      <th>8</th>\n      <td>2018년_9월</td>\n      <td>16091</td>\n      <td>22073</td>\n      <td>486</td>\n      <td>130</td>\n      <td>15256</td>\n    </tr>\n    <tr>\n      <th>9</th>\n      <td>2018년_10월</td>\n      <td>15122</td>\n      <td>21769</td>\n      <td>531</td>\n      <td>107</td>\n      <td>13286</td>\n    </tr>\n    <tr>\n      <th>10</th>\n      <td>2018년_11월</td>\n      <td>13568</td>\n      <td>23829</td>\n      <td>398</td>\n      <td>118</td>\n      <td>12386</td>\n    </tr>\n    <tr>\n      <th>11</th>\n      <td>2018년_12월</td>\n      <td>13180</td>\n      <td>22724</td>\n      <td>459</td>\n      <td>125</td>\n      <td>13843</td>\n    </tr>\n    <tr>\n      <th>12</th>\n      <td>2019년_1월</td>\n      <td>14492</td>\n      <td>27620</td>\n      <td>678</td>\n      <td>129</td>\n      <td>12043</td>\n    </tr>\n    <tr>\n      <th>13</th>\n      <td>2019년_2월</td>\n      <td>13303</td>\n      <td>21671</td>\n      <td>360</td>\n      <td>107</td>\n      <td>10893</td>\n    </tr>\n    <tr>\n      <th>14</th>\n      <td>2019년_3월</td>\n      <td>15910</td>\n      <td>28432</td>\n      <td>524</td>\n      <td>114</td>\n      <td>13136</td>\n    </tr>\n    <tr>\n      <th>15</th>\n      <td>2019년_4월</td>\n      <td>15305</td>\n      <td>27125</td>\n      <td>478</td>\n      <td>138</td>\n      <td>13322</td>\n    </tr>\n    <tr>\n      <th>16</th>\n      <td>2019년_5월</td>\n      <td>17333</td>\n      <td>27766</td>\n      <td>509</td>\n      <td>131</td>\n      <td>14572</td>\n    </tr>\n    <tr>\n      <th>17</th>\n      <td>2019년_6월</td>\n      <td>16937</td>\n      <td>25822</td>\n      <td>491</td>\n      <td>101</td>\n      <td>15285</td>\n    </tr>\n    <tr>\n      <th>18</th>\n      <td>2019년_7월</td>\n      <td>16777</td>\n      <td>26644</td>\n      <td>562</td>\n      <td>111</td>\n      <td>15180</td>\n    </tr>\n    <tr>\n      <th>19</th>\n      <td>2019년_8월</td>\n      <td>17128</td>\n      <td>26896</td>\n      <td>432</td>\n      <td>104</td>\n      <td>14876</td>\n    </tr>\n    <tr>\n      <th>20</th>\n      <td>2019년_9월</td>\n      <td>16487</td>\n      <td>24459</td>\n      <td>497</td>\n      <td>106</td>\n      <td>14745</td>\n    </tr>\n    <tr>\n      <th>21</th>\n      <td>2019년_10월</td>\n      <td>16487</td>\n      <td>26421</td>\n      <td>528</td>\n      <td>114</td>\n      <td>13904</td>\n    </tr>\n    <tr>\n      <th>22</th>\n      <td>2019년_11월</td>\n      <td>14420</td>\n      <td>26138</td>\n      <td>468</td>\n      <td>91</td>\n      <td>11864</td>\n    </tr>\n    <tr>\n      <th>23</th>\n      <td>2019년_12월</td>\n      <td>13050</td>\n      <td>24599</td>\n      <td>469</td>\n      <td>99</td>\n      <td>12095</td>\n    </tr>\n  </tbody>\n</table>\n</div>"
     },
     "execution_count": 160,
     "metadata": {},
     "output_type": "execute_result"
    }
   ],
   "source": [
    "import pandas as pd\n",
    "df = pd.read_csv('https://raw.githubusercontent.com/Datamanim/datarepo/main/krdatacertificate/e6_p1_3.csv')\n",
    "df"
   ],
   "metadata": {
    "collapsed": false,
    "ExecuteTime": {
     "end_time": "2023-12-01T15:54:21.713483Z",
     "start_time": "2023-12-01T15:54:21.255414Z"
    }
   }
  },
  {
   "cell_type": "code",
   "execution_count": 180,
   "outputs": [
    {
     "data": {
      "text/plain": "        범죄분류     절도     사기   배임   방화     폭행   총범죄수      After  year  Month  \\\n3   2018년_4월  14781  23147  414  135  13973  52450 2018-04-01  2018      4   \n4   2018년_5월  15988  23584  451  127  14117  54267 2018-05-01  2018      5   \n5   2018년_6월  15744  23001  453  110  14362  53670 2018-06-01  2018      6   \n15  2019년_4월  15305  27125  478  138  13322  56368 2019-04-01  2019      4   \n16  2019년_5월  17333  27766  509  131  14572  60311 2019-05-01  2019      5   \n17  2019년_6월  16937  25822  491  101  15285  58636 2019-06-01  2019      6   \n\n     분기  \n3   2분기  \n4   2분기  \n5   2분기  \n15  2분기  \n16  2분기  \n17  2분기  ",
      "text/html": "<div>\n<style scoped>\n    .dataframe tbody tr th:only-of-type {\n        vertical-align: middle;\n    }\n\n    .dataframe tbody tr th {\n        vertical-align: top;\n    }\n\n    .dataframe thead th {\n        text-align: right;\n    }\n</style>\n<table border=\"1\" class=\"dataframe\">\n  <thead>\n    <tr style=\"text-align: right;\">\n      <th></th>\n      <th>범죄분류</th>\n      <th>절도</th>\n      <th>사기</th>\n      <th>배임</th>\n      <th>방화</th>\n      <th>폭행</th>\n      <th>총범죄수</th>\n      <th>After</th>\n      <th>year</th>\n      <th>Month</th>\n      <th>분기</th>\n    </tr>\n  </thead>\n  <tbody>\n    <tr>\n      <th>3</th>\n      <td>2018년_4월</td>\n      <td>14781</td>\n      <td>23147</td>\n      <td>414</td>\n      <td>135</td>\n      <td>13973</td>\n      <td>52450</td>\n      <td>2018-04-01</td>\n      <td>2018</td>\n      <td>4</td>\n      <td>2분기</td>\n    </tr>\n    <tr>\n      <th>4</th>\n      <td>2018년_5월</td>\n      <td>15988</td>\n      <td>23584</td>\n      <td>451</td>\n      <td>127</td>\n      <td>14117</td>\n      <td>54267</td>\n      <td>2018-05-01</td>\n      <td>2018</td>\n      <td>5</td>\n      <td>2분기</td>\n    </tr>\n    <tr>\n      <th>5</th>\n      <td>2018년_6월</td>\n      <td>15744</td>\n      <td>23001</td>\n      <td>453</td>\n      <td>110</td>\n      <td>14362</td>\n      <td>53670</td>\n      <td>2018-06-01</td>\n      <td>2018</td>\n      <td>6</td>\n      <td>2분기</td>\n    </tr>\n    <tr>\n      <th>15</th>\n      <td>2019년_4월</td>\n      <td>15305</td>\n      <td>27125</td>\n      <td>478</td>\n      <td>138</td>\n      <td>13322</td>\n      <td>56368</td>\n      <td>2019-04-01</td>\n      <td>2019</td>\n      <td>4</td>\n      <td>2분기</td>\n    </tr>\n    <tr>\n      <th>16</th>\n      <td>2019년_5월</td>\n      <td>17333</td>\n      <td>27766</td>\n      <td>509</td>\n      <td>131</td>\n      <td>14572</td>\n      <td>60311</td>\n      <td>2019-05-01</td>\n      <td>2019</td>\n      <td>5</td>\n      <td>2분기</td>\n    </tr>\n    <tr>\n      <th>17</th>\n      <td>2019년_6월</td>\n      <td>16937</td>\n      <td>25822</td>\n      <td>491</td>\n      <td>101</td>\n      <td>15285</td>\n      <td>58636</td>\n      <td>2019-06-01</td>\n      <td>2019</td>\n      <td>6</td>\n      <td>2분기</td>\n    </tr>\n  </tbody>\n</table>\n</div>"
     },
     "execution_count": 180,
     "metadata": {},
     "output_type": "execute_result"
    }
   ],
   "source": [
    "df['총범죄수'] = df['절도'] + df['사기'] + df['배임'] + df['방화'] + df['폭행']\n",
    "\n",
    "df['After'] = pd.to_datetime(df['범죄분류'], format='%Y년_%m월')\n",
    "df['year'] = df['After'].dt.year\n",
    "df['Month'] = df['After'].dt.month\n",
    "\n",
    "df['분기'] = df['Month'].map({\n",
    "    1: '1분기',\n",
    "    2: '1분기',\n",
    "    3: '1분기',\n",
    "    4: '2분기',\n",
    "    5: '2분기',\n",
    "    6: '2분기',\n",
    "    7: '3분기',\n",
    "    8: '3분기',\n",
    "    9: '3분기',\n",
    "    10: '4분기',\n",
    "    11: '4분기',\n",
    "    12: '4분기',\n",
    "})\n",
    "\n",
    "# 2019 2분기\n",
    "df.groupby(['분기', 'year'])['총범죄수'].sum()\n",
    "\n",
    "df[df['분기'] == '2분기']\n"
   ],
   "metadata": {
    "collapsed": false,
    "ExecuteTime": {
     "end_time": "2023-12-01T16:07:22.585317Z",
     "start_time": "2023-12-01T16:07:22.578935Z"
    }
   }
  },
  {
   "cell_type": "code",
   "execution_count": 151,
   "outputs": [
    {
     "name": "stdout",
     "output_type": "stream",
     "text": [
      "[[120. 480.]\n",
      " [143. 407.]]\n"
     ]
    }
   ],
   "source": [
    "total_male = 600\n",
    "total_female = 550\n",
    "\n",
    "male_ratio = 0.2\n",
    "female_ratio = 0.26\n",
    "\n",
    "smoking_male = 600 * 0.2\n",
    "non_smoking_male = 600 * 0.8\n",
    "\n",
    "smoking_female = 550 * 0.26\n",
    "non_smoking_female = 550 * 0.74\n",
    "\n",
    "data = np.array([[smoking_male, non_smoking_male], [smoking_female, non_smoking_female]])\n",
    "\n",
    "print(data)"
   ],
   "metadata": {
    "collapsed": false,
    "ExecuteTime": {
     "end_time": "2023-12-01T15:39:51.310341Z",
     "start_time": "2023-12-01T15:39:51.304604Z"
    }
   }
  },
  {
   "cell_type": "code",
   "execution_count": 181,
   "outputs": [
    {
     "data": {
      "text/plain": "   age  Cholesterol  weight\n0   65         69.0   111.0\n1   54        117.0    81.0\n2   61         86.2    72.0\n3   57         76.0    78.0\n4   62        160.0    61.0",
      "text/html": "<div>\n<style scoped>\n    .dataframe tbody tr th:only-of-type {\n        vertical-align: middle;\n    }\n\n    .dataframe tbody tr th {\n        vertical-align: top;\n    }\n\n    .dataframe thead th {\n        text-align: right;\n    }\n</style>\n<table border=\"1\" class=\"dataframe\">\n  <thead>\n    <tr style=\"text-align: right;\">\n      <th></th>\n      <th>age</th>\n      <th>Cholesterol</th>\n      <th>weight</th>\n    </tr>\n  </thead>\n  <tbody>\n    <tr>\n      <th>0</th>\n      <td>65</td>\n      <td>69.0</td>\n      <td>111.0</td>\n    </tr>\n    <tr>\n      <th>1</th>\n      <td>54</td>\n      <td>117.0</td>\n      <td>81.0</td>\n    </tr>\n    <tr>\n      <th>2</th>\n      <td>61</td>\n      <td>86.2</td>\n      <td>72.0</td>\n    </tr>\n    <tr>\n      <th>3</th>\n      <td>57</td>\n      <td>76.0</td>\n      <td>78.0</td>\n    </tr>\n    <tr>\n      <th>4</th>\n      <td>62</td>\n      <td>160.0</td>\n      <td>61.0</td>\n    </tr>\n  </tbody>\n</table>\n</div>"
     },
     "execution_count": 181,
     "metadata": {},
     "output_type": "execute_result"
    }
   ],
   "source": [
    "import pandas as pd\n",
    "df= pd.read_csv('https://raw.githubusercontent.com/Datamanim/datarepo/main/adp/28/p7.csv')\n",
    "df.head()\n"
   ],
   "metadata": {
    "collapsed": false,
    "ExecuteTime": {
     "end_time": "2023-12-01T16:08:47.519568Z",
     "start_time": "2023-12-01T16:08:47.363546Z"
    }
   }
  },
  {
   "cell_type": "code",
   "execution_count": 188,
   "outputs": [
    {
     "name": "stdout",
     "output_type": "stream",
     "text": [
      "[78.85771011]\n"
     ]
    }
   ],
   "source": [
    "x = df[['age', 'Cholesterol']]\n",
    "y = df['weight']\n",
    "\n",
    "import statsmodels.api as sm\n",
    "\n",
    "x = sm.add_constant(x)\n",
    "model = sm.OLS(y, x).fit()\n",
    "model.params['age']\n",
    "model.pvalues['Cholesterol']\n",
    "\n",
    "pred = model.predict([1, 55, 72.6])\n",
    "print(pred)"
   ],
   "metadata": {
    "collapsed": false,
    "ExecuteTime": {
     "end_time": "2023-12-01T16:21:49.542608Z",
     "start_time": "2023-12-01T16:21:49.535116Z"
    }
   }
  },
  {
   "cell_type": "code",
   "execution_count": 189,
   "outputs": [],
   "source": [
    "import numpy as np\n",
    "import pandas as pd\n",
    "import statsmodels.api as sm\n",
    "\n",
    "# Generate sample data\n",
    "np.random.seed(0)\n",
    "n = 100  # Number of observations\n",
    "X1 = np.random.rand(n)  # Independent variable 1\n",
    "X2 = np.random.rand(n)  # Independent variable 2\n",
    "X3 = np.random.rand(n)  # Independent variable 3\n",
    "epsilon = np.random.randn(n)  # Error term\n",
    "y = 2 * X1 + 3 * X2 + 4 * X3 + epsilon  # Dependent variable\n",
    "\n",
    "# Create a DataFrame from the data\n",
    "data = pd.DataFrame({'X1': X1, 'X2': X2, 'X3': X3, 'y': y})"
   ],
   "metadata": {
    "collapsed": false,
    "ExecuteTime": {
     "end_time": "2023-12-01T16:26:40.183715Z",
     "start_time": "2023-12-01T16:26:40.177176Z"
    }
   }
  },
  {
   "cell_type": "code",
   "execution_count": 190,
   "outputs": [
    {
     "name": "stdout",
     "output_type": "stream",
     "text": [
      "                            OLS Regression Results                            \n",
      "==============================================================================\n",
      "Dep. Variable:                      y   R-squared:                       0.707\n",
      "Model:                            OLS   Adj. R-squared:                  0.698\n",
      "Method:                 Least Squares   F-statistic:                     77.28\n",
      "Date:                Sat, 02 Dec 2023   Prob (F-statistic):           1.66e-25\n",
      "Time:                        01:26:47   Log-Likelihood:                -132.97\n",
      "No. Observations:                 100   AIC:                             273.9\n",
      "Df Residuals:                      96   BIC:                             284.4\n",
      "Df Model:                           3                                         \n",
      "Covariance Type:            nonrobust                                         \n",
      "==============================================================================\n",
      "                 coef    std err          t      P>|t|      [0.025      0.975]\n",
      "------------------------------------------------------------------------------\n",
      "const          0.2266      0.322      0.705      0.483      -0.412       0.865\n",
      "X1             1.4362      0.325      4.421      0.000       0.791       2.081\n",
      "X2             2.5860      0.341      7.587      0.000       1.909       3.263\n",
      "X3             4.2479      0.312     13.608      0.000       3.628       4.868\n",
      "==============================================================================\n",
      "Omnibus:                        0.024   Durbin-Watson:                   2.404\n",
      "Prob(Omnibus):                  0.988   Jarque-Bera (JB):                0.118\n",
      "Skew:                           0.034   Prob(JB):                        0.943\n",
      "Kurtosis:                       2.846   Cond. No.                         6.79\n",
      "==============================================================================\n",
      "\n",
      "Notes:\n",
      "[1] Standard Errors assume that the covariance matrix of the errors is correctly specified.\n"
     ]
    }
   ],
   "source": [
    "# Add constant term to the independent variable\n",
    "X = sm.add_constant(data[['X1', 'X2', 'X3']])\n",
    "\n",
    "# Fit the regression model\n",
    "model = sm.OLS(data['y'], X)\n",
    "results = model.fit()\n",
    "\n",
    "# Print the regression results\n",
    "print(results.summary())"
   ],
   "metadata": {
    "collapsed": false,
    "ExecuteTime": {
     "end_time": "2023-12-01T16:26:47.902787Z",
     "start_time": "2023-12-01T16:26:47.895777Z"
    }
   }
  },
  {
   "cell_type": "code",
   "execution_count": 194,
   "outputs": [
    {
     "name": "stdout",
     "output_type": "stream",
     "text": [
      "Confidence Interval (95%): [6.714092055005857, 6.714092055005857]\n"
     ]
    }
   ],
   "source": [
    "new_data = pd.DataFrame({'X1': [0.5], 'X2':[0.9], 'X3':[0.7], 'const':1})\n",
    "results.predict(new_data)\n",
    "\n",
    "ci = results.get_prediction(new_data)\n",
    "\n",
    "lower_bound = ci.conf_int()[0][0]\n",
    "upper_bound = ci.conf_int()[0][0]\n",
    "print(f\"Confidence Interval (95%): [{lower_bound}, {upper_bound}]\")"
   ],
   "metadata": {
    "collapsed": false,
    "ExecuteTime": {
     "end_time": "2023-12-01T16:30:03.615269Z",
     "start_time": "2023-12-01T16:30:03.610868Z"
    }
   }
  },
  {
   "cell_type": "code",
   "execution_count": null,
   "outputs": [],
   "source": [],
   "metadata": {
    "collapsed": false
   }
  },
  {
   "cell_type": "code",
   "execution_count": null,
   "outputs": [],
   "source": [],
   "metadata": {
    "collapsed": false
   }
  },
  {
   "cell_type": "code",
   "execution_count": null,
   "outputs": [],
   "source": [],
   "metadata": {
    "collapsed": false
   }
  },
  {
   "cell_type": "code",
   "outputs": [],
   "source": [],
   "metadata": {
    "collapsed": false
   }
  },
  {
   "cell_type": "code",
   "execution_count": null,
   "outputs": [],
   "source": [],
   "metadata": {
    "collapsed": false
   }
  },
  {
   "cell_type": "code",
   "execution_count": null,
   "outputs": [],
   "source": [],
   "metadata": {
    "collapsed": false
   }
  },
  {
   "cell_type": "code",
   "execution_count": null,
   "outputs": [],
   "source": [],
   "metadata": {
    "collapsed": false
   }
  },
  {
   "cell_type": "code",
   "execution_count": null,
   "outputs": [],
   "source": [],
   "metadata": {
    "collapsed": false
   }
  },
  {
   "cell_type": "code",
   "execution_count": null,
   "outputs": [],
   "source": [],
   "metadata": {
    "collapsed": false
   }
  },
  {
   "cell_type": "code",
   "execution_count": null,
   "outputs": [],
   "source": [],
   "metadata": {
    "collapsed": false
   }
  },
  {
   "cell_type": "code",
   "execution_count": null,
   "outputs": [],
   "source": [],
   "metadata": {
    "collapsed": false
   }
  },
  {
   "cell_type": "code",
   "execution_count": null,
   "outputs": [],
   "source": [],
   "metadata": {
    "collapsed": false
   }
  },
  {
   "cell_type": "code",
   "execution_count": null,
   "outputs": [],
   "source": [],
   "metadata": {
    "collapsed": false
   }
  },
  {
   "cell_type": "code",
   "execution_count": null,
   "outputs": [],
   "source": [],
   "metadata": {
    "collapsed": false
   }
  },
  {
   "cell_type": "code",
   "execution_count": null,
   "outputs": [],
   "source": [],
   "metadata": {
    "collapsed": false
   }
  },
  {
   "cell_type": "code",
   "execution_count": null,
   "outputs": [],
   "source": [],
   "metadata": {
    "collapsed": false
   }
  }
 ],
 "metadata": {
  "kernelspec": {
   "display_name": "Python 3",
   "language": "python",
   "name": "python3"
  },
  "language_info": {
   "codemirror_mode": {
    "name": "ipython",
    "version": 2
   },
   "file_extension": ".py",
   "mimetype": "text/x-python",
   "name": "python",
   "nbconvert_exporter": "python",
   "pygments_lexer": "ipython2",
   "version": "2.7.6"
  }
 },
 "nbformat": 4,
 "nbformat_minor": 0
}
